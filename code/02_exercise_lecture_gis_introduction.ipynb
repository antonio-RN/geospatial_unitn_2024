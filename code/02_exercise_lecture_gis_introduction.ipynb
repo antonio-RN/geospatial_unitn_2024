{
 "cells": [
  {
   "cell_type": "markdown",
   "metadata": {
    "id": "T6-YLqx4OCrj"
   },
   "source": [
    "# Setup"
   ]
  },
  {
   "cell_type": "code",
   "execution_count": 1,
   "metadata": {
    "colab": {
     "base_uri": "https://localhost:8080/"
    },
    "id": "hlP03EfNHGeb",
    "outputId": "9637527c-8b43-403e-e3e5-9707611f031b"
   },
   "outputs": [
    {
     "name": "stdout",
     "output_type": "stream",
     "text": [
      "Requirement already satisfied: geopandas==1.0.1 in /usr/local/lib/python3.10/dist-packages (from -r https://napo.github.io/geospatial_unitn_2024/requirements.txt (line 1)) (1.0.1)\n",
      "Collecting mapclassify==2.8.1 (from -r https://napo.github.io/geospatial_unitn_2024/requirements.txt (line 2))\n",
      "  Downloading mapclassify-2.8.1-py3-none-any.whl.metadata (2.8 kB)\n",
      "Requirement already satisfied: matplotlib==3.7.1 in /usr/local/lib/python3.10/dist-packages (from -r https://napo.github.io/geospatial_unitn_2024/requirements.txt (line 3)) (3.7.1)\n",
      "Requirement already satisfied: beautifulsoup4==4.12.3 in /usr/local/lib/python3.10/dist-packages (from -r https://napo.github.io/geospatial_unitn_2024/requirements.txt (line 4)) (4.12.3)\n",
      "Requirement already satisfied: xlrd==2.0.1 in /usr/local/lib/python3.10/dist-packages (from -r https://napo.github.io/geospatial_unitn_2024/requirements.txt (line 5)) (2.0.1)\n",
      "Collecting dms2dec==0.1 (from -r https://napo.github.io/geospatial_unitn_2024/requirements.txt (line 6))\n",
      "  Downloading dms2dec-0.1-py3-none-any.whl.metadata (640 bytes)\n",
      "Requirement already satisfied: numpy>=1.22 in /usr/local/lib/python3.10/dist-packages (from geopandas==1.0.1->-r https://napo.github.io/geospatial_unitn_2024/requirements.txt (line 1)) (1.26.4)\n",
      "Requirement already satisfied: pyogrio>=0.7.2 in /usr/local/lib/python3.10/dist-packages (from geopandas==1.0.1->-r https://napo.github.io/geospatial_unitn_2024/requirements.txt (line 1)) (0.10.0)\n",
      "Requirement already satisfied: packaging in /usr/local/lib/python3.10/dist-packages (from geopandas==1.0.1->-r https://napo.github.io/geospatial_unitn_2024/requirements.txt (line 1)) (24.1)\n",
      "Requirement already satisfied: pandas>=1.4.0 in /usr/local/lib/python3.10/dist-packages (from geopandas==1.0.1->-r https://napo.github.io/geospatial_unitn_2024/requirements.txt (line 1)) (2.2.2)\n",
      "Requirement already satisfied: pyproj>=3.3.0 in /usr/local/lib/python3.10/dist-packages (from geopandas==1.0.1->-r https://napo.github.io/geospatial_unitn_2024/requirements.txt (line 1)) (3.6.1)\n",
      "Requirement already satisfied: shapely>=2.0.0 in /usr/local/lib/python3.10/dist-packages (from geopandas==1.0.1->-r https://napo.github.io/geospatial_unitn_2024/requirements.txt (line 1)) (2.0.6)\n",
      "Requirement already satisfied: networkx>=2.7 in /usr/local/lib/python3.10/dist-packages (from mapclassify==2.8.1->-r https://napo.github.io/geospatial_unitn_2024/requirements.txt (line 2)) (3.3)\n",
      "Requirement already satisfied: scikit-learn>=1.0 in /usr/local/lib/python3.10/dist-packages (from mapclassify==2.8.1->-r https://napo.github.io/geospatial_unitn_2024/requirements.txt (line 2)) (1.5.2)\n",
      "Requirement already satisfied: scipy>=1.8 in /usr/local/lib/python3.10/dist-packages (from mapclassify==2.8.1->-r https://napo.github.io/geospatial_unitn_2024/requirements.txt (line 2)) (1.13.1)\n",
      "Requirement already satisfied: contourpy>=1.0.1 in /usr/local/lib/python3.10/dist-packages (from matplotlib==3.7.1->-r https://napo.github.io/geospatial_unitn_2024/requirements.txt (line 3)) (1.3.0)\n",
      "Requirement already satisfied: cycler>=0.10 in /usr/local/lib/python3.10/dist-packages (from matplotlib==3.7.1->-r https://napo.github.io/geospatial_unitn_2024/requirements.txt (line 3)) (0.12.1)\n",
      "Requirement already satisfied: fonttools>=4.22.0 in /usr/local/lib/python3.10/dist-packages (from matplotlib==3.7.1->-r https://napo.github.io/geospatial_unitn_2024/requirements.txt (line 3)) (4.54.1)\n",
      "Requirement already satisfied: kiwisolver>=1.0.1 in /usr/local/lib/python3.10/dist-packages (from matplotlib==3.7.1->-r https://napo.github.io/geospatial_unitn_2024/requirements.txt (line 3)) (1.4.7)\n",
      "Requirement already satisfied: pillow>=6.2.0 in /usr/local/lib/python3.10/dist-packages (from matplotlib==3.7.1->-r https://napo.github.io/geospatial_unitn_2024/requirements.txt (line 3)) (10.4.0)\n",
      "Requirement already satisfied: pyparsing>=2.3.1 in /usr/local/lib/python3.10/dist-packages (from matplotlib==3.7.1->-r https://napo.github.io/geospatial_unitn_2024/requirements.txt (line 3)) (3.1.4)\n",
      "Requirement already satisfied: python-dateutil>=2.7 in /usr/local/lib/python3.10/dist-packages (from matplotlib==3.7.1->-r https://napo.github.io/geospatial_unitn_2024/requirements.txt (line 3)) (2.8.2)\n",
      "Requirement already satisfied: soupsieve>1.2 in /usr/local/lib/python3.10/dist-packages (from beautifulsoup4==4.12.3->-r https://napo.github.io/geospatial_unitn_2024/requirements.txt (line 4)) (2.6)\n",
      "Requirement already satisfied: pytz>=2020.1 in /usr/local/lib/python3.10/dist-packages (from pandas>=1.4.0->geopandas==1.0.1->-r https://napo.github.io/geospatial_unitn_2024/requirements.txt (line 1)) (2024.2)\n",
      "Requirement already satisfied: tzdata>=2022.7 in /usr/local/lib/python3.10/dist-packages (from pandas>=1.4.0->geopandas==1.0.1->-r https://napo.github.io/geospatial_unitn_2024/requirements.txt (line 1)) (2024.2)\n",
      "Requirement already satisfied: certifi in /usr/local/lib/python3.10/dist-packages (from pyogrio>=0.7.2->geopandas==1.0.1->-r https://napo.github.io/geospatial_unitn_2024/requirements.txt (line 1)) (2024.8.30)\n",
      "Requirement already satisfied: six>=1.5 in /usr/local/lib/python3.10/dist-packages (from python-dateutil>=2.7->matplotlib==3.7.1->-r https://napo.github.io/geospatial_unitn_2024/requirements.txt (line 3)) (1.16.0)\n",
      "Requirement already satisfied: joblib>=1.2.0 in /usr/local/lib/python3.10/dist-packages (from scikit-learn>=1.0->mapclassify==2.8.1->-r https://napo.github.io/geospatial_unitn_2024/requirements.txt (line 2)) (1.4.2)\n",
      "Requirement already satisfied: threadpoolctl>=3.1.0 in /usr/local/lib/python3.10/dist-packages (from scikit-learn>=1.0->mapclassify==2.8.1->-r https://napo.github.io/geospatial_unitn_2024/requirements.txt (line 2)) (3.5.0)\n",
      "Downloading mapclassify-2.8.1-py3-none-any.whl (59 kB)\n",
      "\u001b[2K   \u001b[90m━━━━━━━━━━━━━━━━━━━━━━━━━━━━━━━━━━━━━━━━\u001b[0m \u001b[32m59.1/59.1 kB\u001b[0m \u001b[31m1.8 MB/s\u001b[0m eta \u001b[36m0:00:00\u001b[0m\n",
      "\u001b[?25hDownloading dms2dec-0.1-py3-none-any.whl (3.0 kB)\n",
      "Installing collected packages: dms2dec, mapclassify\n",
      "Successfully installed dms2dec-0.1 mapclassify-2.8.1\n"
     ]
    }
   ],
   "source": [
    "pip install -r https://napo.github.io/geospatial_unitn_2024/requirements.txt"
   ]
  },
  {
   "cell_type": "markdown",
   "metadata": {
    "id": "9T1Sft2nHpK8"
   },
   "source": [
    "# Exercise\n",
    "\n",
    "1. load the shapefile of ISTAT with the information of the provinces\n",
    "  - filter it for the province on Verona\n",
    "  - plot it\n",
    "2. load the shapefile of ISTAT with the informations of the muncipalities\n",
    "  - identify the cities of the province selected with the biggest and smallest area\n",
    "  - extract all the centroids of the areas expressed in WGS84\n",
    "  - extract a representative point for the area of each municipality converted in WGS84\n",
    "  - save the points in a GeoJSON file\n",
    "  - calculate the distance on the geodentic between the municipality with the big area and smallest area by using the centroid\n",
    "3. download the shapefile of the [Mountain Basins Station](https://raw.githubusercontent.com/napo/geospatial_unitn_2024/refs/heads/main/data/idrspacq.zip) of Trentino - projection ETRS89 UTM32N\n",
    "  - plot the geometries where CODE is \"0191\" for the table \"d_tipouso.dbf\"\n",
    "  - convert in WGS84 and create a KML and plot it on a website\n",
    "\n",
    "\n",
    "---"
   ]
  },
  {
   "cell_type": "markdown",
   "metadata": {
    "id": "r2J9dbENPJND"
   },
   "source": [
    "# Solutions\n",
    "\n",
    "## learning objectives\n",
    "* repeat the concepts on the previous lesson\n",
    "* introduce geopackage\n",
    "* centroid vs representative point"
   ]
  },
  {
   "cell_type": "markdown",
   "metadata": {
    "id": "3fk_8ro1RUbo"
   },
   "source": [
    "---\n",
    "\n",
    "### Import of the packages"
   ]
  },
  {
   "cell_type": "code",
   "execution_count": 1,
   "metadata": {
    "id": "bFmuagH7H4lZ"
   },
   "outputs": [],
   "source": [
    "import geopandas as gpd\n",
    "import pandas as pd\n",
    "import os\n",
    "import urllib\n",
    "from matplotlib import pyplot as plt  #to avoid the warning message by plotting the geometries\n",
    "import warnings\n",
    "warnings.simplefilter(\"ignore\")"
   ]
  },
  {
   "cell_type": "markdown",
   "metadata": {
    "id": "kP_05UmNVWWj"
   },
   "source": [
    "## 1. load the shapefile of ISTAT with the information of the provinces\n",
    "\n",
    "### This request is replaced with the use of geopackage\n",
    "\n",
    "In the course material a geopackage file is available with all the shapefiles of the administrative limits of ISTAT (2024) with generalized geometries\n",
    "\n",
    "[download](https://github.com/napo/geospatial_unitn_2024/raw/refs/heads/main/data/istat_administrative_units_generalized_2024.gpkg) the file *istat_administrative_units_generalized_2024.gpkg* from the repository from\n",
    "directory \"data\""
   ]
  },
  {
   "cell_type": "code",
   "execution_count": 2,
   "metadata": {
    "id": "RWje98iX3dTo"
   },
   "outputs": [],
   "source": [
    "url = 'https://github.com/napo/geospatial_unitn_2024/raw/refs/heads/main/data/istat_administrative_units_generalized_2024.gpkg'"
   ]
  },
  {
   "cell_type": "code",
   "execution_count": 3,
   "metadata": {
    "colab": {
     "base_uri": "https://localhost:8080/"
    },
    "id": "cdHsCvOThs8P",
    "outputId": "84422d2f-df91-4fb9-a011-6d202a087682"
   },
   "outputs": [
    {
     "data": {
      "text/plain": [
       "('istat_administrative_units_generalized_2024.gpkg',\n",
       " <http.client.HTTPMessage at 0x7f35fe2a45c0>)"
      ]
     },
     "execution_count": 3,
     "metadata": {},
     "output_type": "execute_result"
    }
   ],
   "source": [
    "urllib.request.urlretrieve(url ,\"istat_administrative_units_generalized_2024.gpkg\")"
   ]
  },
  {
   "cell_type": "markdown",
   "metadata": {
    "id": "gNWFco5RSlpo"
   },
   "source": [
    "### Geopackage\n",
    "![](https://www.ogc.org/pub/www/files/blog/Geopackage_layers.png)\n",
    "\n",
    "[GeoPackage](http://opengeospatial.github.io/e-learning/geopackage/text/basic-index.html) is used for storing and accessing:\n",
    "* Vector feature data\n",
    "* Imagery tile matrix sets\n",
    "* Raster map tile matrix sets\n",
    "* non-spatial tabular data\n",
    "* Metadata that describes other stored data\n",
    "\n",
    "\n",
    "![](https://napo.github.io/geospatial_unitn_2024/images/gpkg.png)\n",
    "\n",
    "To have a look at the structure of the files, download the files and open them using the basic SQLite3 command-line utility.\n",
    "\n",
    "```\n",
    "sqlite3 istat_administrative_units_generalized_2024.gpkg\n",
    "```\n",
    "```\n",
    "SQLite version 3.45.1 2024-01-30 16:01:20\n",
    "Enter \".help\" for usage hints.\n",
    "sqlite>.table\n",
    "```\n",
    "```\n",
    "gpkg_contents                     rtree_macroregions_geom_parent  \n",
    "gpkg_extensions                   rtree_macroregions_geom_rowid   \n",
    "gpkg_geometry_columns             rtree_municipalities_geom       \n",
    "gpkg_metadata                     rtree_municipalities_geom_node  \n",
    "gpkg_metadata_reference           rtree_municipalities_geom_parent\n",
    "gpkg_ogr_contents                 rtree_municipalities_geom_rowid\n",
    "gpkg_spatial_ref_sys              rtree_provincies_geom           \n",
    "gpkg_tile_matrix                  rtree_provincies_geom_node      \n",
    "gpkg_tile_matrix_set              rtree_provincies_geom_parent    \n",
    "macroregions                      rtree_provincies_geom_rowid     \n",
    "municipalities                    rtree_regions_geom              \n",
    "provincies                        rtree_regions_geom_node         \n",
    "regions                           rtree_regions_geom_parent       \n",
    "rtree_macroregions_geom           rtree_regions_geom_rowid        \n",
    "rtree_macroregions_geom_node     \n",
    "```\n",
    "```\n",
    "sqlite> .header on\n",
    "```\n",
    "\n",
    "\n",
    "```\n",
    "sqlite> select * from macroregions;\n",
    "```\n",
    "```\n",
    "fid|geom|COD_RIP|DEN_RIP\n",
    "1|GP|1|Nord-ovest\n",
    "2|GP|2|Nord-est\n",
    "3|GP|3|Centro\n",
    "4|GP|4|Sud\n",
    "5|GP|5|Isole\n",
    "```\n",
    "```\n",
    "sqlite> .q\n",
    "```"
   ]
  },
  {
   "cell_type": "markdown",
   "metadata": {
    "id": "gTbuN8zPT7KU"
   },
   "source": [
    "Geopandas can manage geopackage by using [pyogrio](https://pyogrio.readthedocs.io/en/latest/)"
   ]
  },
  {
   "cell_type": "code",
   "execution_count": 3,
   "metadata": {
    "id": "Cf37VTckXGso"
   },
   "outputs": [],
   "source": [
    "from pyogrio import list_drivers\n"
   ]
  },
  {
   "cell_type": "code",
   "execution_count": 4,
   "metadata": {
    "colab": {
     "base_uri": "https://localhost:8080/"
    },
    "id": "igu8jGNSURc8",
    "outputId": "c35207ea-b1c2-4499-8ce2-ede20ce005b1"
   },
   "outputs": [
    {
     "data": {
      "text/plain": [
       "{'PCIDSK': 'rw',\n",
       " 'PDS4': 'rw',\n",
       " 'VICAR': 'rw',\n",
       " 'PDF': 'rw',\n",
       " 'MBTiles': 'rw',\n",
       " 'EEDA': 'r',\n",
       " 'OGCAPI': 'r',\n",
       " 'ESRI Shapefile': 'rw',\n",
       " 'MapInfo File': 'rw',\n",
       " 'UK .NTF': 'r',\n",
       " 'LVBAG': 'r',\n",
       " 'OGR_SDTS': 'r',\n",
       " 'S57': 'rw',\n",
       " 'DGN': 'rw',\n",
       " 'OGR_VRT': 'r',\n",
       " 'Memory': 'rw',\n",
       " 'CSV': 'rw',\n",
       " 'GML': 'rw',\n",
       " 'GPX': 'rw',\n",
       " 'KML': 'rw',\n",
       " 'GeoJSON': 'rw',\n",
       " 'GeoJSONSeq': 'rw',\n",
       " 'ESRIJSON': 'r',\n",
       " 'TopoJSON': 'r',\n",
       " 'OGR_GMT': 'rw',\n",
       " 'GPKG': 'rw',\n",
       " 'SQLite': 'rw',\n",
       " 'WAsP': 'rw',\n",
       " 'OpenFileGDB': 'rw',\n",
       " 'DXF': 'rw',\n",
       " 'FlatGeobuf': 'rw',\n",
       " 'Geoconcept': 'rw',\n",
       " 'GeoRSS': 'rw',\n",
       " 'VFK': 'r',\n",
       " 'PGDUMP': 'rw',\n",
       " 'OSM': 'r',\n",
       " 'GPSBabel': 'rw',\n",
       " 'OGR_PDS': 'r',\n",
       " 'WFS': 'r',\n",
       " 'OAPIF': 'r',\n",
       " 'EDIGEO': 'r',\n",
       " 'SVG': 'r',\n",
       " 'Idrisi': 'r',\n",
       " 'ODS': 'rw',\n",
       " 'XLSX': 'rw',\n",
       " 'Elasticsearch': 'rw',\n",
       " 'Carto': 'rw',\n",
       " 'AmigoCloud': 'rw',\n",
       " 'SXF': 'r',\n",
       " 'Selafin': 'rw',\n",
       " 'JML': 'rw',\n",
       " 'PLSCENES': 'r',\n",
       " 'CSW': 'r',\n",
       " 'VDV': 'rw',\n",
       " 'MVT': 'rw',\n",
       " 'NGW': 'rw',\n",
       " 'MapML': 'rw',\n",
       " 'GTFS': 'r',\n",
       " 'PMTiles': 'rw',\n",
       " 'JSONFG': 'rw',\n",
       " 'MiraMonVector': 'rw',\n",
       " 'TIGER': 'r',\n",
       " 'AVCBin': 'r',\n",
       " 'AVCE00': 'r',\n",
       " 'HTTP': 'r'}"
      ]
     },
     "execution_count": 4,
     "metadata": {},
     "output_type": "execute_result"
    }
   ],
   "source": [
    "list_drivers()\n"
   ]
  },
  {
   "cell_type": "markdown",
   "metadata": {
    "id": "zmEbOUq1UXVS"
   },
   "source": [
    "```\n",
    "'GPKG': 'rw',\n",
    "```\n",
    "**rw** => **r**ead **w**rite\n",
    "\n",
    "geopandas can:\n",
    "* **r**ead *geopackage* files\n",
    "* **w**rite data to a *geopackage* file"
   ]
  },
  {
   "cell_type": "markdown",
   "metadata": {
    "id": "NYsMWOMmVM03"
   },
   "source": [
    "geopackage can store more layers, so we have to investigate the contents"
   ]
  },
  {
   "cell_type": "code",
   "execution_count": 5,
   "metadata": {
    "id": "HQ7pIKajtL3D"
   },
   "outputs": [],
   "source": [
    "from pyogrio import list_layers\n"
   ]
  },
  {
   "cell_type": "code",
   "execution_count": 6,
   "metadata": {
    "colab": {
     "base_uri": "https://localhost:8080/"
    },
    "id": "wpSZ5tBIXB47",
    "outputId": "ac12bf25-58c0-49a1-aa47-abc3d0ffbff9"
   },
   "outputs": [
    {
     "data": {
      "text/plain": [
       "array([['macroregions', 'MultiPolygon'],\n",
       "       ['regions', 'MultiPolygon'],\n",
       "       ['provinces', 'MultiPolygon'],\n",
       "       ['municipalities', 'MultiPolygon']], dtype=object)"
      ]
     },
     "execution_count": 6,
     "metadata": {},
     "output_type": "execute_result"
    }
   ],
   "source": [
    "list_layers('istat_administrative_units_generalized_2024.gpkg')"
   ]
  },
  {
   "cell_type": "code",
   "execution_count": 7,
   "metadata": {
    "id": "a3qnyANlWbyD"
   },
   "outputs": [],
   "source": [
    "provinces = gpd.read_file(\"istat_administrative_units_generalized_2024.gpkg\",layer=\"provinces\")"
   ]
  },
  {
   "cell_type": "markdown",
   "metadata": {
    "id": "oAK_mXvi_4oP"
   },
   "source": [
    "*TIP*: you can also download the file directly from geopandas with this function"
   ]
  },
  {
   "cell_type": "code",
   "execution_count": 8,
   "metadata": {
    "id": "lobH1r9w_tk0"
   },
   "outputs": [],
   "source": [
    "provinces = gpd.read_file(url,layer=\"provinces\")"
   ]
  },
  {
   "cell_type": "code",
   "execution_count": 9,
   "metadata": {
    "colab": {
     "base_uri": "https://localhost:8080/",
     "height": 143
    },
    "id": "gcHUE-7VWqaY",
    "outputId": "932a905e-8177-4b39-d8e2-00d1bf85e47e"
   },
   "outputs": [
    {
     "data": {
      "text/html": [
       "<div>\n",
       "<style scoped>\n",
       "    .dataframe tbody tr th:only-of-type {\n",
       "        vertical-align: middle;\n",
       "    }\n",
       "\n",
       "    .dataframe tbody tr th {\n",
       "        vertical-align: top;\n",
       "    }\n",
       "\n",
       "    .dataframe thead th {\n",
       "        text-align: right;\n",
       "    }\n",
       "</style>\n",
       "<table border=\"1\" class=\"dataframe\">\n",
       "  <thead>\n",
       "    <tr style=\"text-align: right;\">\n",
       "      <th></th>\n",
       "      <th>COD_RIP</th>\n",
       "      <th>COD_REG</th>\n",
       "      <th>COD_PROV</th>\n",
       "      <th>COD_CM</th>\n",
       "      <th>COD_UTS</th>\n",
       "      <th>DEN_PROV</th>\n",
       "      <th>DEN_CM</th>\n",
       "      <th>DEN_UTS</th>\n",
       "      <th>SIGLA</th>\n",
       "      <th>TIPO_UTS</th>\n",
       "      <th>geometry</th>\n",
       "    </tr>\n",
       "  </thead>\n",
       "  <tbody>\n",
       "    <tr>\n",
       "      <th>0</th>\n",
       "      <td>1</td>\n",
       "      <td>1</td>\n",
       "      <td>1</td>\n",
       "      <td>201</td>\n",
       "      <td>201</td>\n",
       "      <td>-</td>\n",
       "      <td>Torino</td>\n",
       "      <td>Torino</td>\n",
       "      <td>TO</td>\n",
       "      <td>Città metropolitana</td>\n",
       "      <td>MULTIPOLYGON (((411015.294 5049971.205, 411266...</td>\n",
       "    </tr>\n",
       "    <tr>\n",
       "      <th>1</th>\n",
       "      <td>1</td>\n",
       "      <td>1</td>\n",
       "      <td>2</td>\n",
       "      <td>0</td>\n",
       "      <td>2</td>\n",
       "      <td>Vercelli</td>\n",
       "      <td>-</td>\n",
       "      <td>Vercelli</td>\n",
       "      <td>VC</td>\n",
       "      <td>Provincia</td>\n",
       "      <td>MULTIPOLYGON (((438328.706 5087208.167, 439028...</td>\n",
       "    </tr>\n",
       "    <tr>\n",
       "      <th>2</th>\n",
       "      <td>1</td>\n",
       "      <td>1</td>\n",
       "      <td>3</td>\n",
       "      <td>0</td>\n",
       "      <td>3</td>\n",
       "      <td>Novara</td>\n",
       "      <td>-</td>\n",
       "      <td>Novara</td>\n",
       "      <td>NO</td>\n",
       "      <td>Provincia</td>\n",
       "      <td>MULTIPOLYGON (((460929.541 5076320.297, 461165...</td>\n",
       "    </tr>\n",
       "  </tbody>\n",
       "</table>\n",
       "</div>"
      ],
      "text/plain": [
       "   COD_RIP  COD_REG  COD_PROV  COD_CM  COD_UTS  DEN_PROV  DEN_CM   DEN_UTS  \\\n",
       "0        1        1         1     201      201         -  Torino    Torino   \n",
       "1        1        1         2       0        2  Vercelli       -  Vercelli   \n",
       "2        1        1         3       0        3    Novara       -    Novara   \n",
       "\n",
       "  SIGLA             TIPO_UTS  \\\n",
       "0    TO  Città metropolitana   \n",
       "1    VC            Provincia   \n",
       "2    NO            Provincia   \n",
       "\n",
       "                                            geometry  \n",
       "0  MULTIPOLYGON (((411015.294 5049971.205, 411266...  \n",
       "1  MULTIPOLYGON (((438328.706 5087208.167, 439028...  \n",
       "2  MULTIPOLYGON (((460929.541 5076320.297, 461165...  "
      ]
     },
     "execution_count": 9,
     "metadata": {},
     "output_type": "execute_result"
    }
   ],
   "source": [
    "provinces.head(3)"
   ]
  },
  {
   "cell_type": "code",
   "execution_count": 10,
   "metadata": {
    "colab": {
     "base_uri": "https://localhost:8080/"
    },
    "id": "i1MtGFC0VvQu",
    "outputId": "99485b4b-c576-4d5c-a280-d8979ad5bfd8"
   },
   "outputs": [
    {
     "data": {
      "text/plain": [
       "Index(['COD_RIP', 'COD_REG', 'COD_PROV', 'COD_CM', 'COD_UTS', 'DEN_PROV',\n",
       "       'DEN_CM', 'DEN_UTS', 'SIGLA', 'TIPO_UTS', 'geometry'],\n",
       "      dtype='object')"
      ]
     },
     "execution_count": 10,
     "metadata": {},
     "output_type": "execute_result"
    }
   ],
   "source": [
    "provinces.columns"
   ]
  },
  {
   "cell_type": "markdown",
   "metadata": {
    "id": "9dv1SuJKVsgl"
   },
   "source": [
    "**COD_RIP**<br/>\n",
    "*codice ripartizione*<br/>\n",
    "numeric code of the macroregion of belonging\n",
    "\n",
    "**COD_REG**<br/>\n",
    "*codice regione*<br/>\n",
    "numeric code of the region of belonging\n",
    "\n",
    "**COD_PROV**<br/>\n",
    "*codice provincia*<br/>\n",
    "numeric code of the region of belonging\n",
    "\n",
    "**COD_CM**<br/>\n",
    "*codice comune*<br/>\n",
    "Istat code of the metropolitan city (three characters in\n",
    "reference to all official statistics are\n",
    "numeric format) obtained by adding the value 200 to\n",
    "adopted the statistical codes of the cities\n",
    "corresponding code of the province.\n",
    "\n",
    "**COD_UTS**<br/>\n",
    "*codice unità territoriali sovracomunali*<br/>\n",
    "Numeric code that uniquely identifies the Units\n",
    "territorial supra-municipal on the national territory.\n",
    "\n",
    "**DEN_PROV**<br/>\n",
    "*denominazione provincia*<br/>\n",
    "name of the province\n",
    "\n",
    "**DEN_CM**<br/>\n",
    "*denominazione città metropolitana*<br/>\n",
    "name of the metropolitan city\n",
    "\n",
    "**DEN_UTS**<br/>\n",
    "*denominazione unità territoriale sovracomunale*<br/>\n",
    "Denomination of the supra-municipal territorial units.\n",
    "\n",
    "**SIGLA**<br/>\n",
    "*sigla*<br/>\n",
    "abbreviation\n",
    "\n",
    "**TIPO_UTS**<br/>\n",
    "*tipologia unità territoriale sovracomunale*<br/>\n",
    "kind of supra-municipal territorial units.\n",
    "\n"
   ]
  },
  {
   "cell_type": "markdown",
   "metadata": {
    "id": "k3c2DpbwXVwp"
   },
   "source": [
    "### filter it for an italian provice at your choice (eg. Trento)\n",
    "\n",
    "obtain the list of all the provincies"
   ]
  },
  {
   "cell_type": "code",
   "execution_count": 11,
   "metadata": {
    "colab": {
     "base_uri": "https://localhost:8080/"
    },
    "id": "nAivKuiMALan",
    "outputId": "386edd56-7407-419a-8b2c-1783f7639e56"
   },
   "outputs": [
    {
     "data": {
      "text/plain": [
       "array(['-', 'Vercelli', 'Novara', 'Cuneo', 'Asti', 'Alessandria', 'Aosta',\n",
       "       'Imperia', 'Savona', 'La Spezia', 'Varese', 'Como', 'Sondrio',\n",
       "       'Bergamo', 'Brescia', 'Pavia', 'Cremona', 'Mantova', 'Bolzano',\n",
       "       'Trento', 'Verona', 'Vicenza', 'Belluno', 'Treviso', 'Padova',\n",
       "       'Rovigo', 'Udine', 'Gorizia', 'Trieste', 'Piacenza', 'Parma',\n",
       "       \"Reggio nell'Emilia\", 'Modena', 'Ferrara', 'Ravenna',\n",
       "       \"Forli'-Cesena\", 'Pesaro e Urbino', 'Ancona', 'Macerata',\n",
       "       'Ascoli Piceno', 'Massa Carrara', 'Lucca', 'Pistoia', 'Livorno',\n",
       "       'Pisa', 'Arezzo', 'Siena', 'Grosseto', 'Perugia', 'Terni',\n",
       "       'Viterbo', 'Rieti', 'Latina', 'Frosinone', 'Caserta', 'Benevento',\n",
       "       'Avellino', 'Salerno', \"L'Aquila\", 'Teramo', 'Pescara', 'Chieti',\n",
       "       'Campobasso', 'Foggia', 'Taranto', 'Brindisi', 'Lecce', 'Potenza',\n",
       "       'Matera', 'Cosenza', 'Catanzaro', 'Trapani', 'Agrigento',\n",
       "       'Caltanissetta', 'Enna', 'Ragusa', 'Siracusa', 'Sassari', 'Nuoro',\n",
       "       'Pordenone', 'Isernia', 'Oristano', 'Biella', 'Lecco', 'Lodi',\n",
       "       'Rimini', 'Prato', 'Crotone', 'Vibo Valentia',\n",
       "       'Verbano-Cusio-Ossola', 'Monza e della Brianza', 'Fermo',\n",
       "       'Barletta-Andria-Trani', 'Sud Sardegna'], dtype=object)"
      ]
     },
     "execution_count": 11,
     "metadata": {},
     "output_type": "execute_result"
    }
   ],
   "source": [
    "provinces['DEN_PROV'].unique()"
   ]
  },
  {
   "cell_type": "markdown",
   "metadata": {
    "id": "3xadwHnaAnD1"
   },
   "source": [
    "obtain the list of all the metropolitan ciies"
   ]
  },
  {
   "cell_type": "code",
   "execution_count": 12,
   "metadata": {
    "colab": {
     "base_uri": "https://localhost:8080/"
    },
    "id": "T8nPq64OAtmJ",
    "outputId": "f3955e65-55f4-4daa-ebc6-c3e48f841aa7"
   },
   "outputs": [
    {
     "data": {
      "text/plain": [
       "array(['Torino', '-', 'Genova', 'Milano', 'Venezia', 'Bologna', 'Firenze',\n",
       "       'Roma', 'Napoli', 'Bari', 'Reggio di Calabria', 'Palermo',\n",
       "       'Messina', 'Catania', 'Cagliari'], dtype=object)"
      ]
     },
     "execution_count": 12,
     "metadata": {},
     "output_type": "execute_result"
    }
   ],
   "source": [
    "provinces.DEN_CM.unique()"
   ]
  },
  {
   "cell_type": "markdown",
   "metadata": {
    "id": "gdaz8GslA6Q8"
   },
   "source": [
    "choose the province of Verona"
   ]
  },
  {
   "cell_type": "code",
   "execution_count": 13,
   "metadata": {
    "id": "btDGt41ZIeGO"
   },
   "outputs": [],
   "source": [
    "province_of_verona = provinces[provinces['DEN_PROV']=='Verona']"
   ]
  },
  {
   "cell_type": "code",
   "execution_count": 14,
   "metadata": {
    "colab": {
     "base_uri": "https://localhost:8080/",
     "height": 89
    },
    "id": "krZReRm1Ihk0",
    "outputId": "ca3d8954-aecb-4669-e605-c318a24cc462"
   },
   "outputs": [
    {
     "data": {
      "text/html": [
       "<div>\n",
       "<style scoped>\n",
       "    .dataframe tbody tr th:only-of-type {\n",
       "        vertical-align: middle;\n",
       "    }\n",
       "\n",
       "    .dataframe tbody tr th {\n",
       "        vertical-align: top;\n",
       "    }\n",
       "\n",
       "    .dataframe thead th {\n",
       "        text-align: right;\n",
       "    }\n",
       "</style>\n",
       "<table border=\"1\" class=\"dataframe\">\n",
       "  <thead>\n",
       "    <tr style=\"text-align: right;\">\n",
       "      <th></th>\n",
       "      <th>COD_RIP</th>\n",
       "      <th>COD_REG</th>\n",
       "      <th>COD_PROV</th>\n",
       "      <th>COD_CM</th>\n",
       "      <th>COD_UTS</th>\n",
       "      <th>DEN_PROV</th>\n",
       "      <th>DEN_CM</th>\n",
       "      <th>DEN_UTS</th>\n",
       "      <th>SIGLA</th>\n",
       "      <th>TIPO_UTS</th>\n",
       "      <th>geometry</th>\n",
       "    </tr>\n",
       "  </thead>\n",
       "  <tbody>\n",
       "    <tr>\n",
       "      <th>22</th>\n",
       "      <td>2</td>\n",
       "      <td>5</td>\n",
       "      <td>23</td>\n",
       "      <td>0</td>\n",
       "      <td>23</td>\n",
       "      <td>Verona</td>\n",
       "      <td>-</td>\n",
       "      <td>Verona</td>\n",
       "      <td>VR</td>\n",
       "      <td>Provincia</td>\n",
       "      <td>MULTIPOLYGON (((646461.323 5070531.488, 646402...</td>\n",
       "    </tr>\n",
       "  </tbody>\n",
       "</table>\n",
       "</div>"
      ],
      "text/plain": [
       "    COD_RIP  COD_REG  COD_PROV  COD_CM  COD_UTS DEN_PROV DEN_CM DEN_UTS SIGLA  \\\n",
       "22        2        5        23       0       23   Verona      -  Verona    VR   \n",
       "\n",
       "     TIPO_UTS                                           geometry  \n",
       "22  Provincia  MULTIPOLYGON (((646461.323 5070531.488, 646402...  "
      ]
     },
     "execution_count": 14,
     "metadata": {},
     "output_type": "execute_result"
    }
   ],
   "source": [
    "province_of_verona"
   ]
  },
  {
   "cell_type": "markdown",
   "metadata": {
    "id": "8nQ0YPYvZ_2J"
   },
   "source": [
    "### plot it"
   ]
  },
  {
   "cell_type": "code",
   "execution_count": 15,
   "metadata": {
    "colab": {
     "base_uri": "https://localhost:8080/",
     "height": 845
    },
    "id": "J3KKa1HqIk99",
    "outputId": "96421926-1acd-403b-87f9-60997b88fe3e"
   },
   "outputs": [
    {
     "data": {
      "image/png": "[encoded data removed]",
      "text/plain": [
       "<Figure size 1000x1000 with 1 Axes>"
      ]
     },
     "metadata": {},
     "output_type": "display_data"
    }
   ],
   "source": [
    "province_of_verona.plot(figsize=(10,10))\n",
    "plt.show()"
   ]
  },
  {
   "cell_type": "markdown",
   "metadata": {
    "id": "sNuk2GFbaEe0"
   },
   "source": [
    "## 2. load the shapefile of ISTAT with the informations of the muncipalities\n",
    "### identify the municipalities of the province selected with the biggest and smallest area\n",
    "\n",
    "this means we need to use another layer / dataset"
   ]
  },
  {
   "cell_type": "code",
   "execution_count": 16,
   "metadata": {
    "id": "c6LWnGag-8je"
   },
   "outputs": [],
   "source": [
    "municipalities = gpd.read_file(url,layer=\"municipalities\")"
   ]
  },
  {
   "cell_type": "code",
   "execution_count": 17,
   "metadata": {
    "colab": {
     "base_uri": "https://localhost:8080/"
    },
    "id": "XlAUfmNwJojm",
    "outputId": "8ec886fc-1dc5-4b05-c197-959adf93d8d2"
   },
   "outputs": [
    {
     "data": {
      "text/plain": [
       "Index(['COD_RIP', 'COD_REG', 'COD_PROV', 'COD_CM', 'COD_UTS', 'PRO_COM',\n",
       "       'PRO_COM_T', 'COMUNE', 'COMUNE_A', 'CC_UTS', 'geometry'],\n",
       "      dtype='object')"
      ]
     },
     "execution_count": 17,
     "metadata": {},
     "output_type": "execute_result"
    }
   ],
   "source": [
    "municipalities.columns"
   ]
  },
  {
   "cell_type": "markdown",
   "metadata": {
    "id": "jX4dEbEt9Zgo"
   },
   "source": [
    "**COD_RIP**<br/>\n",
    "*codice ripartizione*<br/>\n",
    "numeric code of the macroregion of belonging\n",
    "\n",
    "**COD_REG**<br/>\n",
    "*codice regione*<br/>\n",
    "numeric code of the region of belonging\n",
    "\n",
    "**COD_PROV**<br/>\n",
    "*codice provincia*<br/>\n",
    "numeric code of the region of belonging\n",
    "\n",
    "**COD_CM**<br/>\n",
    "*codice comune*<br/>\n",
    "unique numeric identification code of the municipality within the province of belonging\n",
    "\n",
    "**COD_UTS**<br/>\n",
    "*codice unità territoriali sovracomunali*<br/>\n",
    "Numeric code that uniquely identifies the Units\n",
    "territorial supra-municipal on the national territory.\n",
    "\n",
    "**PRO_COM**<br/>\n",
    "*provincia comune**<br/>\n",
    "Numeric code that uniquely identifies the Municipality\n",
    "on the national territory. (= COD_PROV & COD_COM)\n",
    "\n",
    "**PRO_COM_T**<br/>\n",
    "*provincia comune territorio**<br/>\n",
    "Alphanumeric code that uniquely identifies the\n",
    "Municipality on the national territory.<br/>\n",
    "Like PRO_COM but definied in 6 fixed characters.\n",
    "\n",
    "**COMUNE**<br/>\n",
    "*comune*<br/>\n",
    "Name of the Municipality\n",
    "\n",
    "**COMUNE_A**<br/>\n",
    "*comune alternativa*<br/>\n",
    "Name of the Municipality in a language other than Italian\n",
    "\n",
    "**CC_UTS**<br/>\n",
    "*comune capoluogo*<br/>\n",
    "Provincial capital or metropolitan city<br/>\n",
    "1 => True<br/>\n",
    "2 => False\n",
    "\n"
   ]
  },
  {
   "cell_type": "markdown",
   "metadata": {
    "id": "4cRRhYVCakDq"
   },
   "source": [
    "the **COD_PROV** of the Province of Verona is **23**"
   ]
  },
  {
   "cell_type": "code",
   "execution_count": 18,
   "metadata": {
    "id": "UjYOlOPeJtZg"
   },
   "outputs": [],
   "source": [
    "# filter the province\n",
    "municipalities_province_verona = municipalities[municipalities.COD_PROV==23]"
   ]
  },
  {
   "cell_type": "code",
   "execution_count": 19,
   "metadata": {
    "colab": {
     "base_uri": "https://localhost:8080/",
     "height": 845
    },
    "id": "pgcYsr41JxXE",
    "outputId": "0b9c4a9c-b914-4f10-f3d8-d4ff0e6da3fb"
   },
   "outputs": [
    {
     "data": {
      "image/png": "[encoded data removed]",
      "text/plain": [
       "<Figure size 1000x1000 with 1 Axes>"
      ]
     },
     "metadata": {},
     "output_type": "display_data"
    }
   ],
   "source": [
    "# plot it\n",
    "municipalities_province_verona.plot(figsize=(10,10))\n",
    "plt.show()"
   ]
  },
  {
   "cell_type": "markdown",
   "metadata": {
    "id": "nG87m3Hna9ZB"
   },
   "source": [
    "### identify the cities of the province selected with the biggest and smallest area\n",
    "\n",
    "**CAUTION**:\n",
    "\n",
    "we are using generalized boundaries !!!"
   ]
  },
  {
   "cell_type": "markdown",
   "metadata": {
    "id": "CotX0EIMcrDU"
   },
   "source": [
    "finding the max area"
   ]
  },
  {
   "cell_type": "code",
   "execution_count": 20,
   "metadata": {
    "id": "ed1E9oyvJ0yu"
   },
   "outputs": [],
   "source": [
    "max_area = municipalities_province_verona.geometry.area.max()"
   ]
  },
  {
   "cell_type": "code",
   "execution_count": 21,
   "metadata": {
    "colab": {
     "base_uri": "https://localhost:8080/"
    },
    "id": "DHj8IQ0LFY3t",
    "outputId": "3ec90e81-4a68-435c-803e-f39df8a8ff8a"
   },
   "outputs": [
    {
     "data": {
      "text/plain": [
       "198863691.363853"
      ]
     },
     "execution_count": 21,
     "metadata": {},
     "output_type": "execute_result"
    }
   ],
   "source": [
    "max_area"
   ]
  },
  {
   "cell_type": "markdown",
   "metadata": {
    "id": "6othNPYvcvoB"
   },
   "source": [
    "finding the min area"
   ]
  },
  {
   "cell_type": "code",
   "execution_count": 22,
   "metadata": {
    "id": "9G4hMiQCJ3Af"
   },
   "outputs": [],
   "source": [
    "min_area = municipalities_province_verona.geometry.area.min()"
   ]
  },
  {
   "cell_type": "code",
   "execution_count": 23,
   "metadata": {
    "colab": {
     "base_uri": "https://localhost:8080/"
    },
    "id": "7vnVp3RWFa2G",
    "outputId": "e6e0a8a7-0f23-419d-d3fe-8aecac2878b4"
   },
   "outputs": [
    {
     "data": {
      "text/plain": [
       "7937906.122974203"
      ]
     },
     "execution_count": 23,
     "metadata": {},
     "output_type": "execute_result"
    }
   ],
   "source": [
    "min_area"
   ]
  },
  {
   "cell_type": "markdown",
   "metadata": {
    "id": "mIcFXpBdbb4G"
   },
   "source": [
    "... you can obtain the same in another way (combination of the requests)"
   ]
  },
  {
   "cell_type": "code",
   "execution_count": 24,
   "metadata": {
    "colab": {
     "base_uri": "https://localhost:8080/"
    },
    "id": "6LU7py1VbdXT",
    "outputId": "2b2d3ebc-31f4-4ad7-b539-bac9de881f6f"
   },
   "outputs": [
    {
     "data": {
      "text/plain": [
       "7937906.122974203"
      ]
     },
     "execution_count": 24,
     "metadata": {},
     "output_type": "execute_result"
    }
   ],
   "source": [
    "municipalities[municipalities.COD_PROV==23].geometry.area.min()"
   ]
  },
  {
   "cell_type": "markdown",
   "metadata": {
    "id": "Jzy-S7i4cZdy"
   },
   "source": [
    "### identify the municipality with the biggest area\n",
    "\n",
    "\n"
   ]
  },
  {
   "cell_type": "code",
   "execution_count": 25,
   "metadata": {
    "id": "HnefpEIAJ50g"
   },
   "outputs": [],
   "source": [
    "maxarea_municipality_province_verona = municipalities_province_verona[municipalities_province_verona.geometry.area == max_area]"
   ]
  },
  {
   "cell_type": "code",
   "execution_count": 26,
   "metadata": {
    "colab": {
     "base_uri": "https://localhost:8080/",
     "height": 115
    },
    "id": "oLEC0CPXJ_FY",
    "outputId": "4632407f-3f3f-467c-cf46-ae9482f7c883"
   },
   "outputs": [
    {
     "data": {
      "text/plain": [
       "3191    023091\n",
       "Name: PRO_COM_T, dtype: object"
      ]
     },
     "execution_count": 26,
     "metadata": {},
     "output_type": "execute_result"
    }
   ],
   "source": [
    "maxarea_municipality_province_verona.PRO_COM_T"
   ]
  },
  {
   "cell_type": "code",
   "execution_count": 27,
   "metadata": {
    "colab": {
     "base_uri": "https://localhost:8080/",
     "height": 115
    },
    "id": "zirOh3UpdWwe",
    "outputId": "af458515-dfdf-4905-8068-de62218b6127"
   },
   "outputs": [
    {
     "data": {
      "text/plain": [
       "3191    Verona\n",
       "Name: COMUNE, dtype: object"
      ]
     },
     "execution_count": 27,
     "metadata": {},
     "output_type": "execute_result"
    }
   ],
   "source": [
    "maxarea_municipality_province_verona.COMUNE"
   ]
  },
  {
   "cell_type": "markdown",
   "metadata": {
    "id": "fbyYIwZ6dGdY"
   },
   "source": [
    "the municipality with the bigger area is **Verona** (023091)"
   ]
  },
  {
   "cell_type": "code",
   "execution_count": 28,
   "metadata": {
    "colab": {
     "base_uri": "https://localhost:8080/",
     "height": 845
    },
    "id": "EYgIAJx1_KTV",
    "outputId": "ec538e2a-3e63-4b03-c9fb-8806765d46db"
   },
   "outputs": [
    {
     "data": {
      "image/png": "[encoded data removed]",
      "text/plain": [
       "<Figure size 1000x1000 with 1 Axes>"
      ]
     },
     "metadata": {},
     "output_type": "display_data"
    }
   ],
   "source": [
    "maxarea_municipality_province_verona.plot(figsize=(10,10))\n",
    "plt.show()"
   ]
  },
  {
   "cell_type": "markdown",
   "metadata": {
    "id": "ShodskgCdegB"
   },
   "source": [
    "### identify the municipality with the smallest area\n"
   ]
  },
  {
   "cell_type": "code",
   "execution_count": 29,
   "metadata": {
    "id": "waSNAaUaJ8DM"
   },
   "outputs": [],
   "source": [
    "minarea_municipality_province_verona = municipalities_province_verona[municipalities_province_verona.geometry.area == min_area]"
   ]
  },
  {
   "cell_type": "code",
   "execution_count": 30,
   "metadata": {
    "colab": {
     "base_uri": "https://localhost:8080/",
     "height": 115
    },
    "id": "dTvZsDYWKCf1",
    "outputId": "fd6cb149-3601-413b-fcb0-f8477c682574"
   },
   "outputs": [
    {
     "data": {
      "text/plain": [
       "803    Concamarise\n",
       "Name: COMUNE, dtype: object"
      ]
     },
     "execution_count": 30,
     "metadata": {},
     "output_type": "execute_result"
    }
   ],
   "source": [
    "minarea_municipality_province_verona.COMUNE"
   ]
  },
  {
   "cell_type": "code",
   "execution_count": 31,
   "metadata": {
    "colab": {
     "base_uri": "https://localhost:8080/",
     "height": 115
    },
    "id": "BJoda9zhdtzD",
    "outputId": "dd5f741b-496b-4dac-c6c0-4d2b9c68ed9e"
   },
   "outputs": [
    {
     "data": {
      "text/plain": [
       "803    023029\n",
       "Name: PRO_COM_T, dtype: object"
      ]
     },
     "execution_count": 31,
     "metadata": {},
     "output_type": "execute_result"
    }
   ],
   "source": [
    "minarea_municipality_province_verona.PRO_COM_T"
   ]
  },
  {
   "cell_type": "markdown",
   "metadata": {
    "id": "hk3wvA0_dzDW"
   },
   "source": [
    "the municipality with the smallest area is **Concamarise** (023029)"
   ]
  },
  {
   "cell_type": "code",
   "execution_count": 32,
   "metadata": {
    "colab": {
     "base_uri": "https://localhost:8080/",
     "height": 845
    },
    "id": "Twce9Hy7NXAo",
    "outputId": "37e8d02a-db1f-499c-b666-3fba3040b156"
   },
   "outputs": [
    {
     "data": {
      "image/png": "[encoded data removed]",
      "text/plain": [
       "<Figure size 1000x1000 with 1 Axes>"
      ]
     },
     "metadata": {},
     "output_type": "display_data"
    }
   ],
   "source": [
    "minarea_municipality_province_verona.plot(figsize=(10,10))\n",
    "plt.show()"
   ]
  },
  {
   "cell_type": "markdown",
   "metadata": {
    "id": "Y-dS9DA5eE6U"
   },
   "source": [
    "### extract all the centroids of the areas expressed in WGS84"
   ]
  },
  {
   "cell_type": "code",
   "execution_count": 33,
   "metadata": {
    "colab": {
     "base_uri": "https://localhost:8080/",
     "height": 115
    },
    "id": "t_74bjyYN8ru",
    "outputId": "dfb723d0-3b10-4c90-b60e-f3a8f0e2a060"
   },
   "outputs": [
    {
     "data": {
      "text/plain": [
       "3191    POINT (11.00210 45.44838)\n",
       "dtype: geometry"
      ]
     },
     "execution_count": 33,
     "metadata": {},
     "output_type": "execute_result"
    }
   ],
   "source": [
    "maxarea_municipality_province_verona.geometry.centroid.to_crs(epsg=4326)"
   ]
  },
  {
   "cell_type": "code",
   "execution_count": 34,
   "metadata": {
    "colab": {
     "base_uri": "https://localhost:8080/",
     "height": 115
    },
    "id": "veFfPsumePIa",
    "outputId": "2337f11f-5665-493b-e7f2-924736e4826d"
   },
   "outputs": [
    {
     "data": {
      "text/plain": [
       "3191    POINT (11.00210 45.44838)\n",
       "dtype: geometry"
      ]
     },
     "execution_count": 34,
     "metadata": {},
     "output_type": "execute_result"
    }
   ],
   "source": [
    "maxarea_municipality_province_verona.geometry.centroid.to_crs(epsg=4326)"
   ]
  },
  {
   "cell_type": "markdown",
   "metadata": {
    "id": "-eJUm7csej5u"
   },
   "source": [
    "### extract a rappresenative point for the area of the smallest and bigger municipality in WGS84"
   ]
  },
  {
   "cell_type": "code",
   "execution_count": 35,
   "metadata": {
    "id": "WXJh0bs7KHMA"
   },
   "outputs": [],
   "source": [
    "representative_point_minarea_municipality = minarea_municipality_province_verona.geometry.representative_point()"
   ]
  },
  {
   "cell_type": "code",
   "execution_count": 36,
   "metadata": {
    "id": "ThbYeGtdN1K6"
   },
   "outputs": [],
   "source": [
    "representative_point_maxarea_municipality = maxarea_municipality_province_verona.geometry.representative_point()"
   ]
  },
  {
   "cell_type": "code",
   "execution_count": 37,
   "metadata": {
    "colab": {
     "base_uri": "https://localhost:8080/",
     "height": 115
    },
    "id": "9oUgRfy_KKs8",
    "outputId": "d1ec70da-08a2-482b-b16e-3b9d6f206584"
   },
   "outputs": [
    {
     "data": {
      "text/plain": [
       "803    POINT (11.14870 45.20489)\n",
       "dtype: geometry"
      ]
     },
     "execution_count": 37,
     "metadata": {},
     "output_type": "execute_result"
    }
   ],
   "source": [
    "representative_point_minarea_municipality.to_crs(epsg=4326)"
   ]
  },
  {
   "cell_type": "code",
   "execution_count": 38,
   "metadata": {
    "colab": {
     "base_uri": "https://localhost:8080/",
     "height": 115
    },
    "id": "mDE69_SpOBDu",
    "outputId": "1c7c3b8f-fa34-49be-aa6c-571bb20900d3"
   },
   "outputs": [
    {
     "data": {
      "text/plain": [
       "3191    POINT (10.98009 45.44706)\n",
       "dtype: geometry"
      ]
     },
     "execution_count": 38,
     "metadata": {},
     "output_type": "execute_result"
    }
   ],
   "source": [
    "representative_point_maxarea_municipality.to_crs(epsg=4326)"
   ]
  },
  {
   "cell_type": "markdown",
   "metadata": {
    "id": "v6FK_NSsfJQu"
   },
   "source": [
    "### save the data in GeoJSON files\n",
    "\n",
    "we can save each point in geojson"
   ]
  },
  {
   "cell_type": "code",
   "execution_count": 39,
   "metadata": {
    "id": "vkvmlRvafZ9Z"
   },
   "outputs": [],
   "source": [
    "representative_point_maxarea_municipality.to_crs(epsg=4326).to_file(\"point.geojson\",driver=\"GeoJSON\")"
   ]
  },
  {
   "cell_type": "markdown",
   "metadata": {
    "id": "rHuNahrZftl5"
   },
   "source": [
    "... but we need to create an only one file with all the data in a geojson file"
   ]
  },
  {
   "cell_type": "code",
   "execution_count": 40,
   "metadata": {
    "id": "e7nlav9JfzTS"
   },
   "outputs": [],
   "source": [
    "points = pd.concat([representative_point_minarea_municipality, representative_point_maxarea_municipality], ignore_index=True)"
   ]
  },
  {
   "cell_type": "code",
   "execution_count": 41,
   "metadata": {
    "id": "1jMx1Tz9gUQb"
   },
   "outputs": [],
   "source": [
    "points.to_crs(epsg=4326).to_file(\"points.geojson\",driver=\"GeoJSON\")"
   ]
  },
  {
   "cell_type": "markdown",
   "metadata": {
    "id": "-r_dNGcDICJs"
   },
   "source": [
    "and we can do the same with the polygons"
   ]
  },
  {
   "cell_type": "code",
   "execution_count": 42,
   "metadata": {
    "id": "Kme3ZsgFHfHp"
   },
   "outputs": [],
   "source": [
    "polygons = pd.concat([maxarea_municipality_province_verona, minarea_municipality_province_verona], ignore_index=True)"
   ]
  },
  {
   "cell_type": "code",
   "execution_count": 43,
   "metadata": {
    "id": "iKnoxSaQL3gX"
   },
   "outputs": [],
   "source": [
    "polygons.to_crs(epsg=4326).to_file(\"polygons.geojson\",driver=\"GeoJSON\")"
   ]
  },
  {
   "cell_type": "markdown",
   "metadata": {
    "id": "pDIAVUscg3xF"
   },
   "source": [
    "**tip 1**:<br/>\n",
    "you can download and create a [gist resource](https://gist.github.com/napo/c5bfe89940026add3e0de6f9e3d709b2#file-points_verona-geojson) to distribute"
   ]
  },
  {
   "cell_type": "markdown",
   "metadata": {
    "id": "5o7fd9t6Izpq"
   },
   "source": [
    "**tip 2**:<br/>\n",
    "you can download the files and create a map with [umap](https://umap.openstretmap.fr) and create an [interactive map online with the data](https://umap.openstreetmap.fr/en/map/veronas-biggest-and-smallest-town_1122334)"
   ]
  },
  {
   "cell_type": "markdown",
   "metadata": {
    "id": "3M4cuG64hSBH"
   },
   "source": [
    "### calculate the distance on the geodentic between the municipality with the big area and smallest area by using the centroid\n"
   ]
  },
  {
   "cell_type": "code",
   "execution_count": 44,
   "metadata": {
    "id": "1wtbI-kf7Vh6"
   },
   "outputs": [],
   "source": [
    "to_point = minarea_municipality_province_verona.geometry.centroid.values[0]"
   ]
  },
  {
   "cell_type": "code",
   "execution_count": 45,
   "metadata": {
    "colab": {
     "base_uri": "https://localhost:8080/",
     "height": 115
    },
    "id": "E29lflS5fAph",
    "outputId": "cdb0e12c-f096-4039-a289-9bdd98141cf7"
   },
   "outputs": [
    {
     "data": {
      "text/plain": [
       "3191    29265.748784\n",
       "dtype: float64"
      ]
     },
     "execution_count": 45,
     "metadata": {},
     "output_type": "execute_result"
    }
   ],
   "source": [
    "maxarea_municipality_province_verona.centroid.distance(to_point)"
   ]
  },
  {
   "cell_type": "code",
   "execution_count": 46,
   "metadata": {
    "id": "KnkXEZOs7Vh7"
   },
   "outputs": [],
   "source": [
    "distance = maxarea_municipality_province_verona.geometry.centroid.distance(to_point).values[0]"
   ]
  },
  {
   "cell_type": "code",
   "execution_count": 47,
   "metadata": {
    "colab": {
     "base_uri": "https://localhost:8080/"
    },
    "id": "cl60MuiU7Vh7",
    "outputId": "91571615-3cba-4c10-e0ab-21ed8e8fc3ee"
   },
   "outputs": [
    {
     "data": {
      "text/plain": [
       "29265.748784141037"
      ]
     },
     "execution_count": 47,
     "metadata": {},
     "output_type": "execute_result"
    }
   ],
   "source": [
    "distance"
   ]
  },
  {
   "cell_type": "markdown",
   "metadata": {
    "id": "G3w4YSq7i_Of"
   },
   "source": [
    "the distance is in meters due the CRS used on the dataset"
   ]
  },
  {
   "cell_type": "code",
   "execution_count": 48,
   "metadata": {
    "id": "h3l6OLzR7Vh8"
   },
   "outputs": [],
   "source": [
    "to_city = minarea_municipality_province_verona.COMUNE.values[0]\n",
    "from_city = maxarea_municipality_province_verona.COMUNE.values[0]\n",
    "distance_km = distance/1000"
   ]
  },
  {
   "cell_type": "code",
   "execution_count": 49,
   "metadata": {
    "colab": {
     "base_uri": "https://localhost:8080/"
    },
    "id": "HuMjuhhJ7Vh8",
    "outputId": "eb358a71-b1f0-494e-d318-c501e560b549"
   },
   "outputs": [
    {
     "name": "stdout",
     "output_type": "stream",
     "text": [
      "the distance from Verona to Concamarise is 29.3 km\n"
     ]
    }
   ],
   "source": [
    "print(\"the distance from %s to %s is %.1f km\" % (from_city, to_city, round(distance_km,1)))"
   ]
  },
  {
   "cell_type": "markdown",
   "metadata": {
    "id": "_ZJxuinjPKA4"
   },
   "source": [
    "### Why a representative point?"
   ]
  },
  {
   "cell_type": "markdown",
   "metadata": {
    "id": "0ISDE0HGjzAi"
   },
   "source": [
    "Where is the centroid of Liguria?\n"
   ]
  },
  {
   "cell_type": "code",
   "execution_count": 50,
   "metadata": {
    "id": "5Hba-qxTmuQL"
   },
   "outputs": [],
   "source": [
    "regions = gpd.read_file(url,layer=\"regions\")"
   ]
  },
  {
   "cell_type": "code",
   "execution_count": 51,
   "metadata": {
    "colab": {
     "base_uri": "https://localhost:8080/"
    },
    "id": "91yTYhTBmm8U",
    "outputId": "ba17b1ba-a095-48ed-9bf3-f5bfffcfb2c9"
   },
   "outputs": [
    {
     "data": {
      "text/plain": [
       "array(['Piemonte', \"Valle d'Aosta\", 'Lombardia', 'Trentino-Alto Adige',\n",
       "       'Veneto', 'Friuli-Venezia Giulia', 'Liguria', 'Emilia-Romagna',\n",
       "       'Toscana', 'Umbria', 'Marche', 'Lazio', 'Abruzzo', 'Molise',\n",
       "       'Campania', 'Puglia', 'Basilicata', 'Calabria', 'Sicilia',\n",
       "       'Sardegna'], dtype=object)"
      ]
     },
     "execution_count": 51,
     "metadata": {},
     "output_type": "execute_result"
    }
   ],
   "source": [
    "regions.DEN_REG.unique()"
   ]
  },
  {
   "cell_type": "code",
   "execution_count": 52,
   "metadata": {
    "colab": {
     "base_uri": "https://localhost:8080/",
     "height": 447
    },
    "id": "xiziGEkiAHJf",
    "outputId": "3482b935-8725-405d-f1e9-a77b98e393a9"
   },
   "outputs": [
    {
     "data": {
      "image/png": "[encoded data removed]",
      "text/plain": [
       "<Figure size 1000x1000 with 1 Axes>"
      ]
     },
     "metadata": {},
     "output_type": "display_data"
    }
   ],
   "source": [
    "regions[regions.DEN_REG=='Liguria'].plot(figsize=(10,10))\n",
    "plt.show()"
   ]
  },
  {
   "cell_type": "code",
   "execution_count": 53,
   "metadata": {
    "id": "C3st5LyfnhNV"
   },
   "outputs": [],
   "source": [
    "regions[regions.DEN_REG=='Liguria'].to_crs(epsg=4326).to_file(\"liguria.geojson\",driver='GeoJSON')"
   ]
  },
  {
   "cell_type": "code",
   "execution_count": 54,
   "metadata": {
    "id": "XOvUmDfvAUDN"
   },
   "outputs": [],
   "source": [
    "regions[regions.DEN_REG=='Liguria'].centroid.to_crs(epsg=4326).to_file(\"liguria_centroid.geojson\",driver='GeoJSON')"
   ]
  },
  {
   "cell_type": "code",
   "execution_count": 55,
   "metadata": {
    "id": "gx8_YvuWoSWo"
   },
   "outputs": [],
   "source": [
    "regions[regions.DEN_REG=='Liguria'].representative_point().to_crs(epsg=4326).to_file(\"liguria_representative_point.geojson\",driver='GeoJSON')"
   ]
  },
  {
   "cell_type": "markdown",
   "metadata": {
    "id": "XMN9nFJDp5bL"
   },
   "source": [
    "you can upload all the geojson on [uMap](http://umap.openstreetmap.fr) to [see the result](http://umap.openstreetmap.fr/it/map/liguria_505528#8/44.058/9.075)"
   ]
  },
  {
   "cell_type": "markdown",
   "metadata": {
    "id": "hN57WvvIpy0i"
   },
   "source": [
    "![](https://raw.githubusercontent.com/napo/geospatial_course_unitn/master/images/umap_liguria.jpg)\n"
   ]
  },
  {
   "cell_type": "markdown",
   "metadata": {
    "id": "L7Z-v_fPQD3X"
   },
   "source": [
    "## 3. download the shapefile of the [Mountain Basins Station](https://raw.githubusercontent.com/napo/geospatial_unitn_2024/refs/heads/main/data/idrspacq.zip) of Trentino - projection ETRS89 UTM32N\n",
    "  - plot the geometries where CODE is \"0191\" for the table \"d_tipouso.dbf\"\n",
    "  - convert in WGS84 and create a KML and plot it on a website"
   ]
  },
  {
   "cell_type": "code",
   "execution_count": 56,
   "metadata": {
    "id": "SjiVDTRrRSOH"
   },
   "outputs": [],
   "source": [
    "dataurl='https://github.com/napo/geospatial_unitn_2024/raw/refs/heads/main/data/idrspacq.zip'\n",
    "mountain_station_basins = gpd.read_file(dataurl)"
   ]
  },
  {
   "cell_type": "markdown",
   "metadata": {
    "id": "bjJ9PeeoSVgP"
   },
   "source": [
    "###  plot the geometries where Fktuso is “02”"
   ]
  },
  {
   "cell_type": "code",
   "execution_count": 57,
   "metadata": {
    "colab": {
     "base_uri": "https://localhost:8080/",
     "height": 143
    },
    "id": "iSo1ONGQRsAJ",
    "outputId": "a4f633b7-aa95-4039-fb7c-45408e5b6553"
   },
   "outputs": [
    {
     "data": {
      "text/html": [
       "<div>\n",
       "<style scoped>\n",
       "    .dataframe tbody tr th:only-of-type {\n",
       "        vertical-align: middle;\n",
       "    }\n",
       "\n",
       "    .dataframe tbody tr th {\n",
       "        vertical-align: top;\n",
       "    }\n",
       "\n",
       "    .dataframe thead th {\n",
       "        text-align: right;\n",
       "    }\n",
       "</style>\n",
       "<table border=\"1\" class=\"dataframe\">\n",
       "  <thead>\n",
       "    <tr style=\"text-align: right;\">\n",
       "      <th></th>\n",
       "      <th>CLASSID</th>\n",
       "      <th>LIMITI</th>\n",
       "      <th>ORIGPUB</th>\n",
       "      <th>DENOM</th>\n",
       "      <th>FOCE</th>\n",
       "      <th>COMUNI</th>\n",
       "      <th>geometry</th>\n",
       "    </tr>\n",
       "  </thead>\n",
       "  <tbody>\n",
       "    <tr>\n",
       "      <th>0</th>\n",
       "      <td>33</td>\n",
       "      <td>None</td>\n",
       "      <td>Approvazione dell'elenco delle acque pubbliche...</td>\n",
       "      <td>SORGENTE REBUS</td>\n",
       "      <td>Rio Rebus</td>\n",
       "      <td>Ala</td>\n",
       "      <td>POLYGON ((652049.051 5111656.028, 652048.685 5...</td>\n",
       "    </tr>\n",
       "    <tr>\n",
       "      <th>1</th>\n",
       "      <td>188</td>\n",
       "      <td>None</td>\n",
       "      <td>Approvazione dell'elenco delle acque pubbliche...</td>\n",
       "      <td>SORGENTE AL FOL</td>\n",
       "      <td>Rio Sal</td>\n",
       "      <td>Trento (frazione Povo)</td>\n",
       "      <td>POLYGON ((692800.350 5109936.688, 692800.452 5...</td>\n",
       "    </tr>\n",
       "    <tr>\n",
       "      <th>2</th>\n",
       "      <td>215</td>\n",
       "      <td>None</td>\n",
       "      <td>Approvazione dell'elenco delle acque pubbliche...</td>\n",
       "      <td>SORGENTE SUL CAMPIO</td>\n",
       "      <td>Rio Val Battisti</td>\n",
       "      <td>Sant'Orsola</td>\n",
       "      <td>POLYGON ((630281.891 5142817.705, 630280.968 5...</td>\n",
       "    </tr>\n",
       "  </tbody>\n",
       "</table>\n",
       "</div>"
      ],
      "text/plain": [
       "  CLASSID LIMITI                                            ORIGPUB  \\\n",
       "0      33   None  Approvazione dell'elenco delle acque pubbliche...   \n",
       "1     188   None  Approvazione dell'elenco delle acque pubbliche...   \n",
       "2     215   None  Approvazione dell'elenco delle acque pubbliche...   \n",
       "\n",
       "                 DENOM              FOCE                  COMUNI  \\\n",
       "0       SORGENTE REBUS         Rio Rebus                     Ala   \n",
       "1      SORGENTE AL FOL          Rio Sal  Trento (frazione Povo)   \n",
       "2  SORGENTE SUL CAMPIO  Rio Val Battisti             Sant'Orsola   \n",
       "\n",
       "                                            geometry  \n",
       "0  POLYGON ((652049.051 5111656.028, 652048.685 5...  \n",
       "1  POLYGON ((692800.350 5109936.688, 692800.452 5...  \n",
       "2  POLYGON ((630281.891 5142817.705, 630280.968 5...  "
      ]
     },
     "execution_count": 57,
     "metadata": {},
     "output_type": "execute_result"
    }
   ],
   "source": [
    "mountain_station_basins.head(3)"
   ]
  },
  {
   "cell_type": "code",
   "execution_count": 58,
   "metadata": {
    "colab": {
     "base_uri": "https://localhost:8080/"
    },
    "id": "aNWVouzySCtY",
    "outputId": "bd9142a7-1e9c-42c2-cbd2-d4f27bfe722b"
   },
   "outputs": [
    {
     "data": {
      "text/plain": [
       "Index(['CLASSID', 'LIMITI', 'ORIGPUB', 'DENOM', 'FOCE', 'COMUNI', 'geometry'], dtype='object')"
      ]
     },
     "execution_count": 58,
     "metadata": {},
     "output_type": "execute_result"
    }
   ],
   "source": [
    "mountain_station_basins.columns"
   ]
  },
  {
   "cell_type": "markdown",
   "metadata": {
    "id": "4GlpGMitSH3f"
   },
   "source": [
    "where is \"*Fktuso*\" ???\n",
    "\n",
    "*We have to analyze the ESRI Shapefile*"
   ]
  },
  {
   "cell_type": "code",
   "execution_count": 59,
   "metadata": {
    "id": "ObR6w1LxT_Wp"
   },
   "outputs": [],
   "source": [
    "os.mkdir(\"shapefile\")"
   ]
  },
  {
   "cell_type": "code",
   "execution_count": 60,
   "metadata": {
    "id": "Jg2LI30WUEbi"
   },
   "outputs": [],
   "source": [
    "os.chdir(\"shapefile\")"
   ]
  },
  {
   "cell_type": "code",
   "execution_count": 61,
   "metadata": {
    "colab": {
     "base_uri": "https://localhost:8080/"
    },
    "id": "QNYvC8IJSquN",
    "outputId": "8c22c756-3068-4699-de76-ca19aa63501e"
   },
   "outputs": [
    {
     "data": {
      "text/plain": [
       "('idrspacq.zip', <http.client.HTTPMessage at 0x7f6bb477c380>)"
      ]
     },
     "execution_count": 61,
     "metadata": {},
     "output_type": "execute_result"
    }
   ],
   "source": [
    "urllib.request.urlretrieve(dataurl ,\"idrspacq.zip\")\n"
   ]
  },
  {
   "cell_type": "code",
   "execution_count": 62,
   "metadata": {
    "id": "xrRNFV2USwUb"
   },
   "outputs": [],
   "source": [
    "import zipfile\n",
    "z = zipfile.ZipFile('idrspacq.zip')\n",
    "z.extractall()"
   ]
  },
  {
   "cell_type": "code",
   "execution_count": 63,
   "metadata": {
    "colab": {
     "base_uri": "https://localhost:8080/"
    },
    "id": "CiYcgvQhFzFj",
    "outputId": "117dcae7-18f4-42ff-cf41-66b8c1253263"
   },
   "outputs": [
    {
     "data": {
      "text/plain": [
       "['idrspacq.zip', 'idrspacq.dbf', 'idrspacq.shp', 'idrspacq.shx', 'ftkuso.dbf']"
      ]
     },
     "execution_count": 63,
     "metadata": {},
     "output_type": "execute_result"
    }
   ],
   "source": [
    "os.listdir()"
   ]
  },
  {
   "cell_type": "markdown",
   "metadata": {
    "id": "BKqPewWDTtX7"
   },
   "source": [
    "| filenname | description  | note |\n",
    "|---|---|---|\n",
    "| lidrspacq.shp | the file with the shapes (geometries) | ok |\n",
    "| ftkuso.dbf  | the file with the attributes | the name is NOT the same of the .shp |\n",
    "|  idrspacq.dbf | the file with the attributes  | the name is the same of the .shp |\n",
    "| idrspacq.zip  | the zip archive | it's present because downloaded |\n",
    "| idrspacq.shx  | the file to associate the attributes to the geometries | the name is the the of the .shp |"
   ]
  },
  {
   "cell_type": "markdown",
   "metadata": {
    "id": "pZIsjO6jXuKf"
   },
   "source": [
    "How we can use the file *ftkuso.dbf*?\n",
    "\n",
    "Try to create a shapefile from the other"
   ]
  },
  {
   "cell_type": "code",
   "execution_count": 64,
   "metadata": {
    "id": "zE_9T4dWX_wd"
   },
   "outputs": [],
   "source": [
    "from shutil import copyfile"
   ]
  },
  {
   "cell_type": "code",
   "execution_count": 65,
   "metadata": {
    "colab": {
     "base_uri": "https://localhost:8080/",
     "height": 35
    },
    "id": "KOwjt9A4YSUM",
    "outputId": "08e385be-553d-4a42-e83e-4599ea37a8ac"
   },
   "outputs": [
    {
     "data": {
      "text/plain": [
       "'ftkuso.shp'"
      ]
     },
     "execution_count": 65,
     "metadata": {},
     "output_type": "execute_result"
    }
   ],
   "source": [
    "copyfile(\"idrspacq.shp\",\"ftkuso.shp\")"
   ]
  },
  {
   "cell_type": "code",
   "execution_count": 66,
   "metadata": {
    "colab": {
     "base_uri": "https://localhost:8080/",
     "height": 35
    },
    "id": "vVH6RI5KYf9G",
    "outputId": "3ea113f3-dba8-4510-eeb3-ceb7171c86bc"
   },
   "outputs": [
    {
     "data": {
      "text/plain": [
       "'ftkuso.shx'"
      ]
     },
     "execution_count": 66,
     "metadata": {},
     "output_type": "execute_result"
    }
   ],
   "source": [
    "copyfile(\"idrspacq.shx\",\"ftkuso.shx\")"
   ]
  },
  {
   "cell_type": "code",
   "execution_count": 67,
   "metadata": {
    "id": "Fci0RyU8YhAN"
   },
   "outputs": [],
   "source": [
    "fktuso =  gpd.read_file(\"ftkuso.shp\")"
   ]
  },
  {
   "cell_type": "code",
   "execution_count": 68,
   "metadata": {
    "colab": {
     "base_uri": "https://localhost:8080/"
    },
    "id": "XG2RYo21YucY",
    "outputId": "15e097ac-f167-40df-9dbc-18cd938c8d8c"
   },
   "outputs": [
    {
     "data": {
      "text/plain": [
       "Index(['OBJECTID', 'CLASSID', 'NOMESPACQ', 'FKTUSO', 'PD', 'FKTGENESI',\n",
       "       'FKTREGOLAZ', 'FKTSPECCHI', 'FKSCALA', 'DATAINI', 'DATAFINE', 'FKFONTE',\n",
       "       'FKTIPOELAB', 'FKCODPUB', 'NOTE', 'geometry'],\n",
       "      dtype='object')"
      ]
     },
     "execution_count": 68,
     "metadata": {},
     "output_type": "execute_result"
    }
   ],
   "source": [
    "fktuso.columns"
   ]
  },
  {
   "cell_type": "markdown",
   "metadata": {
    "id": "ttQQC19gYylb"
   },
   "source": [
    "there is the attribute \"FTKUSO\" ..."
   ]
  },
  {
   "cell_type": "code",
   "execution_count": 69,
   "metadata": {
    "colab": {
     "base_uri": "https://localhost:8080/"
    },
    "id": "FIxvQfy7Y_Rd",
    "outputId": "b420c4cd-8deb-4cd9-f7a7-bbdc466444be"
   },
   "outputs": [
    {
     "data": {
      "text/plain": [
       "array(['0101', '92', '0191', '0192', '02', '0102'], dtype=object)"
      ]
     },
     "execution_count": 69,
     "metadata": {},
     "output_type": "execute_result"
    }
   ],
   "source": [
    "fktuso.FKTUSO.unique()"
   ]
  },
  {
   "cell_type": "markdown",
   "metadata": {
    "id": "Q4jfkRBuZLGy"
   },
   "source": [
    "... and there is also the value \"02\""
   ]
  },
  {
   "cell_type": "code",
   "execution_count": 70,
   "metadata": {
    "id": "FzSu9hrEY5od"
   },
   "outputs": [],
   "source": [
    "fktuso02 = fktuso[fktuso.FKTUSO=='02']"
   ]
  },
  {
   "cell_type": "code",
   "execution_count": 71,
   "metadata": {
    "colab": {
     "base_uri": "https://localhost:8080/",
     "height": 699
    },
    "id": "_5kol7f1Zs-H",
    "outputId": "28a4d4c8-47ba-44e9-891c-66179c1ea3c6"
   },
   "outputs": [
    {
     "data": {
      "image/png": "[encoded data removed]",
      "text/plain": [
       "<Figure size 1000x1000 with 1 Axes>"
      ]
     },
     "metadata": {},
     "output_type": "display_data"
    }
   ],
   "source": [
    "fktuso.plot(figsize=(10,10))\n",
    "plt.show()"
   ]
  },
  {
   "cell_type": "markdown",
   "metadata": {
    "id": "l5KtwWBKZXF4"
   },
   "source": [
    "### convert in WGS84 and create a geojson"
   ]
  },
  {
   "cell_type": "code",
   "execution_count": 72,
   "metadata": {
    "colab": {
     "base_uri": "https://localhost:8080/",
     "height": 287
    },
    "id": "DyH5-bM1ZlIO",
    "outputId": "b876050b-7ecb-4533-9ead-940e6e85d8d1"
   },
   "outputs": [
    {
     "ename": "ValueError",
     "evalue": "Cannot transform naive geometries.  Please set a crs on the object first.",
     "output_type": "error",
     "traceback": [
      "\u001b[0;31m---------------------------------------------------------------------------\u001b[0m",
      "\u001b[0;31mValueError\u001b[0m                                Traceback (most recent call last)",
      "Cell \u001b[0;32mIn[72], line 1\u001b[0m\n\u001b[0;32m----> 1\u001b[0m \u001b[43mfktuso02\u001b[49m\u001b[38;5;241;43m.\u001b[39;49m\u001b[43mto_crs\u001b[49m\u001b[43m(\u001b[49m\u001b[43mepsg\u001b[49m\u001b[38;5;241;43m=\u001b[39;49m\u001b[38;5;241;43m4326\u001b[39;49m\u001b[43m)\u001b[49m\n",
      "File \u001b[0;32m~/.venv/lib/python3.12/site-packages/geopandas/geodataframe.py:1410\u001b[0m, in \u001b[0;36mGeoDataFrame.to_crs\u001b[0;34m(self, crs, epsg, inplace)\u001b[0m\n\u001b[1;32m   1408\u001b[0m \u001b[38;5;28;01melse\u001b[39;00m:\n\u001b[1;32m   1409\u001b[0m     df \u001b[38;5;241m=\u001b[39m \u001b[38;5;28mself\u001b[39m\u001b[38;5;241m.\u001b[39mcopy()\n\u001b[0;32m-> 1410\u001b[0m geom \u001b[38;5;241m=\u001b[39m \u001b[43mdf\u001b[49m\u001b[38;5;241;43m.\u001b[39;49m\u001b[43mgeometry\u001b[49m\u001b[38;5;241;43m.\u001b[39;49m\u001b[43mto_crs\u001b[49m\u001b[43m(\u001b[49m\u001b[43mcrs\u001b[49m\u001b[38;5;241;43m=\u001b[39;49m\u001b[43mcrs\u001b[49m\u001b[43m,\u001b[49m\u001b[43m \u001b[49m\u001b[43mepsg\u001b[49m\u001b[38;5;241;43m=\u001b[39;49m\u001b[43mepsg\u001b[49m\u001b[43m)\u001b[49m\n\u001b[1;32m   1411\u001b[0m df\u001b[38;5;241m.\u001b[39mgeometry \u001b[38;5;241m=\u001b[39m geom\n\u001b[1;32m   1412\u001b[0m \u001b[38;5;28;01mif\u001b[39;00m \u001b[38;5;129;01mnot\u001b[39;00m inplace:\n",
      "File \u001b[0;32m~/.venv/lib/python3.12/site-packages/geopandas/geoseries.py:1175\u001b[0m, in \u001b[0;36mGeoSeries.to_crs\u001b[0;34m(self, crs, epsg)\u001b[0m\n\u001b[1;32m   1096\u001b[0m \u001b[38;5;28;01mdef\u001b[39;00m \u001b[38;5;21mto_crs\u001b[39m(\n\u001b[1;32m   1097\u001b[0m     \u001b[38;5;28mself\u001b[39m, crs: Optional[Any] \u001b[38;5;241m=\u001b[39m \u001b[38;5;28;01mNone\u001b[39;00m, epsg: Optional[\u001b[38;5;28mint\u001b[39m] \u001b[38;5;241m=\u001b[39m \u001b[38;5;28;01mNone\u001b[39;00m\n\u001b[1;32m   1098\u001b[0m ) \u001b[38;5;241m-\u001b[39m\u001b[38;5;241m>\u001b[39m GeoSeries:\n\u001b[1;32m   1099\u001b[0m \u001b[38;5;250m    \u001b[39m\u001b[38;5;124;03m\"\"\"Returns a ``GeoSeries`` with all geometries transformed to a new\u001b[39;00m\n\u001b[1;32m   1100\u001b[0m \u001b[38;5;124;03m    coordinate reference system.\u001b[39;00m\n\u001b[1;32m   1101\u001b[0m \n\u001b[0;32m   (...)\u001b[0m\n\u001b[1;32m   1172\u001b[0m \n\u001b[1;32m   1173\u001b[0m \u001b[38;5;124;03m    \"\"\"\u001b[39;00m\n\u001b[1;32m   1174\u001b[0m     \u001b[38;5;28;01mreturn\u001b[39;00m GeoSeries(\n\u001b[0;32m-> 1175\u001b[0m         \u001b[38;5;28;43mself\u001b[39;49m\u001b[38;5;241;43m.\u001b[39;49m\u001b[43mvalues\u001b[49m\u001b[38;5;241;43m.\u001b[39;49m\u001b[43mto_crs\u001b[49m\u001b[43m(\u001b[49m\u001b[43mcrs\u001b[49m\u001b[38;5;241;43m=\u001b[39;49m\u001b[43mcrs\u001b[49m\u001b[43m,\u001b[49m\u001b[43m \u001b[49m\u001b[43mepsg\u001b[49m\u001b[38;5;241;43m=\u001b[39;49m\u001b[43mepsg\u001b[49m\u001b[43m)\u001b[49m, index\u001b[38;5;241m=\u001b[39m\u001b[38;5;28mself\u001b[39m\u001b[38;5;241m.\u001b[39mindex, name\u001b[38;5;241m=\u001b[39m\u001b[38;5;28mself\u001b[39m\u001b[38;5;241m.\u001b[39mname\n\u001b[1;32m   1176\u001b[0m     )\n",
      "File \u001b[0;32m~/.venv/lib/python3.12/site-packages/geopandas/array.py:855\u001b[0m, in \u001b[0;36mGeometryArray.to_crs\u001b[0;34m(self, crs, epsg)\u001b[0m\n\u001b[1;32m    786\u001b[0m \u001b[38;5;250m\u001b[39m\u001b[38;5;124;03m\"\"\"Returns a ``GeometryArray`` with all geometries transformed to a new\u001b[39;00m\n\u001b[1;32m    787\u001b[0m \u001b[38;5;124;03mcoordinate reference system.\u001b[39;00m\n\u001b[1;32m    788\u001b[0m \n\u001b[0;32m   (...)\u001b[0m\n\u001b[1;32m    852\u001b[0m \n\u001b[1;32m    853\u001b[0m \u001b[38;5;124;03m\"\"\"\u001b[39;00m\n\u001b[1;32m    854\u001b[0m \u001b[38;5;28;01mif\u001b[39;00m \u001b[38;5;28mself\u001b[39m\u001b[38;5;241m.\u001b[39mcrs \u001b[38;5;129;01mis\u001b[39;00m \u001b[38;5;28;01mNone\u001b[39;00m:\n\u001b[0;32m--> 855\u001b[0m     \u001b[38;5;28;01mraise\u001b[39;00m \u001b[38;5;167;01mValueError\u001b[39;00m(\n\u001b[1;32m    856\u001b[0m         \u001b[38;5;124m\"\u001b[39m\u001b[38;5;124mCannot transform naive geometries.  \u001b[39m\u001b[38;5;124m\"\u001b[39m\n\u001b[1;32m    857\u001b[0m         \u001b[38;5;124m\"\u001b[39m\u001b[38;5;124mPlease set a crs on the object first.\u001b[39m\u001b[38;5;124m\"\u001b[39m\n\u001b[1;32m    858\u001b[0m     )\n\u001b[1;32m    859\u001b[0m \u001b[38;5;28;01mif\u001b[39;00m crs \u001b[38;5;129;01mis\u001b[39;00m \u001b[38;5;129;01mnot\u001b[39;00m \u001b[38;5;28;01mNone\u001b[39;00m:\n\u001b[1;32m    860\u001b[0m     crs \u001b[38;5;241m=\u001b[39m CRS\u001b[38;5;241m.\u001b[39mfrom_user_input(crs)\n",
      "\u001b[0;31mValueError\u001b[0m: Cannot transform naive geometries.  Please set a crs on the object first."
     ]
    }
   ],
   "source": [
    "fktuso02.to_crs(epsg=4326)"
   ]
  },
  {
   "cell_type": "markdown",
   "metadata": {
    "id": "6tniYjPVZ5xD"
   },
   "source": [
    "ERROR:\n",
    "*Cannot transform naive geometries.  Please set a crs on the object first.*\n",
    "\n",
    "The geodataframe is without the CRS\n",
    "\n",
    "If you check again all the files contained in the zip archive *the .prj file is not present!!!*\n",
    "\n",
    "You need to create it!\n",
    "\n",
    "THe note says \"*projection ETRS89 UTM32N*\"\n",
    "\n",
    "This is enough to search the right epsg code on https://epsg.io with the query [\"ETRS89 UTM zone 32N\"](https://epsg.io/?q=ETRS89+UTM+zone+32N)\n",
    "\n",
    "\n",
    "![](https://github.com/napo/geospatial_unitn_2024/blob/main/images/epsg25832.png?raw=true)\n",
    "\n",
    "\n",
    "where the EPSG code is 25832\n",
    "\n",
    "\n",
    "the solution can be possible in two ways:\n",
    "\n",
    "1 - assign the CRS to the geodataframe\n"
   ]
  },
  {
   "cell_type": "code",
   "execution_count": 73,
   "metadata": {
    "colab": {
     "base_uri": "https://localhost:8080/",
     "height": 147
    },
    "id": "eLyHanMcZxfZ",
    "outputId": "bfb907d7-c997-4923-f59c-55ad049bb056"
   },
   "outputs": [
    {
     "data": {
      "text/html": [
       "<div>\n",
       "<style scoped>\n",
       "    .dataframe tbody tr th:only-of-type {\n",
       "        vertical-align: middle;\n",
       "    }\n",
       "\n",
       "    .dataframe tbody tr th {\n",
       "        vertical-align: top;\n",
       "    }\n",
       "\n",
       "    .dataframe thead th {\n",
       "        text-align: right;\n",
       "    }\n",
       "</style>\n",
       "<table border=\"1\" class=\"dataframe\">\n",
       "  <thead>\n",
       "    <tr style=\"text-align: right;\">\n",
       "      <th></th>\n",
       "      <th>OBJECTID</th>\n",
       "      <th>CLASSID</th>\n",
       "      <th>NOMESPACQ</th>\n",
       "      <th>FKTUSO</th>\n",
       "      <th>PD</th>\n",
       "      <th>FKTGENESI</th>\n",
       "      <th>FKTREGOLAZ</th>\n",
       "      <th>FKTSPECCHI</th>\n",
       "      <th>FKSCALA</th>\n",
       "      <th>DATAINI</th>\n",
       "      <th>DATAFINE</th>\n",
       "      <th>FKFONTE</th>\n",
       "      <th>FKTIPOELAB</th>\n",
       "      <th>FKCODPUB</th>\n",
       "      <th>NOTE</th>\n",
       "      <th>geometry</th>\n",
       "    </tr>\n",
       "  </thead>\n",
       "  <tbody>\n",
       "    <tr>\n",
       "      <th>43</th>\n",
       "      <td>31708.0</td>\n",
       "      <td>E2A1040781004</td>\n",
       "      <td>LAGO CAVA BELTRAMI I</td>\n",
       "      <td>02</td>\n",
       "      <td>NaN</td>\n",
       "      <td>51</td>\n",
       "      <td>92</td>\n",
       "      <td>02</td>\n",
       "      <td>04</td>\n",
       "      <td>2015-02-11 11:38:24</td>\n",
       "      <td>None</td>\n",
       "      <td>04</td>\n",
       "      <td>01</td>\n",
       "      <td>None</td>\n",
       "      <td>None</td>\n",
       "      <td>POLYGON ((620475.895 5076578.982, 620476.317 5...</td>\n",
       "    </tr>\n",
       "    <tr>\n",
       "      <th>56</th>\n",
       "      <td>31709.0</td>\n",
       "      <td>E2A1040781002</td>\n",
       "      <td>LAGO CAVA BELTRAMI II</td>\n",
       "      <td>02</td>\n",
       "      <td>NaN</td>\n",
       "      <td>51</td>\n",
       "      <td>92</td>\n",
       "      <td>02</td>\n",
       "      <td>04</td>\n",
       "      <td>2015-02-11 11:38:24</td>\n",
       "      <td>None</td>\n",
       "      <td>04</td>\n",
       "      <td>01</td>\n",
       "      <td>None</td>\n",
       "      <td>None</td>\n",
       "      <td>POLYGON ((620388.999 5075888.523, 620387.411 5...</td>\n",
       "    </tr>\n",
       "  </tbody>\n",
       "</table>\n",
       "</div>"
      ],
      "text/plain": [
       "    OBJECTID        CLASSID              NOMESPACQ FKTUSO  PD FKTGENESI  \\\n",
       "43   31708.0  E2A1040781004   LAGO CAVA BELTRAMI I     02 NaN        51   \n",
       "56   31709.0  E2A1040781002  LAGO CAVA BELTRAMI II     02 NaN        51   \n",
       "\n",
       "   FKTREGOLAZ FKTSPECCHI FKSCALA              DATAINI DATAFINE FKFONTE  \\\n",
       "43         92         02      04  2015-02-11 11:38:24     None      04   \n",
       "56         92         02      04  2015-02-11 11:38:24     None      04   \n",
       "\n",
       "   FKTIPOELAB FKCODPUB  NOTE  \\\n",
       "43         01     None  None   \n",
       "56         01     None  None   \n",
       "\n",
       "                                             geometry  \n",
       "43  POLYGON ((620475.895 5076578.982, 620476.317 5...  \n",
       "56  POLYGON ((620388.999 5075888.523, 620387.411 5...  "
      ]
     },
     "execution_count": 73,
     "metadata": {},
     "output_type": "execute_result"
    }
   ],
   "source": [
    "fktuso02.set_crs(epsg=25832,inplace=True,allow_override=True)"
   ]
  },
  {
   "cell_type": "code",
   "execution_count": 74,
   "metadata": {
    "colab": {
     "base_uri": "https://localhost:8080/",
     "height": 147
    },
    "id": "dfDrTAqpdaV3",
    "outputId": "c4285afe-6c3f-4123-8df6-e61c247129b6"
   },
   "outputs": [
    {
     "data": {
      "text/html": [
       "<div>\n",
       "<style scoped>\n",
       "    .dataframe tbody tr th:only-of-type {\n",
       "        vertical-align: middle;\n",
       "    }\n",
       "\n",
       "    .dataframe tbody tr th {\n",
       "        vertical-align: top;\n",
       "    }\n",
       "\n",
       "    .dataframe thead th {\n",
       "        text-align: right;\n",
       "    }\n",
       "</style>\n",
       "<table border=\"1\" class=\"dataframe\">\n",
       "  <thead>\n",
       "    <tr style=\"text-align: right;\">\n",
       "      <th></th>\n",
       "      <th>OBJECTID</th>\n",
       "      <th>CLASSID</th>\n",
       "      <th>NOMESPACQ</th>\n",
       "      <th>FKTUSO</th>\n",
       "      <th>PD</th>\n",
       "      <th>FKTGENESI</th>\n",
       "      <th>FKTREGOLAZ</th>\n",
       "      <th>FKTSPECCHI</th>\n",
       "      <th>FKSCALA</th>\n",
       "      <th>DATAINI</th>\n",
       "      <th>DATAFINE</th>\n",
       "      <th>FKFONTE</th>\n",
       "      <th>FKTIPOELAB</th>\n",
       "      <th>FKCODPUB</th>\n",
       "      <th>NOTE</th>\n",
       "      <th>geometry</th>\n",
       "    </tr>\n",
       "  </thead>\n",
       "  <tbody>\n",
       "    <tr>\n",
       "      <th>43</th>\n",
       "      <td>31708.0</td>\n",
       "      <td>E2A1040781004</td>\n",
       "      <td>LAGO CAVA BELTRAMI I</td>\n",
       "      <td>02</td>\n",
       "      <td>NaN</td>\n",
       "      <td>51</td>\n",
       "      <td>92</td>\n",
       "      <td>02</td>\n",
       "      <td>04</td>\n",
       "      <td>2015-02-11 11:38:24</td>\n",
       "      <td>None</td>\n",
       "      <td>04</td>\n",
       "      <td>01</td>\n",
       "      <td>None</td>\n",
       "      <td>None</td>\n",
       "      <td>POLYGON ((10.55121 45.83224, 10.55122 45.83226...</td>\n",
       "    </tr>\n",
       "    <tr>\n",
       "      <th>56</th>\n",
       "      <td>31709.0</td>\n",
       "      <td>E2A1040781002</td>\n",
       "      <td>LAGO CAVA BELTRAMI II</td>\n",
       "      <td>02</td>\n",
       "      <td>NaN</td>\n",
       "      <td>51</td>\n",
       "      <td>92</td>\n",
       "      <td>02</td>\n",
       "      <td>04</td>\n",
       "      <td>2015-02-11 11:38:24</td>\n",
       "      <td>None</td>\n",
       "      <td>04</td>\n",
       "      <td>01</td>\n",
       "      <td>None</td>\n",
       "      <td>None</td>\n",
       "      <td>POLYGON ((10.54992 45.82605, 10.54990 45.82604...</td>\n",
       "    </tr>\n",
       "  </tbody>\n",
       "</table>\n",
       "</div>"
      ],
      "text/plain": [
       "    OBJECTID        CLASSID              NOMESPACQ FKTUSO  PD FKTGENESI  \\\n",
       "43   31708.0  E2A1040781004   LAGO CAVA BELTRAMI I     02 NaN        51   \n",
       "56   31709.0  E2A1040781002  LAGO CAVA BELTRAMI II     02 NaN        51   \n",
       "\n",
       "   FKTREGOLAZ FKTSPECCHI FKSCALA              DATAINI DATAFINE FKFONTE  \\\n",
       "43         92         02      04  2015-02-11 11:38:24     None      04   \n",
       "56         92         02      04  2015-02-11 11:38:24     None      04   \n",
       "\n",
       "   FKTIPOELAB FKCODPUB  NOTE  \\\n",
       "43         01     None  None   \n",
       "56         01     None  None   \n",
       "\n",
       "                                             geometry  \n",
       "43  POLYGON ((10.55121 45.83224, 10.55122 45.83226...  \n",
       "56  POLYGON ((10.54992 45.82605, 10.54990 45.82604...  "
      ]
     },
     "execution_count": 74,
     "metadata": {},
     "output_type": "execute_result"
    }
   ],
   "source": [
    "fktuso02.to_crs(epsg=4326)"
   ]
  },
  {
   "cell_type": "markdown",
   "metadata": {
    "id": "kviLMJYrduPV"
   },
   "source": [
    "this approach solves the problem but keeps the error in the data source.<br/>\n",
    "Keeping this approach, it is advisable to apply the assignment of the CRS to the initial geodataframe and, if necessary, to export the geodatrafame in ESRi Shapefile (or other format)"
   ]
  },
  {
   "cell_type": "markdown",
   "metadata": {
    "id": "3lHiWvN8dinh"
   },
   "source": [
    "2 - create a file with the name *lakes_bodies_of_water_trentino_use.prj* that contains the right string in WKT for the proj conversion.\n",
    "\n",
    "You can obtain the right file by simple download the right string from epsg.io in this way\n",
    "\n",
    "https://epsg.io/25832.wkt\n",
    "\n",
    "simple by adding .wkt to the url\n",
    "\n",
    "this is the answer\n",
    "\n",
    "``` javascript\n",
    "PROJCS[\"ETRS89 / UTM zone 32N\",\n",
    "    GEOGCS[\"ETRS89\",\n",
    "        DATUM[\"European_Terrestrial_Reference_System_1989\",\n",
    "            SPHEROID[\"GRS 1980\",6378137,298.257222101,\n",
    "                AUTHORITY[\"EPSG\",\"7019\"]],\n",
    "            TOWGS84[0,0,0,0,0,0,0],\n",
    "            AUTHORITY[\"EPSG\",\"6258\"]],\n",
    "        PRIMEM[\"Greenwich\",0,\n",
    "            AUTHORITY[\"EPSG\",\"8901\"]],\n",
    "        UNIT[\"degree\",0.0174532925199433,\n",
    "            AUTHORITY[\"EPSG\",\"9122\"]],\n",
    "        AUTHORITY[\"EPSG\",\"4258\"]],\n",
    "    PROJECTION[\"Transverse_Mercator\"],\n",
    "    PARAMETER[\"latitude_of_origin\",0],\n",
    "    PARAMETER[\"central_meridian\",9],\n",
    "    PARAMETER[\"scale_factor\",0.9996],\n",
    "    PARAMETER[\"false_easting\",500000],\n",
    "    PARAMETER[\"false_northing\",0],\n",
    "    UNIT[\"metre\",1,\n",
    "        AUTHORITY[\"EPSG\",\"9001\"]],\n",
    "    AXIS[\"Easting\",EAST],\n",
    "    AXIS[\"Northing\",NORTH],\n",
    "    AUTHORITY[\"EPSG\",\"25832\"]]\n",
    "```"
   ]
  },
  {
   "cell_type": "code",
   "execution_count": 75,
   "metadata": {
    "id": "y28Nd8wogAs0"
   },
   "outputs": [],
   "source": [
    "url = \"https://epsg.io/25832.wkt\"\n",
    "opener = urllib.request.URLopener()\n",
    "opener.addheader('User-Agent', 'Geospatial Course Unitn')\n",
    "filename, headers = opener.retrieve(url, '25832.prj')"
   ]
  },
  {
   "cell_type": "markdown",
   "metadata": {
    "id": "6eFifaCblvP0"
   },
   "source": [
    ".. it's better create a copy also for the original .shp file"
   ]
  },
  {
   "cell_type": "code",
   "execution_count": 76,
   "metadata": {
    "colab": {
     "base_uri": "https://localhost:8080/",
     "height": 35
    },
    "id": "ELLCXhIjlzUi",
    "outputId": "b2a6609f-fb76-4c57-89ef-1300f0afb57d"
   },
   "outputs": [
    {
     "data": {
      "text/plain": [
       "'ftkuso.prj'"
      ]
     },
     "execution_count": 76,
     "metadata": {},
     "output_type": "execute_result"
    }
   ],
   "source": [
    "copyfile(\"25832.prj\",\"ftkuso.prj\")"
   ]
  },
  {
   "cell_type": "markdown",
   "metadata": {
    "id": "HK6d-eWdl9mo"
   },
   "source": [
    ".. and now it's necessary to recreate the geodataframe and repeat the operations"
   ]
  },
  {
   "cell_type": "code",
   "execution_count": 77,
   "metadata": {
    "id": "HJSJ8V7rmKAe"
   },
   "outputs": [],
   "source": [
    "fktuso = gpd.read_file(\"ftkuso.shp\")"
   ]
  },
  {
   "cell_type": "code",
   "execution_count": 78,
   "metadata": {
    "colab": {
     "base_uri": "https://localhost:8080/"
    },
    "id": "N-KckKK6mU8x",
    "outputId": "4a170140-9eb3-4b3d-f062-af80dd037126"
   },
   "outputs": [
    {
     "data": {
      "text/plain": [
       "<Projected CRS: EPSG:25832>\n",
       "Name: ETRS89 / UTM zone 32N\n",
       "Axis Info [cartesian]:\n",
       "- E[east]: Easting (metre)\n",
       "- N[north]: Northing (metre)\n",
       "Area of Use:\n",
       "- name: Europe between 6°E and 12°E: Austria; Belgium; Denmark - onshore and offshore; Germany - onshore and offshore; Norway including - onshore and offshore; Spain - offshore.\n",
       "- bounds: (6.0, 38.76, 12.01, 84.33)\n",
       "Coordinate Operation:\n",
       "- name: UTM zone 32N\n",
       "- method: Transverse Mercator\n",
       "Datum: European Terrestrial Reference System 1989 ensemble\n",
       "- Ellipsoid: GRS 1980\n",
       "- Prime Meridian: Greenwich"
      ]
     },
     "execution_count": 78,
     "metadata": {},
     "output_type": "execute_result"
    }
   ],
   "source": [
    "fktuso.crs"
   ]
  },
  {
   "cell_type": "markdown",
   "metadata": {
    "id": "KZeS_7HsmZ9b"
   },
   "source": [
    "Now it's ok ;)"
   ]
  },
  {
   "cell_type": "code",
   "execution_count": 79,
   "metadata": {
    "id": "8ejJDNa5l8vF"
   },
   "outputs": [],
   "source": [
    "ftkuso02 = fktuso[fktuso.FKTUSO=='02']"
   ]
  },
  {
   "cell_type": "markdown",
   "metadata": {
    "id": "KbImvB-gmsAn"
   },
   "source": [
    "... and create the geojson file in wgs84"
   ]
  },
  {
   "cell_type": "code",
   "execution_count": 80,
   "metadata": {
    "id": "YCWTzbfBmf9Y"
   },
   "outputs": [],
   "source": [
    "ftkuso02.to_crs(epsg=4326).to_file(\"ftkuso02.kml\",driver=\"KML\")"
   ]
  },
  {
   "cell_type": "markdown",
   "metadata": {
    "id": "_qNEldiIu3i3"
   },
   "source": [
    "... and here the areas over a satellite image\n",
    "\n",
    "![](https://raw.githubusercontent.com/napo/geospatial_course_unitn/master/images/lakesftk20.png)"
   ]
  }
 ],
 "metadata": {
  "colab": {
   "collapsed_sections": [
    "9T1Sft2nHpK8"
   ],
   "provenance": []
  },
  "kernelspec": {
   "display_name": ".venv",
   "language": "python",
   "name": "python3"
  },
  "language_info": {
   "codemirror_mode": {
    "name": "ipython",
    "version": 3
   },
   "file_extension": ".py",
   "mimetype": "text/x-python",
   "name": "python",
   "nbconvert_exporter": "python",
   "pygments_lexer": "ipython3",
   "version": "3.12.7"
  }
 },
 "nbformat": 4,
 "nbformat_minor": 0
}
