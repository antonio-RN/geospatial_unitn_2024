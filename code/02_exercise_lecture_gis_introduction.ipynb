{
  "cells": [
    {
      "cell_type": "markdown",
      "metadata": {
        "id": "T6-YLqx4OCrj"
      },
      "source": [
        "# Setup"
      ]
    },
    {
      "cell_type": "code",
      "execution_count": 1,
      "metadata": {
        "id": "hlP03EfNHGeb",
        "colab": {
          "base_uri": "https://localhost:8080/"
        },
        "outputId": "9637527c-8b43-403e-e3e5-9707611f031b"
      },
      "outputs": [
        {
          "output_type": "stream",
          "name": "stdout",
          "text": [
            "Requirement already satisfied: geopandas==1.0.1 in /usr/local/lib/python3.10/dist-packages (from -r https://napo.github.io/geospatial_unitn_2024/requirements.txt (line 1)) (1.0.1)\n",
            "Collecting mapclassify==2.8.1 (from -r https://napo.github.io/geospatial_unitn_2024/requirements.txt (line 2))\n",
            "  Downloading mapclassify-2.8.1-py3-none-any.whl.metadata (2.8 kB)\n",
            "Requirement already satisfied: matplotlib==3.7.1 in /usr/local/lib/python3.10/dist-packages (from -r https://napo.github.io/geospatial_unitn_2024/requirements.txt (line 3)) (3.7.1)\n",
            "Requirement already satisfied: beautifulsoup4==4.12.3 in /usr/local/lib/python3.10/dist-packages (from -r https://napo.github.io/geospatial_unitn_2024/requirements.txt (line 4)) (4.12.3)\n",
            "Requirement already satisfied: xlrd==2.0.1 in /usr/local/lib/python3.10/dist-packages (from -r https://napo.github.io/geospatial_unitn_2024/requirements.txt (line 5)) (2.0.1)\n",
            "Collecting dms2dec==0.1 (from -r https://napo.github.io/geospatial_unitn_2024/requirements.txt (line 6))\n",
            "  Downloading dms2dec-0.1-py3-none-any.whl.metadata (640 bytes)\n",
            "Requirement already satisfied: numpy>=1.22 in /usr/local/lib/python3.10/dist-packages (from geopandas==1.0.1->-r https://napo.github.io/geospatial_unitn_2024/requirements.txt (line 1)) (1.26.4)\n",
            "Requirement already satisfied: pyogrio>=0.7.2 in /usr/local/lib/python3.10/dist-packages (from geopandas==1.0.1->-r https://napo.github.io/geospatial_unitn_2024/requirements.txt (line 1)) (0.10.0)\n",
            "Requirement already satisfied: packaging in /usr/local/lib/python3.10/dist-packages (from geopandas==1.0.1->-r https://napo.github.io/geospatial_unitn_2024/requirements.txt (line 1)) (24.1)\n",
            "Requirement already satisfied: pandas>=1.4.0 in /usr/local/lib/python3.10/dist-packages (from geopandas==1.0.1->-r https://napo.github.io/geospatial_unitn_2024/requirements.txt (line 1)) (2.2.2)\n",
            "Requirement already satisfied: pyproj>=3.3.0 in /usr/local/lib/python3.10/dist-packages (from geopandas==1.0.1->-r https://napo.github.io/geospatial_unitn_2024/requirements.txt (line 1)) (3.6.1)\n",
            "Requirement already satisfied: shapely>=2.0.0 in /usr/local/lib/python3.10/dist-packages (from geopandas==1.0.1->-r https://napo.github.io/geospatial_unitn_2024/requirements.txt (line 1)) (2.0.6)\n",
            "Requirement already satisfied: networkx>=2.7 in /usr/local/lib/python3.10/dist-packages (from mapclassify==2.8.1->-r https://napo.github.io/geospatial_unitn_2024/requirements.txt (line 2)) (3.3)\n",
            "Requirement already satisfied: scikit-learn>=1.0 in /usr/local/lib/python3.10/dist-packages (from mapclassify==2.8.1->-r https://napo.github.io/geospatial_unitn_2024/requirements.txt (line 2)) (1.5.2)\n",
            "Requirement already satisfied: scipy>=1.8 in /usr/local/lib/python3.10/dist-packages (from mapclassify==2.8.1->-r https://napo.github.io/geospatial_unitn_2024/requirements.txt (line 2)) (1.13.1)\n",
            "Requirement already satisfied: contourpy>=1.0.1 in /usr/local/lib/python3.10/dist-packages (from matplotlib==3.7.1->-r https://napo.github.io/geospatial_unitn_2024/requirements.txt (line 3)) (1.3.0)\n",
            "Requirement already satisfied: cycler>=0.10 in /usr/local/lib/python3.10/dist-packages (from matplotlib==3.7.1->-r https://napo.github.io/geospatial_unitn_2024/requirements.txt (line 3)) (0.12.1)\n",
            "Requirement already satisfied: fonttools>=4.22.0 in /usr/local/lib/python3.10/dist-packages (from matplotlib==3.7.1->-r https://napo.github.io/geospatial_unitn_2024/requirements.txt (line 3)) (4.54.1)\n",
            "Requirement already satisfied: kiwisolver>=1.0.1 in /usr/local/lib/python3.10/dist-packages (from matplotlib==3.7.1->-r https://napo.github.io/geospatial_unitn_2024/requirements.txt (line 3)) (1.4.7)\n",
            "Requirement already satisfied: pillow>=6.2.0 in /usr/local/lib/python3.10/dist-packages (from matplotlib==3.7.1->-r https://napo.github.io/geospatial_unitn_2024/requirements.txt (line 3)) (10.4.0)\n",
            "Requirement already satisfied: pyparsing>=2.3.1 in /usr/local/lib/python3.10/dist-packages (from matplotlib==3.7.1->-r https://napo.github.io/geospatial_unitn_2024/requirements.txt (line 3)) (3.1.4)\n",
            "Requirement already satisfied: python-dateutil>=2.7 in /usr/local/lib/python3.10/dist-packages (from matplotlib==3.7.1->-r https://napo.github.io/geospatial_unitn_2024/requirements.txt (line 3)) (2.8.2)\n",
            "Requirement already satisfied: soupsieve>1.2 in /usr/local/lib/python3.10/dist-packages (from beautifulsoup4==4.12.3->-r https://napo.github.io/geospatial_unitn_2024/requirements.txt (line 4)) (2.6)\n",
            "Requirement already satisfied: pytz>=2020.1 in /usr/local/lib/python3.10/dist-packages (from pandas>=1.4.0->geopandas==1.0.1->-r https://napo.github.io/geospatial_unitn_2024/requirements.txt (line 1)) (2024.2)\n",
            "Requirement already satisfied: tzdata>=2022.7 in /usr/local/lib/python3.10/dist-packages (from pandas>=1.4.0->geopandas==1.0.1->-r https://napo.github.io/geospatial_unitn_2024/requirements.txt (line 1)) (2024.2)\n",
            "Requirement already satisfied: certifi in /usr/local/lib/python3.10/dist-packages (from pyogrio>=0.7.2->geopandas==1.0.1->-r https://napo.github.io/geospatial_unitn_2024/requirements.txt (line 1)) (2024.8.30)\n",
            "Requirement already satisfied: six>=1.5 in /usr/local/lib/python3.10/dist-packages (from python-dateutil>=2.7->matplotlib==3.7.1->-r https://napo.github.io/geospatial_unitn_2024/requirements.txt (line 3)) (1.16.0)\n",
            "Requirement already satisfied: joblib>=1.2.0 in /usr/local/lib/python3.10/dist-packages (from scikit-learn>=1.0->mapclassify==2.8.1->-r https://napo.github.io/geospatial_unitn_2024/requirements.txt (line 2)) (1.4.2)\n",
            "Requirement already satisfied: threadpoolctl>=3.1.0 in /usr/local/lib/python3.10/dist-packages (from scikit-learn>=1.0->mapclassify==2.8.1->-r https://napo.github.io/geospatial_unitn_2024/requirements.txt (line 2)) (3.5.0)\n",
            "Downloading mapclassify-2.8.1-py3-none-any.whl (59 kB)\n",
            "\u001b[2K   \u001b[90m━━━━━━━━━━━━━━━━━━━━━━━━━━━━━━━━━━━━━━━━\u001b[0m \u001b[32m59.1/59.1 kB\u001b[0m \u001b[31m1.8 MB/s\u001b[0m eta \u001b[36m0:00:00\u001b[0m\n",
            "\u001b[?25hDownloading dms2dec-0.1-py3-none-any.whl (3.0 kB)\n",
            "Installing collected packages: dms2dec, mapclassify\n",
            "Successfully installed dms2dec-0.1 mapclassify-2.8.1\n"
          ]
        }
      ],
      "source": [
        "pip install -r https://napo.github.io/geospatial_unitn_2024/requirements.txt"
      ]
    },
    {
      "cell_type": "markdown",
      "metadata": {
        "id": "9T1Sft2nHpK8"
      },
      "source": [
        "# Exercise\n",
        "\n",
        "1. load the shapefile of ISTAT with the information of the provinces\n",
        "  - filter it for the province on Verona\n",
        "  - plot it\n",
        "2. load the shapefile of ISTAT with the informations of the muncipalities\n",
        "  - identify the cities of the province selected with the biggest and smallest area\n",
        "  - extract all the centroids of the areas expressed in WGS84\n",
        "  - extract a representative point for the area of each municipality converted in WGS84\n",
        "  - save the points in a GeoJSON file\n",
        "  - calculate the distance on the geodentic between the municipality with the big area and smallest area by using the centroid\n",
        "3. download the shapefile of the [Mountain Basins Station](https://raw.githubusercontent.com/napo/geospatial_unitn_2024/refs/heads/main/data/idrspacq.zip) of Trentino - projection ETRS89 UTM32N\n",
        "  - plot the geometries where CODE is \"0191\" for the table \"d_tipouso.dbf\"\n",
        "  - convert in WGS84 and create a KML and plot it on a website\n",
        "\n",
        "\n",
        "---"
      ]
    },
    {
      "cell_type": "markdown",
      "metadata": {
        "id": "r2J9dbENPJND"
      },
      "source": [
        "# Solutions\n",
        "\n",
        "## learning objectives\n",
        "* repeat the concepts on the previous lesson\n",
        "* introduce geopackage\n",
        "* centroid vs representative point"
      ]
    },
    {
      "cell_type": "markdown",
      "metadata": {
        "id": "3fk_8ro1RUbo"
      },
      "source": [
        "---\n",
        "\n",
        "### Import of the packages"
      ]
    },
    {
      "cell_type": "code",
      "execution_count": 2,
      "metadata": {
        "id": "bFmuagH7H4lZ"
      },
      "outputs": [],
      "source": [
        "import geopandas as gpd\n",
        "import pandas as pd\n",
        "import os\n",
        "import urllib\n",
        "from matplotlib import pyplot as plt  #to avoid the warning message by plotting the geometries\n",
        "import warnings\n",
        "warnings.simplefilter(\"ignore\")"
      ]
    },
    {
      "cell_type": "markdown",
      "metadata": {
        "id": "kP_05UmNVWWj"
      },
      "source": [
        "## 1. load the shapefile of ISTAT with the information of the provinces\n",
        "\n",
        "### This request is replaced with the use of geopackage\n",
        "\n",
        "In the course material a geopackage file is available with all the shapefiles of the administrative limits of ISTAT (2024) with generalized geometries\n",
        "\n",
        "[download](https://github.com/napo/geospatial_unitn_2024/raw/refs/heads/main/data/istat_administrative_units_generalized_2024.gpkg) the file *istat_administrative_units_generalized_2024.gpkg* from the repository from\n",
        "directory \"data\""
      ]
    },
    {
      "cell_type": "code",
      "execution_count": 3,
      "metadata": {
        "id": "RWje98iX3dTo"
      },
      "outputs": [],
      "source": [
        "url = 'https://github.com/napo/geospatial_unitn_2024/raw/refs/heads/main/data/istat_administrative_units_generalized_2024.gpkg'"
      ]
    },
    {
      "cell_type": "code",
      "execution_count": 4,
      "metadata": {
        "id": "cdHsCvOThs8P",
        "colab": {
          "base_uri": "https://localhost:8080/"
        },
        "outputId": "84422d2f-df91-4fb9-a011-6d202a087682"
      },
      "outputs": [
        {
          "output_type": "execute_result",
          "data": {
            "text/plain": [
              "('istat_administrative_units_generalized_2024.gpkg',\n",
              " <http.client.HTTPMessage at 0x78d819c427a0>)"
            ]
          },
          "metadata": {},
          "execution_count": 4
        }
      ],
      "source": [
        "urllib.request.urlretrieve(url ,\"istat_administrative_units_generalized_2024.gpkg\")"
      ]
    },
    {
      "cell_type": "markdown",
      "metadata": {
        "id": "gNWFco5RSlpo"
      },
      "source": [
        "### Geopackage\n",
        "![](https://www.ogc.org/pub/www/files/blog/Geopackage_layers.png)\n",
        "\n",
        "[GeoPackage](http://opengeospatial.github.io/e-learning/geopackage/text/basic-index.html) is used for storing and accessing:\n",
        "* Vector feature data\n",
        "* Imagery tile matrix sets\n",
        "* Raster map tile matrix sets\n",
        "* non-spatial tabular data\n",
        "* Metadata that describes other stored data\n",
        "\n",
        "\n",
        "![](https://napo.github.io/geospatial_unitn_2024/images/gpkg.png)\n",
        "\n",
        "To have a look at the structure of the files, download the files and open them using the basic SQLite3 command-line utility.\n",
        "\n",
        "```\n",
        "sqlite3 istat_administrative_units_generalized_2024.gpkg\n",
        "```\n",
        "```\n",
        "SQLite version 3.45.1 2024-01-30 16:01:20\n",
        "Enter \".help\" for usage hints.\n",
        "sqlite>.table\n",
        "```\n",
        "```\n",
        "gpkg_contents                     rtree_macroregions_geom_parent  \n",
        "gpkg_extensions                   rtree_macroregions_geom_rowid   \n",
        "gpkg_geometry_columns             rtree_municipalities_geom       \n",
        "gpkg_metadata                     rtree_municipalities_geom_node  \n",
        "gpkg_metadata_reference           rtree_municipalities_geom_parent\n",
        "gpkg_ogr_contents                 rtree_municipalities_geom_rowid\n",
        "gpkg_spatial_ref_sys              rtree_provincies_geom           \n",
        "gpkg_tile_matrix                  rtree_provincies_geom_node      \n",
        "gpkg_tile_matrix_set              rtree_provincies_geom_parent    \n",
        "macroregions                      rtree_provincies_geom_rowid     \n",
        "municipalities                    rtree_regions_geom              \n",
        "provincies                        rtree_regions_geom_node         \n",
        "regions                           rtree_regions_geom_parent       \n",
        "rtree_macroregions_geom           rtree_regions_geom_rowid        \n",
        "rtree_macroregions_geom_node     \n",
        "```\n",
        "```\n",
        "sqlite> .header on\n",
        "```\n",
        "\n",
        "\n",
        "```\n",
        "sqlite> select * from macroregions;\n",
        "```\n",
        "```\n",
        "fid|geom|COD_RIP|DEN_RIP\n",
        "1|GP|1|Nord-ovest\n",
        "2|GP|2|Nord-est\n",
        "3|GP|3|Centro\n",
        "4|GP|4|Sud\n",
        "5|GP|5|Isole\n",
        "```\n",
        "```\n",
        "sqlite> .q\n",
        "```"
      ]
    },
    {
      "cell_type": "markdown",
      "metadata": {
        "id": "gTbuN8zPT7KU"
      },
      "source": [
        "Geopandas can manage geopackage by using [pyogrio](https://pyogrio.readthedocs.io/en/latest/)"
      ]
    },
    {
      "cell_type": "code",
      "execution_count": 5,
      "metadata": {
        "id": "Cf37VTckXGso"
      },
      "outputs": [],
      "source": [
        "from pyogrio import list_drivers\n"
      ]
    },
    {
      "cell_type": "code",
      "execution_count": 6,
      "metadata": {
        "colab": {
          "base_uri": "https://localhost:8080/"
        },
        "id": "igu8jGNSURc8",
        "outputId": "c35207ea-b1c2-4499-8ce2-ede20ce005b1"
      },
      "outputs": [
        {
          "output_type": "execute_result",
          "data": {
            "text/plain": [
              "{'PCIDSK': 'rw',\n",
              " 'PDS4': 'rw',\n",
              " 'VICAR': 'rw',\n",
              " 'PDF': 'rw',\n",
              " 'MBTiles': 'rw',\n",
              " 'EEDA': 'r',\n",
              " 'OGCAPI': 'r',\n",
              " 'ESRI Shapefile': 'rw',\n",
              " 'MapInfo File': 'rw',\n",
              " 'UK .NTF': 'r',\n",
              " 'LVBAG': 'r',\n",
              " 'OGR_SDTS': 'r',\n",
              " 'S57': 'rw',\n",
              " 'DGN': 'rw',\n",
              " 'OGR_VRT': 'r',\n",
              " 'Memory': 'rw',\n",
              " 'CSV': 'rw',\n",
              " 'GML': 'rw',\n",
              " 'GPX': 'rw',\n",
              " 'KML': 'rw',\n",
              " 'GeoJSON': 'rw',\n",
              " 'GeoJSONSeq': 'rw',\n",
              " 'ESRIJSON': 'r',\n",
              " 'TopoJSON': 'r',\n",
              " 'OGR_GMT': 'rw',\n",
              " 'GPKG': 'rw',\n",
              " 'SQLite': 'rw',\n",
              " 'WAsP': 'rw',\n",
              " 'OpenFileGDB': 'rw',\n",
              " 'DXF': 'rw',\n",
              " 'FlatGeobuf': 'rw',\n",
              " 'Geoconcept': 'rw',\n",
              " 'GeoRSS': 'rw',\n",
              " 'VFK': 'r',\n",
              " 'PGDUMP': 'rw',\n",
              " 'OSM': 'r',\n",
              " 'GPSBabel': 'rw',\n",
              " 'OGR_PDS': 'r',\n",
              " 'WFS': 'r',\n",
              " 'OAPIF': 'r',\n",
              " 'EDIGEO': 'r',\n",
              " 'SVG': 'r',\n",
              " 'Idrisi': 'r',\n",
              " 'ODS': 'rw',\n",
              " 'XLSX': 'rw',\n",
              " 'Elasticsearch': 'rw',\n",
              " 'Carto': 'rw',\n",
              " 'AmigoCloud': 'rw',\n",
              " 'SXF': 'r',\n",
              " 'Selafin': 'rw',\n",
              " 'JML': 'rw',\n",
              " 'PLSCENES': 'r',\n",
              " 'CSW': 'r',\n",
              " 'VDV': 'rw',\n",
              " 'MVT': 'rw',\n",
              " 'NGW': 'rw',\n",
              " 'MapML': 'rw',\n",
              " 'GTFS': 'r',\n",
              " 'PMTiles': 'rw',\n",
              " 'JSONFG': 'rw',\n",
              " 'MiraMonVector': 'rw',\n",
              " 'TIGER': 'r',\n",
              " 'AVCBin': 'r',\n",
              " 'AVCE00': 'r',\n",
              " 'HTTP': 'r'}"
            ]
          },
          "metadata": {},
          "execution_count": 6
        }
      ],
      "source": [
        "list_drivers()\n"
      ]
    },
    {
      "cell_type": "markdown",
      "metadata": {
        "id": "zmEbOUq1UXVS"
      },
      "source": [
        "```\n",
        "'GPKG': 'rw',\n",
        "```\n",
        "**rw** => **r**ead **w**rite\n",
        "\n",
        "geopandas can:\n",
        "* **r**ead *geopackage* files\n",
        "* **w**rite data to a *geopackage* file"
      ]
    },
    {
      "cell_type": "markdown",
      "metadata": {
        "id": "NYsMWOMmVM03"
      },
      "source": [
        "geopackage can store more layers, so we have to investigate the contents"
      ]
    },
    {
      "cell_type": "code",
      "source": [
        "from pyogrio import list_layers\n"
      ],
      "metadata": {
        "id": "HQ7pIKajtL3D"
      },
      "execution_count": 7,
      "outputs": []
    },
    {
      "cell_type": "code",
      "execution_count": 8,
      "metadata": {
        "colab": {
          "base_uri": "https://localhost:8080/"
        },
        "id": "wpSZ5tBIXB47",
        "outputId": "ac12bf25-58c0-49a1-aa47-abc3d0ffbff9"
      },
      "outputs": [
        {
          "output_type": "execute_result",
          "data": {
            "text/plain": [
              "array([['macroregions', 'MultiPolygon'],\n",
              "       ['regions', 'MultiPolygon'],\n",
              "       ['provinces', 'MultiPolygon'],\n",
              "       ['municipalities', 'MultiPolygon']], dtype=object)"
            ]
          },
          "metadata": {},
          "execution_count": 8
        }
      ],
      "source": [
        "list_layers('istat_administrative_units_generalized_2024.gpkg')"
      ]
    },
    {
      "cell_type": "code",
      "execution_count": 9,
      "metadata": {
        "id": "a3qnyANlWbyD"
      },
      "outputs": [],
      "source": [
        "provinces = gpd.read_file(\"istat_administrative_units_generalized_2024.gpkg\",layer=\"provinces\")"
      ]
    },
    {
      "cell_type": "markdown",
      "metadata": {
        "id": "oAK_mXvi_4oP"
      },
      "source": [
        "*TIP*: you can also download the file directly from geopandas with this function"
      ]
    },
    {
      "cell_type": "code",
      "execution_count": 10,
      "metadata": {
        "id": "lobH1r9w_tk0"
      },
      "outputs": [],
      "source": [
        "provinces = gpd.read_file(url,layer=\"provinces\")"
      ]
    },
    {
      "cell_type": "code",
      "execution_count": 11,
      "metadata": {
        "colab": {
          "base_uri": "https://localhost:8080/",
          "height": 143
        },
        "id": "gcHUE-7VWqaY",
        "outputId": "932a905e-8177-4b39-d8e2-00d1bf85e47e"
      },
      "outputs": [
        {
          "output_type": "execute_result",
          "data": {
            "text/plain": [
              "   COD_RIP  COD_REG  COD_PROV  COD_CM  COD_UTS  DEN_PROV  DEN_CM   DEN_UTS  \\\n",
              "0        1        1         1     201      201         -  Torino    Torino   \n",
              "1        1        1         2       0        2  Vercelli       -  Vercelli   \n",
              "2        1        1         3       0        3    Novara       -    Novara   \n",
              "\n",
              "  SIGLA             TIPO_UTS  \\\n",
              "0    TO  Città metropolitana   \n",
              "1    VC            Provincia   \n",
              "2    NO            Provincia   \n",
              "\n",
              "                                            geometry  \n",
              "0  MULTIPOLYGON (((411015.294 5049971.205, 411266...  \n",
              "1  MULTIPOLYGON (((438328.706 5087208.167, 439028...  \n",
              "2  MULTIPOLYGON (((460929.541 5076320.297, 461165...  "
            ],
            "text/html": [
              "\n",
              "  <div id=\"df-952ee013-2f3f-4502-b105-85bf13cfb73b\" class=\"colab-df-container\">\n",
              "    <div>\n",
              "<style scoped>\n",
              "    .dataframe tbody tr th:only-of-type {\n",
              "        vertical-align: middle;\n",
              "    }\n",
              "\n",
              "    .dataframe tbody tr th {\n",
              "        vertical-align: top;\n",
              "    }\n",
              "\n",
              "    .dataframe thead th {\n",
              "        text-align: right;\n",
              "    }\n",
              "</style>\n",
              "<table border=\"1\" class=\"dataframe\">\n",
              "  <thead>\n",
              "    <tr style=\"text-align: right;\">\n",
              "      <th></th>\n",
              "      <th>COD_RIP</th>\n",
              "      <th>COD_REG</th>\n",
              "      <th>COD_PROV</th>\n",
              "      <th>COD_CM</th>\n",
              "      <th>COD_UTS</th>\n",
              "      <th>DEN_PROV</th>\n",
              "      <th>DEN_CM</th>\n",
              "      <th>DEN_UTS</th>\n",
              "      <th>SIGLA</th>\n",
              "      <th>TIPO_UTS</th>\n",
              "      <th>geometry</th>\n",
              "    </tr>\n",
              "  </thead>\n",
              "  <tbody>\n",
              "    <tr>\n",
              "      <th>0</th>\n",
              "      <td>1</td>\n",
              "      <td>1</td>\n",
              "      <td>1</td>\n",
              "      <td>201</td>\n",
              "      <td>201</td>\n",
              "      <td>-</td>\n",
              "      <td>Torino</td>\n",
              "      <td>Torino</td>\n",
              "      <td>TO</td>\n",
              "      <td>Città metropolitana</td>\n",
              "      <td>MULTIPOLYGON (((411015.294 5049971.205, 411266...</td>\n",
              "    </tr>\n",
              "    <tr>\n",
              "      <th>1</th>\n",
              "      <td>1</td>\n",
              "      <td>1</td>\n",
              "      <td>2</td>\n",
              "      <td>0</td>\n",
              "      <td>2</td>\n",
              "      <td>Vercelli</td>\n",
              "      <td>-</td>\n",
              "      <td>Vercelli</td>\n",
              "      <td>VC</td>\n",
              "      <td>Provincia</td>\n",
              "      <td>MULTIPOLYGON (((438328.706 5087208.167, 439028...</td>\n",
              "    </tr>\n",
              "    <tr>\n",
              "      <th>2</th>\n",
              "      <td>1</td>\n",
              "      <td>1</td>\n",
              "      <td>3</td>\n",
              "      <td>0</td>\n",
              "      <td>3</td>\n",
              "      <td>Novara</td>\n",
              "      <td>-</td>\n",
              "      <td>Novara</td>\n",
              "      <td>NO</td>\n",
              "      <td>Provincia</td>\n",
              "      <td>MULTIPOLYGON (((460929.541 5076320.297, 461165...</td>\n",
              "    </tr>\n",
              "  </tbody>\n",
              "</table>\n",
              "</div>\n",
              "    <div class=\"colab-df-buttons\">\n",
              "\n",
              "  <div class=\"colab-df-container\">\n",
              "    <button class=\"colab-df-convert\" onclick=\"convertToInteractive('df-952ee013-2f3f-4502-b105-85bf13cfb73b')\"\n",
              "            title=\"Convert this dataframe to an interactive table.\"\n",
              "            style=\"display:none;\">\n",
              "\n",
              "  <svg xmlns=\"http://www.w3.org/2000/svg\" height=\"24px\" viewBox=\"0 -960 960 960\">\n",
              "    <path d=\"M120-120v-720h720v720H120Zm60-500h600v-160H180v160Zm220 220h160v-160H400v160Zm0 220h160v-160H400v160ZM180-400h160v-160H180v160Zm440 0h160v-160H620v160ZM180-180h160v-160H180v160Zm440 0h160v-160H620v160Z\"/>\n",
              "  </svg>\n",
              "    </button>\n",
              "\n",
              "  <style>\n",
              "    .colab-df-container {\n",
              "      display:flex;\n",
              "      gap: 12px;\n",
              "    }\n",
              "\n",
              "    .colab-df-convert {\n",
              "      background-color: #E8F0FE;\n",
              "      border: none;\n",
              "      border-radius: 50%;\n",
              "      cursor: pointer;\n",
              "      display: none;\n",
              "      fill: #1967D2;\n",
              "      height: 32px;\n",
              "      padding: 0 0 0 0;\n",
              "      width: 32px;\n",
              "    }\n",
              "\n",
              "    .colab-df-convert:hover {\n",
              "      background-color: #E2EBFA;\n",
              "      box-shadow: 0px 1px 2px rgba(60, 64, 67, 0.3), 0px 1px 3px 1px rgba(60, 64, 67, 0.15);\n",
              "      fill: #174EA6;\n",
              "    }\n",
              "\n",
              "    .colab-df-buttons div {\n",
              "      margin-bottom: 4px;\n",
              "    }\n",
              "\n",
              "    [theme=dark] .colab-df-convert {\n",
              "      background-color: #3B4455;\n",
              "      fill: #D2E3FC;\n",
              "    }\n",
              "\n",
              "    [theme=dark] .colab-df-convert:hover {\n",
              "      background-color: #434B5C;\n",
              "      box-shadow: 0px 1px 3px 1px rgba(0, 0, 0, 0.15);\n",
              "      filter: drop-shadow(0px 1px 2px rgba(0, 0, 0, 0.3));\n",
              "      fill: #FFFFFF;\n",
              "    }\n",
              "  </style>\n",
              "\n",
              "    <script>\n",
              "      const buttonEl =\n",
              "        document.querySelector('#df-952ee013-2f3f-4502-b105-85bf13cfb73b button.colab-df-convert');\n",
              "      buttonEl.style.display =\n",
              "        google.colab.kernel.accessAllowed ? 'block' : 'none';\n",
              "\n",
              "      async function convertToInteractive(key) {\n",
              "        const element = document.querySelector('#df-952ee013-2f3f-4502-b105-85bf13cfb73b');\n",
              "        const dataTable =\n",
              "          await google.colab.kernel.invokeFunction('convertToInteractive',\n",
              "                                                    [key], {});\n",
              "        if (!dataTable) return;\n",
              "\n",
              "        const docLinkHtml = 'Like what you see? Visit the ' +\n",
              "          '<a target=\"_blank\" href=https://colab.research.google.com/notebooks/data_table.ipynb>data table notebook</a>'\n",
              "          + ' to learn more about interactive tables.';\n",
              "        element.innerHTML = '';\n",
              "        dataTable['output_type'] = 'display_data';\n",
              "        await google.colab.output.renderOutput(dataTable, element);\n",
              "        const docLink = document.createElement('div');\n",
              "        docLink.innerHTML = docLinkHtml;\n",
              "        element.appendChild(docLink);\n",
              "      }\n",
              "    </script>\n",
              "  </div>\n",
              "\n",
              "\n",
              "<div id=\"df-e961246b-c0f6-4151-b1f7-8fe24d6484ae\">\n",
              "  <button class=\"colab-df-quickchart\" onclick=\"quickchart('df-e961246b-c0f6-4151-b1f7-8fe24d6484ae')\"\n",
              "            title=\"Suggest charts\"\n",
              "            style=\"display:none;\">\n",
              "\n",
              "<svg xmlns=\"http://www.w3.org/2000/svg\" height=\"24px\"viewBox=\"0 0 24 24\"\n",
              "     width=\"24px\">\n",
              "    <g>\n",
              "        <path d=\"M19 3H5c-1.1 0-2 .9-2 2v14c0 1.1.9 2 2 2h14c1.1 0 2-.9 2-2V5c0-1.1-.9-2-2-2zM9 17H7v-7h2v7zm4 0h-2V7h2v10zm4 0h-2v-4h2v4z\"/>\n",
              "    </g>\n",
              "</svg>\n",
              "  </button>\n",
              "\n",
              "<style>\n",
              "  .colab-df-quickchart {\n",
              "      --bg-color: #E8F0FE;\n",
              "      --fill-color: #1967D2;\n",
              "      --hover-bg-color: #E2EBFA;\n",
              "      --hover-fill-color: #174EA6;\n",
              "      --disabled-fill-color: #AAA;\n",
              "      --disabled-bg-color: #DDD;\n",
              "  }\n",
              "\n",
              "  [theme=dark] .colab-df-quickchart {\n",
              "      --bg-color: #3B4455;\n",
              "      --fill-color: #D2E3FC;\n",
              "      --hover-bg-color: #434B5C;\n",
              "      --hover-fill-color: #FFFFFF;\n",
              "      --disabled-bg-color: #3B4455;\n",
              "      --disabled-fill-color: #666;\n",
              "  }\n",
              "\n",
              "  .colab-df-quickchart {\n",
              "    background-color: var(--bg-color);\n",
              "    border: none;\n",
              "    border-radius: 50%;\n",
              "    cursor: pointer;\n",
              "    display: none;\n",
              "    fill: var(--fill-color);\n",
              "    height: 32px;\n",
              "    padding: 0;\n",
              "    width: 32px;\n",
              "  }\n",
              "\n",
              "  .colab-df-quickchart:hover {\n",
              "    background-color: var(--hover-bg-color);\n",
              "    box-shadow: 0 1px 2px rgba(60, 64, 67, 0.3), 0 1px 3px 1px rgba(60, 64, 67, 0.15);\n",
              "    fill: var(--button-hover-fill-color);\n",
              "  }\n",
              "\n",
              "  .colab-df-quickchart-complete:disabled,\n",
              "  .colab-df-quickchart-complete:disabled:hover {\n",
              "    background-color: var(--disabled-bg-color);\n",
              "    fill: var(--disabled-fill-color);\n",
              "    box-shadow: none;\n",
              "  }\n",
              "\n",
              "  .colab-df-spinner {\n",
              "    border: 2px solid var(--fill-color);\n",
              "    border-color: transparent;\n",
              "    border-bottom-color: var(--fill-color);\n",
              "    animation:\n",
              "      spin 1s steps(1) infinite;\n",
              "  }\n",
              "\n",
              "  @keyframes spin {\n",
              "    0% {\n",
              "      border-color: transparent;\n",
              "      border-bottom-color: var(--fill-color);\n",
              "      border-left-color: var(--fill-color);\n",
              "    }\n",
              "    20% {\n",
              "      border-color: transparent;\n",
              "      border-left-color: var(--fill-color);\n",
              "      border-top-color: var(--fill-color);\n",
              "    }\n",
              "    30% {\n",
              "      border-color: transparent;\n",
              "      border-left-color: var(--fill-color);\n",
              "      border-top-color: var(--fill-color);\n",
              "      border-right-color: var(--fill-color);\n",
              "    }\n",
              "    40% {\n",
              "      border-color: transparent;\n",
              "      border-right-color: var(--fill-color);\n",
              "      border-top-color: var(--fill-color);\n",
              "    }\n",
              "    60% {\n",
              "      border-color: transparent;\n",
              "      border-right-color: var(--fill-color);\n",
              "    }\n",
              "    80% {\n",
              "      border-color: transparent;\n",
              "      border-right-color: var(--fill-color);\n",
              "      border-bottom-color: var(--fill-color);\n",
              "    }\n",
              "    90% {\n",
              "      border-color: transparent;\n",
              "      border-bottom-color: var(--fill-color);\n",
              "    }\n",
              "  }\n",
              "</style>\n",
              "\n",
              "  <script>\n",
              "    async function quickchart(key) {\n",
              "      const quickchartButtonEl =\n",
              "        document.querySelector('#' + key + ' button');\n",
              "      quickchartButtonEl.disabled = true;  // To prevent multiple clicks.\n",
              "      quickchartButtonEl.classList.add('colab-df-spinner');\n",
              "      try {\n",
              "        const charts = await google.colab.kernel.invokeFunction(\n",
              "            'suggestCharts', [key], {});\n",
              "      } catch (error) {\n",
              "        console.error('Error during call to suggestCharts:', error);\n",
              "      }\n",
              "      quickchartButtonEl.classList.remove('colab-df-spinner');\n",
              "      quickchartButtonEl.classList.add('colab-df-quickchart-complete');\n",
              "    }\n",
              "    (() => {\n",
              "      let quickchartButtonEl =\n",
              "        document.querySelector('#df-e961246b-c0f6-4151-b1f7-8fe24d6484ae button');\n",
              "      quickchartButtonEl.style.display =\n",
              "        google.colab.kernel.accessAllowed ? 'block' : 'none';\n",
              "    })();\n",
              "  </script>\n",
              "</div>\n",
              "\n",
              "    </div>\n",
              "  </div>\n"
            ],
            "application/vnd.google.colaboratory.intrinsic+json": {
              "type": "dataframe",
              "variable_name": "provinces",
              "summary": "{\n  \"name\": \"provinces\",\n  \"rows\": 107,\n  \"fields\": [\n    {\n      \"column\": \"COD_RIP\",\n      \"properties\": {\n        \"dtype\": \"number\",\n        \"std\": 1,\n        \"min\": 1,\n        \"max\": 5,\n        \"num_unique_values\": 5,\n        \"samples\": [\n          2,\n          5,\n          3\n        ],\n        \"semantic_type\": \"\",\n        \"description\": \"\"\n      }\n    },\n    {\n      \"column\": \"COD_REG\",\n      \"properties\": {\n        \"dtype\": \"number\",\n        \"std\": 5,\n        \"min\": 1,\n        \"max\": 20,\n        \"num_unique_values\": 20,\n        \"samples\": [\n          1,\n          18,\n          16\n        ],\n        \"semantic_type\": \"\",\n        \"description\": \"\"\n      }\n    },\n    {\n      \"column\": \"COD_PROV\",\n      \"properties\": {\n        \"dtype\": \"number\",\n        \"std\": 31,\n        \"min\": 1,\n        \"max\": 111,\n        \"num_unique_values\": 107,\n        \"samples\": [\n          77,\n          11,\n          5\n        ],\n        \"semantic_type\": \"\",\n        \"description\": \"\"\n      }\n    },\n    {\n      \"column\": \"COD_CM\",\n      \"properties\": {\n        \"dtype\": \"number\",\n        \"std\": 86,\n        \"min\": 0,\n        \"max\": 292,\n        \"num_unique_values\": 15,\n        \"samples\": [\n          272,\n          282,\n          201\n        ],\n        \"semantic_type\": \"\",\n        \"description\": \"\"\n      }\n    },\n    {\n      \"column\": \"COD_UTS\",\n      \"properties\": {\n        \"dtype\": \"number\",\n        \"std\": 74,\n        \"min\": 2,\n        \"max\": 292,\n        \"num_unique_values\": 107,\n        \"samples\": [\n          77,\n          11,\n          5\n        ],\n        \"semantic_type\": \"\",\n        \"description\": \"\"\n      }\n    },\n    {\n      \"column\": \"DEN_PROV\",\n      \"properties\": {\n        \"dtype\": \"string\",\n        \"num_unique_values\": 94,\n        \"samples\": [\n          \"Massa Carrara\",\n          \"Belluno\",\n          \"Benevento\"\n        ],\n        \"semantic_type\": \"\",\n        \"description\": \"\"\n      }\n    },\n    {\n      \"column\": \"DEN_CM\",\n      \"properties\": {\n        \"dtype\": \"category\",\n        \"num_unique_values\": 15,\n        \"samples\": [\n          \"Bari\",\n          \"Palermo\",\n          \"Torino\"\n        ],\n        \"semantic_type\": \"\",\n        \"description\": \"\"\n      }\n    },\n    {\n      \"column\": \"DEN_UTS\",\n      \"properties\": {\n        \"dtype\": \"string\",\n        \"num_unique_values\": 107,\n        \"samples\": [\n          \"Matera\",\n          \"La Spezia\",\n          \"Asti\"\n        ],\n        \"semantic_type\": \"\",\n        \"description\": \"\"\n      }\n    },\n    {\n      \"column\": \"SIGLA\",\n      \"properties\": {\n        \"dtype\": \"string\",\n        \"num_unique_values\": 107,\n        \"samples\": [\n          \"MT\",\n          \"SP\",\n          \"AT\"\n        ],\n        \"semantic_type\": \"\",\n        \"description\": \"\"\n      }\n    },\n    {\n      \"column\": \"TIPO_UTS\",\n      \"properties\": {\n        \"dtype\": \"category\",\n        \"num_unique_values\": 5,\n        \"samples\": [\n          \"Provincia\",\n          \"Libero consorzio di comuni\",\n          \"Provincia autonoma\"\n        ],\n        \"semantic_type\": \"\",\n        \"description\": \"\"\n      }\n    },\n    {\n      \"column\": \"geometry\",\n      \"properties\": {\n        \"dtype\": \"geometry\",\n        \"num_unique_values\": 107,\n        \"samples\": [\n          \"MULTIPOLYGON (((1090626.1661999999 4523008.7662, 1090466.1661 4522140.7741, 1090460.9161 4522068.774800001, 1090444.4156 4521733.7776999995, 1090445.5405000001 4521631.2786, 1090454.9153000005 4521557.779200001, 1090681.9105000002 4519945.793, 1090738.0346 4519703.295, 1090850.2835 4519609.795600001, 1090943.4074999997 4519497.796499999, 1090981.0321000004 4519442.2969, 1091074.4057 4519124.2995, 1091074.5296999998 4518505.3049, 1090644.7830999997 4518339.8071, 1090634.3979000002 4518339.871300001, 1090402.2852999996 4518341.307499999, 1090380.7855000002 4518346.307499999, 1089119.4221 4518685.806600001, 1089096.5472999997 4518694.306600001, 1088505.3030000003 4519003.6799, 1088311.6799999997 4519193.3036, 1088289.4302000003 4519221.303300001, 1088273.1804 4519249.803099999, 1088256.6807000004 4519315.8026, 1088248.0558000002 4519354.802200001, 1088175.682 4519687.7995, 1088134.7290000003 4520060.1631000005, 1088125.0585000003 4520338.2938, 1087646.3302999996 4521179.8368999995, 1087185.3191999998 4521792.2827, 1087608.9413 4522306.2775, 1087703.3158999998 4522502.775599999, 1087749.8156000003 4522598.774700001, 1088058.6885000002 4522964.271, 1088121.0631 4523032.270300001, 1088235.4371999996 4523064.7698, 1088403.5608 4523102.769200001, 1088515.4348 4523121.2688, 1088646.3087 4523121.2686, 1089206.8033999996 4522915.7695, 1089561.5503000002 4522897.268999999, 1089816.9231000002 4522890.7686, 1089879.0476000002 4522915.768300001, 1090161.0454000002 4523056.7666, 1090192.1700999998 4523074.2664, 1090384.2937000003 4523202.265000001, 1090433.9183 4523246.7645, 1090457.9181000004 4523270.2642, 1090626.1661999999 4523008.7662)), ((1145710.17 4539503.5253, 1145417.8441000003 4539372.027000001, 1145403.2732999995 4539373.6174, 1145322.6732 4539383.0271000005, 1144852.9275000002 4539520.026799999, 1144777.1782 4539551.026699999, 1144671.4292000001 4539595.0265, 1144669.8125 4539613.833699999, 1144666.0268 4539662.044399999, 1145085.5979000004 4539827.023600001, 1145396.4233999997 4539876.522600001, 1145691.6706999997 4539803.522700001, 1145723.9527000003 4539764.5737, 1145737.6701999996 4539748.0231, 1145744.92 4539686.023600001, 1145710.17 4539503.5253)), ((1111635.2732999995 4545664.783600001, 1111930.0191000002 4545074.6624, 1112082.767 4544582.6664, 1112119.8447000002 4544526.6668, 1112198.5157000003 4544452.667400001, 1112303.5928999996 4544372.1679, 1112404.0919000003 4544299.668299999, 1112514.3408000004 4544235.6687, 1112725.0105999997 4544102.169500001, 1113214.0839 4543753.171700001, 1113284.755 4543690.6721, 1113685.0787000004 4543096.6765, 1113791.0774999997 4542932.1778, 1113836.8269999996 4542856.678400001, 1113989.9033000004 4542577.180500001, 1114137.3235 4542334.682399999, 1114183.3229999999 4542298.682600001, 1114532.3978000004 4542153.1832, 1114725.1459999997 4542074.183599999, 1114972.0656000003 4541970.1841, 1115266.8909 4541841.184699999, 1115922.6347000003 4541531.1862, 1116083.1331000002 4541436.186899999, 1116149.3043999998 4541396.687100001, 1117277.6446000002 4540702.1238, 1117564.6187000005 4540511.192299999, 1119195.3512000004 4538669.2053, 1120569.7585000005 4537089.716700001, 1120630.7577999998 4537022.7172, 1120744.3348000003 4536949.717599999, 1121086.5816000002 4536839.218, 1121739.8255000003 4536575.2192, 1122113.4939000001 4536415.720000001, 1122833.4088000003 4536080.2214, 1123337.7320999997 4535832.2227, 1123423.9813 4535776.722999999, 1123830.7270999998 4535401.725500001, 1123899.1482999995 4535329.726, 1123956.4758000001 4535267.226500001, 1124271.972 4534693.731000001, 1124493.6412000004 4534235.7346, 1125206.2105999999 4532861.745200001, 1125249.4600999998 4532793.2457, 1125305.8814000003 4532734.746099999, 1125367.7280000001 4532695.8992, 1126572.5221999995 4532177.4015, 1127109.3218999999 4532236.582699999, 1127924.4636000004 4532528.5964, 1127960.2801 4532619.2424, 1128005.0297999997 4532712.7415, 1128073.6075999998 4532830.2403, 1128206.8568000002 4533029.738399999, 1128283.8563 4533126.737400001, 1128364.5275999997 4533182.7368, 1128864.2737999996 4533471.7333, 1128967.5229000002 4533508.232799999, 1129616.2685000002 4534166.7259, 1129811.6804 4534413.8068, 1129828.5198999997 4534430.304500001, 1129919.3446000004 4534519.2223000005, 1130384.8414000003 4534965.717599999, 1130430.8406999996 4534974.606799999, 1130441.7627999997 4534976.7173999995, 1130545.2619000003 4535010.2169, 1131814.0817999998 4536535.701400001, 1131879.3313999996 4536626.7005, 1132222.0795999998 4537294.694, 1132300.0011 4537451.192500001, 1132424.6511000004 4537783.257999999, 1132759.8272000002 4538510.682600001, 1133025.7142000003 4539079.1865, 1133377.5181 4539523.547700001, 1133530.3689000001 4539356.048900001, 1134086.8627000004 4538584.5547, 1134638.1853 4538168.0572, 1134690.7443000004 4538211.8166000005, 1134693.9304 4538214.2404, 1134700.1081999997 4538216.532299999, 1134740.6064999998 4538231.556399999, 1135346.1787 4537919.5581, 1135468.0990000004 4537641.0603, 1135475.3488999996 4537609.0605, 1135481.0987999998 4537568.560900001, 1135468.1769000003 4537537.0612, 1135366.6774000004 4537313.5633000005, 1135685.1736000003 4536723.5678, 1136910.1610000003 4535650.074899999, 1137145.3310000002 4535699.574100001, 1137302.9078000002 4535737.5735, 1137361.4073 4535752.0732, 1136943.3360000001 4537497.558800001, 1136920.3147999998 4537540.2797, 1136479.1684999997 4537699.5579, 1136130.7265999997 4537784.4914, 1136109.9217999997 4537783.0579, 1136096.9221 4537840.557399999, 1136267.8200000003 4538338.6205, 1136297.0932 4538401.052100001, 1136320.9211999997 4538450.0517, 1136413.5926 4538625.550000001, 1136494.3421 4538741.048900001, 1137025.5883 4539172.0441, 1137163.5872 4539230.043400001, 1137775.6604000004 4539424.0406, 1137936.659 4539398.0405, 1138032.8299000002 4539332.040899999, 1138302.1552999998 4539120.042199999, 1138607.4014999997 4538490.5471, 1138632.5730999997 4538431.547499999, 1138647.0728000002 4538382.047900001, 1138645.8228000002 4538328.0484, 1138643.4128 4538312.0163, 1138636.5727000004 4538270.548900001, 1138608.8228000002 4538192.549699999, 1138596.4447999997 4538167.7939, 1138576.8229999999 4538128.5503, 1138557.6155000003 4538072.8474, 1138556.6512000002 4538070.050799999, 1138556.8601000002 4538055.2115, 1138557.1511000004 4538034.551100001, 1138574.1508999998 4537991.5515, 1138886.5691 4537477.055400001, 1139242.5656000003 4537221.5569, 1139280.0652 4537218.0569, 1139655.062 4537227.0561999995, 1140074.8876 4537830.0502, 1140055.8877999997 4537873.049900001, 1140038.6380000003 4537904.049699999, 1139862.1399999997 4538170.547700001, 1139614.6426999997 4538460.045600001, 1139329.6454999996 4538619.5447, 1139289.6459 4538646.044600001, 1139230.8184000002 4538696.544199999, 1139203.0686999997 4538727.5439, 1139078.3201000001 4538907.5427, 1139026.0707 4539008.5419, 1139021.1579999998 4539050.546599999, 1139018.1490000002 4539078.541300001, 1139023.3991 4539134.5408, 1139280.6479000002 4539700.0353999995, 1139586.3959999997 4540145.0309999995, 1139700.6452000001 4540211.030200001, 1139960.0648999996 4540248.0294, 1140009.1426 4540250.5293000005, 1140039.1421999997 4540196.0297, 1140072.0636999998 4540099.0305, 1140509.3881 4540168.029100001, 1140844.0849000001 4539694.218800001, 1141644.3767 4539336.5342999995, 1142511.0592999998 4539152.0101, 1143698.4374000002 4539493.029100001, 1143739.6089000003 4539495.029100001, 1144598.1014999999 4539520.5273, 1145110.5965999998 4539288.0283, 1145123.1759000001 4539281.051999999, 1145155.6744 4539263.0285, 1145545.1701999996 4538827.5315000005, 1146412.1623 4538597.0319, 1146450.1618999997 4538542.032299999, 1146422.9118 4538397.0337000005, 1146415.0547000002 4538386.0765, 1146316.1624999996 4538249.0351, 1146146.6633000001 4537916.0383, 1146460.4102999996 4537749.0392, 1147187.1542999996 4537872.536800001, 1147187.4532000003 4537876.794600001, 1147187.5927 4537881.293099999, 1147188.6076999996 4537914.0326000005, 1147190.1571000004 4537964.032, 1147191.7057999996 4538014.0315000005, 1147193.2536000004 4538064.0309, 1147194.8003000002 4538114.0305, 1147196.3458000002 4538164.030099999, 1147197.8898999998 4538214.0296, 1147199.1549000004 4538255.033500001, 1147225.2032000003 4539224.025, 1147712.7134999996 4538617.1543000005, 1147860.9631000003 4538437.2733, 1148071.7799000004 4538214.9695999995, 1148134.1560000004 4538164.092, 1148159.2087000003 4538143.6576000005, 1148215.7385 4538109.4682, 1148232.7861000001 4538099.1578, 1148545.9495 4537915.034, 1148608.2825999996 4537883.1591, 1151565.5360000003 4536380.636299999, 1151965.7004000004 4536179.9373, 1152403.3776000002 4535964.132200001, 1152772.4057999998 4535788.369000001, 1152659.5917999996 4535670.445699999, 1152529.2903000005 4535563.545700001, 1152445.7614000002 4535495.0407, 1152235.6935 4535322.9333, 1151485.6040000003 4534732.5459, 1151444.1279999996 4534790.102299999, 1151459.1857000003 4534860.1653, 1151465.5723 4534889.881999999, 1151461.8543999996 4535006.8137, 1151070.5829999996 4535348.344699999, 1150593.4781 4534579.430199999, 1150569.2291 4534536.432499999, 1150508.5295000002 4534423.433700001, 1150496.9677 4534388.4923, 1150478.8742000004 4534329.0583999995, 1150495.5687999995 4534271.3202, 1152217.3060999997 4532994.2094, 1152352.2551999995 4533027.703199999, 1152650.9560000002 4533029.567299999, 1153216.9392 4532976.445900001, 1153200.8257 4532175.3016, 1153199.3502000002 4532101.943600001, 1153192.1179 4531766.9103999995, 1152651.1937999995 4528524.49, 1152493.6157 4527722.9933, 1152437.1342000002 4527534.005100001, 1152331.9611999998 4527070.010600001, 1152311.3578000003 4526916.4999, 1152298.3923000004 4526809.984999999, 1152291.9436999997 4526757.007200001, 1152285.722 4526672.0525, 1152301.4170000004 4526573.5704, 1152579.2061 4525169.075200001, 1152662.7604999999 4524843.604499999, 1152696.5976999998 4524781.515699999, 1153449.8393 4523813.522700001, 1153787.5855999999 4523400.525699999, 1153915.6013000002 4523339.8266, 1153934.3647999996 4523331.868000001, 1153942.9956999999 4523328.2073, 1153952.8493 4523324.028100001, 1153983.9689999996 4523312.547, 1154023.6309000002 4523307.0823, 1154160.8335999995 4523318.513599999, 1154144.5658 4523295.6173, 1154121.3017999995 4523263.043400001, 1154053.5654999996 4523180.0145, 1153387.1699 4522378.294199999, 1152848.2145999996 4522240.3715, 1153245.0713999998 4521647.5419, 1153360.2412 4521099.546499999, 1153101.2413999997 4519986.056600001, 1153072.9913999997 4519867.057700001, 1153043.676 4519770.336200001, 1153033.7414999995 4519737.559, 1152938.0555999996 4519482.9507, 1152860.7378000002 4519314.205399999, 1152789.0706000002 4519071.065300001, 1152670.2249999996 4518108.326400001, 1152674.7413999997 4517992.574899999, 1152749.8179000001 4517455.579399999, 1152783.4212999996 4517414.1017, 1152825.3645000001 4517362.3301, 1152865.5230999999 4517335.807399999, 1152953.3157000002 4517278.080499999, 1152965.6194000002 4517278.8114, 1152991.2835 4517280.360400001, 1153062.7366000004 4517284.5803, 1153115.5724 4517270.4583, 1153137.6835000003 4517264.4969999995, 1153165.5141000003 4517245.0725, 1153208.6519999998 4517214.914000001, 1153551.5598999998 4516941.0825, 1153565.4891999997 4516927.100400001, 1153683.5585000003 4516808.5834, 1154424.0505 4516029.0887, 1154449.6634999998 4515988.2893, 1154480.5499999998 4515939.089500001, 1154465.6279999996 4515863.5901999995, 1154459.8841000004 4515857.3347, 1154394.3783999998 4515786.0909, 1154163.3269999996 4515328.772500001, 1153868.0528999995 4514732.6011, 1153864.1405999996 4514670.4662999995, 1153862.8148999996 4514647.8102, 1154590.0447000004 4513723.6086, 1154673.4656999996 4513638.609200001, 1154718.386 4513615.581700001, 1154731.6075999998 4513608.819599999, 1154767.2928999998 4513590.6094, 1155269.2883000001 4513465.6096, 1155387.5373 4513447.6095, 1155489.2083 4513449.609300001, 1155587.2942000004 4513467.3641, 1155602.4573 4513470.108899999, 1155605.7805000003 4513469.1175, 1155687.9369 4513443.049799999, 1155713.7062999997 4513434.609099999, 1155819.2018 4512985.9757, 1155865.6683999998 4512669.991800001, 1155865.7817000002 4512664.240599999, 1155865.7813999997 4512536.616599999, 1155804.8798000002 4512351.4964000005, 1155765.2701000003 4512244.3682, 1155570.9544000002 4511766.6239, 1155530.5393000003 4511690.0561, 1155515.4593000002 4511664.3837, 1155501.6766 4511646.6119, 1155461.7830999997 4511595.125600001, 1155454.4392 4511584.416999999, 1155448.9937000005 4511576.4745000005, 1155393.2081000004 4511494.675899999, 1155387.2539999997 4511484.2184999995, 1155327.6432999996 4511379.252699999, 1155181.1469 4511116.318, 1154636.0374999996 4510014.141100001, 1154629.1914 4509994.1983, 1154626.9733999996 4509987.737199999, 1154601.7094 4509914.141899999, 1154670.7084 4509742.643300001, 1154709.9579999996 4509670.6439, 1156092.2719 4508534.6513, 1156821.6868000003 4508236.6526, 1156915.5142 4508231.1524, 1157048.2630000003 4508246.1521000005, 1157072.1846000003 4508251.152000001, 1157104.0126 4508259.151799999, 1157186.2619000003 4508290.1514, 1157270.1830000002 4508323.651000001, 1157289.3877999997 4508335.259199999, 1157298.8772 4508340.9979, 1157716.7581000002 4508705.1469, 1157828.9288999997 4508721.646500001, 1157875.2566999998 4508721.646400001, 1157902.5065000001 4508712.646400001, 1157904.9282 4508687.6467, 1157837.1780000003 4508285.1503, 1157815.0064000003 4508258.150599999, 1158171.4249 4508164.650699999, 1158717.6700999998 4508164.149499999, 1159420.7421000004 4508209.1478, 1159751.9892999995 4508265.1467, 1160376.4856000002 4508348.611300001, 1160991.4005000005 4508299.144099999, 1161398.9747000001 4508142.6446, 1161462.9456000002 4508117.4604, 1161472.4741000002 4508113.6448, 1161902.8916999996 4507875.146, 1161909.3756 4507868.659600001, 1161958.3910999997 4507815.146500001, 1161961.7954000002 4507810.735200001, 1162018.9686000003 4507736.6471, 1162074.6398 4507663.147700001, 1162542.1342000002 4506850.6537999995, 1162581.403 4506776.7687, 1162590.7116999999 4506759.1545, 1162630.1327999998 4506564.656099999, 1162634.9607999995 4506495.6567, 1162567.6330000004 4506359.1581, 1162552.9610000001 4506219.6592999995, 1162615.6311999997 4505658.164100001, 1162692.0459000003 4505264.256100001, 1162701.7100999998 4505215.680400001, 1162767.4572 4505218.1677, 1162786.7544 4505219.872199999, 1162846.7065000003 4505225.1675, 1162880.2591000004 4505214.6346, 1162940.3775000004 4505195.6676, 1162990.6270000003 4505165.6677, 1163168.7033000002 4505024.6686, 1163251.9523999998 4504956.6691, 1163303.8738000002 4504904.169399999, 1163329.3655000003 4504851.5832, 1163549.4485999998 4504331.674000001, 1164050.3339 4503814.5526, 1165169.7564000003 4502900.4738, 1165172.1738 4502898.7918, 1165259.1810999997 4502917.1833, 1165269.4988000002 4502945.989600001, 1165296.4309 4503021.1822999995, 1165300.1551 4503043.9734000005, 1165309.9309999999 4503103.681500001, 1165375.6023000004 4503143.681, 1165450.6709000003 4503178.2541000005, 1165465.5022999998 4503185.0847, 1165492.8514 4503197.680299999, 1165519.5900999997 4503199.493100001, 1165596.1004999997 4503204.6800999995, 1165611.5499999998 4503201.246300001, 1165697.4277 4503181.6800999995, 1165715.1659000004 4503175.819800001, 1165765.4237000002 4503158.6877, 1165815.4123 4503141.2006, 1165907.0104999999 4503104.177100001, 1165912.6756999996 4503101.680400001, 1166014.9247000003 4503049.180600001, 1166045.7418 4503020.6819, 1166104.0955999997 4502966.6811999995, 1166117.3657999998 4502943.4672, 1166159.3449 4502869.6819, 1166154.7869999995 4502808.477700001, 1166152.3509 4502776.1448, 1166115.1730000004 4502687.183599999, 1166112.4228999997 4502625.6842, 1166111.1727999998 4502537.6850000005, 1166152.0942000002 4502457.1855999995, 1166336.6700999998 4502171.6876, 1166450.6689 4502026.1888, 1166525.4182000002 4501989.688999999, 1167301.8332000002 4501982.1875, 1167903.3274999997 4501758.6883000005, 1167924.1429000003 4501716.2063, 1167961.2019999996 4501738.5638, 1167966.9314000001 4501704.5513, 1167921.2977 4501576.748500001, 1167297.9063999997 4500119.619200001, 1167042.0811 4499590.9595, 1165380.3543999996 4496363.579399999, 1165083.7158000004 4495842.1207, 1164706.9678999996 4495190.6272, 1164342.4507 4494592.8857, 1163655.3550000004 4493184.3917, 1163176.4699 4492399.738, 1162908.0303999996 4491947.2798999995, 1162115.4664000003 4490605.4219, 1161994.8162000002 4490359.6764, 1161950.3661000002 4490262.8387, 1161856.7034 4490050.113299999, 1161770.7407999998 4489848.4958999995, 1161700.4836999997 4489648.5568, 1161640.9837999996 4489426.058800001, 1161589.8590000002 4489282.4352, 1161525.4841999998 4489113.561799999, 1161348.3563 4488675.192, 1161230.2385999998 4488415.5383, 1161166.9856000002 4488151.821, 1161093.1144000003 4487926.034, 1160510.3945000004 4486398.017899999, 1160208.7688999996 4485670.941500001, 1160023.8296999997 4485323.7522, 1159819.8306 4484820.304300001, 1159637.2676999997 4484341.407500001, 1159260.0569000002 4482829.1215, 1158829.2466000002 4481291.9728999995, 1158769.2128999997 4480766.561799999, 1158796.3926999997 4480130.1195, 1158752.4912999999 4479945.148399999, 1158685.6764000002 4479938.559800001, 1158546.8827 4479453.1151, 1157938.1854999997 4478234.754899999, 1157119.563 4476833.836300001, 1156973.5126999998 4476568.723200001, 1156626.0606000004 4475907.4383000005, 1156524.4604000002 4475710.5879, 1156082.0762 4474811.002800001, 1155912.7424999997 4474434.235400001, 1155530.1152 4473566.1065, 1155205.0739000002 4472943.0953, 1154947.1870999997 4472504.9109000005, 1154431.1661 4471888.728599999, 1154309.4574999996 4471751.145, 1153423.3022999996 4470810.825999999, 1153247.4686000003 4470628.1712, 1153185.2180000003 4470563.5057, 1152413.0278000003 4469688.0011, 1152005.2805000003 4469202.381200001, 1151799.1568999998 4468980.7586, 1151672.0206000004 4469071.7228999995, 1151285.8998999996 4469403.225, 1150195.2865000004 4470141.228, 1150114.6619999995 4470171.727399999, 1149650.1607 4470336.7195, 1149590.5360000003 4470354.7194, 1149544.1606 4470339.7190000005, 1149294.2858999996 4470237.218, 1149146.4110000003 4470144.2193, 1149021.4389000004 4470068.8824000005, 1148800.0542000001 4469944.734099999, 1148776.4452 4469933.609200001, 1148757.4119999995 4469924.7202, 1148704.6623999998 4469916.7206, 1148115.7117999997 4469926.2217, 1148075.9622999998 4469932.721899999, 1148070.8158 4469933.8879, 1148018.5880000005 4469945.7214, 1147843.2829 4469992.1873, 1147678.3394 4470046.7215, 1147561.4655 4470093.2213, 1147513.7155 4470113.220799999, 1147294.9671 4470174.7212000005, 1147042.8436000003 4470210.2206, 1146713.1244 4470214.0896000005, 1146533.9708000002 4470168.2225, 1146062.7598 4469839.6526999995, 1145730.8879000004 4469549.734200001, 1145533.7238999996 4469383.2313, 1145495.3438 4469369.7204, 1145478.1220000004 4469369.725299999, 1145429.8498999998 4469370.2314, 1145190.7258000001 4469391.231699999, 1145031.1021999996 4469442.7312, 1144992.9774000002 4469485.730799999, 1144972.1025 4469508.2312, 1144941.6025999999 4469529.730900001, 1144912.3530000001 4469545.7305, 1144757.4792999998 4469629.7304, 1144697.0943999998 4469655.735200001, 1144688.9792999998 4469659.229900001, 1144642.6507 4469669.895300001, 1144636.8476 4469671.229900001, 1144570.1047999999 4469674.729599999, 1143971.9825999998 4469464.7327, 1142550.1130999997 4468599.7432, 1141964.3114 4468132.736199999, 1140836.2490999997 4469232.7411, 1140586.1915999996 4469205.724400001, 1139555.5096000005 4469249.6601, 1139122.1326000001 4468792.170700001, 1139090.6327 4468766.6711, 1138882.6328999996 4468652.670700001, 1138766.7597000003 4468657.172499999, 1138216.1365999999 4468756.671499999, 1138196.9844000004 4468761.1877, 1138158.8872999996 4468770.171499999, 1138105.8876999998 4468793.671700001, 1138054.7627999997 4468817.1712, 1138004.8882999998 4468843.170700001, 1137987.5698999995 4468855.1975, 1137950.9155000001 4468880.6524, 1137893.7637999998 4468936.170700001, 1137877.4385000002 4468956.987299999, 1137485.0166999996 4469155.1686, 1136897.8956000004 4469436.6676, 1136846.0209 4469460.1678, 1136759.0212000003 4469480.668099999, 1136185.6495000003 4469468.668099999, 1135149.3269999996 4469425.670399999, 1135114.8271000003 4469412.170399999, 1135077.8268999998 4469395.670299999, 1135033.4639999997 4469374.285800001, 1135029.0771000003 4469372.1711, 1134483.9561 4469094.6764, 1134432.4561 4469062.6768, 1133679.6594000002 4468541.3390999995, 1133407.9604000002 4469026.6766, 1132714.3415 4469852.6708, 1132430.7131000003 4470218.1636, 1132392.2187 4470016.169199999, 1132387.9863999998 4469988.884199999, 1132440.4665 4469347.675100001, 1132471.8707999997 4469007.8423999995, 1132486.0905 4468959.1787, 1132494.2152000004 4468914.1797, 1132498.3399 4468806.6800999995, 1132497.0899 4468675.681, 1132491.8402000004 4468605.6821, 1132480.1908999998 4468539.6379, 1132472.7571999999 4468497.558, 1132433.2719999999 4468389.639699999, 1132422.4771999996 4468360.5536, 1132413.3760000002 4468339.6402, 1132406.2145999996 4468323.1844, 1132351.7144 4468209.6855, 1132334.3394 4468183.186000001, 1132308.7148000002 4468156.186000001, 1132221.915 4468090.350199999, 1132172.4813 4468059.031400001, 1132085.4707000004 4468007.192, 1131713.2177 4467821.690199999, 1131657.0702999998 4467787.715399999, 1131624.8431000002 4467729.191199999, 1131610.6465999996 4467639.647500001, 1131608.5927 4467626.6921, 1131607.2556999996 4467589.647600001, 1131606.8422999997 4467578.193, 1131923.3393 4466690.003799999, 1131940.9633999998 4466647.2005, 1131945.3660000004 4466639.6532000005, 1131968.0883999998 4466600.7009, 1132022.4757000003 4466517.433499999, 1132041.0392000005 4466489.6537999995, 1132125.9619000005 4466366.7027, 1132192.6421999997 4465089.6686, 1132134.9578 4464318.720899999, 1132131.3328 4464227.7214, 1132131.4576000003 4464182.7224, 1132136.3321000002 4464124.7223000005, 1132148.2074999996 4464084.222999999, 1132170.8320000004 4464046.223099999, 1132377.6557999998 4463753.4199, 1132446.204 4463563.727399999, 1132433.5788000003 4463139.730599999, 1132425.0783000002 4463099.7312, 1132415.8938999996 4463080.957, 1132402.0787000004 4463052.731799999, 1132200.5789 4462742.2344, 1132039.9541999996 4462513.7369, 1132035.4023000002 4462507.3542, 1132028.4560000002 4462497.6141, 1132006.0791999996 4462466.2377, 1131976.5795999998 4462426.7382, 1131938.3295999998 4462379.2382, 1131910.4546999997 4462346.738600001, 1131866.0795 4462271.239499999, 1131836.9661999997 4462213.234300001, 1131679.8295999998 4461691.745100001, 1131523.4540999997 4461029.7513999995, 1131504.3351999996 4460477.758300001, 1131329.7982 4460245.352, 1131072.9496999998 4460323.3741, 1130486.9552999996 4460516.373400001, 1130306.7070000004 4460589.8730999995, 1130157.0835999995 4460731.872099999, 1130146.9918999998 4460741.6205, 1130120.3339999998 4460767.3718, 1130050.8348000003 4460842.371300001, 1130027.21 4460881.870999999, 1129999.8354000002 4460928.3706, 1129980.4605999999 4460962.3704, 1129966.2107999995 4460991.870100001, 1129694.0895999996 4461753.8638, 1129643.0903000003 4461910.362500001, 1129616.9659000002 4462088.861, 1129612.341 4462126.8606, 1129614.7160999998 4462198.359999999, 1129621.0911999997 4462252.3595, 1129710.8301999997 4462986.444399999, 1128802.5987999998 4462442.359300001, 1128783.4738999996 4462423.8595, 1128766.5990000004 4462406.8597, 1128451.8509 4461892.864800001, 1128401.1013000002 4461886.24, 1128358.9767000005 4461881.7401, 1128308.8520999998 4461878.2402, 1128145.4786 4461867.240599999, 1128117.8537999997 4461873.240599999, 1128089.1041 4461881.240599999, 1128081.7292 4461901.2404, 1128238.6036999999 4462378.7359, 1128557.2275 4463281.727299999, 1128779.4765999997 4463879.7215, 1128798.1014999999 4463915.2212000005, 1128822.2263000002 4463935.221000001, 1128104.858 4464084.720899999, 1127822.7346 4463582.2259, 1127626.9863999998 4463664.725500001, 1127512.9874999998 4463713.225299999, 1127395.1136999996 4463773.725, 1127305.9896 4463851.2245000005, 1127627.1127000004 4464375.7192, 1128429.6076999996 4465505.707699999, 1127721.6152999997 4466263.702199999, 1127687.7406000001 4466273.702199999, 1126894.1234999998 4466716.6997, 1126819.7494 4466851.1986, 1126913.9985999996 4466887.198100001, 1127030.7477000002 4466930.1975, 1127063.4973999998 4466940.6974, 1127431.6193000004 4467050.195699999, 1127576.9935999997 4467351.6928, 1127569.2438000003 4467406.692299999, 1127560.9939000001 4467442.692, 1127552.1996 4467459.246099999, 1127546.1190999998 4467470.6918, 1127521.3693000004 4467494.1916000005, 1127487.9946999997 4467510.191500001, 1127439.9951 4467517.6916000005, 1127414.4952999996 4467510.1917, 1127378.4956 4467492.6919, 1126937.9988000002 4467113.1961, 1126734.8756999997 4467150.6961, 1126599.5023999996 4467422.6939, 1127156.1246999996 4468644.1821, 1127827.3706 4469673.671700001, 1127987.8695 4469849.1698, 1128009.3693000004 4469872.669600001, 1128031.2441999996 4469894.169299999, 1128056.744 4469915.1691, 1128148.8682000004 4469954.6686, 1128329.1168 4470029.1676, 1128414.9912999999 4470161.666300001, 1129154.6108999997 4470804.1592, 1130238.8519000001 4471135.7793000005, 1130075.7290000003 4471496.6514, 1129965.2303999998 4471752.6493, 1129949.4806000004 4471797.1489, 1129925.3559999997 4471888.6482, 1129909.1063 4471951.147700001, 1129895.3564999998 4472005.6472, 1129888.9817000004 4472065.6467, 1129893.4817000004 4472115.146199999, 1129896.6068000002 4472149.1459, 1130018.2312000003 4472452.142999999, 1130030.1062000003 4472481.1427, 1130058.6059999997 4472520.1423, 1130187.8550000004 4472613.316299999, 1129198.3653999995 4473527.1349, 1128673.87 4473503.6361, 1128286.4989999998 4473801.634199999, 1127497.8817999996 4474246.6316, 1127432.2573999995 4474245.1318, 1127366.6330000004 4474249.6318, 1127274.8838 4474266.631899999, 1126894.8874000004 4474374.6316, 1126828.1380000003 4474394.1315, 1126784.5135000004 4474430.6313000005, 1126450.6430000002 4475313.1241, 1126376.8941000002 4475535.622199999, 1126352.7693999996 4475593.6217, 1126286.3952000001 4475712.6208, 1126246.3956000004 4475752.6205, 1126218.7709 4475774.6204, 1126178.6463000001 4475802.120200001, 1126128.7718000002 4475824.120100001, 1126040.6476999996 4475877.6197999995, 1126009.773 4475900.6196, 1125982.2732999995 4475935.1194, 1125946.1486999998 4475991.618899999, 1125677.6520999996 4476533.614600001, 1125688.9020999996 4476592.6141, 1125781.9016000004 4476815.6119, 1125731.5278000003 4477191.6087, 1125613.5296 4477655.104800001, 1125589.5300000003 4477710.6043, 1125581.5302 4477784.603700001, 1125584.6552 4477828.1033, 1125601.4052 4477876.6028, 1125614.1551 4477911.602499999, 1125636.1550000003 4477943.6022, 1125837.2786999997 4478215.099400001, 1125878.0284000002 4478266.0989, 1125918.7780999998 4478304.0985, 1125961.9028000003 4478337.098099999, 1126036.4022000004 4478366.5977, 1126088.6518 4478398.0973000005, 1126140.5263999999 4478435.096899999, 1126179.6511000004 4478481.0964, 1126212.9008999998 4478524.596000001, 1126362.0250000004 4478732.093900001, 1126376.6498999996 4478783.0934, 1126393.6498999996 4478842.592800001, 1126411.1498999996 4478912.5922, 1126490.2752 4479481.586999999, 1126494.1502 4479527.5866, 1126494.4005000005 4479643.0856, 1126478.6507 4479710.585000001, 1126461.4009999996 4479771.5845, 1126440.5263 4479826.584000001, 1126387.9019999998 4479949.083000001, 1126290.5280999998 4480107.581800001, 1126362.7785999998 4480764.0759, 1126473.5279 4480882.0746, 1127107.1486999998 4481647.5667, 1127132.3985000001 4481679.566400001, 1127176.8982999995 4481762.0655000005, 1127174.3984000003 4481800.065199999, 1127172.8984000003 4481814.315099999, 1127171.6484000003 4481825.0649999995, 1127167.2735000001 4481846.0648, 1127161.3986 4481872.5646, 1127152.2736999998 4481903.064300001, 1127009.2757 4482286.0612, 1126995.0258 4482300.0611000005, 1126890.7769999998 4482415.0603, 1126776.1541 4483005.555299999, 1126931.279 4483759.0483, 1127253.4018 4484100.5447, 1127333.1514999997 4484335.5425, 1127235.9025999997 4484462.5415, 1127015.4051 4484727.5396, 1126602.0344000002 4485089.0371, 1126224.1639999999 4485817.531400001, 1126391.5379999997 4486066.528899999, 1126430.0377000002 4486121.5283, 1126582.6618 4486320.5263, 1126613.0365000004 4486332.5261, 1126661.5361000001 4486360.025800001, 1126814.4101 4486540.5239, 1127064.0334 4486838.5208, 1127072.7835999997 4486947.0198, 1127028.6608999996 4488038.510299999, 1127019.4112999998 4488189.009, 1127005.6616000002 4488301.007999999, 1127004.0368 4488398.257099999, 1125015.3038999997 4488161.012800001, 1124630.6818000004 4487894.515900001, 1123505.8158999998 4487452.0218, 1123461.6913 4487435.022, 1123400.8167000003 4487382.522600001, 1123345.3170999996 4487325.5232, 1123257.8175999997 4487176.524700001, 1123210.1929000001 4487091.5254999995, 1123192.568 4487054.025900001, 1123152.1930999998 4486937.527000001, 1123063.0684000002 4486680.0294, 1123015.6935 4486507.0309999995, 1122991.4435 4486385.032199999, 1122973.3185999999 4486312.5328, 1122849.3187999995 4485854.5371, 1122632.0692999996 4485068.544399999, 1122488.9447999997 4484641.0485, 1122460.9450000003 4484578.5491, 1122417.0702 4484498.049900001, 1122377.6953999996 4484427.0506, 1122333.1957 4484354.5513, 1122290.5708999997 4484286.051999999, 1122268.6961000003 4484252.552300001, 1122203.9464999996 4484153.553300001, 1122096.6972000003 4484042.554500001, 1121966.3232000005 4483947.055600001, 1121869.1989000002 4483879.056299999, 1121775.5746999998 4483820.057, 1121390.8277000003 4483628.0594, 1121222.3290999997 4483559.0603, 1120357.9611999998 4483270.5644000005, 1120096.7133999998 4483203.5655000005, 1119986.4643 4483180.0659, 1119859.9654 4483160.066299999, 1119808.0230999999 4483154.1581999995, 1119728.0915 4483145.0667, 1119619.9674000004 4483135.5669, 1119436.0941000003 4483130.567299999, 1119335.2199999997 4483131.567500001, 1118552.6020999998 4483239.5679, 1118455.7279000003 4483256.068, 1118111.8561000004 4483324.068, 1118007.9820999997 4483355.5679, 1117959.1075 4483378.0678, 1117893.9831999997 4483403.0677000005, 1117728.7347 4483464.067399999, 1117661.8603999997 4483485.067299999, 1117556.3613 4483511.067299999, 1117359.2380999997 4483536.567399999, 1117282.8638000004 4483535.567600001, 1117224.2392999995 4483524.5678, 1117172.9896999998 4483507.068, 1117086.6153999995 4483475.068399999, 1116969.3663999997 4483421.5691, 1116936.4916000003 4483402.069399999, 1116889.1169999996 4483372.569700001, 1116807.2426000005 4483319.0703, 1116741.3680999996 4483266.070900001, 1116697.7434 4483227.0713, 1116614.119 4483138.5723, 1116569.1193000004 4483089.072799999, 1116532.7445 4483047.5732, 1116503.6196999997 4483002.0737, 1116478.7448000005 4482939.0743, 1116423.7451 4482843.575200001, 1116386.6204000004 4482797.0757, 1116297.9960000003 4482708.5766, 1116245.4963999996 4482667.577099999, 1116180.3718999997 4482633.077500001, 1116006.4983 4482568.578400001, 1115939.8739 4482556.078600001, 1115861.2495999997 4482543.5789, 1115693.6260000002 4482521.079399999, 1115464.5029999996 4482498.58, 1114252.2636000002 4482414.082900001, 1114015.7655999996 4482397.0834, 1113841.0170999998 4482375.083900001, 1113096.1485000001 4482266.086200001, 1112450.529 4482124.5886, 1112373.0296 4482109.0889, 1112355.9644999998 4482105.9552, 1112310.4051 4482097.5890999995, 1112249.0307 4482097.589199999, 1112193.0312 4482106.089199999, 1112144.1566000003 4482114.589199999, 1112084.7822000002 4482126.589199999, 1111941.5343000004 4482604.0853, 1111834.4112 4483143.580700001, 1111251.9192000004 4484749.067500001, 1111224.9194999998 4484819.5669, 1111182.67 4484879.066400001, 1111129.6705 4484915.066199999, 1110765.6742000002 4485158.0647, 1110730.0494999997 4485170.5647, 1110434.0524000004 4485315.5638999995, 1110058.9312000005 4485605.062000001, 1109898.6827999996 4485733.0611000005, 1109841.5584000004 4485785.560799999, 1109828.0586 4485812.0605999995, 1109819.6837 4485837.5604, 1109808.3088999996 4485872.5601, 1109807.9971000003 4485879.068, 1109804.3091000002 4485956.0593, 1109804.4341000002 4485989.559, 1109807.8092 4486056.0583999995, 1109813.6842999998 4486110.558, 1109821.0592999998 4486183.5572999995, 1109790.1848999998 4486331.556, 1109778.3099999996 4486362.5558, 1109592.4374000002 4486794.552300001, 1109576.9375999998 4486821.052100001, 1109551.4464999996 4486836.616800001, 1109536.813 4486845.551899999, 1109490.6884000003 4486863.051899999, 1108989.3180999998 4487023.0513, 1108938.4435999999 4487031.0513, 1108911.8187999995 4487021.0515, 1108864.8191999998 4487018.0516, 1108818.0696999999 4487032.0515, 1108809.0697999997 4487051.0514, 1108797.9448999995 4487091.551000001, 1108798.9450000003 4487103.050899999, 1108804.0700000003 4487130.5507, 1108825.5698999995 4487188.550100001, 1108849.8196999999 4487231.549699999, 1109066.6934000002 4487584.5462, 1109085.8183000004 4487603.046, 1109123.318 4487637.545600001, 1109267.4419999998 4487753.044399999, 1109365.1912000002 4487810.5437, 1109419.9407000002 4487821.043500001, 1109474.3153 4487825.543400001, 1109522.8147999998 4487816.043400001, 1109552.9395000003 4487803.043400001, 1109649.6886 4487776.043500001, 1109737.4378000004 4487761.543500001, 1109770.1875 4487757.043500001, 1110940.9271999998 4487726.5417, 1110947.4271 4487726.5417, 1110986.8017999995 4487740.5415, 1111019.4265 4487763.541200001, 1111102.3011999996 4487995.039000001, 1111101.8013000004 4488061.5384, 1111099.4265 4488127.537799999, 1111088.1766 4488157.537599999, 1110565.9325 4488874.532199999, 1110546.9326999998 4488898.532, 1110520.9330000002 4488925.0318, 1110472.5585000003 4488970.0315000005, 1110442.1837999998 4488995.031300001, 1110406.1841000002 4489016.531199999, 1110362.0596000003 4489037.031099999, 1110124.4368000003 4489138.5306, 1110047.0625999998 4489169.0305, 1109976.0631999997 4489174.0306, 1109959.3134000003 4489176.5306, 1109894.0640000002 4489189.5306, 1109857.9392999997 4489206.0305, 1109800.0648999996 4489240.030300001, 1109787.5650000004 4489250.030200001, 1109774.4401000002 4489260.530200001, 1109744.8154999996 4489328.0296, 1109727.8158 4489379.029200001, 1109720.5658999998 4489419.5287999995, 1109718.1909999996 4489443.0286, 1109675.0673000002 4489967.5241, 1109668.3175 4490097.0229, 1108691.8260000004 4490024.5253, 1108861.9515000004 4491132.5152, 1108839.5767 4491179.014799999, 1108806.2021000003 4491225.0145, 1108709.0780999996 4491321.513800001, 1108159.9593000002 4492065.008199999, 1107673.4649999999 4492897.001700001, 1107648.5903000003 4492951.5013, 1107645.0905 4493001.5008000005, 1107648.7155 4493053.000399999, 1107659.3405 4493102.9999, 1107670.3405 4493149.499500001, 1107685.2154 4493195.499, 1107722.7156999996 4493532.495999999, 1107557.5930000003 4493989.4922, 1107540.9682 4494026.491900001, 1107521.8433999997 4494057.491699999, 1107326.4705999997 4494309.989800001, 1107294.7209 4494331.989700001, 1107254.3463000003 4494346.989600001, 1107026.7331999997 4494415.004899999, 1106146.9818000002 4494788.987600001, 1104830.3698000005 4495642.4824, 1104776.6204000004 4495677.9822, 1104696.3712 4495746.981699999, 1104655.2466000002 4495789.4814, 1104193.6266 4496299.977700001, 1103874.5044999998 4496389.977499999, 1103893.7548000002 4496639.975199999, 1103893.7549 4496713.4746, 1103877.0051999995 4496766.474099999, 1103853.0055 4496822.4737, 1103833.3806999996 4496859.9734000005, 1103800.7560999999 4496910.472999999, 1103767.2565000001 4496944.4728, 1103729.2567999996 4496969.9726, 1103688.0071999999 4496983.9725, 1103642.0076000001 4496993.9725, 1103636.8586 4496994.6787, 1103598.2580000004 4496999.9726, 1103556.1333999997 4497000.4726, 1103512.6338 4497003.4727, 1103444.3844999997 4497041.9725, 1103418.7597000003 4497078.472200001, 1103234.5119000003 4497374.969900001, 1103200.3872999996 4497431.9694, 1103181.8875000002 4497481.9690000005, 1103165.8877999997 4497554.4684, 1103159.5351 4497593.3324, 1103157.3880000003 4497606.468, 1103010.1409999998 4498611.9594, 1103004.1410999997 4498655.959000001, 1103004.8912000004 4498688.958699999, 1103011.6412000004 4498721.9584, 1103026.2660999997 4498772.957900001, 1103318.6397000002 4499417.4517, 1103377.8893 4499508.9508, 1103572.0130000003 4499701.448799999, 1103733.5116999997 4499808.9476, 1104847.0022999998 4499990.944, 1105010.3764000004 4500321.9408, 1105096.8760000002 4500530.4388, 1105117.8759000003 4500590.9383000005, 1105130.7510000002 4500681.4374, 1105153.2512999997 4500985.934699999, 1105141.6264000004 4501010.4344999995, 1105119.5017 4501053.4342, 1105109.7518999996 4501121.933599999, 1105109.5020000003 4501184.4331, 1105119.7520000003 4501227.557700001, 1105124.3770000003 4501246.932499999, 1105244.7516 4501637.9288, 1105262.3765000002 4501673.9285, 1105296.3764000004 4501736.9279, 1105345.8761 4501822.926999999, 1105484.2501999997 4502036.424900001, 1105509.2500999998 4502069.4246, 1105574.9995999997 4502154.423699999, 1105607.4994 4502191.9233, 1105631.2492000004 4502213.9231, 1105663.4989999998 4502243.422800001, 1105710.8737000003 4502286.4223, 1105831.4978 4502391.4212, 1105824.8728999998 4502430.4208, 1105809.2482000003 4502511.9201, 1105800.4983 4502550.4198, 1105755.9989999998 4502671.4188, 1105723.2493000003 4502694.4187, 1104362.3871 4503176.9168, 1104294.7626999998 4503194.9168, 1104178.0137 4503208.9168, 1104119.1392 4503201.916999999, 1104060.5147000002 4503190.917199999, 1104025.6399999997 4503170.417400001, 1104021.3899999997 4503143.9177, 1104019.1399999997 4503118.4179, 1104019.5148999998 4503068.418400001, 1103994.1401000004 4503041.4186, 1103905.6408000002 4503010.9191, 1103859.6412000004 4503005.919199999, 1103755.5170999998 4503026.919199999, 1103661.8930000002 4503071.9189, 1103603.0186 4503108.4187, 1103524.0193999996 4503173.418299999, 1103465.5199999996 4503234.9178, 1103429.6453999998 4503287.417400001, 1102810.4024999999 4504232.9102, 1101821.0383000001 4505437.9013, 1101764.2888000002 4505487.401000001, 1101623.4156 4505767.398700001, 1101622.4156999998 4505839.8981, 1101632.4156999998 4505884.897700001, 1101652.1656 4505922.397299999, 1101673.2904000003 4505949.8971, 1101699.2903000005 4505981.8967, 1102126.0373 4506396.8923, 1102161.2869999995 4506410.392200001, 1102196.5367 4506409.892100001, 1102204.3139000004 4506408.5033, 1102238.5362999998 4506402.392100001, 1102285.6608999996 4506402.892000001, 1102329.7855000002 4506404.891899999, 1102363.2851999998 4506414.891799999, 1102389.5350000001 4506429.8916, 1102731.4073 4506629.3893, 1102818.0317000002 4506685.888599999, 1102833.1566000003 4506699.888499999, 1102858.4063999997 4506726.8882, 1102891.2812 4506762.387800001, 1102920.7810000004 4506802.387399999, 1102984.7806000002 4506925.8862, 1103041.7803999996 4507078.3848, 1103241.2796 4507621.8796, 1103241.7796 4507642.8795, 1103232.6547999997 4507703.878900001, 1103224.4049000004 4507728.878699999, 1103207.1552 4507769.3784, 1103166.0306000002 4507840.877800001, 1102858.5341999996 4508333.3741, 1102807.0347999996 4508408.373500001, 1102774.5351 4508454.3730999995, 1102496.6630999995 4508778.8708, 1101965.0437000003 4509310.367000001, 1101011.3043999998 4510655.356799999, 1100991.9296000004 4510703.3564, 1100963.3049999997 4510754.856000001, 1100935.8053000001 4510789.355799999, 1100907.1805999996 4510812.355599999, 1100868.1809 4510837.8555, 1100829.1813000003 4510861.3553, 1100500.4348 4511180.3531, 1099998.4401000002 4511718.849199999, 1099975.3153 4511746.348999999, 1099903.0663 4511935.3475, 1099877.0665999996 4512005.346899999, 1099853.5669 4512069.3464, 1099825.4423000002 4512112.346100001, 1099791.6925999997 4512150.345799999, 1099760.193 4512183.3456, 1099721.6934000002 4512217.3453, 1099682.4436999997 4512246.8451000005, 1099648.9441 4512264.3451000005, 1099613.6944000004 4512279.345000001, 1099388.9464999996 4512335.344900001, 1099790.9435999999 4512707.3409, 1099833.3183000004 4512737.340600001, 1100345.0643999996 4513069.3368, 1100825.7152000004 4513322.929300001, 1100926.0598 4513375.8331, 1100957.1846000003 4513390.832900001, 1101499.1807000004 4513902.327500001, 1101752.6791000003 4514241.949100001, 1102575.0504 4516272.4299, 1102875.0489999996 4516980.1731, 1102728.5500999996 4516868.2994, 1102687.1754 4516853.7996, 1102390.0531000001 4516869.299900001, 1102357.1783999996 4516881.299900001, 1102073.6810999997 4517052.298900001, 1102045.4314000001 4517082.298699999, 1102023.4316999996 4517124.2983, 1101866.1834000004 4517333.796800001, 1101644.8108 4517581.295, 1101473.0625999998 4517751.7938, 1101090.8164999997 4518098.2914, 1100667.9457 4518381.2897, 1100636.8210000005 4518395.2896, 1100486.1973 4518374.789999999, 1100438.5727000004 4518364.790200001, 1100410.1979 4518349.7904, 1100370.1982000005 4518319.7907, 1100314.3235999998 4518281.791099999, 1100257.1990999999 4518247.7915, 1100235.0741999997 4518234.7917, 1099385.0823 4518588.289999999, 1099332.5828 4518621.289899999, 1099282.0833 4518669.7895, 1099185.9594 4518809.2885, 1099111.3351999996 4518929.2875, 1098859.3382 4519384.784, 1098845.9634999996 4519464.783299999, 1098828.5888999999 4519644.7817, 1098721.8404 4519957.279200001, 1098707.3405999998 4519991.778899999, 1098451.2187 4520480.2751, 1098291.2204999998 4520745.273, 1098250.5959 4520774.7728, 1097888.4743 4520937.272, 1097845.9748 4520955.272, 1097736.2257000003 4520967.772, 1097684.6012000004 4520972.2721, 1097637.7265999997 4520966.7722, 1096673.1109999996 4521542.2688, 1096602.3619 4521739.767200001, 1096562.6124999998 4521849.7663, 1096359.4897999996 4522180.263800001, 1096339.6150000002 4522209.263599999, 1096318.7402999997 4522234.7634, 1096286.4906000001 4522250.7633, 1096261.8657999998 4522251.7633, 1096247.8658999996 4522252.2633, 1096322.2407 4522536.2607, 1096662.4888000004 4523108.255100001, 1096745.489 4523673.2501, 1096722.6146 4523905.2480999995, 1096697.2407999998 4524467.2432, 1096711.2407999998 4524539.7425, 1096730.7407999998 4524623.741800001, 1096751.3657 4524675.2413, 1096783.9905000003 4524742.240599999, 1096816.7402999997 4524793.7401, 1096865.2400000002 4524862.239499999, 1096992.8641 4525015.2379, 1097093.6134000001 4525116.7368, 1097153.988 4525161.236300001, 1097294.6119 4525239.235400001, 1097335.9866000004 4525252.235200001, 1097367.6113 4525259.235099999, 1097482.7352999998 4525239.735099999, 1097717.4830999998 4525191.735099999, 1097772.9825999998 4525174.235200001, 1097908.9813 4525116.2355, 1098739.9749999996 4525625.229599999, 1099429.3449999997 4526215.223200001, 1100379.2126000002 4526762.2168000005, 1100412.9623999996 4526783.716600001, 1100610.0860000001 4526977.7146000005, 1100858.5843000002 4527229.2118999995, 1101057.9578999998 4527463.2096, 1101457.9552999996 4527944.704700001, 1101686.5788000003 4528249.2016, 1101840.3279 4528502.699100001, 1101846.5779 4528531.198899999, 1101859.7029 4528559.1986, 1102025.9518 4528807.1962, 1102221.2006 4529085.193399999, 1102245.0755000003 4529118.1931, 1102267.5752999997 4529141.6928, 1102495.8236999996 4529368.1905000005, 1102711.1969999997 4529486.688999999, 1103155.8185999999 4529711.1863, 1103181.3184000002 4529722.1862, 1103209.1930999998 4529728.1861000005, 1103241.4428000003 4529725.1861000005, 1103482.9407000002 4529683.186000001, 1103782.063 4529623.186000001, 1103848.6873000003 4529591.6862, 1103934.8115999997 4529598.686000001, 1103967.5613000002 4529605.185799999, 1104074.9360999996 4530004.6822, 1104124.4360999996 4530251.6799, 1104141.4360999996 4530342.679099999, 1104149.0610999996 4530392.6787, 1104154.6862000003 4530456.178099999, 1104147.1864 4530537.1774, 1104143.4364999998 4530577.177100001, 1104079.9375999998 4530901.1743, 1104052.563 4530993.173599999, 1104027.1882999996 4531052.6731, 1103991.8137999997 4531159.6722, 1103949.4393999996 4531321.1709, 1103940.0646000002 4531368.670499999, 1103936.3147 4531393.670299999, 1103921.8152 4531591.1686, 1103922.8154999996 4531781.1669, 1103926.9404999996 4531808.6667, 1103938.8153999997 4531841.6664, 1103969.5653 4531908.1658, 1104014.6900000004 4531998.164899999, 1104027.1900000004 4532021.1647, 1104046.3148999996 4532049.6644, 1104057.3147999998 4532065.6642, 1104206.0637999997 4532257.9123, 1104108.0647 4532279.1623, 1104049.3153 4532301.6622, 1104020.0656000003 4532329.6620000005, 1104008.0658 4532372.161599999, 1103965.8167000003 4532696.6589, 1103965.0669 4532822.1578, 1103966.9422000004 4532985.656400001, 1103958.5679000001 4533356.1532000005, 1103944.5683000004 4533502.151900001, 1103921.9435 4533555.1515, 1103891.3189000003 4533601.2761, 1103873.4441 4533628.150900001, 1103833.3195000002 4533672.150599999, 1103786.6950000003 4533719.1503, 1103245.4506 4534227.6468, 1102943.5784999998 4534429.145500001, 1102821.9546999997 4534502.645099999, 1102652.9563999996 4534630.644300001, 1102607.9568999996 4534672.143999999, 1102518.7078 4534782.643200001, 1102337.4599000001 4535046.1412, 1102153.5870000003 4535360.888800001, 1101989.0888999999 4535605.1369, 1101886.3399999999 4535751.1359, 1101857.3403000003 4535792.135500001, 1101650.0926 4536071.1335, 1101348.3459 4536475.1305, 1100993.3498 4536939.127, 1100696.8531 4537386.6236000005, 1100697.3531999998 4537437.123199999, 1100702.7282999996 4537534.122400001, 1100712.3535000002 4537657.621300001, 1100727.1034000004 4537708.1208, 1100736.8534000004 4537740.6205, 1100760.4782999996 4537793.619999999, 1100789.2281 4537829.1196, 1100871.4774000002 4537862.619200001, 1100909.2270999998 4537869.619100001, 1100959.6017000005 4537898.1186999995, 1100995.1014999999 4537923.6185, 1101032.2262000004 4537955.618100001, 1101054.4760999996 4537997.117699999, 1101177.4754999997 4538301.6149, 1101181.4755999995 4538331.614600001, 1101185.9763000002 4538779.6107, 1101129.7278000005 4539348.105799999, 1101098.8531999998 4539475.104800001, 1101082.1035000002 4539531.1043, 1100988.3547 4539749.602600001, 1100959.2301000003 4539852.1017, 1100944.1053999998 4539953.6009, 1100939.9804999996 4540014.600400001, 1100942.8556000004 4540090.5997, 1100948.1057000002 4540160.599099999, 1100962.3558999998 4540347.5974, 1100991.6061000004 4540595.0952, 1101015.8559999997 4540652.094699999, 1101042.9808 4540697.5943, 1101100.6053999998 4540738.593800001, 1101188.1047 4540798.0931, 1101910.7242 4541239.088099999, 1101999.0986000001 4541289.5875, 1102144.0974000003 4541331.0868999995, 1102813.0919000003 4541498.5843, 1103207.2136000004 4541596.082699999, 1103832.9584999997 4541747.0803, 1104278.4548000004 4541844.0787, 1104768.5757 4541948.077, 1104903.6996 4541986.576400001, 1105180.9474999998 4542157.0745, 1105594.4444000004 4542442.0713, 1105763.5681999996 4542571.569800001, 1105903.9422000004 4542726.068299999, 1106009.4414999997 4542832.0671999995, 1106080.1909999996 4542902.566400001, 1106374.9387999997 4543126.063999999, 1107393.0563000003 4543846.306, 1108609.6727999998 4545062.543299999, 1108687.4222 4545102.5428, 1108775.1716 4545145.542300001, 1108933.4203000003 4545199.0416, 1109017.6695999997 4545205.541300001, 1109100.9189 4545211.541200001, 1109177.7932000002 4545204.541099999, 1109249.9175000004 4545194.540999999, 1109314.1670000004 4545183.540999999, 1109392.4162999997 4545174.040999999, 1109462.0406999998 4545169.540899999, 1109532.6650999999 4545184.5406, 1109594.1645999998 4545198.0404, 1109644.4142000005 4545212.540200001, 1110460.9079 4545652.535, 1110495.6575999996 4545674.034700001, 1110625.6566000003 4545773.533600001, 1110653.2814999996 4545798.533399999, 1110960.3904 4546106.308, 1111635.2732999995 4545664.783600001)))\",\n          \"MULTIPOLYGON (((568227.8438999997 4874810.869000001, 568220.2188999997 4874805.619000001, 568204.5941000003 4874807.994000001, 568191.2192000002 4874810.869000001, 568160.3443999998 4874820.118899999, 568153.9694999997 4874829.493799999, 568153.3444999997 4874855.1186, 568198.7191000003 4874931.993000001, 568217.9689999996 4874948.867900001, 568227.2188999997 4874945.367900001, 568240.0937999999 4874915.1182, 568240.0937999999 4874891.8683, 568238.8437999999 4874875.4935, 568231.9688999997 4874857.9936, 568233.7187999999 4874837.618799999, 568233.7187999999 4874820.743899999, 568227.8438999997 4874810.869000001)), ((568418.5555999996 4875064.2667, 568298.5663999999 4875028.5723, 568059.7799000004 4875074.320900001, 568034.909 4875089.137599999, 568010.8185999999 4875119.821699999, 567990.3187999995 4875151.0714, 567982.5214 4875169.0419, 567971.9380000001 4875196.558599999, 567955.0047000004 4875245.771199999, 567923.4444000004 4875347.8199000005, 567907.8362999996 4875437.3661, 567914.7878999999 4875445.2674, 567925.3712999998 4875455.321599999, 567935.9545999998 4875455.8508, 567948.6546 4875455.8508, 567963.4713000003 4875454.7925, 567981.318 4875450.8191, 567984.3187999995 4875443.3191, 568162.9676000001 4875391.8215, 568257.1594000002 4875354.7798, 568401.0930000003 4875285.988, 568411.1471999995 4875272.7588, 568416.9681000002 4875255.2962, 568424.0768999998 4875214.3223, 568425.3153999997 4875196.946, 568427.1212999998 4875130.9515, 568418.5555999996 4875064.2667)), ((567881.1480999999 4875938.548699999, 567869.7696000002 4875933.736, 567699.5695000002 4875973.187999999, 567693.4474999998 4875978.697000001, 567690.8048 4875981.1786, 567252.8233000003 4876595.4333999995, 566946.1337000001 4877031.6625, 566747.3272000002 4877409.301899999, 566743.5773 4877429.1768, 566751.7022000002 4877444.8016, 566760.4521000003 4877453.5516, 566774.7019999996 4877465.9265, 567180.0092000002 4877662.299900001, 568499.8140000002 4877951.672900001, 568513.3139000004 4877950.172900001, 568521.4612999996 4877945.5721, 568523.8827 4877944.0865, 568527.6887999997 4877932.0481, 568514.8139000004 4877883.0485, 568277.1904999996 4877614.4253, 568263.1906000003 4877596.6755, 568259.5656000003 4877589.0505, 568073.9419 4876725.0572999995, 567893.193 4875967.812999999, 567881.1480999999 4875938.548699999)), ((546382.8819000004 4919590.511399999, 546450.7616999997 4919492.477299999, 547206.7358999997 4920046.473300001, 547291.7035999997 4920131.4727, 547340.7034999998 4920204.4716, 547388.5854000002 4920280.043, 547392.6399999997 4920286.470899999, 547429.7028000001 4920362.471000001, 547468.7024999997 4920430.4703, 547496.6068000002 4920465.5175, 547523.6391000003 4920499.4693, 547604.6387 4920556.468900001, 547661.6381999999 4920573.468900001, 547752.6062000003 4920576.4691, 547868.6057000002 4920560.468699999, 547974.6040000003 4920524.4691, 548192.5088 4920447.4692, 548237.5713999998 4920404.469699999, 548265.5712000001 4920279.470799999, 548271.5080000004 4920178.471999999, 548267.5081000002 4920096.4727, 548285.4771999996 4919963.473200001, 548323.7084999997 4919890.5922, 548349.4765999997 4919841.474400001, 548525.4441 4919608.4767, 548702.3487 4919428.4778, 548791.3479000004 4919356.478499999, 549441.2181000002 4918988.480799999, 549635.2171 4918891.482000001, 550054.0878999997 4918549.4846, 550637.9897999996 4918042.488, 551265.8287000004 4917811.489600001, 551374.8280999996 4917784.4904, 551505.8273 4917782.49, 551615.7323000003 4917814.489800001, 551676.0828 4917846.269200001, 551689.7944 4917853.489499999, 551775.7309999997 4917880.489600001, 551857.6995999999 4917874.489399999, 552113.6034000004 4917814.489700001, 552532.5685 4917093.9947999995, 552796.5672000004 4916588.4989, 552862.5659999996 4916376.5011, 552901.5657000002 4916219.501599999, 552894.5658 4916145.502900001, 552828.5669 4915988.5033, 553015.5339000002 4915150.510399999, 553487.3110999996 4913316.524499999, 553508.3109999998 4913238.525, 553545.3103 4913134.526000001, 553617.3093999997 4912943.5273, 553650.3099999996 4912858.527799999, 553783.3085000003 4912603.5294, 554716.1140000001 4912747.5285, 555096.6744999997 4912615.490800001, 555485.1557999998 4912682.1461, 555873.7302000001 4912735.528000001, 556206.6650999999 4912780.5276, 556277.6645 4912788.5276, 556347.6639999999 4912736.028000001, 556603.4744999995 4912549.5294, 556666.4740000004 4912501.5297, 557143.2241000002 4911660.542400001, 557166.0966999996 4911613.614700001, 557177.3448999999 4911590.536699999, 557184.0272000004 4911569.5392, 557197.7227999996 4911526.5035999995, 557201.3376000002 4911515.0583999995, 557231.2193999998 4911353.5386, 557233.6999000004 4911332.4125, 557238.5943999998 4911290.726600001, 557239.2193999998 4911284.539100001, 557240.648 4911269.5393, 557249.2193 4911179.539899999, 557249.8443 4911169.540100001, 557560.1541999998 4910180.547599999, 557960.9633 4908924.5572, 558159.9824999999 4908599.559699999, 558478.8968000002 4908613.559599999, 558760.0875000004 4908559.2927, 559191.7037000004 4908469.5605999995, 559209.2545999996 4908461.036900001, 559260.4804999996 4908436.0625, 559266.8074000003 4908432.977600001, 560051.3844999997 4907994.564200001, 560066.0718999999 4907979.604900001, 560105.3841000004 4907939.5646, 560471.1936999997 4907512.0679, 560490.5300000003 4907484.0943, 560525.4720999999 4907433.536900001, 560527.6672 4907430.3478999995, 560530.2692999998 4907426.541200001, 560542.6785000004 4907405.9311, 560586.1304000001 4907333.5693, 560730.1290999996 4907045.5715, 560933.1273999996 4906516.5756, 560943.1560000004 4906461.815300001, 560948.1272999998 4906434.576199999, 560952.0296 4906392.707900001, 560955.1131999996 4906359.573100001, 560955.2960999999 4906356.198100001, 560957.824 4906305.837200001, 560958.1352000004 4906299.5769, 560957.0647 4906208.5779, 560953.3406999996 4906119.578600001, 560952.1272 4906090.5788, 560966.0645000003 4906066.354499999, 560994.0840999996 4906017.681299999, 561016.0641000001 4905995.6184, 561052.0639000004 4905959.5798, 561540.8688000003 4905588.575099999, 561641.4426999995 4905568.4166, 562526.7494000001 4905138.9714, 562906.4243999999 4904869.5879999995, 564090.04 4903796.596100001, 564315.6150000002 4903586.793400001, 565009.8037 4903985.5945, 565578.5909000002 4903442.5986, 565683.5900999997 4903484.598300001, 566199.5861 4903354.599199999, 566657.3949999996 4903186.600400001, 566709.3321000002 4903116.6009, 566721.3945000004 4903032.601600001, 566723.3318999996 4902922.602499999, 566719.3318999996 4902823.6032, 566713.5267000003 4902775.8347, 566708.3945000004 4902733.6039, 566719.5969000002 4902710.079, 566727.8095000004 4902692.832800001, 566993.3298000004 4902437.6062, 567339.2646000003 4902414.6063, 567821.1358000003 4902336.606799999, 567959.1347000003 4902310.107000001, 568050.0714999996 4902238.1075, 568194.0705000004 4902001.1095, 568178.051 4901962.168199999, 568180.5425000004 4901919.6098, 568181.0703999996 4901910.610099999, 568207.0702 4901502.6132, 568355.0698999995 4900812.6194, 568374.6562999999 4900769.6195, 568397.4310999997 4900719.619899999, 568412.0069000004 4900687.6204, 568565.6699000001 4900419.4399, 568669.5815000003 4900269.6236000005, 568686.0047000004 4900249.6237, 568726.0044 4900190.6241999995, 568747.8792000003 4900135.624600001, 568751.0042000003 4900085.625, 568560.1028000005 4898569.6362, 568534.8172000004 4898545.636299999, 568516.0048000002 4898525.0034, 568472.8176999995 4898477.6369, 568466.2547000004 4898468.926100001, 568411.8180999998 4898396.637499999, 568412.8991 4898373.8455, 568414.8180999998 4898333.638, 568425.7050999999 4898287.5714, 568440.8179000001 4898223.638900001, 568488.8174999999 4898150.6394, 568542.2424999997 4898069.6401, 568550.8169999998 4898056.6401, 568730.6281000003 4897806.642200001, 568808.6275000004 4897715.642899999, 568886.6268999996 4897642.6435, 568961.6262999997 4897581.6439, 568966.0011999998 4897579.8018, 569018.6257999996 4897557.643999999, 569066.0004000003 4897556.134099999, 569112.7500999998 4897554.644099999, 569204.5619000001 4897547.644099999, 569265.9220000003 4897519.275, 569297.5610999996 4897504.644300001, 569315.9983999999 4897495.4257, 569387.5603999998 4897459.6446, 569676.6206 4897297.6459, 569704.7624000004 4897279.2345, 569780.5574000003 4897229.646500001, 569916.5051999995 4897118.681, 569721.5027000001 4896792.1588, 569491.5669999998 4896340.6623, 569258.7229000004 4895719.6765, 569178.2851 4895483.774800001, 568866.6032999996 4894540.166200001, 568864.9665000001 4894535.136399999, 568850.4419 4894490.3281, 568838.0459000003 4894452.080700001, 568832.5724 4894435.1777, 568788.6155000003 4894205.782199999, 568529.5663000001 4893723.173900001, 568574.2980000004 4893531.173900001, 569000.8200000003 4892790.5024999995, 569136.4000000004 4892307.6910999995, 569540.3055999996 4892841.6949000005, 569671.3075000001 4893411.1763, 569866.0104 4893933.232899999, 570143.3130999999 4894276.1796, 570633.3093999997 4894695.176200001, 571046.1187000005 4895012.673599999, 571202.1991999997 4895340.695699999, 571492.2328000003 4895506.6609000005, 571597.1069999998 4895552.660499999, 571665.9796000002 4895576.8303, 571674.0438999999 4895579.6603, 572412.9757000003 4895612.6599, 572480.9752000002 4895611.6599, 572504.5965 4895607.2301, 572528.9770999998 4895602.6578, 572565.9737999998 4895582.3594, 572581.8279999997 4895573.659700001, 572571.9742999999 4895541.1603, 572547.9780000001 4895469.1797, 572557.9743999997 4895374.161599999, 572666.8256000001 4894945.164100001, 572720.8470000001 4894826.165100001, 572726.4183 4894819.665100001, 572780.8465 4894756.1656, 573073.7385 4894449.2074, 573134.6750999996 4894425.3399, 573149.1698000003 4894419.668199999, 573165.7872000001 4894413.168199999, 573209.2693999996 4894415.239, 573215.9676999999 4894415.5581, 573291.7960000001 4894419.1822, 573315.9669000003 4894430.9684999995, 573327.1150000002 4894436.407400001, 573360.9793999996 4894452.929099999, 573365.9665999999 4894455.362299999, 573371.7167999996 4894458.1678, 573398.5290999999 4894464.408500001, 573416.0981000001 4894468.4977, 573487.7784000002 4894485.1676, 573579.7152000004 4894493.1675, 573833.6161000002 4894483.161, 574017.5131999999 4894472.125700001, 574023.6804 4894469.6676, 574050.6912000002 4894458.586300001, 574095.5862999996 4894440.1678, 574635.8110999996 4894135.7118, 574166.5022 4894017.891000001, 573564.2152000004 4893249.677300001, 573370.8415999999 4893021.054099999, 572879.4700999996 4892475.9957, 571929.5450999998 4891515.6283, 571342.4609000003 4890922.028899999, 571344.2172999997 4890913.7292, 571353.2926000003 4890870.845799999, 571362.5815000003 4890826.9541, 571364.5436000004 4890818.0085, 571388.3158 4890760.8552, 571391.2933999998 4890753.6965, 571415.9643000001 4890733.6096, 571433.0949999997 4890719.664100001, 571465.9371999996 4890692.9352, 571488.7127 4890674.406400001, 571516.8257999998 4890651.6348, 571787.0404000003 4890434.865800001, 572176.8103 4890669.478599999, 572447.8528000005 4890819.169, 572505.4493000004 4890845.726600001, 572897.2818999998 4890971.944700001, 573565.6801000005 4891148.4021000005, 573751.5253999997 4891103.193600001, 574130.2720999997 4890819.757999999, 574139.4989999998 4890811.1230999995, 574197.1941999998 4890757.122099999, 574865.9537000004 4890945.8463, 575496.3913000003 4890981.712400001, 575781.5096000005 4890952.194399999, 575879.2588 4890938.944499999, 575898.0712000001 4890932.694599999, 576029.0076000001 4890840.6952, 576170.6940000001 4890735.696, 576208.0061999997 4890705.6963, 576239.0142000001 4890683.7136, 576327.9426999995 4890631.696799999, 576355.9424999999 4890639.696699999, 576536.9411000004 4890747.695900001, 576653.9402000001 4890822.6953, 576677.0026000002 4890844.6951, 576702.6536999997 4890869.6952, 576714.0350000001 4890880.764, 576762.5273000002 4890919.694800001, 576765.9397 4890922.4339000005, 576770.0020000003 4890925.694499999, 576815.9995999997 4890961.6942, 576869.0992 4890978.569, 577196.7281 4891069.693600001, 577453.9341000002 4891048.693299999, 577872.7445 4890874.6984, 577909.6627000002 4890831.6861000005, 578006.6160000004 4890562.5155, 578278.9296000004 4890224.0154, 578200.4903999995 4889944.7018, 578141.4907999998 4889669.704, 578085.4912 4889314.706800001, 578083.4287 4889194.707699999, 578091.6029000003 4889169.707900001, 578107.9515000004 4889119.7082, 578114.5684000002 4889099.6337, 578317.3015999999 4888573.712300001, 578094.2407 4887835.7182, 578067.0610999996 4887797.0416, 578035.2411000002 4887751.718900001, 578001.1788999997 4887674.7195, 578007.0537999999 4887620.719799999, 578693.7981000002 4886199.730699999, 578900.8931999998 4885939.7267, 579198.5440999996 4885786.7338, 579462.6670000004 4885719.734300001, 579504.5417 4885712.734300001, 579515.0953000002 4885706.033600001, 579559.6661999999 4885677.7346, 579585.6460999995 4885645.0503, 579590.6660000002 4885638.7349, 579609.6657999996 4885611.235099999, 579613.7671999997 4885600.3111000005, 579629.5411 4885558.2358, 579630.7388000004 4885549.155300001, 579635.5406 4885512.7359, 579643.5631999997 4885448.693, 579643.5405000001 4885376.737, 579642.7244999995 4885362.048800001, 579638.5405000001 4885286.7378, 579575.1198000005 4884332.218599999, 579557.2917 4884099.7480999995, 579508.2921000002 4884038.748500001, 579218.2763 4883772.8587, 579165.9225000003 4883782.806, 579150.4205999998 4883785.751499999, 579082.4211999997 4883790.751599999, 578806.4221000001 4883633.7513, 578781.4222999997 4883617.7513999995, 578758.2732999995 4883602.185799999, 578752.4225000003 4883598.251599999, 578674.3996000001 4883510.773499999, 578661.7334000003 4883495.5886, 578644.4342999998 4883474.794500001, 578651.2291000001 4883459.758300001, 578670.4230000004 4883418.252800001, 578685.9891999997 4883386.629899999, 578716.4223999996 4883325.2534, 578831.5312000001 4883219.9625, 578969.0325999996 4883099.9683, 579513.8897000002 4882646.7787, 579563.9156 4882750.945, 579712.5395 4883071.255000001, 579842.2259999998 4883352.752800001, 579920.2254999997 4883539.7513, 580028.2247000001 4883841.7489, 580199.4110000003 4884317.745200001, 580266.4105000002 4884428.7443, 580294.8981999997 4884469.505799999, 580331.4101 4884521.7436, 580473.409 4884678.7423, 580944.2802999998 4885181.238299999, 581516.2340000002 4885617.6203000005, 581769.4616 4885666.7344, 581773.2093000002 4885666.3157, 581822.2111999998 4885660.7345, 581972.0225 4885636.7346, 583710.7794000003 4885230.242699999, 583810.7373000002 4885192.7377, 583838.9737 4885069.738500001, 583840.6953999996 4885062.238700001, 583875.8942999998 4884969.7393, 583883.6951000001 4884949.239600001, 584061.6743999999 4884688.242699999, 584099.1058 4884662.7995, 584102.2790999999 4884660.647299999, 584114.6723999996 4884652.241900001, 584165.8799 4884647.706499999, 584215.8795999996 4884643.2817, 584227.6298000002 4884642.241900001, 584265.8792000003 4884640.6292, 584315.8788000001 4884638.521199999, 584322.5039999997 4884638.241900001, 584365.8784999996 4884630.307600001, 584404.5033999998 4884623.242000001, 584415.6371999998 4884618.5035999995, 584505.4401000002 4884580.2423, 584519.6868000003 4884569.7521, 584542.5191000002 4884552.9399, 584565.8822999997 4884535.684900001, 584587.4803999998 4884519.7335, 584604.4073999999 4884507.2172, 584614.9515000004 4884495.1965, 584682.4452999998 4884418.2488, 584770.4380000001 4884306.2444, 584794.4631000003 4884269.7447, 584815.875 4884237.215, 584822.4375 4884227.244999999, 584823.8293000003 4884219.744999999, 584833.1075999998 4884169.7454, 584840.4374000002 4884130.2458, 584847.4373000003 4883942.247199999, 585016.3733999999 4883911.2475000005, 585081.3728999998 4883864.2478, 585586.1202999996 4883313.2535, 585732.9911000002 4882833.7837000005, 585731.3032 4882819.758199999, 585725.1216000002 4882768.795299999, 585566.9488000004 4882392.717700001, 585556.6868000003 4882369.759400001, 585545.9315999998 4882345.7597, 585065.1848999998 4881362.7673, 585059.8457000004 4881353.0151, 585042.1851000004 4881320.7677, 584973.1856000004 4881274.767999999, 584868.1864 4881232.7684, 584607.1884000003 4881098.7695, 584477.1893999996 4880999.770300001, 582392.2055000002 4878958.7871, 582233.2007999998 4878670.763800001, 581618.3262999998 4877317.3061999995, 581610.9628999997 4877333.677100001, 581602.0876000002 4877346.9265, 581575.5877999999 4877367.6763, 581500.2133999998 4877426.675899999, 581426.4639999997 4877478.4255, 581201.9658000004 4877621.0494, 580991.8416999998 4877743.047700001, 580900.7167999996 4877789.421499999, 580590.5942000002 4877922.420499999, 580146.3361999998 4878010.1306, 580125.4462000001 4878013.371300001, 580076.5103000002 4878019.472100001, 580045.4732999997 4878017.107100001, 580035.0983999996 4878018.419600001, 579997.3487 4878022.794500001, 579837.3501000004 4878014.7948, 579636.0231999997 4877976.6754, 579591.1018000003 4877947.2952, 579489.3525999999 4877878.9208, 578938.2318000002 4877438.7993, 578895.0064000003 4877098.7783, 578665.7137000002 4876618.813200001, 578358.8611000003 4876292.808499999, 578345.9738999996 4876282.847200001, 578330.7252000002 4876278.837099999, 577258.9948000005 4876463.8072999995, 577222.5027000001 4876474.815199999, 577217.4870999996 4876476.3378, 577197.4952999996 4876488.9322, 576586.6250999998 4876938.6787, 576505.3712999998 4877017.912799999, 576065.1294999998 4877560.7992, 575726.8821 4877916.2962, 575562.6518000001 4878058.7094, 575269.5107000005 4878311.793199999, 575237.1359999999 4878329.793099999, 575162.6365999999 4878358.7929, 575084.8871999998 4878385.7927, 575065.0122999996 4878388.7927, 575040.0555999996 4878387.700300001, 574853.4676000001 4878470.9363, 574492.5708999997 4878635.988600001, 574418.6425000001 4878680.6655, 573119.1528000003 4879719.7826000005, 572812.6555000003 4880132.7797, 572852.4134 4880606.2213, 572830.2805000003 4881052.647500001, 572823.2806000002 4881076.147299999, 572792.9057999998 4881134.5219, 572626.0322000002 4881292.5207, 572601.2823999999 4881315.395500001, 572494.6582000004 4881369.395099999, 572252.9102999996 4881450.6447, 572169.9110000003 4881476.7695, 572013.6622000001 4881503.769300001, 571833.4135999996 4881503.769400001, 571634.5694000004 4881471.5089, 571623.8079000004 4881468.924900001, 571620.8860999998 4881467.2897, 571397.9166000001 4881349.895199999, 571156.2934999997 4881250.396, 570550.9232000001 4881244.6461, 570537.2725999998 4881255.2203, 570352.4759 4881435.796599999, 570336.1695999997 4881623.3094, 570335.0129000004 4881636.6119, 570346.0500999996 4881995.2655, 570280.5505999997 4881951.265799999, 570072.9272999996 4881973.265699999, 569888.4287 4882050.2651, 569616.3059 4882175.7642, 569526.8679999998 4882219.8378, 569277.2816000003 4882353.5044, 569199.8921999997 4882397.159600001, 569148.2984999996 4882635.942, 569124.0558000002 4882822.732899999, 568667.0632999996 4883527.2535999995, 568073.3519000001 4884184.1643, 567527.4474 4884358.747300001, 566886.5094999997 4884443.972999999, 566349.2690000003 4883960.250600001, 566339.4566000002 4883949.750700001, 566037.0576 4883601.776000001, 566002.3366 4883561.743799999, 565989.3343000002 4883377.1303, 566023.9589 4883348.7555, 566070.7085999995 4883311.7557, 566101.3607999999 4883287.943499999, 566089.2085999995 4883221.7567, 565854.8360000001 4882934.2598, 565733.0869000005 4882810.2608, 565615.0877999999 4882827.2607, 565508.8387000002 4882910.2601, 565389.0895999996 4883017.259299999, 565383.7147000004 4883024.759199999, 565377.4647000004 4883039.759099999, 565293.5904999999 4883439.755999999, 565266.2156999996 4883679.2541000005, 565174.9664000003 4883754.2535, 565109.8419000003 4883756.2535, 564905.4685000004 4883500.2556, 565282.8404000001 4882846.760600001, 565289.0904000001 4882838.7607, 565378.3397000004 4882769.7612, 565512.3386000004 4882666.262, 565871.4606999997 4881844.2684, 565962.8340999996 4881387.8958, 565971.8339999998 4881402.7707, 565980.3339 4881412.6456, 565991.5839 4881418.2706, 566030.8334999997 4881437.895400001, 566033.8613 4881432.9409, 566039.0834999997 4881424.395500001, 566051.9583999999 4881430.395500001, 566120.5828999998 4881467.395199999, 566125.8328 4881474.145099999, 566133.4578 4881476.395099999, 566143.2077000001 4881471.895199999, 566164.3324999996 4881453.020300001, 566169.8574999999 4881443.0397, 566195.2072000001 4881183.522399999, 566448.2054000003 4880665.901699999, 567206.517 4879515.950099999, 567635.5089999996 4879650.0142, 568264.8192999996 4879090.8686999995, 568219.3174 4878921.479, 568212.8756999997 4878903.585200001, 568033.9382999996 4878741.8259, 566698.9974999996 4877772.4834, 565941.7087000003 4878549.793099999, 565803.8348000003 4878681.792099999, 565749.0533999996 4878725.1033, 565385.7132000001 4878946.790100001, 565007.0911999997 4879157.2885, 564543.2198000001 4879346.7871, 564461.3454999998 4879355.5370000005, 564421.8458000002 4879354.4121, 564356.3463000003 4879334.7872, 564327.9715 4879307.9125, 563825.4688999997 4879475.3967, 563123.3561000004 4880138.781199999, 561957.8652999997 4880681.2771000005, 561317.2456 4881406.2718, 560991.7125000004 4881389.4461, 560968.6231000004 4881391.2717, 560917.7489999998 4881406.8583, 560913.9984999998 4881408.271500001, 560909.3735999996 4881411.646500001, 560891.9987000003 4881433.771299999, 560683.0004000003 4881819.768300001, 560755.4999000002 4881917.7676, 560758.7498000003 4881934.7674, 560760.4998000003 4881954.7673, 560752.4589 4882031.8237, 560751.8602 4882035.934, 560747.6249000002 4882058.7665, 560728.3750999998 4882117.141000001, 560687.3129000003 4882180.5781, 560650.7506999997 4882220.6403, 560632.7736999998 4882238.0792, 560629.8487 4882240.8529, 560624.7076000003 4882243.5211, 560600.2511 4882255.765000001, 560569.5774999997 4882262.5375, 560550.3765000002 4882266.765000001, 560525.2390000001 4882271.3631, 559384.1802000003 4882326.506899999, 559210.3871999998 4882304.3901, 559200.5767000001 4882304.872400001, 559120.3334999997 4882391.378799999, 558140.7706000004 4884014.501499999, 558143.3956000004 4884267.874600001, 558134.0207000002 4884389.7486000005, 558100.6459999997 4884546.747400001, 558099.8047000002 4884549.466499999, 558096.1801000005 4884560.6982, 558067.8963000001 4884623.3718, 557519.1738 4885138.6032, 557425.5269999998 4885212.618100001, 557403.7934999997 4885222.526799999, 557397.1233000001 4885225.4011, 557343.0273000002 4885243.2424, 556466.9715999998 4885351.741599999, 555381.5425000004 4886317.608899999, 554581.3295 4887110.490700001, 554036.8827999998 4887578.9198, 554028.9203000003 4887585.190199999, 554023.5509000001 4887589.131200001, 553382.3277000003 4887944.34, 553337.8086999999 4887957.5964, 553320.8087999998 4887958.8464, 553302.1838999996 4887956.7214, 553268.6842 4887950.7214, 553152.8102000002 4887923.409399999, 552585.5647999998 4888230.2195999995, 552550.0648999996 4888243.5942, 552536.0650000004 4888246.7192, 552524.0651000002 4888247.9692, 552447.8157000002 4888254.9692, 552404.0659999996 4888256.8442, 551927.0698999995 4888225.719799999, 551868.2116 4888220.7783, 551832.9896 4888211.7423, 551815.2869999995 4888207.168, 551809.5851999996 4888205.674699999, 551511.9479 4888096.9705, 551468.6398 4888078.929, 551404.4488000004 4888048.720899999, 551389.3239000002 4888030.721100001, 551362.1990999999 4887956.8467, 551357.8240999999 4887931.346899999, 551352.1990999999 4887889.347200001, 551335.6191999996 4887818.1099, 551158.5756000001 4887351.726399999, 551120.5758999996 4887273.602, 551094.2011000002 4887238.727299999, 550887.3276000004 4886968.729499999, 550833.4530999996 4886899.23, 549793.8362999996 4887887.7224, 549457.2139999997 4888517.967499999, 548710.7198999999 4889445.4604, 548584.3461999996 4890261.8292, 548713.4700999996 4890437.5776, 548741.3448000001 4890492.827199999, 548761.9265000001 4890538.6614, 548776.5946000004 4890571.3265, 548765.2197000002 4890635.575999999, 548725.5548 4890768.0315000005, 548724.4329000004 4890771.6822999995, 548655.4708000002 4890882.5744, 548537.0969000002 4891024.1985, 548445.5977999996 4891107.323100001, 548418.1201999998 4891123.725400001, 548203.8494999995 4891224.447000001, 548180.5997000001 4891229.572000001, 548162.2246000003 4891227.571699999, 547560.9792999998 4891268.696599999, 547235.4819 4891306.6963, 545460.3706 4892266.6887, 545454.1206999999 4892272.6887, 545363.9265000001 4892371.4285, 545355.0729 4892381.4355, 545341.1599000003 4892397.589, 545283.1531999996 4892500.558700001, 545284.8722000001 4892510.687000001, 545289.3722000001 4892527.686899999, 545359.1217 4892770.6850000005, 545480.4956999999 4892944.683599999, 545486.0456999997 4892953.608999999, 545491.8706999999 4892986.6833, 545525.6204000004 4893227.556399999, 545037.1820999999 4893731.585200001, 544853.7418999998 4893677.9509, 544718.0022999998 4893988.551000001, 544114.7569000004 4894784.6697, 543873.2526000002 4894971.159, 543850.6665000003 4894985.7369, 543822.2588999998 4895004.0427, 543774.7593 4895031.9175, 543656.8852000004 4895045.667400001, 543578.5108000003 4895049.667400001, 543503.6364000002 4895044.667400001, 543462.5116999997 4895036.6675, 543433.2489 4895027.876700001, 543422.8932999996 4895024.6536, 543390.8224999998 4895011.6028, 543371.3874000004 4895003.6678, 543332.6376999998 4894990.6679, 543195.3892999999 4894944.6686, 543039.3904999997 4894926.6687, 542759.7676999997 4894966.668400001, 542288.2839000002 4895052.772, 541331.7164000003 4895791.855900001, 540842.5360000003 4896064.414100001, 540962.7813999997 4896194.6589, 541920.8989000004 4897135.6513, 541821.0247999998 4898181.143200001, 542116.5226999996 4899014.136700001, 542206.6782999998 4899134.528899999, 542276.3964999998 4899229.635, 542322.2710999995 4899296.134500001, 542351.2708999999 4899349.134099999, 542387.0208999999 4899418.1338, 542390.8959999997 4899425.6338, 542426.1458 4899503.633199999, 542458.3954999996 4899587.6325, 542567.7693999996 4900039.628799999, 542620.2691000002 4900116.1282, 542664.7687999997 4900153.627900001, 542750.2676999997 4900210.1271, 543220.1391000003 4900450.6252, 544558.2538000001 4900638.1238, 544638.6282000002 4900606.124, 544847.3766000001 4900513.1247000005, 544888.0012999997 4900489.6249, 545624.8704000004 4900176.1271, 545682.477 4900280.4352, 545685.6200000001 4900286.1263999995, 545780.6193000004 4900469.125, 545809.7441999996 4901182.1194, 545818.8690999998 4901616.115800001, 545756.7446999997 4902105.1121, 545666.6863000002 4902156.568600001, 545330.9981000004 4902426.1099, 545226.9989999998 4902513.109200001, 544821.1272 4902892.1063, 544459.3799999999 4903581.101, 544302.3811999997 4903944.097999999, 544237.5066999998 4904210.095899999, 544180.6321999999 4904275.0954, 544122.6326000001 4904329.095000001, 543579.7619000003 4904807.091399999, 543503.7625000002 4904873.0909, 543431.7631000001 4904918.090500001, 543338.2735000001 4904967.875600001, 543118.7654999997 4904940.090399999, 542998.8914000001 4904911.090600001, 542938.8919000002 4904920.090600001, 542720.4195999997 4905346.2368, 542522.0199999996 4905460.086200001, 542430.1457000002 4905523.0857, 541852.2637999998 4906024.007200001, 541845.2752999999 4906030.081800001, 541806.2756000003 4906096.0813, 541686.2767000003 4906434.0788, 541453.5284000002 4906911.074999999, 540765.6589000002 4907495.070699999, 540489.7861000001 4907691.0692, 539809.0412999997 4908298.0644000005, 539826.5411999999 4908313.064300001, 539950.0403000005 4908676.0616, 539971.0400999999 4908786.060699999, 539965.0401999997 4908856.0602, 539941.1654000003 4908940.0594999995, 539944.0404000003 4909134.058, 539955.0403000005 4909419.0558, 540153.9138000002 4909851.0524, 540263.9129999997 4909940.0517, 540379.9121000003 4909989.0513, 540510.9111000001 4910100.0504, 540515.4110000003 4910105.0503, 540596.9105000002 4910197.5496, 541294.7801000001 4911454.539799999, 540626.0355000002 4911947.4111, 539531.0442000004 4912736.030300001, 539481.0445999997 4912863.0293000005, 539396.0453000003 4913191.026799999, 539378.0454000002 4913319.025699999, 539381.0454000002 4913539.524, 539383.0451999996 4913682.022700001, 539409.0449999999 4913862.021299999, 539395.6003 4913928.572699999, 539389.0451999996 4913961.020500001, 539362.2046999997 4914005.475099999, 539341.0455 4914040.5199, 538981.7624000004 4914540.624600001, 538977.2845999999 4914544.721899999, 538505.1770000001 4914231.5185, 537812.3074000003 4914646.5154, 537742.1830000002 4914698.515000001, 537686.1834000004 4914779.5143, 537610.3090000004 4914893.513499999, 537585.3092 4914993.512700001, 537588.3092 4915090.5119, 537657.1836999999 4915201.5111, 537669.3086000001 4915274.510500001, 537663.3086999999 4915361.5098, 537615.1841000002 4915806.5064, 537588.3093999997 4915880.505799999, 537290.3115999997 4916393.0019000005, 537241.3119999999 4916469.0013, 537181.3125 4916539.000700001, 537114.8667000001 4916574.6953, 537101.3580999998 4916581.818700001, 537087.3131999997 4916583.000399999, 537202.3123000003 4916746.9991, 537225.3465 4916776.7718, 537274.3118000003 4916839.998400001, 537305.8312999997 4916862.3247, 537346.2527999999 4916890.9135, 537925.3068000004 4917228.9953000005, 538141.1841000002 4917441.498500001, 538199.1853999998 4917492.5002, 538255.1853 4917542.4998, 538295.1847000001 4917587.4997000005, 538322.1848999998 4917623.499299999, 538503.0893999999 4918111.495200001, 538484.1524 4918148.4956, 538431.1527000004 4918189.4947, 538393.0902000004 4918239.4943, 538375.6216000002 4918273.6658, 538373.1534000002 4918278.494100001, 538362.6535 4918312.494200001, 538444.2779000001 4918402.4932, 538509.2772000004 4918472.492900001, 539315.1771999998 4919074.4878, 539393.4504000004 4919092.9223, 539417.0823999997 4919098.4879, 540664.9171000002 4919316.4857, 542510.6481999997 4919690.4783, 542568.6474000001 4919684.478, 542644.5214 4919647.477600001, 542763.5210999995 4919582.478399999, 542794.5212000003 4919542.479, 542815.2911 4919503.595899999, 542817.4840000002 4919499.464199999, 542826.3865999999 4919471.9574, 542829.5011 4919462.1963, 542834.5608999999 4919446.4758, 542857.5198999997 4919384.480599999, 542884.3951000003 4919353.480599999, 542909.3709000004 4919331.4648, 542957.3940000003 4919298.4805, 543002.3940000003 4919277.4805, 543400.3910999997 4919343.4805, 543484.3907000003 4919373.479699999, 543875.2934999997 4919568.478399999, 543900.2933 4919637.478399999, 543896.2631000001 4919682.1899, 543892.3562000003 4919725.477, 543923.3800999997 4920185.262399999, 543948.3559999997 4920249.4736, 544239.2904000003 4920537.4713, 544500.3639000002 4920689.432700001, 544786.3788999999 4920566.7819, 545137.0303999996 4920466.664899999, 545627.9971000003 4920323.4714, 545987.1193000004 4920195.4724, 546382.8819000004 4919590.511399999)))\",\n          \"MULTIPOLYGON (((425041.4112 4997628.2327, 424949.0543999998 4997057.3577, 424871.63159999996 4996257.355900001, 425091.1596999997 4995376.1415, 425253.6090000002 4995331.8243, 425266.73780000024 4995327.3478, 425322.00430000015 4995306.3243, 425332.23500000034 4995301.8192, 425336.7131000003 4995297.955499999, 425345.4956 4995290.361199999, 425552.1157999998 4995076.3442, 425755.9874 4994824.3473000005, 425762.8119999999 4994816.800799999, 425767.75189999957 4994811.350400001, 425790.7357000001 4994792.846100001, 425795.7416000003 4994788.851600001, 426531.9944000002 4994449.983100001, 426776.0251000002 4994346.4026, 427109.75040000025 4994226.912799999, 427233.34860000014 4994185.3499, 427249.2401999999 4994189.9364, 427281.9590999996 4994207.3212, 427445.2094999999 4994316.306500001, 427530.11400000006 4994403.7633, 428468.6782999998 4995992.5448, 428475.3624 4996003.9322, 428479.2753999997 4996013.4067, 428644.1945000002 4996420.818600001, 428876.29530000035 4997225.673, 428851.4494000003 4997605.2322, 428876.9528000001 4997860.3268, 428943.69519999996 4997982.8467999995, 428968.2017999999 4997996.8069, 429061.15029999986 4997937.4244, 429157.6392999999 4997671.828, 429184.8551000003 4997660.329600001, 431145.6816999996 4997078.327099999, 431496.78139999975 4996983.583699999, 431510.0548999999 4996970.328500001, 431577.6509999996 4996655.464199999, 431578.73280000035 4996634.353, 431563.61429999955 4996570.385600001, 431399.5976999998 4996005.818700001, 431384.59640000015 4995966.3399, 431370.59140000027 4995938.6899999995, 431093.20040000044 4995405.3564, 430986.69990000036 4995281.369999999, 430965.40699999966 4995257.371300001, 430940.43369999994 4995238.845000001, 430930.31060000043 4995232.344799999, 430905.56070000026 4995217.3452, 430857.9071000004 4995188.5098, 430667.44180000015 4995201.8237, 430537.82459999993 4995229.370999999, 430241.3252999997 4995195.3445, 429932.7148000002 4994567.8577, 429926.36429999955 4994546.9311, 429924.9885999998 4994542.3386, 429924.98429999966 4994523.832800001, 429926.32749999966 4994393.829600001, 429939.81850000005 4994157.852, 429940.32490000036 4994150.874, 429940.60780000035 4994147.843800001, 429972.41309999954 4993825.41, 429990.9621000001 4993798.8433, 430049.96719999984 4993731.3553, 430119.07550000027 4993652.354800001, 430142.1914999997 4993630.850299999, 430174.0663999999 4993602.8521, 430211.31510000024 4993576.851, 430222.31659999955 4993573.353499999, 430249.56539999973 4993566.351, 430272.69130000006 4993560.852299999, 430285.19020000007 4993561.851500001, 430299.93989999965 4993560.352499999, 430316.56799999997 4993558.3496, 430339.93900000025 4993554.3518, 430358.69020000007 4993549.852499999, 430367.9371999996 4993545.351199999, 430376.93790000025 4993540.3518, 430391.31269999966 4993531.351199999, 430776.77890000027 4993283.8653, 430779.87119999994 4993265.9120000005, 430886.3085000003 4992612.359200001, 430878.06120000035 4992597.3599, 430654.37289999984 4992249.419299999, 430679.3576999996 4992155.7673, 430680.3066999996 4992149.131200001, 430680.8989000004 4992139.9333999995, 430681.60309999995 4992128.604900001, 430681.0828999998 4992089.9573, 430679.3526999997 4992068.0527, 430678.44159999955 4992056.8453, 430625.3125 4991449.866800001, 430605.81149999984 4991297.8674, 431019.3574000001 4990984.765900001, 431037.6803000001 4990998.7578, 431058.31989999954 4991013.371200001, 431074.0780999996 4991023.371300001, 431099.7292999998 4991038.373400001, 431104.99789999984 4991038.4015999995, 431115.1825000001 4991038.3694, 431148.4369000001 4991037.8665, 431174.9304999998 4991035.3693, 431453.6160000004 4990947.4289, 431604.42349999957 4990887.8708999995, 431631.3147 4990872.9037999995, 431680.3649000004 4990836.93, 431830.9879999999 4990715.9309, 431655.4287999999 4989761.8796999995, 431630.6808000002 4989682.380899999, 431624.1805999996 4989653.881100001, 431623.4689999996 4989639.941199999, 431623.2884999998 4989634.862, 431625.00100000016 4989620.7455, 431629.67569999956 4989604.880899999, 431634.3076999998 4989591.3807, 431643.1953999996 4989572.384500001, 431903.6754999999 4989227.8838, 431918.2982000001 4989215.884500001, 432019.3574000001 4989145.8245, 432034.17530000024 4989137.385199999, 432053.8008000003 4989126.385500001, 432069.9249 4989119.385500001, 432262.6690999996 4989042.885299999, 432300.0505999997 4989036.3849, 432430.4216 4989049.385500001, 432446.6721000001 4989125.8839, 432449.92619999964 4989169.8849, 432467.9221999999 4989217.3839, 432489.0471000001 4989256.3836, 432542.7966 4989267.882999999, 432591.6715000002 4989277.3837, 432799.2944 4989279.884400001, 432846.67030000035 4989274.883300001, 433067.9932000004 4989248.993799999, 433086.6942999996 4989246.4406, 433111.2893000003 4987482.395, 433116.91899999976 4987476.896, 433139.7890999997 4987453.3956, 433147.0389999999 4987445.8958, 433163.1626000004 4987428.3958, 433432.7862999998 4987121.8983, 433440.9124999996 4987112.3978, 433476.9121000003 4987065.8983, 433550.0089999996 4986963.0284, 433560.3501000004 4986947.4596, 433682.3507000003 4986748.9608, 433685.9754999997 4986741.461100001, 433694.84949999955 4986720.460999999, 433716.4342 4986653.513699999, 433744.53259999957 4986550.9015999995, 433745.28699999955 4986545.326400001, 433754.4079 4986473.9033, 433744.89630000014 4986347.9155, 434545.0153000001 4986851.4131000005, 434868.9522000002 4987184.342599999, 434883.11899999995 4987198.8127999995, 434902.301 4987216.396400001, 434957.4193000002 4987266.3958, 436045.76300000027 4988122.8915, 436057.3953 4988111.8917, 436065.7695000004 4988103.870999999, 436124.42119999975 4988020.369200001, 436134.33210000023 4988002.953199999, 436242.5684000002 4987682.171399999, 436242.517 4987351.8968, 436247.01439999975 4987322.897299999, 436304.4260999998 4987174.429400001, 436309.3576999996 4987163.543099999, 436315.57519999985 4987149.8189, 436320.3875000002 4987140.015799999, 436322.64859999996 4987135.4177, 436325.6403000001 4987129.4002, 436344.38960000034 4987097.4004, 436355.13960000034 4987083.4004999995, 436367.01580000017 4987070.399800001, 436407.0148 4987038.4001, 436418.1358000003 4987030.9002, 436433.39300000016 4987021.399800001, 436966.5083999997 4986692.4032000005, 437188.62909999955 4986581.4045, 437630.3777999999 4986107.907199999, 437911.24899999984 4985764.9088, 438345.8158 4985075.973999999, 438460.36539999954 4984817.4165, 438240.61099999957 4984423.9308, 438360.36789999995 4984419.419, 438635.8688000003 4984730.9158, 438758.8252999997 4984885.2722, 438970.3519000001 4985192.9311999995, 438972.4462000001 4985196.6797, 438975.7673000004 4985202.858899999, 439128.6506000003 4985510.358999999, 439166.8680999996 4985589.410700001, 439250.0577999996 4985782.968900001, 439349.68400000036 4986069.9673999995, 439371.0937000001 4986132.9286, 439418.0569000002 4986460.464, 439690.8596999999 4987161.8993, 439695.48610000033 4987175.399599999, 439714.80229999963 4987234.297900001, 439715.90720000025 4987237.8967, 439716.15770000033 4987243.0066, 439716.5547000002 4987254.9573, 439716.0549999997 4987267.957900001, 439713.0547000002 4987282.457699999, 439706.4093000004 4987311.4417, 439702.91280000005 4987324.385199999, 439687.35840000026 4987381.397500001, 439681.61369999964 4987396.3968, 439673.99820000026 4987415.3903, 439648.26269999985 4987458.9147, 439635.94269999955 4987479.1658, 439632.3805999998 4987484.604900001, 439598.1802000003 4987532.955399999, 439583.1808000002 4987552.9561, 439556.3065999998 4987583.956, 439369.43429999985 4987820.8335, 439233.3605000004 4988073.8915, 439167.7407999998 4988529.286900001, 439231.80649999995 4988729.4465, 439244.05759999994 4988759.4454, 439297.0647999998 4988829.7985, 439390.69460000005 4988886.352499999, 439484.1919 4988974.0035999995, 439510.85199999996 4989004.258199999, 439560.34779999964 4989064.8903, 439756.1130999997 4989341.384400001, 439757.4874999998 4989344.3846, 439762.30480000004 4989356.0141, 439779.1122000003 4989396.8849, 439869.30420000013 4989707.413000001, 439870.9932000004 4989713.7903, 439975.48699999973 4989935.879899999, 440170.8197999997 4990202.3497, 440242.50650000013 4990264.740900001, 440270.9737 4990289.3902, 440539.10610000044 4990229.877900001, 440566.1087999996 4990223.3774999995, 440605.6063000001 4990210.3771, 440850.3272000002 4990128.928099999, 440979.9201999996 4990083.4377999995, 441183.7929999996 4990013.9374, 441231.04420000035 4989998.4383000005, 441927.01219999976 4989977.2566, 441939.94099999964 4989976.877, 441949.5445999997 4989977.5066, 441958.33499999996 4989981.709899999, 441962.8169 4989983.908299999, 441965.95139999967 4989986.6306, 441970.09279999975 4989990.380100001, 442097.0259999996 4990127.8311, 442711.1173999999 4990040.380799999, 442904.83550000004 4990023.8737, 442923.8668999998 4990022.875499999, 442931.4464999996 4990024.240700001, 442935.01939999964 4990024.897, 442942.9955000002 4990026.380899999, 443395.5250000004 4990255.4353, 444146.7318000002 4990876.3018, 444891.4578 4991537.020400001, 445102.18180000037 4991751.8783, 445166.3381000003 4991610.045700001, 445803.48479999974 4991034.8313, 445282.29700000025 4989804.9004, 445953.7237 4989305.8714000005, 446473.66750000045 4989056.372099999, 446480.3010999998 4989052.513699999, 446503.51889999956 4989038.9156, 446538.78050000034 4989014.7634, 446552.46389999986 4989005.2611, 446587.6264000004 4988979.4454, 446603.9121000003 4988965.8949, 446609.39109999966 4988961.296499999, 446635.0025000004 4988938.9464, 446621.0809000004 4988717.909399999, 446595.6805999996 4988410.3903, 446874.6303000003 4987676.513699999, 447264.9974999996 4987066.9594, 447482.28089999966 4986912.4231, 447736.2435999997 4987056.527799999, 447913.54729999974 4987049.9012, 448564.4874999998 4986899.4614, 448851.7915000003 4986403.9056, 448856.7887000004 4986395.906300001, 448866.5373999998 4986384.9046, 448942.9165000003 4986298.9055, 448950.2894000001 4986295.905200001, 449277.53920000046 4986227.406199999, 449307.2735000001 4986275.4188, 449459.53270000033 4986033.911800001, 449330.49729999993 4985633.501499999, 449329.8929000003 4985626.8794, 449329.2871000003 4985618.910499999, 449360.29140000045 4985535.4122, 449383.0365000004 4985482.4125, 449393.16170000006 4985462.911499999, 449407.1616000002 4985436.412599999, 449451.0883999998 4985361.8792, 449530.53270000033 4984991.915999999, 449616.0321000004 4984559.418199999, 449519.0312000001 4984260.4355999995, 449481.16980000027 4984259.4253, 449460.0449000001 4984258.424000001, 449423.7912999997 4984256.425100001, 449417.9176000003 4984252.9252, 449155.24039999954 4984036.987500001, 449072.29750000034 4983859.427300001, 449041.7969000004 4983774.927300001, 449094.67169999983 4983616.4297, 449121.0103000002 4983390.8475, 448894.78500000015 4982921.9461, 449051.46970000025 4982502.9495, 449457.4554000003 4981994.9186, 449454.9530999996 4981912.7563000005, 449462.2022000002 4981827.859300001, 449513.8602999998 4981722.5032, 449518.66669999994 4981719.241599999, 449524.23539999966 4981715.5032, 449547.48620000016 4981703.0043, 450109.0365000004 4981432.4439, 450188.23089999985 4981398.505999999, 450242.6048999997 4981386.506899999, 450258.59949999955 4981387.6884, 450316.35500000045 4981392.5055, 450685.3141999999 4981441.6579, 450994.29569999967 4981463.8971, 451089.1994000003 4981308.8474, 451299.65029999986 4980885.4463, 451432.98199999984 4980494.430299999, 451688.24430000037 4979688.813999999, 451688.5636 4979683.9409, 451689.0016999999 4979676.493899999, 451687.15020000003 4979661.459799999, 451676.5251000002 4979623.4539, 451670.02469999995 4979600.9528, 451665.2734000003 4979586.9549, 451663.17289999966 4979582.7896, 451657.6880999999 4979572.0273, 451649.4118999997 4979556.5602, 451647.76719999965 4979553.5074000005, 451645.5855999999 4979549.4669, 451640.26219999976 4979539.6138, 451636.6377999997 4979533.4869, 451627.79389999993 4979518.547499999, 451625.8682000004 4979516.260600001, 451608.1470999997 4979495.251700001, 451596.9294999996 4979482.5569, 451547.77660000045 4979440.9541, 451541.7759999996 4979436.454500001, 451525.7751000002 4979427.955499999, 451512.7725999998 4979422.954299999, 451496.5312999999 4979419.4539, 451483.0253999997 4979415.954299999, 451456.77639999986 4979408.954299999, 451424.88210000005 4979399.773800001, 451414.27639999986 4979395.4559, 451403.27880000044 4979390.0866, 451395.50019999966 4979383.9815, 451384.6392000001 4979372.57, 451374.40699999966 4979361.0821, 451366.6579999998 4979350.769300001, 451362.6672 4979344.8934, 451342.8914000001 4979315.455700001, 451006.96999999974 4978801.5241, 451001.7209000001 4978792.023600001, 450944.9511000002 4978680.867699999, 450943.36840000004 4978676.3248, 450939.97009999957 4978666.5251, 450912.80539999995 4978587.4034, 450911.39389999956 4978576.629899999, 450921.47080000024 4978510.526000001, 450924.5959000001 4978495.5265999995, 450929.5050999997 4978477.8574, 451273.47140000015 4977690.098300001, 451316.21669999976 4977608.5714, 451261.29700000025 4977603.435799999, 451245.93429999985 4977601.4519, 451232.52579999994 4977598.9375, 450907.3409000002 4977519.8364, 450900.19209999964 4977516.452199999, 450800.27610000037 4977382.5008000005, 450798.36120000016 4977379.930600001, 450795.7329000002 4977374.759400001, 450792.26970000006 4977367.738600001, 450788.8334999997 4977354.905300001, 450785.5338000003 4977328.9407, 450778.0301000001 4977243.4375, 450776.9165000003 4977225.952199999, 450778.16000000015 4977203.436899999, 450781.11450000014 4977180.3838, 450913.3465 4976611.040999999, 450919.4720999999 4976597.5408, 450927.9713000003 4976584.540100001, 450939.7204999998 4976567.039999999, 451058.22190000024 4976422.040999999, 451251.43960000016 4976201.431600001, 451037.3046000004 4975270.409499999, 451048.27359999996 4975215.9179, 451112.56010000035 4974722.4957, 451094.83690000046 4974703.4158, 451085.6721000001 4974697.412699999, 451077.2949000001 4974691.939300001, 451044.98330000043 4974676.4429, 450964.9036999997 4974641.051200001, 450950.1963999998 4974641.1039, 450941.8247999996 4974641.214400001, 450916.0970999999 4974641.555500001, 450862.9724000003 4974643.554400001, 450838.0976 4974644.5538, 450804.09690000024 4974646.055, 450745.7231999999 4974653.5547, 450696.4732999997 4974660.5547, 450670.5991000002 4974665.054099999, 450658.4729000004 4974667.5547, 450409.1001000004 4974752.554199999, 450339.34979999997 4974777.054199999, 450262.97640000004 4974821.5528, 450177.4771999996 4974873.0535, 450163.8519000001 4974883.0538, 449536.54980000015 4974574.438999999, 449532.9040000001 4974568.8292, 449528.81439999957 4974562.4396, 449525.58160000015 4974556.933800001, 449527.55090000015 4973975.954500001, 449614.58440000005 4973751.9418, 449384.1003999999 4973474.444800001, 449751.0477999998 4973066.0703, 449754.2730999999 4973061.3169, 449762.96970000025 4973048.379899999, 449807.6348000001 4972981.705499999, 449811.3691999996 4972975.9222, 449833.4792999998 4972916.5667, 449843.0466 4972873.3006, 449845.28479999956 4972862.967, 450021.32490000036 4972050.544500001, 450146.36789999995 4971508.0199, 450154.40830000024 4971499.4858, 450334.6831 4971288.008099999, 450350.8024000004 4971269.0108, 450360.3354000002 4971255.6173, 450363.2728000004 4971251.486, 450390.79870000016 4971209.0141, 450402.98429999966 4971183.013499999, 450411.22009999957 4971161.5449, 450415.4539000001 4971146.545700001, 450416.5703999996 4971137.5448, 450450.8443 4970851.0286, 450633.2779000001 4970633.0098, 450949.3437000001 4970007.0231, 451260.63719999976 4969563.0451, 451605.21549999993 4969372.0956, 451882.0064000003 4969270.3071, 451124.2204 4968505.102299999, 450951.9400000004 4968262.498299999, 450902.7885999996 4968175.5263, 450695.54569999967 4966347.0098, 450694.78949999996 4966284.0155, 450701.9491999997 4966141.366, 450703.8035000004 4966121.5166, 450706.56230000034 4966114.539100001, 450711.2271999996 4966110.946699999, 450793.2496999996 4966048.0371, 451086.22759999987 4965900.1569, 451090.5926999999 4965903.933599999, 451106.0957000004 4965917.121200001, 451119.97080000024 4965923.6217, 451140.7209000001 4965931.620999999, 451598.67679999955 4966099.0254, 451625.0946000004 4966107.6205, 451642.46970000025 4966112.6216, 451664.46910000034 4966113.620999999, 451681.7193 4966109.621300001, 451696.8403000003 4966105.5428, 451709.1507000001 4966102.020099999, 451889.71520000044 4966028.893100001, 451976.05539999995 4965992.4484, 452007.6087999996 4965978.9792, 452040.4188000001 4965961.6084, 452065.40390000027 4965947.515000001, 452078.9369999999 4965938.157400001, 452092.0246000001 4965929.014699999, 452110.2675999999 4965913.012599999, 452304.85699999984 4965685.329, 452307.46190000046 4965666.622300001, 452396.3362999996 4965601.1237, 452412.7121000001 4965589.624500001, 452431.71109999996 4965579.1241999995, 452594.4977000002 4965544.006999999, 452614.89919999987 4965542.0086, 452813.6420999998 4965559.5298999995, 452845.28330000024 4965567.9717, 453272.92009999976 4965722.0118, 453307.16029999964 4965736.532299999, 453325.5125000002 4965746.233200001, 453328.8378999997 4965748.0251, 453914.4840000002 4966100.0495, 454446.6040000003 4966393.6262, 454529.9446999999 4965730.122300001, 454809.8479000004 4965134.9803, 454152.5111999996 4963828.389699999, 454252.57210000046 4963681.138599999, 454186.0767999999 4963116.4442, 454187.52419999987 4963097.0383, 454190.6425999999 4963084.580399999, 454414.3200000003 4962906.144400001, 454558.02219999954 4962794.5298, 455524.6880999999 4962156.649599999, 455537.0619999999 4962163.649700001, 455630.45440000016 4962228.4647, 456438.6810999997 4961959.1525, 456692.26719999965 4962009.5019000005, 456696.3569 4962008.9944, 456702.1657999996 4962008.1994, 456721.28729999997 4962005.559, 456761.80399999954 4961988.651799999, 456853.96839999966 4961883.531199999, 457121.5920000002 4961429.546499999, 457130.2374999998 4961380.0557, 457130.6808000002 4961374.0408, 457131.02919999976 4961368.942600001, 457140.07919999957 4961217.5966, 457140.7905000001 4961196.0901999995, 457143.0153999999 4961155.5940000005, 457160.2879999997 4961127.5603, 457192.88999999966 4961109.234300001, 457357.25710000005 4961270.519400001, 457386.62409999967 4961307.829, 457389.1173999999 4961311.069700001, 457420.01209999993 4961352.579399999, 457512.9230000004 4961484.6555, 457523.7977 4961503.1548, 457528.0471999999 4961511.6559, 457535.5469000004 4961530.1555, 457537.5508000003 4961538.653899999, 458768.15720000025 4961662.761700001, 458826.6803000001 4961666.2217999995, 459666.08779999986 4960818.6095, 459645.4478000002 4960809.0876, 459614.23039999977 4960794.5600000005, 459606.7307000002 4960790.0605, 459584.8562000003 4960772.060799999, 459429.48170000035 4960618.0623, 459407.11039999966 4960569.5594, 459351.2133999998 4960411.5232, 459355.4408999998 4960406.4805, 459382.9879999999 4960374.070900001, 460156.35390000045 4959667.569599999, 460460.8507000003 4959399.071699999, 460606.06259999983 4959271.091, 460625.6004999997 4959280.5679, 460958.31510000024 4959448.1022, 461035.08609999996 4959564.575200001, 461323.85840000026 4959657.0855, 461332.25600000005 4959659.7108, 461389.4877000004 4959675.356000001, 461505.5083999997 4959423.2612, 460568.09329999983 4958994.2326, 460100.9034000002 4958653.6774, 460120.90199999977 4958637.6786, 460401.9927000003 4958086.7696, 460541.09609999973 4957735.5929000005, 460258.2281999998 4957452.581700001, 459737.3872999996 4957004.581800001, 458888.75150000025 4955547.5525, 458910.4784000004 4955501.638499999, 459002.1113999998 4955512.596100001, 459327.8344999999 4955577.6304, 459399.0181 4955592.723999999, 459405.22300000023 4955594.079600001, 459433.4631000003 4955601.502900001, 459441.2109000003 4955603.5943, 459464.0246000001 4955613.9912, 459469.4961000001 4955616.5945, 459492.4968999997 4955629.5951000005, 459510.6023000004 4955640.428099999, 459554.92459999956 4955667.110099999, 459459.57550000027 4954919.127599999, 459154.4681000002 4954917.0550999995, 458728.09779999964 4955254.577099999, 458371.38960000034 4955642.5569, 458316.7496999996 4955672.5923, 458249.1715000002 4955700.566400001, 457902.27890000027 4955774.5658, 457852.91420000046 4955754.9901, 457576.9815999996 4955853.614700001, 457175.04480000027 4955606.650599999, 456539.61149999965 4954085.4593, 456222.46499999985 4954346.606799999, 455640.8914000001 4953864.1151, 455625.4313000003 4953874.596899999, 455503.0142000001 4953889.106699999, 455442.7644999996 4953895.606899999, 455419.73840000015 4953893.6098, 454248.89740000013 4953460.108999999, 454187.44990000036 4953337.2183, 454240.24679999985 4953250.087300001, 454416.4474999998 4952957.7206999995, 454710.3211000003 4952149.227700001, 454745.2619000003 4952046.1219, 454747.17229999974 4952035.3631, 454750.33910000045 4952016.5757, 454750.0839999998 4952011.6984, 454746.9625000004 4951970.0811, 454746.2572999997 4951962.093900001, 454721.5714999996 4951891.729, 454578.0186999999 4951501.6296, 454475.7101999996 4951262.1436, 454595.1963999998 4951060.7346, 455113.79140000045 4951010.1448, 455077.03780000005 4950942.6842, 455074.78280000016 4950938.665200001, 454825.86039999966 4950722.274499999, 453898.4068999998 4950849.5647, 453578.2786999997 4950624.6261, 453464.77940000035 4950556.626700001, 453442.28029999975 4950547.6258000005, 453427.05069999956 4950547.821699999, 453387.9687999999 4950548.599099999, 453163.38069999963 4950557.669, 453160.9573999997 4950384.7393, 453166.2062999997 4950357.2411, 453341.95610000007 4949514.747300001, 453571.83029999956 4949165.2487, 453576.8650000002 4949161.062100001, 453585.5667000003 4949158.334799999, 453589.5800000001 4949157.2491999995, 453611.60720000044 4949153.4263, 453617.20519999973 4949152.638800001, 453620.05840000045 4949152.8006, 454069.6102999998 4949223.1395, 454086.7739000004 4948933.685799999, 453897.42310000025 4948826.274499999, 453859.95299999975 4948805.252, 453117.6579999998 4948543.1437, 452752.8365000002 4948516.2555, 452731.43429999985 4948525.5776, 452701.7873999998 4948527.645500001, 452180.7131000003 4948494.697899999, 452162.4179999996 4948491.1461, 452000.4671 4948403.254899999, 451987.71630000044 4948391.255799999, 451977.5911999997 4948376.2542, 451903.41229999997 4948251.5217, 451905.4444000004 4948265.6909, 451905.23759999964 4948270.2918, 451904.7849000003 4948278.6501, 451901.02969999984 4948295.6461, 451893.6244999999 4948327.5986, 451737.05069999956 4948423.533600001, 450592.8147999998 4949037.2096, 450308.9696000004 4949205.965, 449490.44799999986 4949303.6208999995, 449336.1980999997 4949317.599099999, 448368.19350000005 4949136.638800001, 448321.69400000013 4949112.138900001, 448283.32079999987 4949074.1405, 448260.96669999976 4949042.1227, 448247.74980000034 4949009.615700001, 448199.11569999997 4948722.759099999, 448197.5700000003 4948708.286800001, 448226.53280000016 4948657.102600001, 448228.4989 4948653.6850000005, 448231.70249999966 4948648.1261, 448304.6317999996 4948509.8429000005, 448542.1815999998 4947930.652799999, 448919.81159999967 4947207.141100001, 448897.40749999974 4946922.277899999, 448809.85560000036 4946755.0282000005, 448687.1467000004 4946238.728, 448628.2045 4945936.819800001, 448595.32859999966 4945645.881100001, 448588.1189000001 4945424.7773, 448717.22140000015 4945085.509099999, 448745.7422000002 4945020.7818, 448782.9933000002 4944957.2820999995, 448786.61789999995 4944955.7805, 448904.72449999955 4944767.248400001, 448844.4907999998 4944302.7864, 448834.7165000001 4943071.702099999, 447732.7485999996 4941346.214500001, 447096.80840000045 4940961.5371, 447043.3680999996 4940963.2885, 446594.47589999996 4941055.181399999, 446527.7241000002 4940682.801200001, 446372.13659999985 4940395.316500001, 446327.91309999954 4940326.8202, 446287.0122999996 4940273.8179, 446019.5426000003 4940005.712400001, 445865.38680000044 4939858.3344, 445828.5159 4939832.821799999, 445810.6014999999 4939817.706700001, 445746.64169999957 4939719.822000001, 445562.76769999973 4939081.325999999, 445557.76850000024 4938958.8279, 445590.7675000001 4938853.328, 445827.63900000043 4938234.3325, 445988.2644999996 4938073.833900001, 446011.76290000044 4938058.3347, 447490.2520000003 4937730.8355, 447496.2525000004 4937783.3355, 447525.62679999974 4937804.8353, 447707.2503000004 4937858.8346, 447798.8174999999 4937867.8507, 447804.49789999984 4937868.3763, 447931.74820000026 4937859.3365, 448164.2692 4937820.6938000005, 448194.50960000046 4937808.6291000005, 448379.0804000003 4937727.199999999, 448452.13269999996 4937688.2007, 448534.7109000003 4937642.8685, 448543.1941999998 4937638.1109, 448732.47059999965 4937071.709799999, 448904.2801000001 4936972.774800001, 449460.53450000007 4936556.8521, 449710.6090000002 4936283.7086, 449721.0741999997 4936266.611500001, 449737.73450000025 4936239.348200001, 449913.26499999966 4935938.218699999, 449914.51580000017 4935932.771600001, 449916.48280000035 4935923.350500001, 449909.73479999974 4935911.351500001, 449898.35809999984 4935904.351500001, 449815.11149999965 4935885.1942, 449229.70239999983 4935444.2168000005, 449201.3393000001 4935434.218599999, 449187.50299999956 4935432.057, 449167.8671000004 4935429.1173, 449164.5409000004 4935428.6987, 449102.3027999997 4935439.6888, 449096.81039999984 4935440.673900001, 449085.3554999996 4935442.7454, 448980.4537000004 4935483.738600001, 448187.3446000004 4935410.2217999995, 447410.2204999998 4935121.2414, 447374.59580000024 4935086.741, 447241.0959000001 4934939.740800001, 447138.92260000017 4934807.8639, 447135.5044999998 4934803.3587, 447047.25490000006 4934682.3597, 446969.7569000004 4934561.8605, 446948.3507000003 4934474.245999999, 446945.34860000014 4934454.745200001, 446932.1020999998 4934432.7456, 446872.2252000002 4934377.245200001, 446829.92760000005 4934338.4616, 446752.9653000003 4934301.226, 446730.2377000004 4934294.2261, 446097.6058 4934133.742900001, 445727.14910000004 4934114.7158, 445510.9447999997 4934298.386, 445368.51800000016 4934436.861400001, 444916.02219999954 4934702.360099999, 444847.77300000004 4934730.8598, 444676.6495000003 4934785.8584, 444600.02410000004 4934802.3588, 444436.65029999986 4934788.8586, 444259.11450000014 4934713.4374, 444225.7264999999 4934636.9965, 444211.1370000001 4934603.739, 444183.5842000004 4934557.0657, 444154.86369999964 4934508.7391, 443982.53050000034 4934342.8629, 443897.1540999999 4934284.362299999, 443418.2840999998 4934010.364399999, 443346.5351999998 4934002.864600001, 443322.5346999997 4934037.864499999, 443294.9095999999 4934109.863600001, 443232.2218000004 4934102.5701, 443094.03720000014 4933977.8649, 443078.8382000001 4933890.222999999, 443098.39389999956 4933777.4584, 443113.48390000034 4933692.2268, 443117.38320000004 4933685.4925, 443122.3041000003 4933677.2469999995, 443157.68769999966 4933626.051899999, 442960.3853000002 4933202.2444, 442862.8660000004 4932311.225500001, 442980.76209999993 4932080.2512, 443008.8468000004 4931645.788699999, 442983.6010999996 4931613.5496, 442909.51350000035 4931519.2445, 442904.23089999985 4931520.2382, 442873.0613000002 4931528.891799999, 442819.6997999996 4931543.780300001, 442340.64439999964 4931108.7586, 442090.3956000004 4930865.261399999, 441463.6743000001 4930188.893300001, 441420.1749999998 4930138.3939, 441410.54509999976 4930115.9531, 441404.80090000015 4930102.394300001, 441316.3306999998 4929833.9933, 440626.65330000035 4930873.886399999, 440593.05399999954 4931081.7588, 440459.53450000007 4931870.2433, 440109.9685000004 4933045.873, 439386.6705 4934334.2206999995, 439257.9073000001 4934478.713400001, 439169.3591 4934521.239399999, 439034.0558000002 4934547.7828, 439060.2430999996 4934545.4344, 439066.4638 4934544.876599999, 439096.1776999999 4934542.2239, 439170.84410000034 4934587.737500001, 439333.37760000024 4934693.8585, 439337.8446000004 4934699.097999999, 439365.6908999998 4934733.358100001, 439669.12679999974 4935152.8553, 439724.87689999957 4935256.8561, 439764.3764000004 4935378.854499999, 439769.03000000026 4935416.922499999, 439771.5069000004 4935438.2391, 439771.46949999966 4935443.387, 439769.5418999996 4935529.716399999, 439759.9354999997 4935599.7371, 440099.0872999998 4935432.718599999, 439990.93489999976 4936074.8487, 439860.70210000034 4936789.190199999, 439797.13069999963 4936830.196699999, 439714.58189999964 4936899.2097, 439704.4765999997 4936909.0221, 439683.17700000014 4936929.726299999, 439626.9693999998 4936991.8419, 439069.3174999999 4937634.835100001, 439038.4726999998 4937676.3355, 438867.18429999985 4937921.717499999, 438798.37569999974 4938097.5635, 438819.6621000003 4938110.207, 438930.99540000036 4938145.2453000005, 439030.8786000004 4938299.33, 439234.90359999985 4938649.7447999995, 439210.0278000003 4938694.7118999995, 439110.89240000024 4938847.5363, 439083.09800000023 4938888.8259, 438754.2572999997 4939046.8259, 438685.06400000025 4939072.695599999, 438651.9227999998 4939079.711100001, 438602.77689999994 4939078.6885, 438541.06960000005 4939093.725400001, 438533.35649999976 4939095.732899999, 438527.69350000005 4939101.221899999, 438513.159 4939115.8006, 438486.31879999954 4939142.7257, 438425.1031999998 4939249.824200001, 437966.4796000002 4940391.7006, 437925.8565999996 4940500.182600001, 437702.7653000001 4940746.3135, 437681.1074000001 4940751.3122000005, 436595.36620000005 4940641.3124, 436192.88960000034 4940826.2256000005, 436187.50600000005 4940847.187100001, 436253.8957000002 4940892.479900001, 436292.6191999996 4940980.6753, 436386.27300000004 4941378.693, 436389.6010999996 4941393.1620000005, 436407.80599999987 4941474.809699999, 436411.4305999996 4941491.3059, 436103.1986999996 4942006.171800001, 436311.47780000046 4942348.6644, 436479.49370000046 4942380.917400001, 436926.4656999996 4942767.2938, 436946.50600000005 4942794.456800001, 436950.3854 4942799.820900001, 436956.48979999963 4942825.2959, 436958.6135999998 4942875.295399999, 436957.98330000043 4942885.656199999, 436954.64439999964 4942930.2963, 436945.4572999999 4942994.795299999, 436918.0203999998 4943126.794199999, 436904.00710000005 4943180.8345, 436892.9434000002 4943246.161599999, 436885.3542999998 4943331.6483, 436898.82459999993 4943386.628699999, 436902.14639999997 4943399.792400001, 437023.21079999954 4943719.925799999, 437067.61060000025 4943801.6774, 437109.8596999999 4943879.1774, 437148.5423999997 4943933.1767, 437191.7608000003 4943984.6753, 437287.20440000016 4944083.286800001, 437295.9343999997 4944090.7457, 437317.04949999973 4944108.7859000005, 438001.77979999967 4944533.6951, 438001.44849999994 4944634.282199999, 438001.44849999994 4944688.7809999995, 438092.72919999994 4944958.779100001, 438128.6672 4945048.278000001, 438204.70430000033 4945149.7754999995, 438286.4139999999 4945244.4582, 438392.2259999998 4945357.275800001, 438520.53839999996 4945468.2765999995, 438536.38159999996 4946043.2707, 438432.62959999964 4946578.670499999, 438444.22059999965 4946926.1702, 438595.69049999956 4947151.6570999995, 440089.38680000044 4948848.6338, 440140.63549999986 4948895.6351, 440651.5477 4949199.651900001, 440743.1967000002 4949252.1204, 440900.08860000037 4949327.119100001, 441331.94180000015 4949518.684900001, 441531.7955 4950331.238299999, 441552.51499999966 4950412.7378, 441786.69969999976 4951297.7312, 441558.5725999996 4951600.6338, 441512.09530000016 4951673.685900001, 441507.74619999994 4951680.5933, 441198.44909999985 4952253.104800001, 441154.6113999998 4953229.717499999, 441163.79860000033 4953446.214, 441154.59420000017 4953475.682, 440657.62770000007 4953353.5877, 440166.6869999999 4952738.147, 439926.0393000003 4952572.614600001, 439881.16810000036 4952552.4684, 439630.5318999998 4952488.113299999, 439005.0658 4952472.2212000005, 438980.42459999956 4952476.9596, 438970.19990000036 4952479.0371, 438957.0954999998 4952481.7216, 438893.12880000006 4952510.721100001, 438838.5663999999 4952538.2213, 438679.09810000006 4952683.7204, 438549.0246000001 4952847.5879, 438555.0120000001 4952885.5854, 438568.0285 4952952.6503, 438533.3518000003 4953010.6007, 438409.5270999996 4953199.7223000005, 438054.0597000001 4953048.0671999995, 437989.4466000004 4952977.077500001, 437980.7451999998 4952970.763499999, 437902.0264999997 4952914.602700001, 437832.6354 4952936.2182, 437720.82359999977 4952990.217499999, 437642.73890000023 4953046.7389, 437527.7494999999 4953228.6064, 437478.5480000004 4953317.7894, 437475.6398 4953323.0743, 437470.92640000023 4953332.354499999, 437415.3490000004 4953444.109099999, 437403.52969999984 4953476.977, 437031.24849999975 4954988.0963, 437073.40220000036 4954997.096999999, 437291.58660000004 4955099.094900001, 437334.8398000002 4955147.5954, 437352.14749999996 4955207.9046, 437352.2296000002 4955214.653000001, 437352.2100999998 4955236.650900001, 437352.1621000003 4955274.5976, 437340.5306000002 4955318.414899999, 437330.7954000002 4955354.6996, 437313.7335999999 4955385.699899999, 437228.6222000001 4955515.8389, 437198.95419999957 4955561.198000001, 437195.9474999998 4955559.119100001, 437026.82919999957 4955442.1996, 436107.80510000046 4955478.699100001, 435886.27639999986 4955542.6986, 435877.2276999997 4955546.9505, 435826.3613 4955571.617699999, 435712.34140000027 4955703.1971, 435216.73280000035 4955638.207800001, 435263.94859999977 4955379.1428, 435101.7274000002 4954610.598999999, 434995.1710999999 4954136.5975, 434974.95139999967 4954078.0966, 434958.4201999996 4954032.5966, 434934.54700000025 4954002.5975, 434573.9880999997 4953559.606000001, 434532.48390000034 4953518.1076, 434502.55030000024 4953494.681, 434488.0209999997 4953483.601199999, 434450.2092000004 4953460.100500001, 434425.08440000005 4953451.601399999, 434396.5604999997 4953455.115700001, 434346.5081000002 4953506.7129999995, 434323.75710000005 4953530.713300001, 434322.1693000002 4953536.8577, 434311.80709999986 4953576.086300001, 434288.61000000034 4953602.587099999, 434244.01489999983 4953644.087200001, 434218.25459999964 4953663.586200001, 434120.2898000004 4953687.212099999, 434049.21630000044 4953678.570599999, 433747.44680000003 4953606.612299999, 433830.6791000003 4953223.110400001, 433943.97869999986 4952631.7195999995, 433911.57189999986 4952413.613, 433435.63900000043 4952027.632200001, 432850.17480000015 4951435.7293, 432694.05030000024 4951865.7259, 432614.9276999999 4952076.637399999, 432325.63719999976 4952608.6129, 432196.3965999996 4952834.467599999, 431950.48390000034 4953212.022600001, 431885.9891999997 4953303.0890999995, 431873.18340000045 4953320.5918000005, 431867.8236999996 4953325.7673, 431864.81259999983 4953328.6719, 431862.1875 4953331.1964, 431854.75989999995 4953338.3201, 431847.5641999999 4953345.211999999, 431842.9303000001 4953349.5998, 431780.0366000002 4953405.0989, 431700.68429999985 4953479.214500001, 431678.49650000036 4953507.214500001, 431648.9146999996 4953547.3544, 431611.8431000002 4953624.610099999, 431591.68850000016 4953700.5975, 431555.9040999999 4954083.709899999, 431556.40359999985 4954126.7092, 431574.84229999967 4954154.209899999, 431582.90309999976 4954166.209000001, 431636.8717 4954200.7094, 431725.8091000002 4954229.7086, 431616.68319999985 4954815.5462, 431382.19770000037 4955174.908500001, 430572.1919999998 4955630.1982, 430396.47449999955 4955726.1972, 430333.8822999997 4955746.695599999, 430195.6331000002 4955747.697000001, 430157.7905000001 4955634.6974, 430154.49729999993 4955616.2105, 430147.1815999998 4955574.591700001, 430061.65579999983 4955405.593800001, 430019.9632000001 4955350.5934, 429996.9776999997 4955327.042400001, 429985.92530000024 4955315.7574000005, 429978.5426000003 4955309.0759, 429777.2037000004 4955388.5163, 429703.8228000002 4955426.6971, 428574.5081000002 4956348.5616999995, 428551.27880000044 4956365.518200001, 428527.9187000003 4956382.604699999, 428380.04870000016 4956522.0111, 428421.6127000004 4956559.0525, 428471.23950000014 4956591.6186, 428509.8844999997 4956601.602499999, 428573.55260000005 4956615.0528, 428687.70490000024 4956633.1894000005, 428756.3616000004 4956639.6895, 428813.3967000004 4956653.141000001, 428860.64080000017 4956665.6886, 428967.56799999997 4956722.5792, 428972.5417999998 4956725.3335, 428989.7106999997 4956734.8606, 428997.62760000024 4956739.388699999, 429114.82749999966 4956965.7919, 429115.8688000003 4956970.7579, 429121.0170999998 4956997.1196, 429118.86569999997 4957031.296700001, 429117.04590000026 4957057.1852, 429111.1394999996 4957098.6855, 429107.22809999995 4957116.0055, 429104.67569999956 4957127.0787, 428998.64080000017 4957847.1796, 428989.3287000004 4957935.179400001, 428993.017 4958003.678400001, 429021.2034 4958068.677300001, 429055.92289999966 4958133.678300001, 429090.6403000001 4958188.177200001, 429139.32710000034 4958228.676100001, 429200.98369999975 4958248.176899999, 429265.60780000035 4958241.6767, 429348.8454999998 4958228.5867, 429486.49430000037 4958188.570800001, 429504.6842 4958182.9804, 429545.05819999985 4958170.5715, 429608.6492999997 4958150.552999999, 429655.6496000001 4958121.0539, 429665.69070000015 4958111.545399999, 429675.5619999999 4958102.1894000005, 429695.0729 4958083.6786, 429709.5398000004 4958057.1778, 429713.44770000037 4958030.677999999, 429714.9776999997 4958020.178099999, 429698.57689999975 4957979.122400001, 429690.6288999999 4957931.205700001, 429688.1649000002 4957911.6779, 429689.07189999986 4957869.680199999, 429714.5407999996 4957835.179500001, 429758.6743000001 4957805.3983, 429771.1146999998 4957797.5875, 429822.5417999998 4957777.9628, 429881.94049999956 4957809.4716, 430028.37519999966 4957909.5996, 430612.9112999998 4958353.6776, 431150.62490000017 4959024.6701, 431436.21389999986 4959027.0539, 431509.9128999999 4959034.5671999995, 431660.8185999999 4959075.0682, 431718.4737 4959094.5671999995, 431736.03890000004 4959110.5681, 431761.72300000023 4959162.566500001, 431773.87629999965 4959206.095799999, 431777.2720999997 4959248.5601, 431455.54470000044 4959544.0583999995, 431366.1199000003 4959672.568, 431048.5937999999 4960165.6613, 431025.2488000002 4960258.6603, 431018.37370000035 4960317.660700001, 431014.9985999996 4960380.1611, 431022.6864 4960452.659700001, 431031.34339999966 4960505.1603, 431059.6676000003 4960598.055299999, 431113.6445000004 4960687.246300001, 431253.3284999998 4961294.068499999, 431346.80709999986 4962128.078199999, 431323.89919999987 4962151.3719999995, 431250.01860000007 4962226.347100001, 430661.60950000025 4962654.4564, 430343.29279999994 4962665.455800001, 429327.72140000015 4962562.0173, 428884.24870000035 4963320.5076, 428645.59800000023 4963497.5615, 428642.6079000002 4963499.544199999, 428636.03839999996 4963503.843, 428577.76779999956 4963541.636399999, 428555.2697999999 4963543.560699999, 428545.88439999986 4963564.521, 428350.5617000004 4963525.533299999, 427821.1618999997 4963131.536, 427772.0329999998 4963089.537699999, 427726.8772 4963043.538000001, 426871.0281999996 4962104.1965, 426545.50650000013 4961855.699200001, 425309.7104000002 4962392.6116, 425307.07380000036 4962397.558, 425305.55030000024 4962400.3654, 425292.18460000027 4962394.0414, 425258.09530000016 4962367.555299999, 425171.1292000003 4962290.989800001, 424807.64910000004 4961886.5282000005, 424795.09300000034 4961870.508400001, 424688.1337000001 4961723.635299999, 424671.3912000004 4961696.149800001, 424574.4539000001 4961434.650599999, 424497.06400000025 4961100.857100001, 424169.7433000002 4961451.509500001, 423619.7440999998 4962196.145099999, 423001.57469999976 4962985.5525, 422974.78309999965 4963007.520300001, 422960.09339999966 4963019.417400001, 422948.42140000034 4963028.507300001, 422802.9992000004 4963103.1373, 422748.15579999983 4963121.638800001, 422712.5007999996 4963124.1373, 422690.5628000004 4963122.6381, 422634.8125 4963118.138800001, 422574.11170000024 4963103.5363, 422545.25009999983 4963090.556299999, 422490.6783999996 4963063.3693, 422481.5469000004 4963026.5364, 422455.04619999975 4962968.035700001, 422425.18819999974 4962941.6391, 422397.26379999984 4962917.6392, 422380.92310000025 4962904.036900001, 422294.1169999996 4962861.0373, 422230.45940000005 4962838.0383, 422099.14859999996 4962812.039100001, 422066.5437000003 4962807.979800001, 421950.8191999998 4962794.5668, 421943.42059999984 4962794.7874, 421833.55420000013 4962800.0373, 421672.70600000024 4962815.0163, 421456.3317999998 4962856.540999999, 421310.0834999997 4962889.5649999995, 420518.45359999966 4963247.136700001, 420421.45490000024 4963369.1351, 420223.9687999999 4963873.5645, 420202.3859000001 4964032.833000001, 419953.97919999994 4964062.5353999995, 419814.40359999985 4964089.0483, 419712.8317999998 4964133.026799999, 419697.77749999985 4964143.8233, 419684.4310999997 4964153.542199999, 419676.7439000001 4964217.922900001, 419674.91970000044 4964233.516799999, 419664.8844999997 4964537.9813, 419760.1190999998 4964829.1746, 419381.68090000004 4966057.114499999, 419311.4155000001 4966435.0176, 418687.8940000003 4967076.279999999, 418198.0120000001 4967542.536, 417463.0122999996 4967095.6226, 416497.95299999975 4966423.7271, 416489.73340000026 4966452.4661, 416461.784 4966506.1829, 416416.28809999954 4966583.4923, 416016.9215000002 4967128.468, 415946.4247000003 4967200.511499999, 415878.5730999997 4967225.4537, 415748.6151999999 4967256.104, 415549.36670000013 4967431.604, 415199.7982999999 4968710.0276, 415211.20270000026 4968723.494999999, 415218.0756999999 4968733.4955, 415220.35589999985 4968747.026900001, 415240.10030000005 4968940.5298, 415246.7019999996 4969243.5342, 415227.94039999973 4969321.4914, 415165.2845999999 4969471.461100001, 415142.95299999975 4969481.4802, 415132.78220000025 4969484.307499999, 415094.1950000003 4969494.715500001, 415061.0716000004 4969503.646600001, 415033.64520000014 4969511.013699999, 414863.83210000023 4969553.985300001, 414763.5823999997 4969573.486099999, 414694.09640000015 4969585.0337000005, 414629.8343000002 4969688.9888, 414582.9632000001 4969772.4871, 414526.9620000003 4969884.9868, 414521.85259999987 4969895.4826, 414520.68429999985 4969909.449100001, 414522.37349999975 4969939.583799999, 414537.43230000045 4970093.952, 414541.7383000003 4970107.455499999, 414597.8404000001 4970242.4779, 414633.9182000002 4970378.2874, 414635.8607000001 4970394.001700001, 414636.2287999997 4970397.863600001, 414637.38790000044 4970410.998400001, 414637.70469999965 4970417.2217999995, 414637.98900000006 4970423.054199999, 414638.22389999963 4970430.2815000005, 414632.47229999956 4970470.474099999, 414627.3158999998 4970477.4355999995, 414354.0795999998 4970671.9847, 414196.8328999998 4970744.4866, 413884.6359000001 4970883.914799999, 413881.8247999996 4970884.9241, 413875.42540000007 4970886.8803, 413695.0943999998 4970764.4679000005, 413661.5131000001 4970741.013, 413313.4659000002 4970449.981799999, 413260.8114 4970236.9725, 413038.96640000027 4970282.4881, 412986.0926000001 4970295.4859, 412952.8417999996 4970305.9891, 412833.77579999994 4970357.3444, 412789.8326000003 4970376.4266, 412653.0948000001 4970437.488299999, 412618.2204999998 4970453.502800001, 412016.6738999998 4970737.426899999, 412112.11450000014 4971095.9987, 412112.7213000003 4971103.410800001, 412113.41980000027 4971112.496200001, 412112.5127999997 4971447.477499999, 412112.1453 4971460.546599999, 412111.86209999956 4971469.4844, 412090.62320000026 4971582.478800001, 412082.49820000026 4971615.9936999995, 412057.35170000046 4971687.473200001, 412030.10869999975 4971767.9706, 412019.2329000002 4971806.4701000005, 411964.34580000024 4972049.4274, 412012.89159999974 4972059.4845, 412618.2893000003 4972110.939200001, 412644.89969999995 4972112.8333, 412657.0968000004 4972113.440400001, 412663.89190000016 4972113.0988, 412670.4434000002 4972112.746099999, 412675.8334999997 4972112.431299999, 412681.8113000002 4972110.7182, 412688.19240000006 4972108.8377, 412704.21329999994 4972099.4615, 412745.7215 4972076.4734000005, 412823.97670000046 4972026.4681, 412841.25189999957 4972017.2928, 412847.7915000003 4972013.880100001, 413110.0449000001 4971880.9508, 413116.9450000003 4971878.860300001, 413128.1683 4971875.5233, 413497.6012000004 4971787.0154, 413706.3624 4971777.5122, 413950.2525000004 4971762.9616, 414014.6337000001 4971755.964, 414032.5798000004 4971752.465600001, 414062.5756999999 4971744.4690000005, 414229.8046000004 4971695.423699999, 414330.8322999999 4971525.9263, 414559.3498999998 4971569.9473, 414736.59169999976 4971611.482999999, 414762.5889999997 4971619.451400001, 414768.4696000004 4971622.485400001, 415069.6040000003 4972249.9398, 415226.2424999997 4972646.5647, 415231.86620000005 4972699.5625, 415233.9919999996 4972724.5622000005, 415162.9615000002 4972978.594900001, 415154.4155000001 4972992.332900001, 415150.56909999996 4972998.4166, 414771.7922 4973386.2116, 414760.60170000046 4974124.502800001, 414403.54959999956 4974313.487299999, 413130.8036000002 4974236.4309, 412794.9812000003 4974128.9124, 412743.8443999998 4974115.955499999, 412726.3404000001 4974112.955, 412653.5603 4974101.926000001, 412601.72310000006 4974094.498199999, 412150.49450000003 4974868.460100001, 412141.6160000004 4974888.945499999, 412138.82689999975 4974913.911499999, 412080.2263000002 4975458.444399999, 411935.6012000004 4976285.4395, 411899.82070000004 4976471.421399999, 412341.55709999986 4976398.9176, 412350.59619999956 4976401.939300001, 412613.59420000017 4976551.937999999, 412746.6281000003 4976627.959799999, 413171.5903000003 4976900.9350000005, 413234.6218999997 4976953.9662, 413249.62119999994 4977039.9637, 413275.6201999998 4977207.899900001, 413362.5055999998 4977841.0229, 413410.3613 4979011.336300001, 413423.50430000015 4979741.0098, 414363.6074999999 4980643.887599999, 414482.07830000017 4980754.4092, 414654.5778999999 4980903.9081, 414913.87260000035 4981119.3533, 415505.1185999997 4981610.403100001, 415526.5943 4981627.4859, 415534.6270000003 4981638.9146, 415726.6319000004 4982190.802200001, 415810.48479999974 4982519.9156, 415833.5477 4982636.9505, 415867.8811999997 4982830.444800001, 415941.50370000023 4983134.9494, 415976.8175999997 4983348.420700001, 416009.3764000004 4983556.4147, 415948.5697999997 4983570.9142, 415868.4071000004 4983589.8072999995, 415148.57299999986 4983740.912599999, 414555.87629999965 4983864.782, 414555.79559999984 4983868.6754, 414555.72339999955 4983876.392899999, 414555.55140000023 4983976.8961, 414585.37179999985 4984374.1448, 414602.6531999996 4984571.7107, 414603.56620000023 4984581.8826, 414612.1314000003 4984614.9946, 414818.56439999957 4985357.919299999, 414818.5262000002 4985360.794299999, 414818.51769999973 4985381.874600001, 414836.57660000026 4985575.9056, 414845.57739999983 4985624.9055, 414869.6880999999 4985722.873299999, 414980.0360000003 4986060.416099999, 414984.39549999963 4986071.140000001, 414988.81740000006 4986081.3902, 414992.2008999996 4986088.901699999, 415013.57540000044 4986115.4023, 415023.00939999986 4986121.1493, 415025.9983000001 4986122.8651, 415041.87129999977 4986120.463199999, 415053.53050000034 4986118.338099999, 415058.4447999997 4986117.416300001, 415142.57459999993 4986094.8979, 415178.3194000004 4986084.0787, 415243.57430000044 4986065.9069, 415300.5675999997 4986053.9146, 415313.56850000005 4986054.9069, 415425.5689000003 4986076.9037, 415483.1785000004 4986091.4615, 415496.09240000043 4986094.8237, 415522.591 4986101.8707, 416097.0652999999 4986263.397500001, 416102.3431000002 4986265.432600001, 416126.75659999996 4986274.973099999, 416146.9327999996 4986282.8884, 416301.58019999973 4986347.854499999, 417588.4199999999 4986778.8816, 417624.5706000002 4987007.9004999995, 417851.46829999983 4987805.948999999, 417936.1835000003 4988147.929300001, 417915.59300000034 4988183.945499999, 417885.9583999999 4988226.3101, 417873.2923999997 4988244.3946, 417826.4685000004 4988301.9463, 417755.60699999984 4988388.735300001, 417628.9932000004 4988531.8741, 417490.8443999998 4988652.3188000005, 417483.33359999955 4988658.490499999, 417475.5497000003 4988664.8762, 417190.05179999955 4988862.3716, 417159.30599999987 4988876.373299999, 417082.5804000003 4989015.906400001, 416891.5515999999 4989686.861, 416594.7829999998 4989846.896, 416518.29399999976 4989670.865599999, 416450.5784999998 4988922.8377, 416341.9112 4988173.876599999, 415919.5751 4988042.863500001, 415911.5608000001 4988042.874, 415900.5664999997 4988045.888699999, 415686.92069999967 4988141.9044, 415741.09049999993 4988265.388699999, 415643.32320000045 4988951.4154, 415629.3191999998 4988980.8825, 415426.20660000015 4989396.1874, 415243.19859999977 4989611.8719, 415223.06510000024 4989627.353599999, 414874.45999999996 4989815.6172, 414581.59250000026 4989733.8781, 413876.9562999997 4990054.531199999, 413545.58550000004 4990368.8748, 412843.6310999999 4990196.874399999, 412818.61039999966 4990306.875700001, 412787.62540000025 4990638.843699999, 412942.8947999999 4991094.6754, 413092.6314000003 4991645.420499999, 413104.9034000002 4991728.0633000005, 413104.75549999997 4991745.919399999, 413096.8326000003 4991774.282400001, 413088.7463999996 4991801.821, 413047.6085000001 4991884.863299999, 413030.34420000017 4991915.6318, 412988.6286000004 4991989.8597, 412978.6300999997 4992026.8541, 412972.61670000013 4992076.8386, 412945.8809000002 4992371.4147, 412945.8786000004 4992410.4132, 413018.62349999975 4993351.8265, 413021.67069999967 4993376.9278, 413095.5745000001 4993911.8507, 413127.6710999999 4994093.8539, 413142.35059999954 4994095.662799999, 413804.82430000044 4994077.319700001, 413926.07210000046 4994096.244999999, 414080.5943 4993971.6316, 414241.85500000045 4993236.825999999, 414517.09609999973 4992287.9465, 414796.1032999996 4991901.483899999, 414807.7410000004 4991885.417199999, 414817.4912999999 4991874.417300001, 414842.8658999996 4991853.4175, 414863.6160000004 4991837.918299999, 414907.0970999999 4991807.8243, 414948.87090000045 4991837.8226, 414975.1144000003 4991859.3388, 415066.38100000005 4992156.855900001, 415158.37009999994 4992472.3133000005, 415162.4896 4992487.8335, 415628.7128999997 4992659.8752999995, 416440.8047000002 4992671.299900001, 416753.67360000033 4993076.8412, 416521.90720000025 4993552.309900001, 416467.8529000003 4993969.4036, 416268.68149999995 4994508.3221, 416229.8196999999 4994556.8474, 416153.5650000004 4994647.335899999, 416084.6895000003 4994728.8354, 415968.9319000002 4994863.309800001, 415704.05620000046 4995142.827099999, 415929.05730000045 4995345.274599999, 415943.8130000001 4995357.781099999, 416334.5712000001 4995645.9679000005, 417690.6838999996 4996454.361, 417706.6889000004 4996460.8191, 417734.07770000026 4996463.2849, 417960.05319999997 4996476.324100001, 417984.0521 4996476.8199000005, 418077.0497000003 4996463.3257, 418737.29119999986 4996430.330800001, 418772.5379999997 4996436.806299999, 418805.4752000002 4996446.249299999, 418812.5385999996 4996448.326099999, 418853.4124999996 4996461.3281, 418875.03839999996 4996470.328199999, 418945.92760000005 4996504.8386, 419050.6978000002 4996587.8934, 419132.9582000002 4996664.3837, 419145.5820000004 4996676.3827, 419151.63800000027 4996682.65, 419159.5377000002 4996690.8276, 419197.28839999996 4996730.8266, 419207.7904000003 4996742.3279, 419227.66199999955 4996765.327, 419243.78780000005 4996787.3266, 419245.73560000025 4996790.7063, 419256.5862999996 4996809.8225, 419260.28529999964 4996838.331, 419260.90749999974 4996856.831599999, 419348.7865000004 4996959.3258, 419429.642 4997048.7404, 419445.5351 4997065.3235, 419452.28780000005 4997069.3561, 419487.79729999974 4997088.821699999, 419615.7874999996 4997154.8574, 419650.4151999997 4997170.8223, 419674.0433 4997178.3181, 419803.62490000017 4997212.337300001, 420063.78809999954 4997491.8517, 420228.1244999999 4997613.226600001, 420544.02529999986 4997795.320499999, 420714.88900000043 4997751.4153, 421307.5384999998 4997608.820800001, 421570.37179999985 4997602.329600001, 421581.8113000002 4997603.5899, 421612.5245000003 4997607.326199999, 421660.89159999974 4997625.998500001, 421667.5349000003 4997628.811899999, 421805.0133999996 4997696.8225, 421855.62650000025 4997723.2807, 422059.6014999999 4997557.030200001, 422449.0270999996 4997377.055299999, 422506.25769999996 4997351.8236, 422546.20799999963 4997354.3674, 422551.60979999974 4997354.997099999, 422568.8437000001 4997357.365599999, 422610.5685999999 4997372.237, 422614.1169999996 4997373.502800001, 422952.51070000045 4997494.7948, 422963.13790000044 4997499.7853999995, 422974.784 4997510.327199999, 423055.4247000003 4997607.8050999995, 423063.9263000004 4997618.675100001, 423065.38609999977 4997621.465600001, 423096.3998999996 4997682.267100001, 423099.9101999998 4997691.854699999, 423113.1628999999 4997731.3311, 423114.12590000033 4997737.1284, 423125.2516999999 4997812.337200001, 423124.4985999996 4997815.9418, 423123.7681 4997819.3243, 423119.3244000003 4997833.7436, 423110.6763000004 4997851.875499999, 423105.8024000004 4997868.3741999995, 423106.1771999998 4997880.8751, 423109.0524000004 4997897.373500001, 423119.80229999963 4997926.8749, 423146.6758000003 4997990.874399999, 423157.67569999956 4998014.373, 423183.30200000014 4998056.8726, 423189.8021999998 4998067.3726, 423208.5515999999 4998093.3718, 423216.426 4998103.8719, 423228.05040000007 4998118.873400001, 423240.9260999998 4998131.372199999, 423251.1316999998 4998138.2413, 423269.2594999997 4998144.815300001, 423439.92459999956 4998186.373, 423451.29920000024 4998186.8725000005, 423455.04920000024 4998186.373, 423463.29839999974 4998184.8719, 423634.2988999998 4998152.372400001, 423748.96640000027 4997880.448999999, 423750.3519000001 4997877.7853, 423755.7698999997 4997867.8289, 423763.5251000002 4997858.343900001, 423773.64460000023 4997847.8288, 423782.1582000004 4997842.2117, 423939.79289999977 4997782.8138999995, 424152.6205000002 4997726.853499999, 424531.74060000014 4997639.3301, 424553.4879999999 4997634.331, 424591.3638000004 4997631.8288, 425041.4112 4997628.2327)))\"\n        ],\n        \"semantic_type\": \"\",\n        \"description\": \"\"\n      }\n    }\n  ]\n}"
            }
          },
          "metadata": {},
          "execution_count": 11
        }
      ],
      "source": [
        "provinces.head(3)"
      ]
    },
    {
      "cell_type": "code",
      "execution_count": 12,
      "metadata": {
        "colab": {
          "base_uri": "https://localhost:8080/"
        },
        "id": "i1MtGFC0VvQu",
        "outputId": "99485b4b-c576-4d5c-a280-d8979ad5bfd8"
      },
      "outputs": [
        {
          "output_type": "execute_result",
          "data": {
            "text/plain": [
              "Index(['COD_RIP', 'COD_REG', 'COD_PROV', 'COD_CM', 'COD_UTS', 'DEN_PROV',\n",
              "       'DEN_CM', 'DEN_UTS', 'SIGLA', 'TIPO_UTS', 'geometry'],\n",
              "      dtype='object')"
            ]
          },
          "metadata": {},
          "execution_count": 12
        }
      ],
      "source": [
        "provinces.columns"
      ]
    },
    {
      "cell_type": "markdown",
      "metadata": {
        "id": "9dv1SuJKVsgl"
      },
      "source": [
        "**COD_RIP**<br/>\n",
        "*codice ripartizione*<br/>\n",
        "numeric code of the macroregion of belonging\n",
        "\n",
        "**COD_REG**<br/>\n",
        "*codice regione*<br/>\n",
        "numeric code of the region of belonging\n",
        "\n",
        "**COD_PROV**<br/>\n",
        "*codice provincia*<br/>\n",
        "numeric code of the region of belonging\n",
        "\n",
        "**COD_CM**<br/>\n",
        "*codice comune*<br/>\n",
        "Istat code of the metropolitan city (three characters in\n",
        "reference to all official statistics are\n",
        "numeric format) obtained by adding the value 200 to\n",
        "adopted the statistical codes of the cities\n",
        "corresponding code of the province.\n",
        "\n",
        "**COD_UTS**<br/>\n",
        "*codice unità territoriali sovracomunali*<br/>\n",
        "Numeric code that uniquely identifies the Units\n",
        "territorial supra-municipal on the national territory.\n",
        "\n",
        "**DEN_PROV**<br/>\n",
        "*denominazione provincia*<br/>\n",
        "name of the province\n",
        "\n",
        "**DEN_CM**<br/>\n",
        "*denominazione città metropolitana*<br/>\n",
        "name of the metropolitan city\n",
        "\n",
        "**DEN_UTS**<br/>\n",
        "*denominazione unità territoriale sovracomunale*<br/>\n",
        "Denomination of the supra-municipal territorial units.\n",
        "\n",
        "**SIGLA**<br/>\n",
        "*sigla*<br/>\n",
        "abbreviation\n",
        "\n",
        "**TIPO_UTS**<br/>\n",
        "*tipologia unità territoriale sovracomunale*<br/>\n",
        "kind of supra-municipal territorial units.\n",
        "\n"
      ]
    },
    {
      "cell_type": "markdown",
      "metadata": {
        "id": "k3c2DpbwXVwp"
      },
      "source": [
        "### filter it for an italian provice at your choice (eg. Trento)\n",
        "\n",
        "obtain the list of all the provincies"
      ]
    },
    {
      "cell_type": "code",
      "execution_count": 13,
      "metadata": {
        "colab": {
          "base_uri": "https://localhost:8080/"
        },
        "id": "nAivKuiMALan",
        "outputId": "386edd56-7407-419a-8b2c-1783f7639e56"
      },
      "outputs": [
        {
          "output_type": "execute_result",
          "data": {
            "text/plain": [
              "array(['-', 'Vercelli', 'Novara', 'Cuneo', 'Asti', 'Alessandria', 'Aosta',\n",
              "       'Imperia', 'Savona', 'La Spezia', 'Varese', 'Como', 'Sondrio',\n",
              "       'Bergamo', 'Brescia', 'Pavia', 'Cremona', 'Mantova', 'Bolzano',\n",
              "       'Trento', 'Verona', 'Vicenza', 'Belluno', 'Treviso', 'Padova',\n",
              "       'Rovigo', 'Udine', 'Gorizia', 'Trieste', 'Piacenza', 'Parma',\n",
              "       \"Reggio nell'Emilia\", 'Modena', 'Ferrara', 'Ravenna',\n",
              "       \"Forli'-Cesena\", 'Pesaro e Urbino', 'Ancona', 'Macerata',\n",
              "       'Ascoli Piceno', 'Massa Carrara', 'Lucca', 'Pistoia', 'Livorno',\n",
              "       'Pisa', 'Arezzo', 'Siena', 'Grosseto', 'Perugia', 'Terni',\n",
              "       'Viterbo', 'Rieti', 'Latina', 'Frosinone', 'Caserta', 'Benevento',\n",
              "       'Avellino', 'Salerno', \"L'Aquila\", 'Teramo', 'Pescara', 'Chieti',\n",
              "       'Campobasso', 'Foggia', 'Taranto', 'Brindisi', 'Lecce', 'Potenza',\n",
              "       'Matera', 'Cosenza', 'Catanzaro', 'Trapani', 'Agrigento',\n",
              "       'Caltanissetta', 'Enna', 'Ragusa', 'Siracusa', 'Sassari', 'Nuoro',\n",
              "       'Pordenone', 'Isernia', 'Oristano', 'Biella', 'Lecco', 'Lodi',\n",
              "       'Rimini', 'Prato', 'Crotone', 'Vibo Valentia',\n",
              "       'Verbano-Cusio-Ossola', 'Monza e della Brianza', 'Fermo',\n",
              "       'Barletta-Andria-Trani', 'Sud Sardegna'], dtype=object)"
            ]
          },
          "metadata": {},
          "execution_count": 13
        }
      ],
      "source": [
        "provinces['DEN_PROV'].unique()"
      ]
    },
    {
      "cell_type": "markdown",
      "metadata": {
        "id": "3xadwHnaAnD1"
      },
      "source": [
        "obtain the list of all the metropolitan ciies"
      ]
    },
    {
      "cell_type": "code",
      "execution_count": 14,
      "metadata": {
        "colab": {
          "base_uri": "https://localhost:8080/"
        },
        "id": "T8nPq64OAtmJ",
        "outputId": "f3955e65-55f4-4daa-ebc6-c3e48f841aa7"
      },
      "outputs": [
        {
          "output_type": "execute_result",
          "data": {
            "text/plain": [
              "array(['Torino', '-', 'Genova', 'Milano', 'Venezia', 'Bologna', 'Firenze',\n",
              "       'Roma', 'Napoli', 'Bari', 'Reggio di Calabria', 'Palermo',\n",
              "       'Messina', 'Catania', 'Cagliari'], dtype=object)"
            ]
          },
          "metadata": {},
          "execution_count": 14
        }
      ],
      "source": [
        "provinces.DEN_CM.unique()"
      ]
    },
    {
      "cell_type": "markdown",
      "metadata": {
        "id": "gdaz8GslA6Q8"
      },
      "source": [
        "choose the province of Verona"
      ]
    },
    {
      "cell_type": "code",
      "execution_count": 15,
      "metadata": {
        "id": "btDGt41ZIeGO"
      },
      "outputs": [],
      "source": [
        "province_of_verona = provinces[provinces['DEN_PROV']=='Verona']"
      ]
    },
    {
      "cell_type": "code",
      "execution_count": 16,
      "metadata": {
        "colab": {
          "base_uri": "https://localhost:8080/",
          "height": 89
        },
        "id": "krZReRm1Ihk0",
        "outputId": "ca3d8954-aecb-4669-e605-c318a24cc462"
      },
      "outputs": [
        {
          "output_type": "execute_result",
          "data": {
            "text/plain": [
              "    COD_RIP  COD_REG  COD_PROV  COD_CM  COD_UTS DEN_PROV DEN_CM DEN_UTS SIGLA  \\\n",
              "22        2        5        23       0       23   Verona      -  Verona    VR   \n",
              "\n",
              "     TIPO_UTS                                           geometry  \n",
              "22  Provincia  MULTIPOLYGON (((646461.323 5070531.488, 646402...  "
            ],
            "text/html": [
              "\n",
              "  <div id=\"df-a11eed46-fc70-43ae-bc79-d202f1d885c5\" class=\"colab-df-container\">\n",
              "    <div>\n",
              "<style scoped>\n",
              "    .dataframe tbody tr th:only-of-type {\n",
              "        vertical-align: middle;\n",
              "    }\n",
              "\n",
              "    .dataframe tbody tr th {\n",
              "        vertical-align: top;\n",
              "    }\n",
              "\n",
              "    .dataframe thead th {\n",
              "        text-align: right;\n",
              "    }\n",
              "</style>\n",
              "<table border=\"1\" class=\"dataframe\">\n",
              "  <thead>\n",
              "    <tr style=\"text-align: right;\">\n",
              "      <th></th>\n",
              "      <th>COD_RIP</th>\n",
              "      <th>COD_REG</th>\n",
              "      <th>COD_PROV</th>\n",
              "      <th>COD_CM</th>\n",
              "      <th>COD_UTS</th>\n",
              "      <th>DEN_PROV</th>\n",
              "      <th>DEN_CM</th>\n",
              "      <th>DEN_UTS</th>\n",
              "      <th>SIGLA</th>\n",
              "      <th>TIPO_UTS</th>\n",
              "      <th>geometry</th>\n",
              "    </tr>\n",
              "  </thead>\n",
              "  <tbody>\n",
              "    <tr>\n",
              "      <th>22</th>\n",
              "      <td>2</td>\n",
              "      <td>5</td>\n",
              "      <td>23</td>\n",
              "      <td>0</td>\n",
              "      <td>23</td>\n",
              "      <td>Verona</td>\n",
              "      <td>-</td>\n",
              "      <td>Verona</td>\n",
              "      <td>VR</td>\n",
              "      <td>Provincia</td>\n",
              "      <td>MULTIPOLYGON (((646461.323 5070531.488, 646402...</td>\n",
              "    </tr>\n",
              "  </tbody>\n",
              "</table>\n",
              "</div>\n",
              "    <div class=\"colab-df-buttons\">\n",
              "\n",
              "  <div class=\"colab-df-container\">\n",
              "    <button class=\"colab-df-convert\" onclick=\"convertToInteractive('df-a11eed46-fc70-43ae-bc79-d202f1d885c5')\"\n",
              "            title=\"Convert this dataframe to an interactive table.\"\n",
              "            style=\"display:none;\">\n",
              "\n",
              "  <svg xmlns=\"http://www.w3.org/2000/svg\" height=\"24px\" viewBox=\"0 -960 960 960\">\n",
              "    <path d=\"M120-120v-720h720v720H120Zm60-500h600v-160H180v160Zm220 220h160v-160H400v160Zm0 220h160v-160H400v160ZM180-400h160v-160H180v160Zm440 0h160v-160H620v160ZM180-180h160v-160H180v160Zm440 0h160v-160H620v160Z\"/>\n",
              "  </svg>\n",
              "    </button>\n",
              "\n",
              "  <style>\n",
              "    .colab-df-container {\n",
              "      display:flex;\n",
              "      gap: 12px;\n",
              "    }\n",
              "\n",
              "    .colab-df-convert {\n",
              "      background-color: #E8F0FE;\n",
              "      border: none;\n",
              "      border-radius: 50%;\n",
              "      cursor: pointer;\n",
              "      display: none;\n",
              "      fill: #1967D2;\n",
              "      height: 32px;\n",
              "      padding: 0 0 0 0;\n",
              "      width: 32px;\n",
              "    }\n",
              "\n",
              "    .colab-df-convert:hover {\n",
              "      background-color: #E2EBFA;\n",
              "      box-shadow: 0px 1px 2px rgba(60, 64, 67, 0.3), 0px 1px 3px 1px rgba(60, 64, 67, 0.15);\n",
              "      fill: #174EA6;\n",
              "    }\n",
              "\n",
              "    .colab-df-buttons div {\n",
              "      margin-bottom: 4px;\n",
              "    }\n",
              "\n",
              "    [theme=dark] .colab-df-convert {\n",
              "      background-color: #3B4455;\n",
              "      fill: #D2E3FC;\n",
              "    }\n",
              "\n",
              "    [theme=dark] .colab-df-convert:hover {\n",
              "      background-color: #434B5C;\n",
              "      box-shadow: 0px 1px 3px 1px rgba(0, 0, 0, 0.15);\n",
              "      filter: drop-shadow(0px 1px 2px rgba(0, 0, 0, 0.3));\n",
              "      fill: #FFFFFF;\n",
              "    }\n",
              "  </style>\n",
              "\n",
              "    <script>\n",
              "      const buttonEl =\n",
              "        document.querySelector('#df-a11eed46-fc70-43ae-bc79-d202f1d885c5 button.colab-df-convert');\n",
              "      buttonEl.style.display =\n",
              "        google.colab.kernel.accessAllowed ? 'block' : 'none';\n",
              "\n",
              "      async function convertToInteractive(key) {\n",
              "        const element = document.querySelector('#df-a11eed46-fc70-43ae-bc79-d202f1d885c5');\n",
              "        const dataTable =\n",
              "          await google.colab.kernel.invokeFunction('convertToInteractive',\n",
              "                                                    [key], {});\n",
              "        if (!dataTable) return;\n",
              "\n",
              "        const docLinkHtml = 'Like what you see? Visit the ' +\n",
              "          '<a target=\"_blank\" href=https://colab.research.google.com/notebooks/data_table.ipynb>data table notebook</a>'\n",
              "          + ' to learn more about interactive tables.';\n",
              "        element.innerHTML = '';\n",
              "        dataTable['output_type'] = 'display_data';\n",
              "        await google.colab.output.renderOutput(dataTable, element);\n",
              "        const docLink = document.createElement('div');\n",
              "        docLink.innerHTML = docLinkHtml;\n",
              "        element.appendChild(docLink);\n",
              "      }\n",
              "    </script>\n",
              "  </div>\n",
              "\n",
              "\n",
              "  <div id=\"id_489965d6-5b11-4e52-8a3a-c9970137c918\">\n",
              "    <style>\n",
              "      .colab-df-generate {\n",
              "        background-color: #E8F0FE;\n",
              "        border: none;\n",
              "        border-radius: 50%;\n",
              "        cursor: pointer;\n",
              "        display: none;\n",
              "        fill: #1967D2;\n",
              "        height: 32px;\n",
              "        padding: 0 0 0 0;\n",
              "        width: 32px;\n",
              "      }\n",
              "\n",
              "      .colab-df-generate:hover {\n",
              "        background-color: #E2EBFA;\n",
              "        box-shadow: 0px 1px 2px rgba(60, 64, 67, 0.3), 0px 1px 3px 1px rgba(60, 64, 67, 0.15);\n",
              "        fill: #174EA6;\n",
              "      }\n",
              "\n",
              "      [theme=dark] .colab-df-generate {\n",
              "        background-color: #3B4455;\n",
              "        fill: #D2E3FC;\n",
              "      }\n",
              "\n",
              "      [theme=dark] .colab-df-generate:hover {\n",
              "        background-color: #434B5C;\n",
              "        box-shadow: 0px 1px 3px 1px rgba(0, 0, 0, 0.15);\n",
              "        filter: drop-shadow(0px 1px 2px rgba(0, 0, 0, 0.3));\n",
              "        fill: #FFFFFF;\n",
              "      }\n",
              "    </style>\n",
              "    <button class=\"colab-df-generate\" onclick=\"generateWithVariable('province_of_verona')\"\n",
              "            title=\"Generate code using this dataframe.\"\n",
              "            style=\"display:none;\">\n",
              "\n",
              "  <svg xmlns=\"http://www.w3.org/2000/svg\" height=\"24px\"viewBox=\"0 0 24 24\"\n",
              "       width=\"24px\">\n",
              "    <path d=\"M7,19H8.4L18.45,9,17,7.55,7,17.6ZM5,21V16.75L18.45,3.32a2,2,0,0,1,2.83,0l1.4,1.43a1.91,1.91,0,0,1,.58,1.4,1.91,1.91,0,0,1-.58,1.4L9.25,21ZM18.45,9,17,7.55Zm-12,3A5.31,5.31,0,0,0,4.9,8.1,5.31,5.31,0,0,0,1,6.5,5.31,5.31,0,0,0,4.9,4.9,5.31,5.31,0,0,0,6.5,1,5.31,5.31,0,0,0,8.1,4.9,5.31,5.31,0,0,0,12,6.5,5.46,5.46,0,0,0,6.5,12Z\"/>\n",
              "  </svg>\n",
              "    </button>\n",
              "    <script>\n",
              "      (() => {\n",
              "      const buttonEl =\n",
              "        document.querySelector('#id_489965d6-5b11-4e52-8a3a-c9970137c918 button.colab-df-generate');\n",
              "      buttonEl.style.display =\n",
              "        google.colab.kernel.accessAllowed ? 'block' : 'none';\n",
              "\n",
              "      buttonEl.onclick = () => {\n",
              "        google.colab.notebook.generateWithVariable('province_of_verona');\n",
              "      }\n",
              "      })();\n",
              "    </script>\n",
              "  </div>\n",
              "\n",
              "    </div>\n",
              "  </div>\n"
            ],
            "application/vnd.google.colaboratory.intrinsic+json": {
              "type": "dataframe",
              "variable_name": "province_of_verona",
              "summary": "{\n  \"name\": \"province_of_verona\",\n  \"rows\": 1,\n  \"fields\": [\n    {\n      \"column\": \"COD_RIP\",\n      \"properties\": {\n        \"dtype\": \"number\",\n        \"std\": null,\n        \"min\": 2,\n        \"max\": 2,\n        \"num_unique_values\": 1,\n        \"samples\": [\n          2\n        ],\n        \"semantic_type\": \"\",\n        \"description\": \"\"\n      }\n    },\n    {\n      \"column\": \"COD_REG\",\n      \"properties\": {\n        \"dtype\": \"number\",\n        \"std\": null,\n        \"min\": 5,\n        \"max\": 5,\n        \"num_unique_values\": 1,\n        \"samples\": [\n          5\n        ],\n        \"semantic_type\": \"\",\n        \"description\": \"\"\n      }\n    },\n    {\n      \"column\": \"COD_PROV\",\n      \"properties\": {\n        \"dtype\": \"number\",\n        \"std\": null,\n        \"min\": 23,\n        \"max\": 23,\n        \"num_unique_values\": 1,\n        \"samples\": [\n          23\n        ],\n        \"semantic_type\": \"\",\n        \"description\": \"\"\n      }\n    },\n    {\n      \"column\": \"COD_CM\",\n      \"properties\": {\n        \"dtype\": \"number\",\n        \"std\": null,\n        \"min\": 0,\n        \"max\": 0,\n        \"num_unique_values\": 1,\n        \"samples\": [\n          0\n        ],\n        \"semantic_type\": \"\",\n        \"description\": \"\"\n      }\n    },\n    {\n      \"column\": \"COD_UTS\",\n      \"properties\": {\n        \"dtype\": \"number\",\n        \"std\": null,\n        \"min\": 23,\n        \"max\": 23,\n        \"num_unique_values\": 1,\n        \"samples\": [\n          23\n        ],\n        \"semantic_type\": \"\",\n        \"description\": \"\"\n      }\n    },\n    {\n      \"column\": \"DEN_PROV\",\n      \"properties\": {\n        \"dtype\": \"string\",\n        \"num_unique_values\": 1,\n        \"samples\": [\n          \"Verona\"\n        ],\n        \"semantic_type\": \"\",\n        \"description\": \"\"\n      }\n    },\n    {\n      \"column\": \"DEN_CM\",\n      \"properties\": {\n        \"dtype\": \"string\",\n        \"num_unique_values\": 1,\n        \"samples\": [\n          \"-\"\n        ],\n        \"semantic_type\": \"\",\n        \"description\": \"\"\n      }\n    },\n    {\n      \"column\": \"DEN_UTS\",\n      \"properties\": {\n        \"dtype\": \"string\",\n        \"num_unique_values\": 1,\n        \"samples\": [\n          \"Verona\"\n        ],\n        \"semantic_type\": \"\",\n        \"description\": \"\"\n      }\n    },\n    {\n      \"column\": \"SIGLA\",\n      \"properties\": {\n        \"dtype\": \"string\",\n        \"num_unique_values\": 1,\n        \"samples\": [\n          \"VR\"\n        ],\n        \"semantic_type\": \"\",\n        \"description\": \"\"\n      }\n    },\n    {\n      \"column\": \"TIPO_UTS\",\n      \"properties\": {\n        \"dtype\": \"string\",\n        \"num_unique_values\": 1,\n        \"samples\": [\n          \"Provincia\"\n        ],\n        \"semantic_type\": \"\",\n        \"description\": \"\"\n      }\n    },\n    {\n      \"column\": \"geometry\",\n      \"properties\": {\n        \"dtype\": \"geometry\",\n        \"num_unique_values\": 1,\n        \"samples\": [\n          \"MULTIPOLYGON (((646461.3227000004 5070531.4879, 646402.5745999999 5070442.414899999, 646380.7718000002 5070432.705600001, 646346.5739000002 5070432.3533, 646288.0861 5070441.777899999, 646235.0403000005 5070452.832900001, 645844.6360999998 5070215.326400001, 645223.6434000004 5069636.329399999, 645195.0372000001 5069590.2129999995, 645173.3252999997 5069548.3851, 645040.6524 5069199.8641, 645037.9616999999 5069168.5239, 645037.2609000001 5069159.298900001, 645017.7428000001 5068666.437000001, 645020.0630999999 5068651.357000001, 645022.1760999998 5068637.624399999, 645030.9906000001 5068627.6821, 645035.2378000002 5068608.897500001, 645036.6845000004 5068506.250399999, 644963.1831 5067859.750499999, 644891.4782999996 5067254.2499, 644867.8465 5067255.4406, 644833.1545000002 5067257.2356, 644664.5588999996 5067265.8452, 644577.5308999997 5067270.2894, 644551.5225 5067261.2480999995, 644355.3107000003 5067100.726, 644322.3546000002 5067066.353, 644305.1065999996 5067039.8101, 644288.7674000002 5067004.080399999, 644054 5066451.5096, 643521.8903000001 5065135.2073, 643444.8069000002 5064655.8912, 643493.6683999998 5064435.2531, 643656.8005999997 5064373.241599999, 644253.8485000003 5064375.319599999, 644910.2490999997 5064334.6767, 645732.3652999997 5064175.7951, 646454.0692999996 5064348.1184, 646544.2909000004 5064317.8917, 646746.1081999997 5064249.332, 647009.2405000003 5064148.365800001, 647063.0073999995 5064127.4529, 647074.7830999997 5064119.5298, 647103.7263000002 5064099.8401999995, 647200.5108000003 5064033.7809, 647397.1712999996 5063866.870200001, 648289.1660000002 5063320.422900001, 649073.2413999997 5062845.567, 649639.4912 5062581.7673, 649784.3060999997 5062514.990900001, 649940.0234000003 5062428.3222, 649938.9479 5062419.1545, 649924.4172 5062394.632200001, 649889.8536999999 5062336.4473, 649800.0231999997 5062217.9222, 649759.4336999999 5062172.839299999, 649754.2122999998 5062168.4497, 649733.5234000003 5062151.4034, 649716.5828999998 5062137.447699999, 649704.0414000005 5062129.1423, 649654.0417999998 5062096.031300001, 649511.1498999996 5062001.4047, 649490.5431000004 5061987.7585, 649430.8298000004 5061951.405099999, 649354.0438999999 5061904.658, 649348.7015000004 5061901.4056, 649305.0365000004 5061874.868899999, 649171.0842000004 5061782.9871, 649027.5661000004 5061656.8892, 648990.2715999996 5061617.944700001, 648966.0621999996 5061590.9099, 648952.0258999998 5061571.5262, 648933.8097999999 5061546.3703000005, 648903.7594999997 5061498.856000001, 648890.2390000001 5061471.464400001, 648885.2545999996 5061461.362400001, 648878.3480000002 5061377.359099999, 648876.4392999997 5061321.4956, 648875.0972999996 5061281.899499999, 648874.0899 5061223.275599999, 648876.5576999998 5061209.105799999, 648878.8607000001 5061195.884, 649664.4484000001 5060273.2992, 650901.5220999997 5059588.294199999, 651124.1306999996 5059566.7706, 651194.1575999996 5059563.4694, 651252.9654000001 5059561.01, 651326.2560999999 5059559.3321, 651332.9463 5059565.538000001, 651342.3245000001 5059574.3497, 651447.9156 5059673.7457, 651516.3141999999 5059855.8608, 651523.8931 5059876.332800001, 651557.1843999997 5060137.5030000005, 651563.6261 5060192.889699999, 651966.9283999996 5060846.603499999, 652779.2790999999 5060997.705600001, 653007.4095999999 5061702.5472, 653013.3868000004 5061720.4428, 653021.0975000001 5061742.2391, 653034.4227 5061778.42, 653044.8837000001 5061806.2192, 653049.8284 5061817.000600001, 653064.2516000001 5061848.360200001, 653529.7352999998 5062809.8105, 653538.2978999997 5062794.2795, 653552.5290000001 5062768.4142, 653554.7238999996 5062764.356699999, 653744.1153999995 5062247.218699999, 653748.7368000001 5062231.288000001, 653752.3839999996 5062214.8026, 653759.8247999996 5062180.455600001, 653758.9402999999 5062165.2831, 653757.7072999999 5062153.4925999995, 653748.9905000003 5062120.9339000005, 653701.7253999999 5062021.7311, 653682.4616999999 5061981.4954, 653666.3918000003 5061947.943600001, 653653.8771000002 5061921.8366, 653629.5696999999 5061871.1295, 653420.7233999996 5061417.483200001, 653400.5674999999 5061365.7601, 653349.5897000004 5061206.2871, 653282.9464999996 5060900.8288, 653286.7445999999 5060391.885600001, 653705.5493000001 5060780.8083, 654114.2883000001 5061030.800899999, 654665.8344 5061391.5228, 655356.0078999996 5062263.7546, 655597.9820999997 5063504.8016, 656258.0451999996 5063834.2029, 656484.6540000001 5064149.9935, 656522.9408 5064211.8793, 656549.7615999999 5064262.359300001, 656573.7307000002 5064310.8213, 656576.869 5064319.6997, 656583.8157000002 5064339.352499999, 656578.1821999997 5064422.338099999, 656570.8167000003 5064467.3474, 656564.0129000004 5064508.751700001, 656550.9954000004 5064638.305, 656538.6540999999 5064788.721899999, 656934.6909999996 5064851.936899999, 656969.3662999999 5064856.797700001, 656979.6529000001 5064844.567, 656998.4831999997 5064797.864700001, 657014.7899000002 5064733.311000001, 657012.9062999999 5064686.310900001, 657002.2039999999 5064596.9134, 656993.2012 5064543.336300001, 656990.6936999997 5064528.413899999, 656876.2191000003 5063848.7815000005, 656964.5302999998 5063330.0463, 657724.7306000004 5063236.915999999, 657802.6655000001 5063235.741, 657839.1823000005 5063240.440400001, 658901.9452 5063444.954399999, 659707.1895000003 5064534.338500001, 659758.6289999997 5064606.167400001, 660001.3181999996 5064808.903000001, 660016.9808 5064819.138599999, 660034.1382999998 5064824.026900001, 660037.3476999998 5064824.8072, 660058.4972000001 5064816.829500001, 660128.7085999995 5064745.93, 660137.4245999996 5064736.2371, 660142.3685999997 5064730.738700001, 660163.1056000004 5064691.709899999, 660168.5647999998 5064661.407400001, 660172.9249999998 5064636.9122, 660199.9627999999 5064552.2062, 660245.6820999999 5064440.3531, 660262.7378000002 5064399.005799999, 660290.6754999999 5064355.5153, 660731.4837999996 5063771.637800001, 660769.7253999999 5063733.737199999, 661203.9594999999 5063446.874399999, 662964.0491000004 5062201.397500001, 663494.2939999998 5062265.3244, 663510.4272999996 5062307.6241999995, 663626.8340999996 5062411.429099999, 663640.6889000004 5062415.7853, 663688.7176000001 5062417.194399999, 663743.9063999997 5062418.811000001, 664052.9102999996 5062400.390000001, 664085.4562999997 5062395.391899999, 664171.1789999995 5062318.739499999, 664517.1224999996 5062501.827, 664563.1427999996 5062524.9483, 664590.0239000004 5062528.7607, 664603.9321999997 5062526.6554000005, 664609.3679 5062525.8303, 665109.1474000001 5062421.918099999, 665133.9264000002 5062416.3824000005, 665161.7691000002 5062410.0232, 665213.6338 5062387.968800001, 665249.4140999997 5062372.6797, 665321.7758999998 5062222.755100001, 665336.4981000004 5062124.9573, 665315.9210000001 5061904.988500001, 665307.3908000002 5061815.372300001, 665303.7644999996 5061790.4683, 665295.4299999997 5061776.4986000005, 665273.8596999999 5061761.747400001, 665263.9309 5061750.059599999, 665266.9857999999 5061709.445599999, 665269.8767999997 5061701.4002, 665271.9508999996 5061695.6285999995, 665294.1524 5061707.5309999995, 665330.8890000004 5061728.446699999, 666006.7533 5062151.396600001, 666490.8590000002 5062590.2467, 666664.6270000003 5061732.370999999, 666590.6273999996 5061477.3730999995, 666934.6248000003 5061033.3762, 667206.6228 5061106.375499999, 667250.6224999996 5061122.375399999, 667285.6222999999 5061162.3751, 667292.767 5061212.069, 667347.6217 5061255.374299999, 667494.6206999999 5061283.374, 667666.6194000002 5061257.3741, 667795.6184 5061234.3741999995, 667948.6171000004 5060711.3781, 667790.6178000001 5059746.385299999, 667778.6179 5059694.3857, 667648.5475000003 5059274.325300001, 667554.6191999996 5058890.3917, 667488.6193000004 5057865.3993, 667720.6176000005 5057335.4033, 668253.6129999999 5056294.410499999, 668289.6127000004 5056247.4109000005, 668356.6122000003 5056204.4112, 668418.6117000002 5056174.4114, 668505.6109999996 5056130.411599999, 668569.6105000004 5056085.411900001, 668599.6102999998 5056048.4122, 668811.6085999999 5055593.4155, 669641.6019000001 5054306.4246, 669665.6073000003 5054269.4955, 670057.5987 5053998.4267, 670130.5981000001 5053960.426999999, 670252.5971999997 5053946.426999999, 670323.5966999996 5053977.4267, 670385.5963000003 5054022.4264, 670388.2057999996 5054025.1324000005, 670460.5958000002 5054098.425799999, 670533.3913000003 5054149.699100001, 670575.5949999997 5054179.425100001, 670627.5946000004 5054205.424900001, 670695.5941000003 5054236.424699999, 670751.5937000001 5054237.4246, 670959.5926000001 5054168.4253, 671280.5904000001 5054434.4233, 671700.5875000004 5054858.4199, 671723.5872999998 5054869.9198, 671754.5871000001 5054885.4197, 671951.5856999997 5054929.419299999, 672040.335 5054915.919399999, 672211.7555 5054843.9114, 672361.5826000003 5054883.419500001, 672437.5821000002 5054881.419399999, 672466.3309000004 5054869.4868, 672497.5817 5054856.419600001, 672568.5811999999 5054818.4199, 672612.5807999996 5054789.4201, 672626.4024 5054756.489600001, 672637.5806999998 5054729.420600001, 672638.5806999998 5054628.4213, 672630.5806999998 5054600.421499999, 672577.5811000001 5054603.421499999, 672512.5724999998 5054565.3785, 672475.5813999996 5054413.422800001, 672470.9051999999 5054332.985200001, 672470.7189999996 5054327.5506, 672577.9835999999 5053613.5186, 672881.5779999997 5052954.4333999995, 672987.5771000003 5052428.4375, 673297.5744000003 5052135.439300001, 673564.5724999998 5052130.439300001, 673658.5718 5052158.438999999, 673745.5712000001 5052213.4386, 673804.5707999999 5052241.4383000005, 673857.9176000003 5052244.2114, 673882.5702 5052245.4383000005, 673960.5696 5052221.4384, 674283.5672000004 5052120.438999999, 674336.5668000001 5052096.439200001, 674351.7224000003 5052073.176899999, 674368.8163999999 5052046.939200001, 674578.5642999997 5050967.4472, 674923.5615999997 5050716.448899999, 675057.5606000004 5050514.450200001, 675269.5584000004 5049537.2074, 675095.5598999998 5047664.4717999995, 675378.0175999999 5046787.1127, 675598.5544999996 5046290.4812, 675752.5541000003 5045714.4866, 675770.5538999997 5045653.4871, 675925.3832999999 5045445.7311, 676088.5504000001 5045266.488600001, 677614.5390999997 5043717.5001, 677799.5377000002 5043643.500499999, 677871.5372000001 5043631.500600001, 677934.5367 5043631.500600001, 677978.5363999996 5043609.500700001, 678018.5361000001 5043557.5011, 678082.5355000002 5043384.5023, 678116.5351999998 5043292.5030000005, 678130.5351 5043239.5034, 678136.5350000001 5043198.503699999, 678188.5344000002 5042593.508099999, 678158.5344000002 5042252.5107, 678132.5345999999 5042211.511, 678096.5349000003 5042176.511299999, 678073.5349000003 5042157.5111, 678474.0314999996 5042228.01, 678573.5307999998 5042105.511, 678619.5305000003 5042098.511, 678631.6628999999 5042094.2785, 678724.5296999998 5042061.5112, 678969.5275999997 5041941.5119, 679041.5270999996 5041902.5122, 679090.5267000003 5041843.512599999, 679102.7618000004 5041802.601500001, 679107.2318000002 5041787.6545, 679122.5263999999 5041736.5134, 679384.5246000001 5041472.5154, 679413.5244000005 5041453.5155, 680894.5132999998 5041132.517200001, 681274.4080999997 5040999.0195, 681569.5092000002 5040455.523399999, 681578.5078999996 5040180.5241, 681609.5075000003 5039674.527799999, 681740.5632999996 5039538.6461, 681849.7553000003 5039488.0287999995, 681958.0543 5039195.7809, 681811.8969999999 5038988.909, 681569.5071 5038211.5386, 681581.5069000004 5038122.5392, 681626.5065000001 5037954.5405, 681658.5061999997 5037841.541300001, 681676.5060999999 5037783.5417, 681729.5056999996 5037747.541999999, 681800.5050999997 5037701.542300001, 681833.5049 5037648.5426, 682017.5033 5037309.5451, 682046.5031000003 5037243.545600001, 682072.1760999998 5037149.6866999995, 682073.5023999996 5037144.5461, 681930.2533 5036731.0492, 681900.0757999998 5036682.5348000005, 681897.6475999998 5036678.633300001, 681887.8750999998 5036663.4264, 681878.4379000003 5036648.7925, 681853.5038000001 5036613.550000001, 681825.5039999997 5036580.5503, 681800.5042000003 5036560.5504, 681764.4331 5036592.4947, 681762.1843999997 5036595.295, 681738.5050999997 5036625.5504, 681686.5055 5036670.550100001, 681543.4231000002 5036526.4604, 681462.5066999998 5036356.552300001, 681422.5070000002 5036183.5536, 681632.5054000001 5036129.554, 681751.5044999998 5036033.5547, 682078.5017999997 5035373.5594, 682102.5016000001 5035303.559900001, 682170.5010000002 5035065.5616999995, 682197.5006999997 5034962.5624, 682134.5011 5034749.563999999, 681644.5044 5034128.5689, 681624.5045999996 5034103.5691, 681615.3948999997 5034102.2676, 681582.5197000001 5034097.5711, 681578.9007000001 5034097.054099999, 681575.5049 5034096.5691, 681511.5054000001 5034101.5691, 681447.5059000002 5034108.5691, 681364.5069000004 5034128.5692, 681310.5072999997 5033998.570599999, 681320.0064000003 5033649.8224, 681409.5061999997 5033661.5726, 681523.5051999995 5033686.3221, 681555.5051999995 5033696.5722, 681564.5050999997 5033746.571900001, 681627.5047000004 5033749.571799999, 681695.5040999996 5033627.572699999, 681721.2088000001 5033559.6131, 681881.7525000004 5033130.076300001, 681837.5027999999 5033061.5768, 681809.0734999999 5033023.4398, 681796.5031000003 5033006.577099999, 681765.6246999996 5032969.7224, 681760.2529999996 5032949.327500001, 681942.5016999999 5033001.077, 682009.0011999998 5033099.576300001, 682192.75 5033389.323999999, 682192.75 5033414.073799999, 682200 5033461.0735, 682229.7498000003 5033534.822899999, 682387.4987000003 5033781.571, 682500.7478999998 5033719.8214, 682722.6024000002 5033391.855799999, 682732.5371000003 5033315.5197, 682703.9959000004 5033190.825200001, 682664.4478000002 5033054.2519000005, 682844.4955000002 5033013.327299999, 682848.4955000002 5033007.077199999, 682881.9935999997 5032952.650699999, 682958.1032999996 5032827.979699999, 683009.5949999997 5032702.489700001, 683017.1912000002 5032680.2621, 683018.3805999998 5032676.7798, 683019.8389999997 5032672.156099999, 683020.9703000002 5032668.5174, 683023.3806999996 5032660.7316, 683098.7920000004 5032416.373199999, 683099.7426000005 5032412.830800001, 683187.7418 5031858.584799999, 683299.4908999996 5031546.587099999, 683601.4877000004 5029877.599400001, 683610.4875999996 5029784.600099999, 683167.8761 5029817.344900001, 683052.6551000001 5029840.5907000005, 682875.4932000004 5029869.5999, 682793.4938000003 5029880.5998, 682789.244 5029870.3499, 682764.7792999996 5029809.6884, 682740.4940999998 5029749.1008, 682705.4945 5029632.6018, 682544.4951999998 5028912.6072, 682514.4951999998 5028656.608999999, 682463.3642999995 5028604.4701000005, 682792.4937000005 5028450.6107, 682848.4934 5028483.6106, 683145.4911000002 5028267.6121, 683218.4906000001 5028202.612500001, 683233.4903999995 5028170.6128, 683233.4903999995 5028110.6132, 683229.4903999995 5028072.613500001, 683202.4906000001 5028045.613700001, 683180.4907 5027969.6143, 683177.4907 5027933.614499999, 683183.4907 5027900.614800001, 683286.6608999996 5027711.584100001, 683432.4879000001 5027512.617000001, 683530.4870999996 5027400.617799999, 683835.4856000002 5027280.619100001, 683910.4850000003 5027268.619200001, 683959.4846000001 5027241.6193, 684080.4836999997 5027168.6197999995, 684181.4829000002 5027074.6205, 684236.4824000001 5026982.621099999, 684273.3809000002 5026917.6371, 684372.4811000004 5025960.628799999, 684447.4802000001 5025122.635, 684445.6021999996 5025100.4747, 684442.4802000001 5025063.635500001, 684424.4802999999 5024965.6362, 684419.4812000003 5024948.4103, 684411.4803999998 5024921.636499999, 685100.4747000001 5024534.638900001, 686401.4647000004 5024588.637599999, 686666.4627 5024548.637800001, 686928.4607999995 5024507.638, 687529.4561999999 5024390.638599999, 688510.4474 5023931.6569, 688659.4474 5023767.6426, 688673.4473000001 5023725.642899999, 688679.4472000003 5023661.6434, 689666.4089000002 5023531.206800001, 690188.244 5023206.4728, 690277.4348999998 5023115.646500001, 691023.4278999995 5022586.132999999, 691373.1772999996 5022346.1526, 691380.6047 5022342.526900001, 691400.2389000002 5022332.942600001, 691446.9266999997 5022310.152799999, 691483.2699999996 5022309.8632, 691509.6761999996 5022309.652799999, 691579.1179999998 5022275.6217, 691622.9254000001 5022254.153100001, 691767.9242000002 5022164.6537, 691804.4238999998 5022139.653899999, 692061.7538999999 5021945.022, 692174.9210999999 5021858.1558, 692181.3261000002 5021852.745100001, 692215.8191 5021823.0101, 692266.6775000002 5021752.490499999, 692279.4200999998 5021720.6565000005, 692269.4201999996 5021677.6568, 692266.5783000002 5021669.3891, 692258.4203000003 5021645.657199999, 692101.1712999996 5021339.409499999, 691855.4230000004 5020892.663000001, 691603.4364 5020948.7489, 691265.4272999996 5021021.6622, 691188.7604999999 5021035.9659, 691131.4282999998 5021046.6621, 691055.4288999997 5021057.6620000005, 690736.9313000003 5020950.413000001, 690735.0388000002 5020947.944700001, 690678.9321999997 5020867.163899999, 690584.4327999996 5020662.6655, 690561.4329000004 5020505.6667, 690701.4315999998 5020014.670299999, 691322.4266999997 5019494.673900001, 691489.4245999996 5019405.6741, 692023.4203000003 5019156.6756, 693096.1935 5018613.4617, 693777.4068999998 5017940.683800001, 694539.4009999996 5017731.684900001, 694919.3981999997 5017730.684699999, 695024.3982999995 5017718.685799999, 695091.3968000002 5017696.684900001, 695098.0665999996 5017690.459799999, 695136.2882000003 5017654.6797, 695369.3945000004 5017369.6872000005, 695219.3949999996 5015992.6976, 695197.3949999996 5015845.6987, 695126.4633 5015572.0206, 695106.1453 5015504.200999999, 694969.3962000003 5015132.7041, 694934.8267999999 5015058.2469, 694930.3964 5015048.704700001, 694904.7424999997 5015006.795299999, 694870.3968000002 5014950.705499999, 694800.3974000001 5014854.7062, 694691.3980999999 5014705.7074, 694603.3987999996 5014661.707800001, 694577.7282999996 5014659.7161, 694487.5513000004 5014652.744999999, 694440.1993000004 5014671.5557, 694387.4003999997 5014692.7075, 693321.4089000002 5014955.7064, 693271.4093000004 5014939.706599999, 692889.9112999998 5014866.5745, 692816.4123999998 5014854.7074, 692659.4138000002 5014840.707699999, 692576.6698000003 5014833.645099999, 692412.8997 5014862.9157, 692327.7901999997 5014883.8291, 692268.9172 5014901.7075, 691920.4194999998 5014774.7086, 691336.4560000002 5014592.774, 691220.4245999996 5014582.7103, 691211.9506999999 5014581.5384, 691165.3926999997 5014574.7642, 691079.4256999996 5014531.7108, 690704.4285000004 5014301.7128, 690646.4288999997 5014238.713300001, 690616.8620999996 5014206.387, 690571.4292000001 5014156.7138, 690441.4301000005 5013958.715399999, 690143.4321999997 5014050.7147, 689312.4386999998 5014570.711300001, 689180.4397 5014663.7106, 688502.4450000003 5015186.707, 688324.4457 5014910.708900001, 688079.4617999997 5014692.5601, 687980.4480999997 5014669.710899999, 687869.4489000002 5014643.711100001, 687787.4495000001 5014595.7115, 687758.9101999998 5014575.691500001, 687720.4500000002 5014548.7118999995, 687703.4501 5014480.712400001, 687599.4506000001 5013992.7161, 687590.4506000001 5013905.7168000005, 687597.3074000003 5013860.42, 687607.3772 5013795.230699999, 687794.4488000004 5013770.717499999, 688071.4468 5013791.7172, 688164.4461000003 5013787.7172, 688241.4455000004 5013776.7172, 688307.4450000003 5013761.7173, 688356.4446 5013739.7173999995, 688416.4441999998 5013706.717700001, 688443.4439000003 5013685.717800001, 688617.4424999999 5013411.719799999, 688645.585 5013359.052100001, 688656.7653000001 5013338.0666000005, 688680.3859000001 5013293.7052, 688682.0915999999 5013289.899900001, 688701.7352999998 5013246.074999999, 688740.4414999997 5013159.7217, 688775.4412000002 5013039.7225, 688786.0493999999 5012996.9241, 688804.4408999998 5012922.7234000005, 688832.9495000001 5012799.953500001, 688839.4404999996 5012771.7245000005, 688876.4401000002 5012458.7268, 688877.7395000001 5012402.4224, 688879.4400000004 5012328.7279, 688872.6381000001 5012296.4187, 688855.4402000001 5012214.728700001, 688798.1085999999 5012145.9309, 688770.4407000002 5012112.729499999, 688737.5049 5012091.443499999, 688689.7688999996 5012060.6888, 688677.4378000004 5012052.733999999, 688658.3229999999 5012035.3116999995, 688610.4725000001 5011991.6975, 688608.7312000003 5011989.1644, 688603.3284 5011981.0703, 688570.4029000001 5011931.742699999, 688555.4422000004 5011884.7313, 688474.4435999999 5011470.735400001, 688426.1931999996 5011103.737500001, 688391.1931999996 5010824.739499999, 688539.1919999998 5010295.7434, 688723.4402999999 5009801.747099999, 688785.4395000003 5009147.752, 688821.4390000002 5008710.7553, 688944.4371999996 5007110.767100001, 688906.4376999997 5006719.770400001, 689142.4356000004 5006210.774, 689243.4342 5005919.775699999, 689250.4578999998 5005865.5657, 689253.4216 5005841.7753, 689254.4471000005 5005815.8332, 689256.4340000004 5005761.776900001, 689227.7445999999 5005624.154999999, 689198.4343999997 5005496.778999999, 689192.4343999997 5005441.7794, 689195.4343999997 5005378.7798999995, 689201.4345000004 5005296.7806, 689202.2763999999 5005291.9694, 689208.4343999997 5005256.7809, 689553.4316999996 5004815.7842, 689571.4315999998 5004792.7842999995, 690351.4254999999 5004287.787799999, 690370.6748000002 5004256.164000001, 690393.4250999996 5004218.7883, 690399.3646999998 5004191.812899999, 690415.1167000001 5004120.272299999, 690417.4249 5004109.789100001, 690425.4248000002 5004020.789799999, 690418.4248000002 5003906.7907, 690373.4250999996 5003803.7914, 690183.4263000004 5003384.794600001, 690165.5418999996 5003348.4581, 690120.4266999997 5003256.795700001, 690419.4241000004 5002796.798699999, 690760.4216999998 5002598.8003, 690831.699 5002571.794299999, 690921.4200999998 5002537.8002, 690778.4210000001 5001973.8047, 690726.4212999996 5001770.8061999995, 690635.3674999997 5001426.826300001, 690601.4220000003 5001330.809599999, 690557.5032000002 5001209.1888, 690339.4598000003 5000670.817399999, 690246.4242000002 5000469.816299999, 690200.7577 5000374.006100001, 690195.4244999997 5000362.8171, 690188.9245999996 5000351.8171999995, 690165.0813999996 5000311.5623, 690129.4249999998 5000251.8179, 690084.6801000005 5000192.327199999, 690059.9253000002 5000159.568600001, 689581.9291000003 5000479.316500001, 689619.2516999999 4999284.999399999, 689682.4293 4999228.8276, 689694.8673 4999219.269400001, 689709.6043999996 4999208.1184, 689772.4283999996 4999160.8279, 690099.3991999999 4998999.8531, 690149.4259000001 4998982.829600001, 690187.7576000001 4998973.9288, 690205.4238999998 4998969.8276, 690253.4234999996 4998958.8276, 690317.4230000004 4998939.8277, 690325.8727000002 4998935.501, 690399.4239999996 4998897.8301, 690489.4232999999 4998797.830800001, 690725.4197000004 4998391.831700001, 691257.165 4997463.838400001, 691437.4137000004 4997424.5886, 691512.6632000003 4997401.0889, 691549.4132000003 4997368.839400001, 691624.4126000004 4997300.8399, 692133.9084999999 4996634.594699999, 692134.9084000001 4996619.344799999, 692133.9075999996 4995987.348999999, 692128.1577000003 4995955.849199999, 692102.6578000002 4995916.8495000005, 692059.6599000003 4995861.6019, 692007.1670000004 4995805.409399999, 692000.6602999996 4995798.602399999, 691953.9106999999 4995756.8528, 691923.6610000003 4995732.1032, 691896.9112 4995705.353399999, 691883.6612999998 4995673.103599999, 691874.1612999998 4995596.8542, 691879.6612 4995495.855, 691885.4111000001 4995444.6054, 691900.3033999996 4995393.787900001, 691902.6416999996 4995387.0152, 692330.0986000001 4994955.608200001, 692496.4046999998 4994821.857899999, 692363.4068999998 4994063.865499999, 692327.4071000004 4993995.8661, 691835.4093000004 4993405.8694, 691778.4096999997 4993406.8695, 691686.4104000004 4993415.8694, 691447.4122000001 4993408.8696, 690868.4165000003 4993386.870100001, 690734.4175000004 4993358.8703000005, 690645.4182000002 4993310.8708, 690123.4220000003 4992917.874, 690087.4222999997 4992873.874299999, 690042.4225000003 4992762.8752, 690010.4227 4992640.8761, 690006.5661000004 4992625.6910999995, 689978.4737999998 4992515.077500001, 689934.4232000001 4992421.877800001, 689847.4238 4992330.8785, 689172.4276999999 4991645.882999999, 689118.4281000001 4991621.883199999, 689038.4287 4991619.883300001, 688965.4293 4991636.883199999, 688090.4359999998 4991967.881100001, 686947.4446 4992010.8814, 686511.9482000005 4992112.630999999, 685880.4527000003 4992028.8817, 685492.4562999997 4993282.8727, 685481.8808000004 4993308.4508, 685461.7807 4993357.065099999, 685449.4567 4993386.8719, 685433.7247000001 4993405.0879999995, 685416.4707000004 4993425.066199999, 685392.4978999998 4993452.7908, 685296.4577000001 4993470.871099999, 685198.4584999997 4993444.8714000005, 685156.4588000001 4993427.8715, 685090.4593000002 4993440.8715, 684742.4628999997 4993514.872300001, 684608.6721000001 4993547.595000001, 684367.4658000004 4993639.8715, 683504.4725000001 4994057.868799999, 683407.4731999999 4994106.8684, 683056.9758000001 4994501.8651, 683032.3958 4994476.0353999995, 683027.4753 4994470.864800001, 683022.2131000003 4994466.577, 682973.4758000001 4994426.8651, 682931.4760999996 4994405.8653, 682894.4763000002 4994405.8653, 682808.477 4994426.8652, 682746.4775 4994458.865, 682653.4781999998 4994533.864499999, 682594.4786999999 4994582.8641, 682590.4786999999 4994615.8639, 682562.4789000005 4994811.862400001, 682502.4795000004 4995126.860099999, 682488.4593000002 4995181.8553, 682451.4318000004 4995282.866699999, 682415.4803999998 4995343.8586, 682302.4813000001 4995489.8575, 682227.4819 4995562.856899999, 682153.4824999999 4995583.856799999, 681649.4863 4995606.856899999, 681494.5433999998 4995753.957800001, 681430.4884000001 4995781.8563, 681313.4892999995 4995797.8562, 681167.4903999995 4995790.8563, 681007.4914999995 4995772.8565, 680869.4926000005 4995745.856799999, 680783.4932000004 4995720.857000001, 680774.8492999999 4995715.670700001, 680708.3870000001 4995675.766799999, 680673.494 4995654.8576, 680641.5873999996 4995641.2676, 680588.4945999999 4995618.857899999, 679830.5003000004 4995507.859099999, 679748.5009000003 4995506.859099999, 679624.5017999997 4995514.858999999, 679589.3069000002 4995521.2401, 679558.5022999998 4995526.859099999, 679510.5027000001 4995554.858899999, 679456.5032000002 4995598.8586, 678545.8059999999 4995553.371200001, 678271.5122999996 4995801.857899999, 678188.5129000004 4995844.8576, 678106.5136000002 4995857.8575, 678019.5142000001 4995849.8576, 677967.5146000003 4995821.857899999, 677931.0857999995 4995759.929, 677927.5148999998 4995753.8584, 677912.5148999998 4995684.858899999, 677895.4543000003 4995648.8418000005, 677885.5151000004 4995627.8594, 677854.0656000003 4995608.783399999, 677839.4556 4995599.921599999, 677824.5155999996 4995590.8597, 677566.5175000001 4995531.860200001, 677346.5191000002 4995483.8607, 677256.5197999999 4995464.8609, 677169.5203999998 4995479.8608, 676593.7246000003 4995672.1592999995, 675787.5306000002 4995222.8631, 675253.5341999996 4994633.867799999, 675216.5345000001 4994607.868000001, 675183.5346999997 4994601.868000001, 675124.5351999998 4994608.868000001, 675077.5355000002 4994619.867900001, 675021.5360000003 4994639.867799999, 674968.2863999996 4994695.8674, 674947.5366000002 4994728.8672, 674930.5367 4994765.866900001, 674908.5368999997 4994812.866599999, 674880.5371000003 4994863.8662, 674855.5373 4994907.865900001, 674821.5376000004 4994953.865499999, 674647.5389999999 4995176.8639, 674353.5412999997 4995447.8619, 673926.5445999997 4995769.8597, 673750.4829000002 4995885.4421, 673801.5456999997 4996115.857100001, 673807.5459000003 4996148.857100001, 673800.5454000002 4996203.856000001, 673554.5476000002 4997169.8488, 673493.8811999997 4997479.8467999995, 673326.5493999999 4997717.1785, 672497.5559 4997536.3474, 672214.5576 4997476.3478999995, 672133.5579000004 4997465.347999999, 672085.7362000002 4997484.3389, 671545.5630000001 4997831.345799999, 670923.5678000003 4998143.3441, 670780.5691 4998183.3434999995, 670628.5698999995 4998214.343699999, 670428.5718 4998251.3431, 670250.5730999997 4998277.342599999, 670092.5738000004 4998303.3432, 669961.5756000001 4998327.3422, 669829.5756999999 4998386.3423, 669536.5783000002 4998646.3401999995, 669430.5790999997 4998753.339299999, 669354.5800000001 4998856.3386, 669306.5799000002 4998945.3379, 668896.5844999999 4999169.170299999, 668875.6026999997 4999175.1095, 668800.5861 4999196.338500001, 668756.5867999997 4999188.3387, 668201.591 4998935.3401, 667882.5915999999 4998129.3456999995, 667867.5920000002 4998041.346100001, 667851.5915000001 4997875.346999999, 667849.5920000002 4997825.3475, 667854.5877 4997737.349199999, 667868.5915000001 4997640.3489, 667903.5913000004 4997512.3498, 667927.5904000001 4997444.350500001, 667934.5903000003 4997371.351600001, 667902.5904999999 4997286.3521, 667732.5924000004 4996837.354900001, 667708.5922999997 4996816.355, 667370.5948000001 4996619.357000001, 667347.6341000004 4996618.6118, 667307.5950999996 4996617.3565, 666431.6030000001 4996741.3576, 666339.6036 4996780.3573, 665660.4316999996 4997070.8366, 665639.6089000003 4997127.3554, 665626.9526000004 4997197.3365, 665622.6089000003 4997221.3543, 665468.6105000004 4997509.3522, 665387.6108999997 4997638.352, 665354.6113999998 4997668.351399999, 665264.6092999997 4997640.349199999, 665231.6098999996 4997620.35, 665199.6101000002 4997588.350199999, 664965.6114999996 4997250.3529, 664921.6122000003 4997168.352600001, 664804.6129000001 4996868.3554, 664797.0732000005 4996637.3652, 664786.7583999997 4996295.683599999, 664782.5983999996 4996135.3333, 664868.6125999996 4995945.362500001, 665046.6117000002 4995671.5326000005, 664968.6962000001 4995689.686899999, 664731.6140999999 4995747.364700001, 664307.6162999999 4995923.3627, 664252.6172000002 4995985.3629, 664191.6178000001 4996044.3619, 663910.6201 4996137.361099999, 663578.3716000002 4996093.6811, 663098.6253000004 4996010.530300001, 661329.6419000002 4997152.524599999, 661258.6425000001 4997238.357000001, 661181.6427999996 4997316.3566, 661082.6434000004 4997362.3563, 660960.6446000002 4997366.3562, 660801.6456000004 4997367.355900001, 660682.6469 4997387.3562, 660443.6491 4997541.354900001, 659967.6527000004 4998017.351600001, 659715.6546 4998366.3489, 659549.6556000002 4998621.3473000005, 659528.6557 4998749.3464, 659515.6567000002 4999030.3442, 659518.8678000001 4999040.8836, 659554.6399999997 4999158.292099999, 659582.7803999996 4999176.593, 659834.4221000001 4999308.4758, 660094.9267999995 4999445.3671, 660539.2637 4999704.0757, 660709.6471999995 4999899.338099999, 660708.6480999999 4999931.338199999, 660634.6524 5000359.3398, 660612.6528000003 5000419.339400001, 660569.6533000004 5000520.338300001, 660516.2581000002 5000566.7312, 660508.6540000001 5000573.3379999995, 660555.6535 5000942.3354, 660558.2421000004 5000960.456800001, 660559.6533000004 5000970.3353, 660729.6516000004 5001147.333799999, 660949.6502999999 5001364.3321, 661187.6486999998 5001611.329700001, 661160.6485000001 5001657.329500001, 661104.6486999998 5001733.328600001, 660875.6508999998 5002000.326400001, 660826.6511000004 5001983.327500001, 660014.6538000004 5001641.158, 659756.6589000002 5001606.330800001, 659737.6595000001 5001972.328, 659731.9829000002 5002018.365499999, 659731.5921 5002021.311000001, 659515.6617999999 5002579.322799999, 659451.6623 5002624.322799999, 659422.6622000001 5002641.3232, 659418.5044 5002639.327400001, 659397.6623999998 5002629.322899999, 659246.6600000001 5002551.318299999, 659019.6655000001 5002430.3245, 658927.6645 5002373.3281, 658871.6661999999 5002330.3254, 658877.3701999998 5002312.5002, 658897.2526000002 5002250.367900001, 658903.6660000002 5002230.326099999, 658562.6693000002 5001877.3292, 658290.6706999997 5001617.3314, 658186.6716999998 5001530.331700001, 658089.6726000002 5001456.3322, 658027.6725000003 5001430.3325, 656786.6776999999 5001588.3266, 656773.6774000004 5001613.326400001, 656635.6818000004 5001879.493799999, 656692.6798 5001888.3254, 656752.6785000004 5001908.3255, 656814.6786000002 5001935.3248, 656843.6782 5002002.3244, 656993.6771 5002355.3215, 657018.6769000003 5002427.3215, 657038.6771999998 5002513.320699999, 657088.6770000001 5003253.315099999, 657086.6765999999 5003327.3147, 657056.9716999996 5003507.580700001, 657044.6777999997 5003572.312899999, 657034.6944000004 5003621.1884, 657017.1639 5003628.2008, 657009.6766999997 5003631.143200001, 656619.6796000004 5004894.3006, 656650.6780000003 5005314.296, 656714.6775000002 5005309.295499999, 656877.5409000004 5005353.2783, 656905.6764000002 5005374.294600001, 656911.4110000003 5005378.739, 656945.6527000004 5005405.3827, 656951.6102999998 5005414.4474, 656972.0725999996 5005445.750600001, 656974.6749999998 5005450.294, 656973.7767000003 5005457.493799999, 656970.6765000001 5005482.295600001, 656947.6761999996 5005547.2948, 656890.6765999999 5005657.2941, 656783.6787 5005852.293400001, 656336.6820999999 5006663.2874, 656159.6842999998 5006810.286, 655833.5568000004 5007059.2421, 655567.6882999996 5007012.285, 655488.6891000001 5006992.284600001, 655413.6897 5006987.2852, 655310.6904999996 5007013.2848000005, 655224.6948999995 5007043.3082, 654866.6926999995 5007263.2831999995, 654194.8402000004 5007639.2873, 653768.6654000003 5007695.921, 652899.6934000002 5007649.4329, 652908.7073999997 5007693.280099999, 652906.9365999997 5007701.0075, 652897.7076000003 5007741.2793000005, 652698.0415000003 5008248.930400001, 652299.7119000005 5008510.273, 652215.7122999998 5008551.2733, 652025.716 5008543.443499999, 651936.7167999996 5008567.2754, 651592.7193 5008982.2729, 651571.7193999998 5009205.271500001, 651572.7204 5009894.2665, 651973.7149999999 5010536.0912, 652028.7138999999 5010652.112199999, 651316.7227999996 5010739.2597, 650531.7285000002 5010861.2598, 649401.7368000001 5011062.258099999, 649316.0802999996 5011085.5973000005, 649292.8152000001 5011092.262599999, 649243.7379000001 5011134.256899999, 649229.7379000001 5011194.2568, 649080.7391999997 5011997.2509, 649077.7390999999 5012136.2498, 648854.8630999997 5012146.369100001, 648239.8184000002 5012300.119899999, 648199.7438000003 5012269.2465, 648147.7438000003 5012238.2466, 648075.7445 5012212.2469999995, 647684.7473999998 5012098.248, 647496.7487000003 5012216.2469999995, 647516.7489999998 5012281.2464000005, 647515.5926000001 5012526.2447, 647507.7487000003 5012573.244000001, 647491.7493000003 5012640.2436999995, 647455.7496999996 5012689.2435, 647411.7494999999 5012710.2435, 647341.7506999997 5012727.2425, 645536.8377 5013155.2674, 644889.7715999996 5013111.245200001, 644344.7763999999 5014193.238, 644328.7746000001 5014265.235200001, 644324.7747 5014339.2348, 644322.7753999997 5014424.234099999, 644330.7726999996 5014913.0615, 644142.7766000004 5015040.229599999, 643737.7796999998 5015521.2259, 643727.7796 5015556.2258, 643552.7812000001 5015817.2234000005, 643284.2828000002 5016110.221999999, 643033.7851999998 5016203.2212000005, 642474.7884 5016695.215299999, 642448.7878999999 5016765.2151, 642422.7884 5016884.2148, 642403.7889999999 5016992.2136, 642420.7892000005 5017148.2126, 642432.7887000004 5017225.211300001, 640674.8131999997 5018729.2139, 639739.8152000001 5019536.7016, 637107.8357999995 5017117.725400001, 636860.6582000004 5016890.6873, 636676.9963999996 5016721.9915, 636420.0423999997 5016485.977, 636248.8377 5016328.7246, 635528.0729 5016764.1702, 635524.9198000003 5016785.218699999, 635520.9089000002 5016812.0561, 635526.8119999999 5017054.7214, 635527.6834000004 5017061.8299, 635536.9486999996 5017135.611099999, 635557.8417999996 5017301.7169, 635582.2236000001 5017406.3835, 635619.8420000002 5017567.7151, 635675.3092999998 5017692.1117, 635722.8409000002 5017798.7127, 635785.8408000004 5017946.710999999, 635820.8397000004 5018071.709799999, 635843.7747 5018197.7236, 635844.9100000001 5018204.4618, 635866.8394999998 5018343.7083, 635862.6117000002 5018386.8925, 635852.8395999996 5018486.707, 635711.8416999998 5019250.701400001, 635651.8762999997 5019475.224199999, 635364.8443999998 5019703.697899999, 635289.8449999997 5019738.697899999, 635232.5619999999 5019757.6524, 635177.8464000002 5019775.6983, 635044.8468000004 5019799.6973, 634961.8477999996 5019811.697899999, 634908.8481000001 5019802.6976, 634860.8477999996 5019725.698799999, 634830.3619999997 5019689.9561, 634802.8421 5019657.711100001, 634769.3028999995 5019641.2205, 634694.8498 5019604.6997, 634644.3848000001 5019589.6971, 634529.8503 5019555.699999999, 634112.8536999999 5019477.7007, 633989.8542 5019460.7007, 633884.8556000004 5019462.701099999, 633800.8558 5019477.7008, 633752.7335999999 5019501.7553, 633746.8532999996 5019504.6964, 633839.6787 5019721.840399999, 633858.8532999996 5019766.6949000005, 633861.4446 5019771.84, 633927.8524000002 5019903.694399999, 633979.8524000002 5019967.6939, 633984.1990999999 5019971.838500001, 634024.3510999996 5020010.1229, 634036.6377999997 5020021.838099999, 634065.8517000005 5020049.693, 634074.3508000001 5020057.221000001, 634105.6292000003 5020084.924799999, 634135.8504999997 5020111.6921999995, 634170.3372999998 5020156.190400001, 634197.8519000001 5020191.694399999, 634261.8501000004 5020336.690099999, 634359.8574000001 5020766.6855, 634387.8514999999 5020922.6855999995, 634423.8492999999 5021293.6841, 634417.8496000003 5021329.683499999, 634377.9128999999 5021493.682399999, 633432.8602 5022237.6809, 633183.4241000004 5022164.160599999, 633173.8618999999 5022144.6819, 633135.8618999999 5022091.6822, 633088.8624 5022090.682399999, 632736.8651 5022146.6822999995, 632225.8704000004 5022309.6829, 632148.8717 5022346.6831, 632026.6299 5023623.3506000005, 632287.8753000004 5023632.1788, 632386.8748000003 5023641.179199999, 632518.8737000003 5023673.1789, 633433.8651 5024168.1724, 634226.8609999996 5025167.1669, 634267.3874000004 5025247.299799999, 634270.8600000003 5025254.166300001, 634271.0456999997 5025257.1307, 634271.4276999999 5025263.2357, 634272.0773999998 5025273.626, 634272.8616000004 5025286.1676, 634209.9978999998 5025312.101199999, 634114.8520999998 5025334.169199999, 633990.8539000005 5025345.152899999, 633974.3903000001 5025344.611, 633952.6355999997 5025343.878799999, 633900.8537999997 5025342.1526999995, 633801.8553999998 5025360.1526, 633705.8562000003 5025392.1524, 633620.8075000001 5025470.1116, 633090.8711000001 5026007.161699999, 633064.8706 5026071.1612, 632919.5725999996 5026576.997300001, 632984.8623000002 5026604.1446, 633705.8589000003 5027140.1426, 634378.8540000003 5028328.133400001, 634437.8530000001 5028454.132999999, 634465.8529000003 5028543.132300001, 634523.8176999995 5028736.139900001, 634544.8276000004 5028817.136600001, 634553.9955000002 5028858.178400001, 634424.852 5028914.293500001, 634458.8509999998 5029015.1251, 634468.2821000004 5029043.175100001, 634492.6774000004 5029115.736500001, 634497.8508000001 5029131.1247000005, 634549.8525 5029295.1241999995, 634560.8524000002 5029337.1241, 634564.8523000004 5029387.1236000005, 634558.852 5029443.123500001, 634551.8520999998 5029487.1228, 634274.8536999999 5030608.113299999, 634246.8539000005 5030667.113399999, 634146.8617000002 5030769.9507, 633985.8553999998 5030874.1118, 632923.8809000002 5031286.130799999, 632845.8814000003 5031181.132099999, 632564.6492999997 5031233.6515, 631250.8913000003 5031537.1285999995, 630350.4599000001 5031711.460100001, 630265.5300000003 5031814.834899999, 630247.8847000003 5031836.1074, 630210.8857000005 5031857.1075, 630171.8859000001 5031848.1072, 630112.8859000001 5031823.1075, 630067.8865 5031718.1095, 630076.8904999997 5031521.834799999, 629462.8924000002 5030476.297599999, 629353.6312999995 5030493.6491, 628616.3991999999 5030680.619899999, 628591.3992999997 5030699.6193, 628594.1460999995 5030782.6142, 628597.3960999995 5030825.6139, 628622.3992999997 5030917.6174, 628650.1429000003 5030938.201400001, 628684.3982999995 5030963.617000001, 628781.3985000001 5031041.6165, 628821.2071000002 5031079.434699999, 629135.3953999998 5031593.6121, 629167.3952000001 5031695.6116, 629194.3953999998 5031813.6105, 629183.3956000004 5031891.609999999, 629044.3968000002 5032107.6086, 628953.3969999999 5032097.6085, 628912.2620999999 5032091.6614, 628870.398 5032085.608999999, 628768.3984000003 5032136.6083, 628685.3994000005 5032211.6077, 628678.0358999996 5032245.6503, 628677.3986999998 5032248.608100001, 628653.3995000003 5032512.605599999, 628654.3991999999 5032667.604900001, 628562.4000000004 5033227.600199999, 628420.4011000004 5033553.598200001, 627270.5762 5032926.6018, 626976.5769999996 5033514.5975, 627148.2267000005 5033486.919399999, 628520.4000000004 5033630.5964, 628576.8032 5033650.4957, 628590.2829 5033665.787599999, 628849.3986 5034099.593, 628833.3973000003 5034417.5907000005, 628705.3975 5034562.754899999, 628566.3996000001 5034689.588400001, 628459.9737999998 5035067.1219, 628435.1893999996 5035655.5814, 628313.7359999996 5036704.5725, 628234.4049000004 5037492.57, 628227.2383000003 5037571.709799999, 628191.0160999997 5037971.706800001, 628188.9417000003 5037994.614499999, 628181.9671999998 5038071.7061, 628133.8738000002 5038603.3018, 628017.6880000001 5039887.5517, 627950.3696999997 5040671.686799999, 627946.0773 5040721.6865, 627945.5755000003 5040727.545499999, 627915.3059999999 5041076.741599999, 627825.3113000002 5042121.480699999, 627686.5639000004 5043733.491699999, 627370.2446999997 5047397.492000001, 627324.0588999996 5047900.0485, 627312.5462999996 5048024.4552, 627235.2456999999 5048856.4815, 627074.5813999996 5050385.471100001, 626996.5821000002 5051124.4658, 627180.5805000002 5051956.460200001, 631002.1194000002 5057060.728399999, 631615.2214000002 5057858.418199999, 632106.7028000001 5058495.920399999, 632564.7306000004 5059095.915999999, 632836.3850999996 5059510.4123, 633336.3821 5060339.4059, 633826.3789999997 5061192.399599999, 634484.8309000004 5062291.889599999, 634616.3646 5062507.3795, 635082.3613 5063274.3739, 635977.0532999998 5064775.116800001, 636046.3547 5064891.3619, 637159.3465 5066749.3467999995, 637823.1222999999 5067884.8368999995, 638702.5126999998 5069571.4703, 638724.3350999998 5069613.3248, 638804.5625999998 5069771.468800001, 638924.3338000001 5070007.5612, 638956.7533999998 5070071.466600001, 639007.4835999999 5070171.4658, 639032.8487 5070221.465399999, 639058.2138 5070271.4651, 639074.3328 5070303.238700001, 639108.9440000001 5070371.464299999, 639349.3311999999 5070845.315099999, 639404.5361000001 5070921.460200001, 639424.3698000005 5070948.813200001, 639436.3301999997 5070965.3144000005, 639529.3304000003 5071137.3127, 639621.3289000001 5071313.311799999, 639819.3278999999 5071719.308700001, 640092.3263999997 5072245.3048, 640304.3241999997 5072638.3014, 640518.4902999997 5073034.2992, 640565.0842000004 5073120.0209, 640628.3234000001 5073236.298, 641013.7671999997 5073871.437899999, 641017.3203999996 5073877.2929, 641061.4650999997 5073921.4376, 641074.3196999999 5073934.292199999, 641130.3197999997 5073990.292199999, 641362.318 5074221.2906, 641795.3151000002 5074585.2873, 641918.3136999998 5074663.286699999, 641948.8137999997 5074683.286, 642196.3125 5074947.284700001, 642362.3107000003 5075189.2828, 642440.3103 5075327.282, 642517.3101000004 5075484.2806, 642771.1460999995 5076471.418199999, 642787.3086000001 5076534.272500001, 642806.5767999999 5076621.417099999, 642872.9731000001 5076921.7096, 642895.0182999996 5077021.414100001, 642906.0734000001 5077071.4136, 642915.1131999996 5077112.299900001, 643003.3367999997 5077072.158399999, 643153.6491 5077004.255899999, 644168.6275000004 5076544.9396, 644242.9835999999 5076511.2709, 644911.5039999997 5076167.7480999995, 645365.7487000003 5075931.636399999, 646315.7451999998 5075436.9464, 646312.5985000003 5075381.389699999, 646277.0257000001 5075201.308599999, 646345.7807999998 5075184.280099999, 646425.7796999998 5075161.2807, 646436.1009999998 5075151.228499999, 646504.0696999999 5075085.0317, 646512.1039000005 5075077.206900001, 646532.6624999996 5075051.3094999995, 646578.7637 5074993.236199999, 646627.7264999999 5074918.205600001, 646634.7120000003 5074901.3105999995, 646654.5206000004 5074853.0308, 646654.5541000003 5074841.3895, 646654.5691 5074835.061899999, 646654.551 5074799.4032000005, 646652.3051000005 5074795.002900001, 646589.7319 5074672.4066, 646524.7028000001 5074600.6304, 646498.1106000002 5074571.316299999, 646162.8831000002 5074232.219900001, 646149.2001 5074228.6241999995, 646081.0373999998 5074177.0199, 645835.2752999999 5073908.500600001, 645829.9033000004 5073897.795, 645650.0127999997 5073039.396199999, 645588.5444 5072592.883400001, 645584.4971000003 5072554.317399999, 645576.8262 5072481.2217999995, 645560.4670000002 5072241.2827, 646184.3252999997 5071554.3926, 646413.9217999997 5071302.2555, 646446.9907 5071256.748500001, 646523.9707000004 5071136.045700001, 646578.8289000001 5070840.929300001, 646564.1309000002 5070790.745999999, 646548.7969000004 5070738.3917, 646533.7182 5070698.3149999995, 646522.4573999997 5070668.3859, 646509.8404000001 5070634.852399999, 646485.0690000001 5070578.927999999, 646461.3227000004 5070531.4879)))\"\n        ],\n        \"semantic_type\": \"\",\n        \"description\": \"\"\n      }\n    }\n  ]\n}"
            }
          },
          "metadata": {},
          "execution_count": 16
        }
      ],
      "source": [
        "province_of_verona"
      ]
    },
    {
      "cell_type": "markdown",
      "metadata": {
        "id": "8nQ0YPYvZ_2J"
      },
      "source": [
        "### plot it"
      ]
    },
    {
      "cell_type": "code",
      "execution_count": 17,
      "metadata": {
        "colab": {
          "base_uri": "https://localhost:8080/",
          "height": 845
        },
        "id": "J3KKa1HqIk99",
        "outputId": "96421926-1acd-403b-87f9-60997b88fe3e"
      },
      "outputs": [
        {
          "output_type": "display_data",
          "data": {
            "text/plain": [
              "<Figure size 1000x1000 with 1 Axes>"
            ],
            "image/png": "[encoded data removed]"
          },
          "metadata": {}
        }
      ],
      "source": [
        "province_of_verona.plot(figsize=(10,10))\n",
        "plt.show()"
      ]
    },
    {
      "cell_type": "markdown",
      "metadata": {
        "id": "sNuk2GFbaEe0"
      },
      "source": [
        "## 2. load the shapefile of ISTAT with the informations of the muncipalities\n",
        "### identify the municipalities of the province selected with the biggest and smallest area\n",
        "\n",
        "this means we need to use another layer / dataset"
      ]
    },
    {
      "cell_type": "code",
      "execution_count": 18,
      "metadata": {
        "id": "c6LWnGag-8je"
      },
      "outputs": [],
      "source": [
        "municipalities = gpd.read_file(url,layer=\"municipalities\")"
      ]
    },
    {
      "cell_type": "code",
      "execution_count": 19,
      "metadata": {
        "colab": {
          "base_uri": "https://localhost:8080/"
        },
        "id": "XlAUfmNwJojm",
        "outputId": "8ec886fc-1dc5-4b05-c197-959adf93d8d2"
      },
      "outputs": [
        {
          "output_type": "execute_result",
          "data": {
            "text/plain": [
              "Index(['COD_RIP', 'COD_REG', 'COD_PROV', 'COD_CM', 'COD_UTS', 'PRO_COM',\n",
              "       'PRO_COM_T', 'COMUNE', 'COMUNE_A', 'CC_UTS', 'geometry'],\n",
              "      dtype='object')"
            ]
          },
          "metadata": {},
          "execution_count": 19
        }
      ],
      "source": [
        "municipalities.columns"
      ]
    },
    {
      "cell_type": "markdown",
      "metadata": {
        "id": "jX4dEbEt9Zgo"
      },
      "source": [
        "**COD_RIP**<br/>\n",
        "*codice ripartizione*<br/>\n",
        "numeric code of the macroregion of belonging\n",
        "\n",
        "**COD_REG**<br/>\n",
        "*codice regione*<br/>\n",
        "numeric code of the region of belonging\n",
        "\n",
        "**COD_PROV**<br/>\n",
        "*codice provincia*<br/>\n",
        "numeric code of the region of belonging\n",
        "\n",
        "**COD_CM**<br/>\n",
        "*codice comune*<br/>\n",
        "unique numeric identification code of the municipality within the province of belonging\n",
        "\n",
        "**COD_UTS**<br/>\n",
        "*codice unità territoriali sovracomunali*<br/>\n",
        "Numeric code that uniquely identifies the Units\n",
        "territorial supra-municipal on the national territory.\n",
        "\n",
        "**PRO_COM**<br/>\n",
        "*provincia comune**<br/>\n",
        "Numeric code that uniquely identifies the Municipality\n",
        "on the national territory. (= COD_PROV & COD_COM)\n",
        "\n",
        "**PRO_COM_T**<br/>\n",
        "*provincia comune territorio**<br/>\n",
        "Alphanumeric code that uniquely identifies the\n",
        "Municipality on the national territory.<br/>\n",
        "Like PRO_COM but definied in 6 fixed characters.\n",
        "\n",
        "**COMUNE**<br/>\n",
        "*comune*<br/>\n",
        "Name of the Municipality\n",
        "\n",
        "**COMUNE_A**<br/>\n",
        "*comune alternativa*<br/>\n",
        "Name of the Municipality in a language other than Italian\n",
        "\n",
        "**CC_UTS**<br/>\n",
        "*comune capoluogo*<br/>\n",
        "Provincial capital or metropolitan city<br/>\n",
        "1 => True<br/>\n",
        "2 => False\n",
        "\n"
      ]
    },
    {
      "cell_type": "markdown",
      "metadata": {
        "id": "4cRRhYVCakDq"
      },
      "source": [
        "the **COD_PROV** of the Province of Verona is **23**"
      ]
    },
    {
      "cell_type": "code",
      "execution_count": 20,
      "metadata": {
        "id": "UjYOlOPeJtZg"
      },
      "outputs": [],
      "source": [
        "# filter the province\n",
        "municipalities_province_verona = municipalities[municipalities.COD_PROV==23]"
      ]
    },
    {
      "cell_type": "code",
      "execution_count": 21,
      "metadata": {
        "colab": {
          "base_uri": "https://localhost:8080/",
          "height": 845
        },
        "id": "pgcYsr41JxXE",
        "outputId": "0b9c4a9c-b914-4f10-f3d8-d4ff0e6da3fb"
      },
      "outputs": [
        {
          "output_type": "display_data",
          "data": {
            "text/plain": [
              "<Figure size 1000x1000 with 1 Axes>"
            ],
            "image/png": "[encoded data removed]"
          },
          "metadata": {}
        }
      ],
      "source": [
        "# plot it\n",
        "municipalities_province_verona.plot(figsize=(10,10))\n",
        "plt.show()"
      ]
    },
    {
      "cell_type": "markdown",
      "metadata": {
        "id": "nG87m3Hna9ZB"
      },
      "source": [
        "### identify the cities of the province selected with the biggest and smallest area\n",
        "\n",
        "**CAUTION**:\n",
        "\n",
        "we are using generalized boundaries !!!"
      ]
    },
    {
      "cell_type": "markdown",
      "metadata": {
        "id": "CotX0EIMcrDU"
      },
      "source": [
        "finding the max area"
      ]
    },
    {
      "cell_type": "code",
      "execution_count": 22,
      "metadata": {
        "id": "ed1E9oyvJ0yu"
      },
      "outputs": [],
      "source": [
        "max_area = municipalities_province_verona.geometry.area.max()"
      ]
    },
    {
      "cell_type": "code",
      "execution_count": 23,
      "metadata": {
        "colab": {
          "base_uri": "https://localhost:8080/"
        },
        "id": "DHj8IQ0LFY3t",
        "outputId": "3ec90e81-4a68-435c-803e-f39df8a8ff8a"
      },
      "outputs": [
        {
          "output_type": "execute_result",
          "data": {
            "text/plain": [
              "198863691.363853"
            ]
          },
          "metadata": {},
          "execution_count": 23
        }
      ],
      "source": [
        "max_area"
      ]
    },
    {
      "cell_type": "markdown",
      "metadata": {
        "id": "6othNPYvcvoB"
      },
      "source": [
        "finding the min area"
      ]
    },
    {
      "cell_type": "code",
      "execution_count": 24,
      "metadata": {
        "id": "9G4hMiQCJ3Af"
      },
      "outputs": [],
      "source": [
        "min_area = municipalities_province_verona.geometry.area.min()"
      ]
    },
    {
      "cell_type": "code",
      "execution_count": 25,
      "metadata": {
        "colab": {
          "base_uri": "https://localhost:8080/"
        },
        "id": "7vnVp3RWFa2G",
        "outputId": "e6e0a8a7-0f23-419d-d3fe-8aecac2878b4"
      },
      "outputs": [
        {
          "output_type": "execute_result",
          "data": {
            "text/plain": [
              "7937906.122974203"
            ]
          },
          "metadata": {},
          "execution_count": 25
        }
      ],
      "source": [
        "min_area"
      ]
    },
    {
      "cell_type": "markdown",
      "metadata": {
        "id": "mIcFXpBdbb4G"
      },
      "source": [
        "... you can obtain the same in another way (combination of the requests)"
      ]
    },
    {
      "cell_type": "code",
      "execution_count": 26,
      "metadata": {
        "colab": {
          "base_uri": "https://localhost:8080/"
        },
        "id": "6LU7py1VbdXT",
        "outputId": "2b2d3ebc-31f4-4ad7-b539-bac9de881f6f"
      },
      "outputs": [
        {
          "output_type": "execute_result",
          "data": {
            "text/plain": [
              "7937906.122974203"
            ]
          },
          "metadata": {},
          "execution_count": 26
        }
      ],
      "source": [
        "municipalities[municipalities.COD_PROV==23].geometry.area.min()"
      ]
    },
    {
      "cell_type": "markdown",
      "metadata": {
        "id": "Jzy-S7i4cZdy"
      },
      "source": [
        "### identify the municipality with the biggest area\n",
        "\n",
        "\n"
      ]
    },
    {
      "cell_type": "code",
      "execution_count": 27,
      "metadata": {
        "id": "HnefpEIAJ50g"
      },
      "outputs": [],
      "source": [
        "maxarea_municipality_province_verona = municipalities_province_verona[municipalities_province_verona.geometry.area == max_area]"
      ]
    },
    {
      "cell_type": "code",
      "execution_count": 28,
      "metadata": {
        "colab": {
          "base_uri": "https://localhost:8080/",
          "height": 115
        },
        "id": "oLEC0CPXJ_FY",
        "outputId": "4632407f-3f3f-467c-cf46-ae9482f7c883"
      },
      "outputs": [
        {
          "output_type": "execute_result",
          "data": {
            "text/plain": [
              "3191    023091\n",
              "Name: PRO_COM_T, dtype: object"
            ],
            "text/html": [
              "<div>\n",
              "<style scoped>\n",
              "    .dataframe tbody tr th:only-of-type {\n",
              "        vertical-align: middle;\n",
              "    }\n",
              "\n",
              "    .dataframe tbody tr th {\n",
              "        vertical-align: top;\n",
              "    }\n",
              "\n",
              "    .dataframe thead th {\n",
              "        text-align: right;\n",
              "    }\n",
              "</style>\n",
              "<table border=\"1\" class=\"dataframe\">\n",
              "  <thead>\n",
              "    <tr style=\"text-align: right;\">\n",
              "      <th></th>\n",
              "      <th>PRO_COM_T</th>\n",
              "    </tr>\n",
              "  </thead>\n",
              "  <tbody>\n",
              "    <tr>\n",
              "      <th>3191</th>\n",
              "      <td>023091</td>\n",
              "    </tr>\n",
              "  </tbody>\n",
              "</table>\n",
              "</div><br><label><b>dtype:</b> object</label>"
            ]
          },
          "metadata": {},
          "execution_count": 28
        }
      ],
      "source": [
        "maxarea_municipality_province_verona.PRO_COM_T"
      ]
    },
    {
      "cell_type": "code",
      "execution_count": 29,
      "metadata": {
        "colab": {
          "base_uri": "https://localhost:8080/",
          "height": 115
        },
        "id": "zirOh3UpdWwe",
        "outputId": "af458515-dfdf-4905-8068-de62218b6127"
      },
      "outputs": [
        {
          "output_type": "execute_result",
          "data": {
            "text/plain": [
              "3191    Verona\n",
              "Name: COMUNE, dtype: object"
            ],
            "text/html": [
              "<div>\n",
              "<style scoped>\n",
              "    .dataframe tbody tr th:only-of-type {\n",
              "        vertical-align: middle;\n",
              "    }\n",
              "\n",
              "    .dataframe tbody tr th {\n",
              "        vertical-align: top;\n",
              "    }\n",
              "\n",
              "    .dataframe thead th {\n",
              "        text-align: right;\n",
              "    }\n",
              "</style>\n",
              "<table border=\"1\" class=\"dataframe\">\n",
              "  <thead>\n",
              "    <tr style=\"text-align: right;\">\n",
              "      <th></th>\n",
              "      <th>COMUNE</th>\n",
              "    </tr>\n",
              "  </thead>\n",
              "  <tbody>\n",
              "    <tr>\n",
              "      <th>3191</th>\n",
              "      <td>Verona</td>\n",
              "    </tr>\n",
              "  </tbody>\n",
              "</table>\n",
              "</div><br><label><b>dtype:</b> object</label>"
            ]
          },
          "metadata": {},
          "execution_count": 29
        }
      ],
      "source": [
        "maxarea_municipality_province_verona.COMUNE"
      ]
    },
    {
      "cell_type": "markdown",
      "metadata": {
        "id": "fbyYIwZ6dGdY"
      },
      "source": [
        "the municipality with the bigger area is **Verona** (023091)"
      ]
    },
    {
      "cell_type": "code",
      "execution_count": 30,
      "metadata": {
        "colab": {
          "base_uri": "https://localhost:8080/",
          "height": 845
        },
        "id": "EYgIAJx1_KTV",
        "outputId": "ec538e2a-3e63-4b03-c9fb-8806765d46db"
      },
      "outputs": [
        {
          "output_type": "display_data",
          "data": {
            "text/plain": [
              "<Figure size 1000x1000 with 1 Axes>"
            ],
            "image/png": "[encoded data removed]"
          },
          "metadata": {}
        }
      ],
      "source": [
        "maxarea_municipality_province_verona.plot(figsize=(10,10))\n",
        "plt.show()"
      ]
    },
    {
      "cell_type": "markdown",
      "metadata": {
        "id": "ShodskgCdegB"
      },
      "source": [
        "### identify the municipality with the smallest area\n"
      ]
    },
    {
      "cell_type": "code",
      "execution_count": 31,
      "metadata": {
        "id": "waSNAaUaJ8DM"
      },
      "outputs": [],
      "source": [
        "minarea_municipality_province_verona = municipalities_province_verona[municipalities_province_verona.geometry.area == min_area]"
      ]
    },
    {
      "cell_type": "code",
      "execution_count": 32,
      "metadata": {
        "colab": {
          "base_uri": "https://localhost:8080/",
          "height": 115
        },
        "id": "dTvZsDYWKCf1",
        "outputId": "fd6cb149-3601-413b-fcb0-f8477c682574"
      },
      "outputs": [
        {
          "output_type": "execute_result",
          "data": {
            "text/plain": [
              "803    Concamarise\n",
              "Name: COMUNE, dtype: object"
            ],
            "text/html": [
              "<div>\n",
              "<style scoped>\n",
              "    .dataframe tbody tr th:only-of-type {\n",
              "        vertical-align: middle;\n",
              "    }\n",
              "\n",
              "    .dataframe tbody tr th {\n",
              "        vertical-align: top;\n",
              "    }\n",
              "\n",
              "    .dataframe thead th {\n",
              "        text-align: right;\n",
              "    }\n",
              "</style>\n",
              "<table border=\"1\" class=\"dataframe\">\n",
              "  <thead>\n",
              "    <tr style=\"text-align: right;\">\n",
              "      <th></th>\n",
              "      <th>COMUNE</th>\n",
              "    </tr>\n",
              "  </thead>\n",
              "  <tbody>\n",
              "    <tr>\n",
              "      <th>803</th>\n",
              "      <td>Concamarise</td>\n",
              "    </tr>\n",
              "  </tbody>\n",
              "</table>\n",
              "</div><br><label><b>dtype:</b> object</label>"
            ]
          },
          "metadata": {},
          "execution_count": 32
        }
      ],
      "source": [
        "minarea_municipality_province_verona.COMUNE"
      ]
    },
    {
      "cell_type": "code",
      "execution_count": 33,
      "metadata": {
        "colab": {
          "base_uri": "https://localhost:8080/",
          "height": 115
        },
        "id": "BJoda9zhdtzD",
        "outputId": "dd5f741b-496b-4dac-c6c0-4d2b9c68ed9e"
      },
      "outputs": [
        {
          "output_type": "execute_result",
          "data": {
            "text/plain": [
              "803    023029\n",
              "Name: PRO_COM_T, dtype: object"
            ],
            "text/html": [
              "<div>\n",
              "<style scoped>\n",
              "    .dataframe tbody tr th:only-of-type {\n",
              "        vertical-align: middle;\n",
              "    }\n",
              "\n",
              "    .dataframe tbody tr th {\n",
              "        vertical-align: top;\n",
              "    }\n",
              "\n",
              "    .dataframe thead th {\n",
              "        text-align: right;\n",
              "    }\n",
              "</style>\n",
              "<table border=\"1\" class=\"dataframe\">\n",
              "  <thead>\n",
              "    <tr style=\"text-align: right;\">\n",
              "      <th></th>\n",
              "      <th>PRO_COM_T</th>\n",
              "    </tr>\n",
              "  </thead>\n",
              "  <tbody>\n",
              "    <tr>\n",
              "      <th>803</th>\n",
              "      <td>023029</td>\n",
              "    </tr>\n",
              "  </tbody>\n",
              "</table>\n",
              "</div><br><label><b>dtype:</b> object</label>"
            ]
          },
          "metadata": {},
          "execution_count": 33
        }
      ],
      "source": [
        "minarea_municipality_province_verona.PRO_COM_T"
      ]
    },
    {
      "cell_type": "markdown",
      "metadata": {
        "id": "hk3wvA0_dzDW"
      },
      "source": [
        "the municipality with the smallest area is **Concamarise** (023029)"
      ]
    },
    {
      "cell_type": "code",
      "execution_count": 34,
      "metadata": {
        "colab": {
          "base_uri": "https://localhost:8080/",
          "height": 845
        },
        "id": "Twce9Hy7NXAo",
        "outputId": "37e8d02a-db1f-499c-b666-3fba3040b156"
      },
      "outputs": [
        {
          "output_type": "display_data",
          "data": {
            "text/plain": [
              "<Figure size 1000x1000 with 1 Axes>"
            ],
            "image/png": "[encoded data removed]"
          },
          "metadata": {}
        }
      ],
      "source": [
        "minarea_municipality_province_verona.plot(figsize=(10,10))\n",
        "plt.show()"
      ]
    },
    {
      "cell_type": "markdown",
      "metadata": {
        "id": "Y-dS9DA5eE6U"
      },
      "source": [
        "### extract all the centroids of the areas expressed in WGS84"
      ]
    },
    {
      "cell_type": "code",
      "execution_count": 35,
      "metadata": {
        "colab": {
          "base_uri": "https://localhost:8080/",
          "height": 115
        },
        "id": "t_74bjyYN8ru",
        "outputId": "dfb723d0-3b10-4c90-b60e-f3a8f0e2a060"
      },
      "outputs": [
        {
          "output_type": "execute_result",
          "data": {
            "text/plain": [
              "3191    POINT (11.0021 45.44838)\n",
              "dtype: geometry"
            ],
            "text/html": [
              "<div>\n",
              "<style scoped>\n",
              "    .dataframe tbody tr th:only-of-type {\n",
              "        vertical-align: middle;\n",
              "    }\n",
              "\n",
              "    .dataframe tbody tr th {\n",
              "        vertical-align: top;\n",
              "    }\n",
              "\n",
              "    .dataframe thead th {\n",
              "        text-align: right;\n",
              "    }\n",
              "</style>\n",
              "<table border=\"1\" class=\"dataframe\">\n",
              "  <thead>\n",
              "    <tr style=\"text-align: right;\">\n",
              "      <th></th>\n",
              "      <th>0</th>\n",
              "    </tr>\n",
              "  </thead>\n",
              "  <tbody>\n",
              "    <tr>\n",
              "      <th>3191</th>\n",
              "      <td>POINT (11.0021 45.44838)</td>\n",
              "    </tr>\n",
              "  </tbody>\n",
              "</table>\n",
              "</div><br><label><b>dtype:</b> geometry</label>"
            ]
          },
          "metadata": {},
          "execution_count": 35
        }
      ],
      "source": [
        "maxarea_municipality_province_verona.geometry.centroid.to_crs(epsg=4326)"
      ]
    },
    {
      "cell_type": "code",
      "execution_count": 36,
      "metadata": {
        "colab": {
          "base_uri": "https://localhost:8080/",
          "height": 115
        },
        "id": "veFfPsumePIa",
        "outputId": "2337f11f-5665-493b-e7f2-924736e4826d"
      },
      "outputs": [
        {
          "output_type": "execute_result",
          "data": {
            "text/plain": [
              "3191    POINT (11.0021 45.44838)\n",
              "dtype: geometry"
            ],
            "text/html": [
              "<div>\n",
              "<style scoped>\n",
              "    .dataframe tbody tr th:only-of-type {\n",
              "        vertical-align: middle;\n",
              "    }\n",
              "\n",
              "    .dataframe tbody tr th {\n",
              "        vertical-align: top;\n",
              "    }\n",
              "\n",
              "    .dataframe thead th {\n",
              "        text-align: right;\n",
              "    }\n",
              "</style>\n",
              "<table border=\"1\" class=\"dataframe\">\n",
              "  <thead>\n",
              "    <tr style=\"text-align: right;\">\n",
              "      <th></th>\n",
              "      <th>0</th>\n",
              "    </tr>\n",
              "  </thead>\n",
              "  <tbody>\n",
              "    <tr>\n",
              "      <th>3191</th>\n",
              "      <td>POINT (11.0021 45.44838)</td>\n",
              "    </tr>\n",
              "  </tbody>\n",
              "</table>\n",
              "</div><br><label><b>dtype:</b> geometry</label>"
            ]
          },
          "metadata": {},
          "execution_count": 36
        }
      ],
      "source": [
        "maxarea_municipality_province_verona.geometry.centroid.to_crs(epsg=4326)"
      ]
    },
    {
      "cell_type": "markdown",
      "metadata": {
        "id": "-eJUm7csej5u"
      },
      "source": [
        "### extract a rappresenative point for the area of the smallest and bigger municipality in WGS84"
      ]
    },
    {
      "cell_type": "code",
      "execution_count": 37,
      "metadata": {
        "id": "WXJh0bs7KHMA"
      },
      "outputs": [],
      "source": [
        "representative_point_minarea_municipality = minarea_municipality_province_verona.geometry.representative_point()"
      ]
    },
    {
      "cell_type": "code",
      "execution_count": 38,
      "metadata": {
        "id": "ThbYeGtdN1K6"
      },
      "outputs": [],
      "source": [
        "representative_point_maxarea_municipality = maxarea_municipality_province_verona.geometry.representative_point()"
      ]
    },
    {
      "cell_type": "code",
      "execution_count": 39,
      "metadata": {
        "colab": {
          "base_uri": "https://localhost:8080/",
          "height": 115
        },
        "id": "9oUgRfy_KKs8",
        "outputId": "d1ec70da-08a2-482b-b16e-3b9d6f206584"
      },
      "outputs": [
        {
          "output_type": "execute_result",
          "data": {
            "text/plain": [
              "803    POINT (11.1487 45.20489)\n",
              "dtype: geometry"
            ],
            "text/html": [
              "<div>\n",
              "<style scoped>\n",
              "    .dataframe tbody tr th:only-of-type {\n",
              "        vertical-align: middle;\n",
              "    }\n",
              "\n",
              "    .dataframe tbody tr th {\n",
              "        vertical-align: top;\n",
              "    }\n",
              "\n",
              "    .dataframe thead th {\n",
              "        text-align: right;\n",
              "    }\n",
              "</style>\n",
              "<table border=\"1\" class=\"dataframe\">\n",
              "  <thead>\n",
              "    <tr style=\"text-align: right;\">\n",
              "      <th></th>\n",
              "      <th>0</th>\n",
              "    </tr>\n",
              "  </thead>\n",
              "  <tbody>\n",
              "    <tr>\n",
              "      <th>803</th>\n",
              "      <td>POINT (11.1487 45.20489)</td>\n",
              "    </tr>\n",
              "  </tbody>\n",
              "</table>\n",
              "</div><br><label><b>dtype:</b> geometry</label>"
            ]
          },
          "metadata": {},
          "execution_count": 39
        }
      ],
      "source": [
        "representative_point_minarea_municipality.to_crs(epsg=4326)"
      ]
    },
    {
      "cell_type": "code",
      "execution_count": 40,
      "metadata": {
        "colab": {
          "base_uri": "https://localhost:8080/",
          "height": 115
        },
        "id": "mDE69_SpOBDu",
        "outputId": "1c7c3b8f-fa34-49be-aa6c-571bb20900d3"
      },
      "outputs": [
        {
          "output_type": "execute_result",
          "data": {
            "text/plain": [
              "3191    POINT (10.98009 45.44706)\n",
              "dtype: geometry"
            ],
            "text/html": [
              "<div>\n",
              "<style scoped>\n",
              "    .dataframe tbody tr th:only-of-type {\n",
              "        vertical-align: middle;\n",
              "    }\n",
              "\n",
              "    .dataframe tbody tr th {\n",
              "        vertical-align: top;\n",
              "    }\n",
              "\n",
              "    .dataframe thead th {\n",
              "        text-align: right;\n",
              "    }\n",
              "</style>\n",
              "<table border=\"1\" class=\"dataframe\">\n",
              "  <thead>\n",
              "    <tr style=\"text-align: right;\">\n",
              "      <th></th>\n",
              "      <th>0</th>\n",
              "    </tr>\n",
              "  </thead>\n",
              "  <tbody>\n",
              "    <tr>\n",
              "      <th>3191</th>\n",
              "      <td>POINT (10.98009 45.44706)</td>\n",
              "    </tr>\n",
              "  </tbody>\n",
              "</table>\n",
              "</div><br><label><b>dtype:</b> geometry</label>"
            ]
          },
          "metadata": {},
          "execution_count": 40
        }
      ],
      "source": [
        "representative_point_maxarea_municipality.to_crs(epsg=4326)"
      ]
    },
    {
      "cell_type": "markdown",
      "metadata": {
        "id": "v6FK_NSsfJQu"
      },
      "source": [
        "### save the data in GeoJSON files\n",
        "\n",
        "we can save each point in geojson"
      ]
    },
    {
      "cell_type": "code",
      "execution_count": 41,
      "metadata": {
        "id": "vkvmlRvafZ9Z"
      },
      "outputs": [],
      "source": [
        "representative_point_maxarea_municipality.to_crs(epsg=4326).to_file(\"point.geojson\",driver=\"GeoJSON\")"
      ]
    },
    {
      "cell_type": "markdown",
      "metadata": {
        "id": "rHuNahrZftl5"
      },
      "source": [
        "... but we need to create an only one file with all the data in a geojson file"
      ]
    },
    {
      "cell_type": "code",
      "execution_count": 42,
      "metadata": {
        "id": "e7nlav9JfzTS"
      },
      "outputs": [],
      "source": [
        "points = pd.concat([representative_point_minarea_municipality, representative_point_maxarea_municipality], ignore_index=True)"
      ]
    },
    {
      "cell_type": "code",
      "execution_count": 43,
      "metadata": {
        "id": "1jMx1Tz9gUQb"
      },
      "outputs": [],
      "source": [
        "points.to_crs(epsg=4326).to_file(\"points.geojson\",driver=\"GeoJSON\")"
      ]
    },
    {
      "cell_type": "markdown",
      "metadata": {
        "id": "-r_dNGcDICJs"
      },
      "source": [
        "and we can do the same with the polygons"
      ]
    },
    {
      "cell_type": "code",
      "execution_count": 44,
      "metadata": {
        "id": "Kme3ZsgFHfHp"
      },
      "outputs": [],
      "source": [
        "polygons = pd.concat([maxarea_municipality_province_verona, minarea_municipality_province_verona], ignore_index=True)"
      ]
    },
    {
      "cell_type": "code",
      "execution_count": 45,
      "metadata": {
        "id": "iKnoxSaQL3gX"
      },
      "outputs": [],
      "source": [
        "polygons.to_crs(epsg=4326).to_file(\"polygons.geojson\",driver=\"GeoJSON\")"
      ]
    },
    {
      "cell_type": "markdown",
      "metadata": {
        "id": "pDIAVUscg3xF"
      },
      "source": [
        "**tip 1**:<br/>\n",
        "you can download and create a [gist resource](https://gist.github.com/napo/c5bfe89940026add3e0de6f9e3d709b2#file-points_verona-geojson) to distribute"
      ]
    },
    {
      "cell_type": "markdown",
      "metadata": {
        "id": "5o7fd9t6Izpq"
      },
      "source": [
        "**tip 2**:<br/>\n",
        "you can download the files and create a map with [umap](https://umap.openstretmap.fr) and create an [interactive map online with the data](https://umap.openstreetmap.fr/en/map/veronas-biggest-and-smallest-town_1122334)"
      ]
    },
    {
      "cell_type": "markdown",
      "metadata": {
        "id": "3M4cuG64hSBH"
      },
      "source": [
        "### calculate the distance on the geodentic between the municipality with the big area and smallest area by using the centroid\n"
      ]
    },
    {
      "cell_type": "code",
      "execution_count": 46,
      "metadata": {
        "id": "1wtbI-kf7Vh6"
      },
      "outputs": [],
      "source": [
        "to_point = minarea_municipality_province_verona.geometry.centroid.values[0]"
      ]
    },
    {
      "cell_type": "code",
      "execution_count": 47,
      "metadata": {
        "colab": {
          "base_uri": "https://localhost:8080/",
          "height": 115
        },
        "id": "E29lflS5fAph",
        "outputId": "cdb0e12c-f096-4039-a289-9bdd98141cf7"
      },
      "outputs": [
        {
          "output_type": "execute_result",
          "data": {
            "text/plain": [
              "3191    29265.748784\n",
              "dtype: float64"
            ],
            "text/html": [
              "<div>\n",
              "<style scoped>\n",
              "    .dataframe tbody tr th:only-of-type {\n",
              "        vertical-align: middle;\n",
              "    }\n",
              "\n",
              "    .dataframe tbody tr th {\n",
              "        vertical-align: top;\n",
              "    }\n",
              "\n",
              "    .dataframe thead th {\n",
              "        text-align: right;\n",
              "    }\n",
              "</style>\n",
              "<table border=\"1\" class=\"dataframe\">\n",
              "  <thead>\n",
              "    <tr style=\"text-align: right;\">\n",
              "      <th></th>\n",
              "      <th>0</th>\n",
              "    </tr>\n",
              "  </thead>\n",
              "  <tbody>\n",
              "    <tr>\n",
              "      <th>3191</th>\n",
              "      <td>29265.748784</td>\n",
              "    </tr>\n",
              "  </tbody>\n",
              "</table>\n",
              "</div><br><label><b>dtype:</b> float64</label>"
            ]
          },
          "metadata": {},
          "execution_count": 47
        }
      ],
      "source": [
        "maxarea_municipality_province_verona.centroid.distance(to_point)"
      ]
    },
    {
      "cell_type": "code",
      "execution_count": 48,
      "metadata": {
        "id": "KnkXEZOs7Vh7"
      },
      "outputs": [],
      "source": [
        "distance = maxarea_municipality_province_verona.geometry.centroid.distance(to_point).values[0]"
      ]
    },
    {
      "cell_type": "code",
      "execution_count": 49,
      "metadata": {
        "colab": {
          "base_uri": "https://localhost:8080/"
        },
        "id": "cl60MuiU7Vh7",
        "outputId": "91571615-3cba-4c10-e0ab-21ed8e8fc3ee"
      },
      "outputs": [
        {
          "output_type": "execute_result",
          "data": {
            "text/plain": [
              "29265.748784141037"
            ]
          },
          "metadata": {},
          "execution_count": 49
        }
      ],
      "source": [
        "distance"
      ]
    },
    {
      "cell_type": "markdown",
      "metadata": {
        "id": "G3w4YSq7i_Of"
      },
      "source": [
        "the distance is in meters due the CRS used on the dataset"
      ]
    },
    {
      "cell_type": "code",
      "execution_count": 50,
      "metadata": {
        "id": "h3l6OLzR7Vh8"
      },
      "outputs": [],
      "source": [
        "to_city = minarea_municipality_province_verona.COMUNE.values[0]\n",
        "from_city = maxarea_municipality_province_verona.COMUNE.values[0]\n",
        "distance_km = distance/1000"
      ]
    },
    {
      "cell_type": "code",
      "execution_count": 51,
      "metadata": {
        "colab": {
          "base_uri": "https://localhost:8080/"
        },
        "id": "HuMjuhhJ7Vh8",
        "outputId": "eb358a71-b1f0-494e-d318-c501e560b549"
      },
      "outputs": [
        {
          "output_type": "stream",
          "name": "stdout",
          "text": [
            "the distance from Verona to Concamarise is 29.3 km\n"
          ]
        }
      ],
      "source": [
        "print(\"the distance from %s to %s is %.1f km\" % (from_city, to_city, round(distance_km,1)))"
      ]
    },
    {
      "cell_type": "markdown",
      "metadata": {
        "id": "_ZJxuinjPKA4"
      },
      "source": [
        "### Why a representative point?"
      ]
    },
    {
      "cell_type": "markdown",
      "metadata": {
        "id": "0ISDE0HGjzAi"
      },
      "source": [
        "Where is the centroid of Liguria?\n"
      ]
    },
    {
      "cell_type": "code",
      "execution_count": 52,
      "metadata": {
        "id": "5Hba-qxTmuQL"
      },
      "outputs": [],
      "source": [
        "regions = gpd.read_file(url,layer=\"regions\")"
      ]
    },
    {
      "cell_type": "code",
      "execution_count": 53,
      "metadata": {
        "colab": {
          "base_uri": "https://localhost:8080/"
        },
        "id": "91yTYhTBmm8U",
        "outputId": "ba17b1ba-a095-48ed-9bf3-f5bfffcfb2c9"
      },
      "outputs": [
        {
          "output_type": "execute_result",
          "data": {
            "text/plain": [
              "array(['Piemonte', \"Valle d'Aosta\", 'Lombardia', 'Trentino-Alto Adige',\n",
              "       'Veneto', 'Friuli-Venezia Giulia', 'Liguria', 'Emilia-Romagna',\n",
              "       'Toscana', 'Umbria', 'Marche', 'Lazio', 'Abruzzo', 'Molise',\n",
              "       'Campania', 'Puglia', 'Basilicata', 'Calabria', 'Sicilia',\n",
              "       'Sardegna'], dtype=object)"
            ]
          },
          "metadata": {},
          "execution_count": 53
        }
      ],
      "source": [
        "regions.DEN_REG.unique()"
      ]
    },
    {
      "cell_type": "code",
      "execution_count": 54,
      "metadata": {
        "colab": {
          "base_uri": "https://localhost:8080/",
          "height": 447
        },
        "id": "xiziGEkiAHJf",
        "outputId": "3482b935-8725-405d-f1e9-a77b98e393a9"
      },
      "outputs": [
        {
          "output_type": "display_data",
          "data": {
            "text/plain": [
              "<Figure size 1000x1000 with 1 Axes>"
            ],
            "image/png": "[encoded data removed]"
          },
          "metadata": {}
        }
      ],
      "source": [
        "regions[regions.DEN_REG=='Liguria'].plot(figsize=(10,10))\n",
        "plt.show()"
      ]
    },
    {
      "cell_type": "code",
      "execution_count": 55,
      "metadata": {
        "id": "C3st5LyfnhNV"
      },
      "outputs": [],
      "source": [
        "regions[regions.DEN_REG=='Liguria'].to_crs(epsg=4326).to_file(\"liguria.geojson\",driver='GeoJSON')"
      ]
    },
    {
      "cell_type": "code",
      "execution_count": 56,
      "metadata": {
        "id": "XOvUmDfvAUDN"
      },
      "outputs": [],
      "source": [
        "regions[regions.DEN_REG=='Liguria'].centroid.to_crs(epsg=4326).to_file(\"liguria_centroid.geojson\",driver='GeoJSON')"
      ]
    },
    {
      "cell_type": "code",
      "execution_count": 57,
      "metadata": {
        "id": "gx8_YvuWoSWo"
      },
      "outputs": [],
      "source": [
        "regions[regions.DEN_REG=='Liguria'].representative_point().to_crs(epsg=4326).to_file(\"liguria_representative_point.geojson\",driver='GeoJSON')"
      ]
    },
    {
      "cell_type": "markdown",
      "metadata": {
        "id": "XMN9nFJDp5bL"
      },
      "source": [
        "you can upload all the geojson on [uMap](http://umap.openstreetmap.fr) to [see the result](http://umap.openstreetmap.fr/it/map/liguria_505528#8/44.058/9.075)"
      ]
    },
    {
      "cell_type": "markdown",
      "metadata": {
        "id": "hN57WvvIpy0i"
      },
      "source": [
        "![](https://raw.githubusercontent.com/napo/geospatial_course_unitn/master/images/umap_liguria.jpg)\n"
      ]
    },
    {
      "cell_type": "markdown",
      "metadata": {
        "id": "L7Z-v_fPQD3X"
      },
      "source": [
        "## 3. download the shapefile of the [Mountain Basins Station](https://raw.githubusercontent.com/napo/geospatial_unitn_2024/refs/heads/main/data/idrspacq.zip) of Trentino - projection ETRS89 UTM32N\n",
        "  - plot the geometries where CODE is \"0191\" for the table \"d_tipouso.dbf\"\n",
        "  - convert in WGS84 and create a KML and plot it on a website"
      ]
    },
    {
      "cell_type": "code",
      "execution_count": 58,
      "metadata": {
        "id": "SjiVDTRrRSOH"
      },
      "outputs": [],
      "source": [
        "dataurl='https://github.com/napo/geospatial_unitn_2024/raw/refs/heads/main/data/idrspacq.zip'\n",
        "mountain_station_basins = gpd.read_file(dataurl)"
      ]
    },
    {
      "cell_type": "markdown",
      "metadata": {
        "id": "bjJ9PeeoSVgP"
      },
      "source": [
        "###  plot the geometries where Fktuso is “02”"
      ]
    },
    {
      "cell_type": "code",
      "execution_count": 59,
      "metadata": {
        "id": "iSo1ONGQRsAJ",
        "colab": {
          "base_uri": "https://localhost:8080/",
          "height": 143
        },
        "outputId": "a4f633b7-aa95-4039-fb7c-45408e5b6553"
      },
      "outputs": [
        {
          "output_type": "execute_result",
          "data": {
            "text/plain": [
              "  CLASSID LIMITI                                            ORIGPUB  \\\n",
              "0      33   None  Approvazione dell'elenco delle acque pubbliche...   \n",
              "1     188   None  Approvazione dell'elenco delle acque pubbliche...   \n",
              "2     215   None  Approvazione dell'elenco delle acque pubbliche...   \n",
              "\n",
              "                 DENOM              FOCE                  COMUNI  \\\n",
              "0       SORGENTE REBUS         Rio Rebus                     Ala   \n",
              "1      SORGENTE AL FOL          Rio Sal  Trento (frazione Povo)   \n",
              "2  SORGENTE SUL CAMPIO  Rio Val Battisti             Sant'Orsola   \n",
              "\n",
              "                                            geometry  \n",
              "0  POLYGON ((652049.051 5111656.028, 652048.685 5...  \n",
              "1  POLYGON ((692800.35 5109936.688, 692800.452 51...  \n",
              "2  POLYGON ((630281.891 5142817.705, 630280.968 5...  "
            ],
            "text/html": [
              "\n",
              "  <div id=\"df-c0aa3808-7605-4ba5-b3d2-b5323ff9ccbf\" class=\"colab-df-container\">\n",
              "    <div>\n",
              "<style scoped>\n",
              "    .dataframe tbody tr th:only-of-type {\n",
              "        vertical-align: middle;\n",
              "    }\n",
              "\n",
              "    .dataframe tbody tr th {\n",
              "        vertical-align: top;\n",
              "    }\n",
              "\n",
              "    .dataframe thead th {\n",
              "        text-align: right;\n",
              "    }\n",
              "</style>\n",
              "<table border=\"1\" class=\"dataframe\">\n",
              "  <thead>\n",
              "    <tr style=\"text-align: right;\">\n",
              "      <th></th>\n",
              "      <th>CLASSID</th>\n",
              "      <th>LIMITI</th>\n",
              "      <th>ORIGPUB</th>\n",
              "      <th>DENOM</th>\n",
              "      <th>FOCE</th>\n",
              "      <th>COMUNI</th>\n",
              "      <th>geometry</th>\n",
              "    </tr>\n",
              "  </thead>\n",
              "  <tbody>\n",
              "    <tr>\n",
              "      <th>0</th>\n",
              "      <td>33</td>\n",
              "      <td>None</td>\n",
              "      <td>Approvazione dell'elenco delle acque pubbliche...</td>\n",
              "      <td>SORGENTE REBUS</td>\n",
              "      <td>Rio Rebus</td>\n",
              "      <td>Ala</td>\n",
              "      <td>POLYGON ((652049.051 5111656.028, 652048.685 5...</td>\n",
              "    </tr>\n",
              "    <tr>\n",
              "      <th>1</th>\n",
              "      <td>188</td>\n",
              "      <td>None</td>\n",
              "      <td>Approvazione dell'elenco delle acque pubbliche...</td>\n",
              "      <td>SORGENTE AL FOL</td>\n",
              "      <td>Rio Sal</td>\n",
              "      <td>Trento (frazione Povo)</td>\n",
              "      <td>POLYGON ((692800.35 5109936.688, 692800.452 51...</td>\n",
              "    </tr>\n",
              "    <tr>\n",
              "      <th>2</th>\n",
              "      <td>215</td>\n",
              "      <td>None</td>\n",
              "      <td>Approvazione dell'elenco delle acque pubbliche...</td>\n",
              "      <td>SORGENTE SUL CAMPIO</td>\n",
              "      <td>Rio Val Battisti</td>\n",
              "      <td>Sant'Orsola</td>\n",
              "      <td>POLYGON ((630281.891 5142817.705, 630280.968 5...</td>\n",
              "    </tr>\n",
              "  </tbody>\n",
              "</table>\n",
              "</div>\n",
              "    <div class=\"colab-df-buttons\">\n",
              "\n",
              "  <div class=\"colab-df-container\">\n",
              "    <button class=\"colab-df-convert\" onclick=\"convertToInteractive('df-c0aa3808-7605-4ba5-b3d2-b5323ff9ccbf')\"\n",
              "            title=\"Convert this dataframe to an interactive table.\"\n",
              "            style=\"display:none;\">\n",
              "\n",
              "  <svg xmlns=\"http://www.w3.org/2000/svg\" height=\"24px\" viewBox=\"0 -960 960 960\">\n",
              "    <path d=\"M120-120v-720h720v720H120Zm60-500h600v-160H180v160Zm220 220h160v-160H400v160Zm0 220h160v-160H400v160ZM180-400h160v-160H180v160Zm440 0h160v-160H620v160ZM180-180h160v-160H180v160Zm440 0h160v-160H620v160Z\"/>\n",
              "  </svg>\n",
              "    </button>\n",
              "\n",
              "  <style>\n",
              "    .colab-df-container {\n",
              "      display:flex;\n",
              "      gap: 12px;\n",
              "    }\n",
              "\n",
              "    .colab-df-convert {\n",
              "      background-color: #E8F0FE;\n",
              "      border: none;\n",
              "      border-radius: 50%;\n",
              "      cursor: pointer;\n",
              "      display: none;\n",
              "      fill: #1967D2;\n",
              "      height: 32px;\n",
              "      padding: 0 0 0 0;\n",
              "      width: 32px;\n",
              "    }\n",
              "\n",
              "    .colab-df-convert:hover {\n",
              "      background-color: #E2EBFA;\n",
              "      box-shadow: 0px 1px 2px rgba(60, 64, 67, 0.3), 0px 1px 3px 1px rgba(60, 64, 67, 0.15);\n",
              "      fill: #174EA6;\n",
              "    }\n",
              "\n",
              "    .colab-df-buttons div {\n",
              "      margin-bottom: 4px;\n",
              "    }\n",
              "\n",
              "    [theme=dark] .colab-df-convert {\n",
              "      background-color: #3B4455;\n",
              "      fill: #D2E3FC;\n",
              "    }\n",
              "\n",
              "    [theme=dark] .colab-df-convert:hover {\n",
              "      background-color: #434B5C;\n",
              "      box-shadow: 0px 1px 3px 1px rgba(0, 0, 0, 0.15);\n",
              "      filter: drop-shadow(0px 1px 2px rgba(0, 0, 0, 0.3));\n",
              "      fill: #FFFFFF;\n",
              "    }\n",
              "  </style>\n",
              "\n",
              "    <script>\n",
              "      const buttonEl =\n",
              "        document.querySelector('#df-c0aa3808-7605-4ba5-b3d2-b5323ff9ccbf button.colab-df-convert');\n",
              "      buttonEl.style.display =\n",
              "        google.colab.kernel.accessAllowed ? 'block' : 'none';\n",
              "\n",
              "      async function convertToInteractive(key) {\n",
              "        const element = document.querySelector('#df-c0aa3808-7605-4ba5-b3d2-b5323ff9ccbf');\n",
              "        const dataTable =\n",
              "          await google.colab.kernel.invokeFunction('convertToInteractive',\n",
              "                                                    [key], {});\n",
              "        if (!dataTable) return;\n",
              "\n",
              "        const docLinkHtml = 'Like what you see? Visit the ' +\n",
              "          '<a target=\"_blank\" href=https://colab.research.google.com/notebooks/data_table.ipynb>data table notebook</a>'\n",
              "          + ' to learn more about interactive tables.';\n",
              "        element.innerHTML = '';\n",
              "        dataTable['output_type'] = 'display_data';\n",
              "        await google.colab.output.renderOutput(dataTable, element);\n",
              "        const docLink = document.createElement('div');\n",
              "        docLink.innerHTML = docLinkHtml;\n",
              "        element.appendChild(docLink);\n",
              "      }\n",
              "    </script>\n",
              "  </div>\n",
              "\n",
              "\n",
              "<div id=\"df-3fe0e66f-db67-4361-9723-d75feffe9f4f\">\n",
              "  <button class=\"colab-df-quickchart\" onclick=\"quickchart('df-3fe0e66f-db67-4361-9723-d75feffe9f4f')\"\n",
              "            title=\"Suggest charts\"\n",
              "            style=\"display:none;\">\n",
              "\n",
              "<svg xmlns=\"http://www.w3.org/2000/svg\" height=\"24px\"viewBox=\"0 0 24 24\"\n",
              "     width=\"24px\">\n",
              "    <g>\n",
              "        <path d=\"M19 3H5c-1.1 0-2 .9-2 2v14c0 1.1.9 2 2 2h14c1.1 0 2-.9 2-2V5c0-1.1-.9-2-2-2zM9 17H7v-7h2v7zm4 0h-2V7h2v10zm4 0h-2v-4h2v4z\"/>\n",
              "    </g>\n",
              "</svg>\n",
              "  </button>\n",
              "\n",
              "<style>\n",
              "  .colab-df-quickchart {\n",
              "      --bg-color: #E8F0FE;\n",
              "      --fill-color: #1967D2;\n",
              "      --hover-bg-color: #E2EBFA;\n",
              "      --hover-fill-color: #174EA6;\n",
              "      --disabled-fill-color: #AAA;\n",
              "      --disabled-bg-color: #DDD;\n",
              "  }\n",
              "\n",
              "  [theme=dark] .colab-df-quickchart {\n",
              "      --bg-color: #3B4455;\n",
              "      --fill-color: #D2E3FC;\n",
              "      --hover-bg-color: #434B5C;\n",
              "      --hover-fill-color: #FFFFFF;\n",
              "      --disabled-bg-color: #3B4455;\n",
              "      --disabled-fill-color: #666;\n",
              "  }\n",
              "\n",
              "  .colab-df-quickchart {\n",
              "    background-color: var(--bg-color);\n",
              "    border: none;\n",
              "    border-radius: 50%;\n",
              "    cursor: pointer;\n",
              "    display: none;\n",
              "    fill: var(--fill-color);\n",
              "    height: 32px;\n",
              "    padding: 0;\n",
              "    width: 32px;\n",
              "  }\n",
              "\n",
              "  .colab-df-quickchart:hover {\n",
              "    background-color: var(--hover-bg-color);\n",
              "    box-shadow: 0 1px 2px rgba(60, 64, 67, 0.3), 0 1px 3px 1px rgba(60, 64, 67, 0.15);\n",
              "    fill: var(--button-hover-fill-color);\n",
              "  }\n",
              "\n",
              "  .colab-df-quickchart-complete:disabled,\n",
              "  .colab-df-quickchart-complete:disabled:hover {\n",
              "    background-color: var(--disabled-bg-color);\n",
              "    fill: var(--disabled-fill-color);\n",
              "    box-shadow: none;\n",
              "  }\n",
              "\n",
              "  .colab-df-spinner {\n",
              "    border: 2px solid var(--fill-color);\n",
              "    border-color: transparent;\n",
              "    border-bottom-color: var(--fill-color);\n",
              "    animation:\n",
              "      spin 1s steps(1) infinite;\n",
              "  }\n",
              "\n",
              "  @keyframes spin {\n",
              "    0% {\n",
              "      border-color: transparent;\n",
              "      border-bottom-color: var(--fill-color);\n",
              "      border-left-color: var(--fill-color);\n",
              "    }\n",
              "    20% {\n",
              "      border-color: transparent;\n",
              "      border-left-color: var(--fill-color);\n",
              "      border-top-color: var(--fill-color);\n",
              "    }\n",
              "    30% {\n",
              "      border-color: transparent;\n",
              "      border-left-color: var(--fill-color);\n",
              "      border-top-color: var(--fill-color);\n",
              "      border-right-color: var(--fill-color);\n",
              "    }\n",
              "    40% {\n",
              "      border-color: transparent;\n",
              "      border-right-color: var(--fill-color);\n",
              "      border-top-color: var(--fill-color);\n",
              "    }\n",
              "    60% {\n",
              "      border-color: transparent;\n",
              "      border-right-color: var(--fill-color);\n",
              "    }\n",
              "    80% {\n",
              "      border-color: transparent;\n",
              "      border-right-color: var(--fill-color);\n",
              "      border-bottom-color: var(--fill-color);\n",
              "    }\n",
              "    90% {\n",
              "      border-color: transparent;\n",
              "      border-bottom-color: var(--fill-color);\n",
              "    }\n",
              "  }\n",
              "</style>\n",
              "\n",
              "  <script>\n",
              "    async function quickchart(key) {\n",
              "      const quickchartButtonEl =\n",
              "        document.querySelector('#' + key + ' button');\n",
              "      quickchartButtonEl.disabled = true;  // To prevent multiple clicks.\n",
              "      quickchartButtonEl.classList.add('colab-df-spinner');\n",
              "      try {\n",
              "        const charts = await google.colab.kernel.invokeFunction(\n",
              "            'suggestCharts', [key], {});\n",
              "      } catch (error) {\n",
              "        console.error('Error during call to suggestCharts:', error);\n",
              "      }\n",
              "      quickchartButtonEl.classList.remove('colab-df-spinner');\n",
              "      quickchartButtonEl.classList.add('colab-df-quickchart-complete');\n",
              "    }\n",
              "    (() => {\n",
              "      let quickchartButtonEl =\n",
              "        document.querySelector('#df-3fe0e66f-db67-4361-9723-d75feffe9f4f button');\n",
              "      quickchartButtonEl.style.display =\n",
              "        google.colab.kernel.accessAllowed ? 'block' : 'none';\n",
              "    })();\n",
              "  </script>\n",
              "</div>\n",
              "\n",
              "    </div>\n",
              "  </div>\n"
            ],
            "application/vnd.google.colaboratory.intrinsic+json": {
              "type": "dataframe",
              "variable_name": "mountain_station_basins",
              "summary": "{\n  \"name\": \"mountain_station_basins\",\n  \"rows\": 433,\n  \"fields\": [\n    {\n      \"column\": \"CLASSID\",\n      \"properties\": {\n        \"dtype\": \"string\",\n        \"num_unique_values\": 433,\n        \"samples\": [\n          \"997\",\n          \"209\",\n          \"429\"\n        ],\n        \"semantic_type\": \"\",\n        \"description\": \"\"\n      }\n    },\n    {\n      \"column\": \"LIMITI\",\n      \"properties\": {\n        \"dtype\": \"category\",\n        \"num_unique_values\": 84,\n        \"samples\": [\n          \"Dallo sbocco alle origini in localit\\u0085 \\\"a sera\\\" in Comune di Br\\u008az\",\n          \"Tutto lo specchio d'acqua\",\n          \"Dallo sbocco alle sorgenti alimentatrici in localit\\u0085 Largadana della frazione di Ruffr\\u008a (Cavareno)\"\n        ],\n        \"semantic_type\": \"\",\n        \"description\": \"\"\n      }\n    },\n    {\n      \"column\": \"ORIGPUB\",\n      \"properties\": {\n        \"dtype\": \"category\",\n        \"num_unique_values\": 2,\n        \"samples\": [\n          \"Primo elenco suppletivo delle acque pubbliche della provincia di Trento  - Deliberazione della Giunta Provinciale di Trento di data 16 novembre 1990, n 14341 pubblicato nel BUR del 16 aprile 1991 n 17\",\n          \"Approvazione dell'elenco delle acque pubbliche della provincia di Trento - Regio decreto 15 gennaio 1942-XX Gazzetta Ufficiale n. 241 del 13 ottobre 1942-XX\"\n        ],\n        \"semantic_type\": \"\",\n        \"description\": \"\"\n      }\n    },\n    {\n      \"column\": \"DENOM\",\n      \"properties\": {\n        \"dtype\": \"string\",\n        \"num_unique_values\": 431,\n        \"samples\": [\n          \"RIO E SORGENTE DI PRAMOREL\",\n          \"RIO DI VAL CAVA\"\n        ],\n        \"semantic_type\": \"\",\n        \"description\": \"\"\n      }\n    },\n    {\n      \"column\": \"FOCE\",\n      \"properties\": {\n        \"dtype\": \"category\",\n        \"num_unique_values\": 129,\n        \"samples\": [\n          \"Rio di Val Cavelonte\",\n          \"Lavisotto\"\n        ],\n        \"semantic_type\": \"\",\n        \"description\": \"\"\n      }\n    },\n    {\n      \"column\": \"COMUNI\",\n      \"properties\": {\n        \"dtype\": \"category\",\n        \"num_unique_values\": 182,\n        \"samples\": [\n          \"Trambilleno\",\n          \"Pergine, Baselga di Pin\\u008a, Fornace, Civezzano\"\n        ],\n        \"semantic_type\": \"\",\n        \"description\": \"\"\n      }\n    },\n    {\n      \"column\": \"geometry\",\n      \"properties\": {\n        \"dtype\": \"geometry\",\n        \"num_unique_values\": 433,\n        \"samples\": [\n          \"POLYGON ((713047.13 5120833.13, 713047.211 5120833.127, 713047.436 5120833.099, 713048.378 5120832.948, 713051.927 5120832.266, 713052.6020000001 5120832.144, 713053.466 5120832.008, 713054.111 5120831.921, 713055.007 5120831.824, 713055.76 5120831.767, 713059.002 5120831.5940000005, 713060.345 5120831.502, 713062.558 5120831.350000001, 713062.99 5120831.301, 713063.331 5120831.251, 713063.729 5120831.1790000005, 713064.122 5120831.093, 713064.511 5120830.991, 713064.959 5120830.851, 713065.448 5120830.664, 713065.8640000001 5120830.485, 713066.691 5120830.101, 713067.111 5120829.917, 713067.605 5120829.734, 713067.956 5120829.623, 713068.312 5120829.522, 713069.019 5120829.343, 713070.05 5120829.102, 713070.458 5120828.997, 713070.861 5120828.8780000005, 713071.103 5120828.794, 713071.501 5120828.637, 713071.893 5120828.461, 713072.281 5120828.272, 713072.975 5120827.913, 713074.2930000001 5120827.184, 713074.863 5120826.863, 713076.093 5120826.143, 713076.986 5120825.631, 713077.386 5120825.389, 713077.797 5120825.126, 713078.194 5120824.847, 713078.572 5120824.545, 713078.929 5120824.229, 713079.261 5120823.908, 713079.885 5120823.258, 713080.358 5120822.722, 713081.763 5120821.03, 713082.066 5120820.68, 713082.376 5120820.34, 713082.635 5120820.0770000005, 713082.902 5120819.824, 713083.176 5120819.583000001, 713084.041 5120818.868, 713084.257 5120818.667, 713084.46 5120818.456, 713084.618 5120818.269, 713084.762 5120818.073, 713084.966 5120817.73, 713085.122 5120817.366, 713085.185 5120817.153, 713085.231 5120816.9350000005, 713085.273 5120816.499, 713085.27 5120816.088, 713085.2390000001 5120815.669, 713085.186 5120815.245, 713084.942 5120813.7530000005, 713084.8960000001 5120813.374, 713084.868 5120813.01, 713084.858 5120812.613, 713084.8740000001 5120812.132, 713084.914 5120811.652, 713084.9890000001 5120811.044, 713085.1680000001 5120809.862, 713085.212 5120809.45, 713085.229 5120809.008, 713085.208 5120808.5600000005, 713085.164 5120808.174, 713084.992 5120807.1280000005, 713084.937 5120806.743, 713084.888 5120806.292, 713084.856 5120805.837, 713084.845 5120805.382, 713084.853 5120805.014, 713084.873 5120804.694, 713084.992 5120803.47, 713085.019 5120802.98, 713085.0160000001 5120802.442, 713084.995 5120802.066, 713084.961 5120801.691, 713084.9130000001 5120801.317, 713084.87 5120801.0540000005, 713084.774 5120800.581, 713084.686 5120800.2190000005, 713084.587 5120799.86, 713084.476 5120799.505, 713084.3150000001 5120799.046, 713084.189 5120798.73, 713083.911 5120798.106, 713083.549 5120797.362, 713083.243 5120796.782, 713082.77 5120795.932, 713081.278 5120793.381, 713081.083 5120793.068, 713080.843 5120792.714, 713080.622 5120792.419, 713080.389 5120792.131, 713079.92 5120791.593, 713079.447 5120791.093, 713078.447 5120790.119, 713078.174 5120789.84, 713077.665 5120789.277, 713076.877 5120788.363, 713076.58 5120788.039, 713076.273 5120787.722, 713075.6240000001 5120787.084, 713074.207 5120785.789, 713073.432 5120785.068, 713072.917 5120784.608, 713071.729 5120783.612, 713070.2440000001 5120782.3440000005, 713069.939 5120782.066, 713069.0970000001 5120781.245, 713068.79 5120780.956, 713067.8640000001 5120780.125, 713066.905 5120779.227, 713066.414 5120778.802, 713064.9280000001 5120777.582, 713064.656 5120777.373, 713063.72 5120776.7, 713063.229 5120776.334, 713062.682 5120775.8950000005, 713061.992 5120775.306, 713061.307 5120774.6850000005, 713060.784 5120774.18, 713060.307 5120773.7, 713059.666 5120773.0370000005, 713058.8960000001 5120772.266, 713058.5970000001 5120771.991, 713058.2880000001 5120771.726, 713057.929 5120771.439, 713057.557 5120771.17, 713057.343 5120771.029, 713056.696 5120770.64, 713055.783 5120770.139, 713055.412 5120769.924, 713055.047 5120769.698, 713054.574 5120769.392, 713054.2390000001 5120769.1620000005, 713053.664 5120768.746, 713052.635 5120767.9520000005, 713052.299 5120767.7020000005, 713051.699 5120767.282, 713051.3910000001 5120767.083000001, 713050.942 5120766.813, 713050.487 5120766.565, 713049.792 5120766.226, 713049.399 5120766.051, 713048.676 5120765.752, 713047.943 5120765.467, 713047.125 5120765.1680000005, 713046.652 5120765.012, 713045.777 5120764.746, 713044.714 5120764.445, 713043.768 5120764.187, 713042.983 5120763.988, 713042.571 5120763.894, 713041.79 5120763.7360000005, 713041.001 5120763.601, 713040.513 5120763.533, 713040.112 5120763.496, 713039.713 5120763.481, 713039.318 5120763.492000001, 713039.0260000001 5120763.521, 713038.644 5120763.591, 713038.203 5120763.716, 713037.773 5120763.882, 713037.426 5120764.048, 713037.089 5120764.2360000005, 713036.828 5120764.4, 713036.5750000001 5120764.576, 713036.275 5120764.806, 713035.495 5120765.466, 713035.255 5120765.646, 713035.006 5120765.807, 713034.745 5120765.944, 713034.522 5120766.034, 713034.292 5120766.107, 713033.87 5120766.197, 713033.439 5120766.242000001, 713033.024 5120766.246, 713032.703 5120766.224, 713032.3910000001 5120766.187, 713032.15 5120766.151000001, 713031.617 5120766.055, 713031.337 5120766.017, 713031.074 5120766.026000001, 713030.83 5120766.101, 713030.603 5120766.235, 713030.394 5120766.414, 713029.817 5120767.076, 713029.0210000001 5120767.9120000005, 713028.781 5120768.192, 713028.557 5120768.492000001, 713028.372 5120768.78, 713028.208 5120769.084, 713028.06 5120769.419, 713027.937 5120769.767, 713027.807 5120770.246, 713027.73 5120770.606, 713027.621 5120771.255, 713027.488 5120772.325, 713027.403 5120772.936, 713027.322 5120773.409, 713027.086 5120774.6450000005, 713027.035 5120774.957, 713026.961 5120775.488, 713026.865 5120776.369, 713026.77 5120777.566, 713026.686 5120778.995, 713026.603 5120780.996, 713026.464 5120783.965, 713026.427 5120785, 713026.405 5120785.987, 713026.3960000001 5120786.999, 713026.4180000001 5120789, 713026.421 5120791.295, 713026.437 5120792.423, 713026.487 5120795, 713026.466 5120798.462, 713026.48 5120800.4520000005, 713026.5210000001 5120801.850000001, 713026.6630000001 5120805.316, 713026.7490000001 5120808.041, 713026.775 5120809.189, 713026.7980000001 5120811.213, 713026.822 5120812.045, 713026.882 5120813.156, 713026.92 5120813.598, 713026.968 5120814.039, 713027.027 5120814.477, 713027.095 5120814.901000001, 713027.2390000001 5120815.649, 713027.349 5120816.12, 713027.479 5120816.584, 713027.598 5120816.939, 713027.734 5120817.281, 713027.885 5120817.617000001, 713028.18 5120818.208000001, 713028.3910000001 5120818.598, 713028.615 5120818.982, 713028.769 5120819.23, 713029.042 5120819.64, 713029.314 5120820.014, 713029.598 5120820.377, 713029.8150000001 5120820.637, 713030.041 5120820.89, 713030.2980000001 5120821.156, 713030.5650000001 5120821.4120000005, 713030.808 5120821.632, 713031.057 5120821.846, 713032.001 5120822.604, 713032.326 5120822.877, 713032.742 5120823.257, 713033.145 5120823.6680000005, 713033.421 5120823.973, 713034.229 5120824.932, 713034.627 5120825.381, 713035.098 5120825.874, 713035.36 5120826.1280000005, 713035.955 5120826.661, 713036.287 5120826.94, 713036.979 5120827.487, 713038.471 5120828.642, 713038.966 5120828.994, 713039.402 5120829.268, 713039.979 5120829.595, 713041.947 5120830.64, 713043.599 5120831.5430000005, 713044.88 5120832.207, 713045.644 5120832.576, 713046.109 5120832.783, 713046.537 5120832.959, 713046.867 5120833.0770000005, 713047.007 5120833.118, 713047.096 5120833.136, 713047.13 5120833.13))\",\n          \"POLYGON ((639641.321 5144756.5600000005, 639641.004 5144754.655, 639641.533 5144751.586, 639641.216 5144748.94, 639639.84 5144747.882, 639638.887 5144747.246, 639638.04 5144745.871, 639637.406 5144744.601, 639635.395 5144744.389, 639633.701 5144744.283, 639631.479 5144744.283, 639629.468 5144745.341, 639628.304 5144746.717, 639626.2930000001 5144747.352, 639624.176 5144747.987, 639621.531 5144749.892, 639616.98 5144751.797, 639613.487 5144753.173, 639611.159 5144754.867000001, 639611.159 5144756.877, 639610.524 5144758.782, 639608.513 5144761.217, 639606.3960000001 5144763.651000001, 639603.645 5144765.661, 639603.221 5144768.519, 639603.433 5144771.377, 639602.692 5144773.811, 639601.528 5144775.61, 639600.576 5144777.303, 639600.3640000001 5144779.314, 639600.893 5144781.854, 639601.74 5144785.135, 639601.105 5144787.675, 639600.47 5144789.897, 639600.9990000001 5144792.967, 639602.057 5144796.142, 639603.221 5144800.163, 639605.02 5144803.55, 639605.55 5144806.09, 639605.232 5144808.947, 639605.232 5144811.805, 639606.29 5144814.345, 639608.407 5144816.568, 639610.841 5144818.79, 639614.0160000001 5144820.801, 639617.826 5144821.542, 639621.107 5144822.282, 639625.764 5144821.965, 639633.278 5144822.177, 639637.617 5144821.859, 639640.3690000001 5144821.859, 639642.274 5144822.071, 639642.697 5144822.917, 639643.861 5144824.505, 639645.7660000001 5144825.458000001, 639648.6240000001 5144825.563, 639651.164 5144825.563, 639652.751 5144825.034, 639653.598 5144823.87, 639654.868 5144822.600000001, 639656.138 5144821.7530000005, 639657.726 5144819.848, 639659.207 5144816.779, 639660.795 5144814.027, 639662.806 5144812.122, 639664.605 5144810.4290000005, 639664.816 5144808.7360000005, 639664.287 5144807.042, 639664.922 5144804.926, 639666.404 5144804.1850000005, 639669.262 5144803.232, 639672.436 5144801.857, 639673.812 5144800.586, 639675.823 5144798.999, 639676.881 5144797.4120000005, 639676.881 5144796.459, 639676.987 5144795.401000001, 639676.352 5144794.448, 639676.035 5144792.967, 639676.035 5144790.321, 639675.823 5144788.3100000005, 639676.035 5144785.876, 639675.188 5144782.595, 639672.648 5144781.536, 639668.0970000001 5144781.2190000005, 639665.24 5144780.055, 639662.806 5144778.891, 639658.996 5144778.362, 639655.186 5144777.303, 639653.069 5144775.504, 639652.117 5144773.493, 639651.376 5144771.8, 639650.741 5144769.154, 639649.894 5144765.3440000005, 639648.306 5144763.757, 639645.978 5144761.852, 639643.65 5144760.37, 639642.38 5144759.206, 639641.321 5144756.5600000005))\"\n        ],\n        \"semantic_type\": \"\",\n        \"description\": \"\"\n      }\n    }\n  ]\n}"
            }
          },
          "metadata": {},
          "execution_count": 59
        }
      ],
      "source": [
        "mountain_station_basins.head(3)"
      ]
    },
    {
      "cell_type": "code",
      "execution_count": 60,
      "metadata": {
        "id": "aNWVouzySCtY",
        "colab": {
          "base_uri": "https://localhost:8080/"
        },
        "outputId": "bd9142a7-1e9c-42c2-cbd2-d4f27bfe722b"
      },
      "outputs": [
        {
          "output_type": "execute_result",
          "data": {
            "text/plain": [
              "Index(['CLASSID', 'LIMITI', 'ORIGPUB', 'DENOM', 'FOCE', 'COMUNI', 'geometry'], dtype='object')"
            ]
          },
          "metadata": {},
          "execution_count": 60
        }
      ],
      "source": [
        "mountain_station_basins.columns"
      ]
    },
    {
      "cell_type": "markdown",
      "metadata": {
        "id": "4GlpGMitSH3f"
      },
      "source": [
        "where is \"*Fktuso*\" ???\n",
        "\n",
        "*We have to analyze the ESRI Shapefile*"
      ]
    },
    {
      "cell_type": "code",
      "execution_count": 69,
      "metadata": {
        "id": "ObR6w1LxT_Wp"
      },
      "outputs": [],
      "source": [
        "os.mkdir(\"shapefile\")"
      ]
    },
    {
      "cell_type": "code",
      "execution_count": 70,
      "metadata": {
        "id": "Jg2LI30WUEbi"
      },
      "outputs": [],
      "source": [
        "os.chdir(\"shapefile\")"
      ]
    },
    {
      "cell_type": "code",
      "execution_count": 74,
      "metadata": {
        "colab": {
          "base_uri": "https://localhost:8080/"
        },
        "id": "QNYvC8IJSquN",
        "outputId": "8c22c756-3068-4699-de76-ca19aa63501e"
      },
      "outputs": [
        {
          "output_type": "execute_result",
          "data": {
            "text/plain": [
              "('idrspacq.zip', <http.client.HTTPMessage at 0x78d819abcf70>)"
            ]
          },
          "metadata": {},
          "execution_count": 74
        }
      ],
      "source": [
        "urllib.request.urlretrieve(dataurl ,\"idrspacq.zip\")\n"
      ]
    },
    {
      "cell_type": "code",
      "execution_count": 75,
      "metadata": {
        "id": "xrRNFV2USwUb"
      },
      "outputs": [],
      "source": [
        "import zipfile\n",
        "z = zipfile.ZipFile('idrspacq.zip')\n",
        "z.extractall()"
      ]
    },
    {
      "cell_type": "code",
      "source": [
        "os.listdir()"
      ],
      "metadata": {
        "id": "CiYcgvQhFzFj",
        "colab": {
          "base_uri": "https://localhost:8080/"
        },
        "outputId": "117dcae7-18f4-42ff-cf41-66b8c1253263"
      },
      "execution_count": 76,
      "outputs": [
        {
          "output_type": "execute_result",
          "data": {
            "text/plain": [
              "['ftkuso.dbf', 'idrspacq.shx', 'idrspacq.dbf', 'idrspacq.shp', 'idrspacq.zip']"
            ]
          },
          "metadata": {},
          "execution_count": 76
        }
      ]
    },
    {
      "cell_type": "markdown",
      "metadata": {
        "id": "BKqPewWDTtX7"
      },
      "source": [
        "| filenname | description  | note |\n",
        "|---|---|---|\n",
        "| lidrspacq.shp | the file with the shapes (geometries) | ok |\n",
        "| ftkuso.dbf  | the file with the attributes | the name is NOT the same of the .shp |\n",
        "|  idrspacq.dbf | the file with the attributes  | the name is the same of the .shp |\n",
        "| idrspacq.zip  | the zip archive | it's present because downloaded |\n",
        "| idrspacq.shx  | the file to associate the attributes to the geometries | the name is the the of the .shp |"
      ]
    },
    {
      "cell_type": "markdown",
      "metadata": {
        "id": "pZIsjO6jXuKf"
      },
      "source": [
        "How we can use the file *ftkuso.dbf*?\n",
        "\n",
        "Try to create a shapefile from the other"
      ]
    },
    {
      "cell_type": "code",
      "execution_count": 77,
      "metadata": {
        "id": "zE_9T4dWX_wd"
      },
      "outputs": [],
      "source": [
        "from shutil import copyfile"
      ]
    },
    {
      "cell_type": "code",
      "execution_count": 78,
      "metadata": {
        "id": "KOwjt9A4YSUM",
        "colab": {
          "base_uri": "https://localhost:8080/",
          "height": 35
        },
        "outputId": "08e385be-553d-4a42-e83e-4599ea37a8ac"
      },
      "outputs": [
        {
          "output_type": "execute_result",
          "data": {
            "text/plain": [
              "'ftkuso.shp'"
            ],
            "application/vnd.google.colaboratory.intrinsic+json": {
              "type": "string"
            }
          },
          "metadata": {},
          "execution_count": 78
        }
      ],
      "source": [
        "copyfile(\"idrspacq.shp\",\"ftkuso.shp\")"
      ]
    },
    {
      "cell_type": "code",
      "execution_count": 79,
      "metadata": {
        "id": "vVH6RI5KYf9G",
        "colab": {
          "base_uri": "https://localhost:8080/",
          "height": 35
        },
        "outputId": "3ea113f3-dba8-4510-eeb3-ceb7171c86bc"
      },
      "outputs": [
        {
          "output_type": "execute_result",
          "data": {
            "text/plain": [
              "'ftkuso.shx'"
            ],
            "application/vnd.google.colaboratory.intrinsic+json": {
              "type": "string"
            }
          },
          "metadata": {},
          "execution_count": 79
        }
      ],
      "source": [
        "copyfile(\"idrspacq.shx\",\"ftkuso.shx\")"
      ]
    },
    {
      "cell_type": "code",
      "execution_count": 83,
      "metadata": {
        "id": "Fci0RyU8YhAN"
      },
      "outputs": [],
      "source": [
        "fktuso =  gpd.read_file(\"ftkuso.shp\")"
      ]
    },
    {
      "cell_type": "code",
      "execution_count": 84,
      "metadata": {
        "id": "XG2RYo21YucY",
        "colab": {
          "base_uri": "https://localhost:8080/"
        },
        "outputId": "15e097ac-f167-40df-9dbc-18cd938c8d8c"
      },
      "outputs": [
        {
          "output_type": "execute_result",
          "data": {
            "text/plain": [
              "Index(['OBJECTID', 'CLASSID', 'NOMESPACQ', 'FKTUSO', 'PD', 'FKTGENESI',\n",
              "       'FKTREGOLAZ', 'FKTSPECCHI', 'FKSCALA', 'DATAINI', 'DATAFINE', 'FKFONTE',\n",
              "       'FKTIPOELAB', 'FKCODPUB', 'NOTE', 'geometry'],\n",
              "      dtype='object')"
            ]
          },
          "metadata": {},
          "execution_count": 84
        }
      ],
      "source": [
        "fktuso.columns"
      ]
    },
    {
      "cell_type": "markdown",
      "metadata": {
        "id": "ttQQC19gYylb"
      },
      "source": [
        "there is the attribute \"FTKUSO\" ..."
      ]
    },
    {
      "cell_type": "code",
      "execution_count": 85,
      "metadata": {
        "id": "FIxvQfy7Y_Rd",
        "colab": {
          "base_uri": "https://localhost:8080/"
        },
        "outputId": "b420c4cd-8deb-4cd9-f7a7-bbdc466444be"
      },
      "outputs": [
        {
          "output_type": "execute_result",
          "data": {
            "text/plain": [
              "array(['0101', '92', '0191', '0192', '02', '0102'], dtype=object)"
            ]
          },
          "metadata": {},
          "execution_count": 85
        }
      ],
      "source": [
        "fktuso.FKTUSO.unique()"
      ]
    },
    {
      "cell_type": "markdown",
      "metadata": {
        "id": "Q4jfkRBuZLGy"
      },
      "source": [
        "... and there is also the value \"02\""
      ]
    },
    {
      "cell_type": "code",
      "execution_count": 86,
      "metadata": {
        "id": "FzSu9hrEY5od"
      },
      "outputs": [],
      "source": [
        "fktuso02 = fktuso[fktuso.FKTUSO=='02']"
      ]
    },
    {
      "cell_type": "code",
      "execution_count": 87,
      "metadata": {
        "id": "_5kol7f1Zs-H",
        "colab": {
          "base_uri": "https://localhost:8080/",
          "height": 699
        },
        "outputId": "28a4d4c8-47ba-44e9-891c-66179c1ea3c6"
      },
      "outputs": [
        {
          "output_type": "display_data",
          "data": {
            "text/plain": [
              "<Figure size 1000x1000 with 1 Axes>"
            ],
            "image/png": "[encoded data removed]"
          },
          "metadata": {}
        }
      ],
      "source": [
        "fktuso.plot(figsize=(10,10))\n",
        "plt.show()"
      ]
    },
    {
      "cell_type": "markdown",
      "metadata": {
        "id": "l5KtwWBKZXF4"
      },
      "source": [
        "### convert in WGS84 and create a geojson"
      ]
    },
    {
      "cell_type": "code",
      "execution_count": 89,
      "metadata": {
        "id": "DyH5-bM1ZlIO",
        "colab": {
          "base_uri": "https://localhost:8080/",
          "height": 287
        },
        "outputId": "b876050b-7ecb-4533-9ead-940e6e85d8d1"
      },
      "outputs": [
        {
          "output_type": "error",
          "ename": "ValueError",
          "evalue": "Cannot transform naive geometries.  Please set a crs on the object first.",
          "traceback": [
            "\u001b[0;31m---------------------------------------------------------------------------\u001b[0m",
            "\u001b[0;31mValueError\u001b[0m                                Traceback (most recent call last)",
            "\u001b[0;32m<ipython-input-89-26c908f34e28>\u001b[0m in \u001b[0;36m<cell line: 1>\u001b[0;34m()\u001b[0m\n\u001b[0;32m----> 1\u001b[0;31m \u001b[0mfktuso02\u001b[0m\u001b[0;34m.\u001b[0m\u001b[0mto_crs\u001b[0m\u001b[0;34m(\u001b[0m\u001b[0mepsg\u001b[0m\u001b[0;34m=\u001b[0m\u001b[0;36m4326\u001b[0m\u001b[0;34m)\u001b[0m\u001b[0;34m\u001b[0m\u001b[0;34m\u001b[0m\u001b[0m\n\u001b[0m",
            "\u001b[0;32m/usr/local/lib/python3.10/dist-packages/geopandas/geodataframe.py\u001b[0m in \u001b[0;36mto_crs\u001b[0;34m(self, crs, epsg, inplace)\u001b[0m\n\u001b[1;32m   1699\u001b[0m         \u001b[0;32melse\u001b[0m\u001b[0;34m:\u001b[0m\u001b[0;34m\u001b[0m\u001b[0;34m\u001b[0m\u001b[0m\n\u001b[1;32m   1700\u001b[0m             \u001b[0mdf\u001b[0m \u001b[0;34m=\u001b[0m \u001b[0mself\u001b[0m\u001b[0;34m.\u001b[0m\u001b[0mcopy\u001b[0m\u001b[0;34m(\u001b[0m\u001b[0;34m)\u001b[0m\u001b[0;34m\u001b[0m\u001b[0;34m\u001b[0m\u001b[0m\n\u001b[0;32m-> 1701\u001b[0;31m         \u001b[0mgeom\u001b[0m \u001b[0;34m=\u001b[0m \u001b[0mdf\u001b[0m\u001b[0;34m.\u001b[0m\u001b[0mgeometry\u001b[0m\u001b[0;34m.\u001b[0m\u001b[0mto_crs\u001b[0m\u001b[0;34m(\u001b[0m\u001b[0mcrs\u001b[0m\u001b[0;34m=\u001b[0m\u001b[0mcrs\u001b[0m\u001b[0;34m,\u001b[0m \u001b[0mepsg\u001b[0m\u001b[0;34m=\u001b[0m\u001b[0mepsg\u001b[0m\u001b[0;34m)\u001b[0m\u001b[0;34m\u001b[0m\u001b[0;34m\u001b[0m\u001b[0m\n\u001b[0m\u001b[1;32m   1702\u001b[0m         \u001b[0mdf\u001b[0m\u001b[0;34m.\u001b[0m\u001b[0mgeometry\u001b[0m \u001b[0;34m=\u001b[0m \u001b[0mgeom\u001b[0m\u001b[0;34m\u001b[0m\u001b[0;34m\u001b[0m\u001b[0m\n\u001b[1;32m   1703\u001b[0m         \u001b[0;32mif\u001b[0m \u001b[0;32mnot\u001b[0m \u001b[0minplace\u001b[0m\u001b[0;34m:\u001b[0m\u001b[0;34m\u001b[0m\u001b[0;34m\u001b[0m\u001b[0m\n",
            "\u001b[0;32m/usr/local/lib/python3.10/dist-packages/geopandas/geoseries.py\u001b[0m in \u001b[0;36mto_crs\u001b[0;34m(self, crs, epsg)\u001b[0m\n\u001b[1;32m   1205\u001b[0m         \"\"\"\n\u001b[1;32m   1206\u001b[0m         return GeoSeries(\n\u001b[0;32m-> 1207\u001b[0;31m             \u001b[0mself\u001b[0m\u001b[0;34m.\u001b[0m\u001b[0mvalues\u001b[0m\u001b[0;34m.\u001b[0m\u001b[0mto_crs\u001b[0m\u001b[0;34m(\u001b[0m\u001b[0mcrs\u001b[0m\u001b[0;34m=\u001b[0m\u001b[0mcrs\u001b[0m\u001b[0;34m,\u001b[0m \u001b[0mepsg\u001b[0m\u001b[0;34m=\u001b[0m\u001b[0mepsg\u001b[0m\u001b[0;34m)\u001b[0m\u001b[0;34m,\u001b[0m \u001b[0mindex\u001b[0m\u001b[0;34m=\u001b[0m\u001b[0mself\u001b[0m\u001b[0;34m.\u001b[0m\u001b[0mindex\u001b[0m\u001b[0;34m,\u001b[0m \u001b[0mname\u001b[0m\u001b[0;34m=\u001b[0m\u001b[0mself\u001b[0m\u001b[0;34m.\u001b[0m\u001b[0mname\u001b[0m\u001b[0;34m\u001b[0m\u001b[0;34m\u001b[0m\u001b[0m\n\u001b[0m\u001b[1;32m   1208\u001b[0m         )\n\u001b[1;32m   1209\u001b[0m \u001b[0;34m\u001b[0m\u001b[0m\n",
            "\u001b[0;32m/usr/local/lib/python3.10/dist-packages/geopandas/_compat.py\u001b[0m in \u001b[0;36mwrapper\u001b[0;34m(*args, **kwargs)\u001b[0m\n\u001b[1;32m     88\u001b[0m                 \u001b[0;34mf\"\\nImporting pyproj resulted in: {pyproj_import_error}\"\u001b[0m\u001b[0;34m\u001b[0m\u001b[0;34m\u001b[0m\u001b[0m\n\u001b[1;32m     89\u001b[0m             )\n\u001b[0;32m---> 90\u001b[0;31m         \u001b[0;32mreturn\u001b[0m \u001b[0mfunc\u001b[0m\u001b[0;34m(\u001b[0m\u001b[0;34m*\u001b[0m\u001b[0margs\u001b[0m\u001b[0;34m,\u001b[0m \u001b[0;34m**\u001b[0m\u001b[0mkwargs\u001b[0m\u001b[0;34m)\u001b[0m\u001b[0;34m\u001b[0m\u001b[0;34m\u001b[0m\u001b[0m\n\u001b[0m\u001b[1;32m     91\u001b[0m \u001b[0;34m\u001b[0m\u001b[0m\n\u001b[1;32m     92\u001b[0m     \u001b[0;32mreturn\u001b[0m \u001b[0mwrapper\u001b[0m\u001b[0;34m\u001b[0m\u001b[0;34m\u001b[0m\u001b[0m\n",
            "\u001b[0;32m/usr/local/lib/python3.10/dist-packages/geopandas/array.py\u001b[0m in \u001b[0;36mto_crs\u001b[0;34m(self, crs, epsg)\u001b[0m\n\u001b[1;32m   1000\u001b[0m \u001b[0;34m\u001b[0m\u001b[0m\n\u001b[1;32m   1001\u001b[0m         \u001b[0;32mif\u001b[0m \u001b[0mself\u001b[0m\u001b[0;34m.\u001b[0m\u001b[0mcrs\u001b[0m \u001b[0;32mis\u001b[0m \u001b[0;32mNone\u001b[0m\u001b[0;34m:\u001b[0m\u001b[0;34m\u001b[0m\u001b[0;34m\u001b[0m\u001b[0m\n\u001b[0;32m-> 1002\u001b[0;31m             raise ValueError(\n\u001b[0m\u001b[1;32m   1003\u001b[0m                 \u001b[0;34m\"Cannot transform naive geometries.  \"\u001b[0m\u001b[0;34m\u001b[0m\u001b[0;34m\u001b[0m\u001b[0m\n\u001b[1;32m   1004\u001b[0m                 \u001b[0;34m\"Please set a crs on the object first.\"\u001b[0m\u001b[0;34m\u001b[0m\u001b[0;34m\u001b[0m\u001b[0m\n",
            "\u001b[0;31mValueError\u001b[0m: Cannot transform naive geometries.  Please set a crs on the object first."
          ]
        }
      ],
      "source": [
        "fktuso02.to_crs(epsg=4326)"
      ]
    },
    {
      "cell_type": "markdown",
      "metadata": {
        "id": "6tniYjPVZ5xD"
      },
      "source": [
        "ERROR:\n",
        "*Cannot transform naive geometries.  Please set a crs on the object first.*\n",
        "\n",
        "The geodataframe is without the CRS\n",
        "\n",
        "If you check again all the files contained in the zip archive *the .prj file is not present!!!*\n",
        "\n",
        "You need to create it!\n",
        "\n",
        "THe note says \"*projection ETRS89 UTM32N*\"\n",
        "\n",
        "This is enough to search the right epsg code on https://epsg.io with the query [\"ETRS89 UTM zone 32N\"](https://epsg.io/?q=ETRS89+UTM+zone+32N)\n",
        "\n",
        "\n",
        "![](https://github.com/napo/geospatial_unitn_2024/blob/main/images/epsg25832.png?raw=true)\n",
        "\n",
        "\n",
        "where the EPSG code is 25832\n",
        "\n",
        "\n",
        "the solution can be possible in two ways:\n",
        "\n",
        "1 - assign the CRS to the geodataframe\n"
      ]
    },
    {
      "cell_type": "code",
      "execution_count": 91,
      "metadata": {
        "id": "eLyHanMcZxfZ",
        "colab": {
          "base_uri": "https://localhost:8080/",
          "height": 147
        },
        "outputId": "bfb907d7-c997-4923-f59c-55ad049bb056"
      },
      "outputs": [
        {
          "output_type": "execute_result",
          "data": {
            "text/plain": [
              "    OBJECTID        CLASSID              NOMESPACQ FKTUSO  PD FKTGENESI  \\\n",
              "43   31708.0  E2A1040781004   LAGO CAVA BELTRAMI I     02 NaN        51   \n",
              "56   31709.0  E2A1040781002  LAGO CAVA BELTRAMI II     02 NaN        51   \n",
              "\n",
              "   FKTREGOLAZ FKTSPECCHI FKSCALA              DATAINI DATAFINE FKFONTE  \\\n",
              "43         92         02      04  2015-02-11 11:38:24     None      04   \n",
              "56         92         02      04  2015-02-11 11:38:24     None      04   \n",
              "\n",
              "   FKTIPOELAB FKCODPUB  NOTE  \\\n",
              "43         01     None  None   \n",
              "56         01     None  None   \n",
              "\n",
              "                                             geometry  \n",
              "43  POLYGON ((620475.895 5076578.982, 620476.317 5...  \n",
              "56  POLYGON ((620388.999 5075888.523, 620387.411 5...  "
            ],
            "text/html": [
              "\n",
              "  <div id=\"df-2648b8dc-3cb2-4f23-b16d-133c3d8ae1ec\" class=\"colab-df-container\">\n",
              "    <div>\n",
              "<style scoped>\n",
              "    .dataframe tbody tr th:only-of-type {\n",
              "        vertical-align: middle;\n",
              "    }\n",
              "\n",
              "    .dataframe tbody tr th {\n",
              "        vertical-align: top;\n",
              "    }\n",
              "\n",
              "    .dataframe thead th {\n",
              "        text-align: right;\n",
              "    }\n",
              "</style>\n",
              "<table border=\"1\" class=\"dataframe\">\n",
              "  <thead>\n",
              "    <tr style=\"text-align: right;\">\n",
              "      <th></th>\n",
              "      <th>OBJECTID</th>\n",
              "      <th>CLASSID</th>\n",
              "      <th>NOMESPACQ</th>\n",
              "      <th>FKTUSO</th>\n",
              "      <th>PD</th>\n",
              "      <th>FKTGENESI</th>\n",
              "      <th>FKTREGOLAZ</th>\n",
              "      <th>FKTSPECCHI</th>\n",
              "      <th>FKSCALA</th>\n",
              "      <th>DATAINI</th>\n",
              "      <th>DATAFINE</th>\n",
              "      <th>FKFONTE</th>\n",
              "      <th>FKTIPOELAB</th>\n",
              "      <th>FKCODPUB</th>\n",
              "      <th>NOTE</th>\n",
              "      <th>geometry</th>\n",
              "    </tr>\n",
              "  </thead>\n",
              "  <tbody>\n",
              "    <tr>\n",
              "      <th>43</th>\n",
              "      <td>31708.0</td>\n",
              "      <td>E2A1040781004</td>\n",
              "      <td>LAGO CAVA BELTRAMI I</td>\n",
              "      <td>02</td>\n",
              "      <td>NaN</td>\n",
              "      <td>51</td>\n",
              "      <td>92</td>\n",
              "      <td>02</td>\n",
              "      <td>04</td>\n",
              "      <td>2015-02-11 11:38:24</td>\n",
              "      <td>None</td>\n",
              "      <td>04</td>\n",
              "      <td>01</td>\n",
              "      <td>None</td>\n",
              "      <td>None</td>\n",
              "      <td>POLYGON ((620475.895 5076578.982, 620476.317 5...</td>\n",
              "    </tr>\n",
              "    <tr>\n",
              "      <th>56</th>\n",
              "      <td>31709.0</td>\n",
              "      <td>E2A1040781002</td>\n",
              "      <td>LAGO CAVA BELTRAMI II</td>\n",
              "      <td>02</td>\n",
              "      <td>NaN</td>\n",
              "      <td>51</td>\n",
              "      <td>92</td>\n",
              "      <td>02</td>\n",
              "      <td>04</td>\n",
              "      <td>2015-02-11 11:38:24</td>\n",
              "      <td>None</td>\n",
              "      <td>04</td>\n",
              "      <td>01</td>\n",
              "      <td>None</td>\n",
              "      <td>None</td>\n",
              "      <td>POLYGON ((620388.999 5075888.523, 620387.411 5...</td>\n",
              "    </tr>\n",
              "  </tbody>\n",
              "</table>\n",
              "</div>\n",
              "    <div class=\"colab-df-buttons\">\n",
              "\n",
              "  <div class=\"colab-df-container\">\n",
              "    <button class=\"colab-df-convert\" onclick=\"convertToInteractive('df-2648b8dc-3cb2-4f23-b16d-133c3d8ae1ec')\"\n",
              "            title=\"Convert this dataframe to an interactive table.\"\n",
              "            style=\"display:none;\">\n",
              "\n",
              "  <svg xmlns=\"http://www.w3.org/2000/svg\" height=\"24px\" viewBox=\"0 -960 960 960\">\n",
              "    <path d=\"M120-120v-720h720v720H120Zm60-500h600v-160H180v160Zm220 220h160v-160H400v160Zm0 220h160v-160H400v160ZM180-400h160v-160H180v160Zm440 0h160v-160H620v160ZM180-180h160v-160H180v160Zm440 0h160v-160H620v160Z\"/>\n",
              "  </svg>\n",
              "    </button>\n",
              "\n",
              "  <style>\n",
              "    .colab-df-container {\n",
              "      display:flex;\n",
              "      gap: 12px;\n",
              "    }\n",
              "\n",
              "    .colab-df-convert {\n",
              "      background-color: #E8F0FE;\n",
              "      border: none;\n",
              "      border-radius: 50%;\n",
              "      cursor: pointer;\n",
              "      display: none;\n",
              "      fill: #1967D2;\n",
              "      height: 32px;\n",
              "      padding: 0 0 0 0;\n",
              "      width: 32px;\n",
              "    }\n",
              "\n",
              "    .colab-df-convert:hover {\n",
              "      background-color: #E2EBFA;\n",
              "      box-shadow: 0px 1px 2px rgba(60, 64, 67, 0.3), 0px 1px 3px 1px rgba(60, 64, 67, 0.15);\n",
              "      fill: #174EA6;\n",
              "    }\n",
              "\n",
              "    .colab-df-buttons div {\n",
              "      margin-bottom: 4px;\n",
              "    }\n",
              "\n",
              "    [theme=dark] .colab-df-convert {\n",
              "      background-color: #3B4455;\n",
              "      fill: #D2E3FC;\n",
              "    }\n",
              "\n",
              "    [theme=dark] .colab-df-convert:hover {\n",
              "      background-color: #434B5C;\n",
              "      box-shadow: 0px 1px 3px 1px rgba(0, 0, 0, 0.15);\n",
              "      filter: drop-shadow(0px 1px 2px rgba(0, 0, 0, 0.3));\n",
              "      fill: #FFFFFF;\n",
              "    }\n",
              "  </style>\n",
              "\n",
              "    <script>\n",
              "      const buttonEl =\n",
              "        document.querySelector('#df-2648b8dc-3cb2-4f23-b16d-133c3d8ae1ec button.colab-df-convert');\n",
              "      buttonEl.style.display =\n",
              "        google.colab.kernel.accessAllowed ? 'block' : 'none';\n",
              "\n",
              "      async function convertToInteractive(key) {\n",
              "        const element = document.querySelector('#df-2648b8dc-3cb2-4f23-b16d-133c3d8ae1ec');\n",
              "        const dataTable =\n",
              "          await google.colab.kernel.invokeFunction('convertToInteractive',\n",
              "                                                    [key], {});\n",
              "        if (!dataTable) return;\n",
              "\n",
              "        const docLinkHtml = 'Like what you see? Visit the ' +\n",
              "          '<a target=\"_blank\" href=https://colab.research.google.com/notebooks/data_table.ipynb>data table notebook</a>'\n",
              "          + ' to learn more about interactive tables.';\n",
              "        element.innerHTML = '';\n",
              "        dataTable['output_type'] = 'display_data';\n",
              "        await google.colab.output.renderOutput(dataTable, element);\n",
              "        const docLink = document.createElement('div');\n",
              "        docLink.innerHTML = docLinkHtml;\n",
              "        element.appendChild(docLink);\n",
              "      }\n",
              "    </script>\n",
              "  </div>\n",
              "\n",
              "\n",
              "<div id=\"df-06ccd444-0fec-493c-b303-714ac8b049a4\">\n",
              "  <button class=\"colab-df-quickchart\" onclick=\"quickchart('df-06ccd444-0fec-493c-b303-714ac8b049a4')\"\n",
              "            title=\"Suggest charts\"\n",
              "            style=\"display:none;\">\n",
              "\n",
              "<svg xmlns=\"http://www.w3.org/2000/svg\" height=\"24px\"viewBox=\"0 0 24 24\"\n",
              "     width=\"24px\">\n",
              "    <g>\n",
              "        <path d=\"M19 3H5c-1.1 0-2 .9-2 2v14c0 1.1.9 2 2 2h14c1.1 0 2-.9 2-2V5c0-1.1-.9-2-2-2zM9 17H7v-7h2v7zm4 0h-2V7h2v10zm4 0h-2v-4h2v4z\"/>\n",
              "    </g>\n",
              "</svg>\n",
              "  </button>\n",
              "\n",
              "<style>\n",
              "  .colab-df-quickchart {\n",
              "      --bg-color: #E8F0FE;\n",
              "      --fill-color: #1967D2;\n",
              "      --hover-bg-color: #E2EBFA;\n",
              "      --hover-fill-color: #174EA6;\n",
              "      --disabled-fill-color: #AAA;\n",
              "      --disabled-bg-color: #DDD;\n",
              "  }\n",
              "\n",
              "  [theme=dark] .colab-df-quickchart {\n",
              "      --bg-color: #3B4455;\n",
              "      --fill-color: #D2E3FC;\n",
              "      --hover-bg-color: #434B5C;\n",
              "      --hover-fill-color: #FFFFFF;\n",
              "      --disabled-bg-color: #3B4455;\n",
              "      --disabled-fill-color: #666;\n",
              "  }\n",
              "\n",
              "  .colab-df-quickchart {\n",
              "    background-color: var(--bg-color);\n",
              "    border: none;\n",
              "    border-radius: 50%;\n",
              "    cursor: pointer;\n",
              "    display: none;\n",
              "    fill: var(--fill-color);\n",
              "    height: 32px;\n",
              "    padding: 0;\n",
              "    width: 32px;\n",
              "  }\n",
              "\n",
              "  .colab-df-quickchart:hover {\n",
              "    background-color: var(--hover-bg-color);\n",
              "    box-shadow: 0 1px 2px rgba(60, 64, 67, 0.3), 0 1px 3px 1px rgba(60, 64, 67, 0.15);\n",
              "    fill: var(--button-hover-fill-color);\n",
              "  }\n",
              "\n",
              "  .colab-df-quickchart-complete:disabled,\n",
              "  .colab-df-quickchart-complete:disabled:hover {\n",
              "    background-color: var(--disabled-bg-color);\n",
              "    fill: var(--disabled-fill-color);\n",
              "    box-shadow: none;\n",
              "  }\n",
              "\n",
              "  .colab-df-spinner {\n",
              "    border: 2px solid var(--fill-color);\n",
              "    border-color: transparent;\n",
              "    border-bottom-color: var(--fill-color);\n",
              "    animation:\n",
              "      spin 1s steps(1) infinite;\n",
              "  }\n",
              "\n",
              "  @keyframes spin {\n",
              "    0% {\n",
              "      border-color: transparent;\n",
              "      border-bottom-color: var(--fill-color);\n",
              "      border-left-color: var(--fill-color);\n",
              "    }\n",
              "    20% {\n",
              "      border-color: transparent;\n",
              "      border-left-color: var(--fill-color);\n",
              "      border-top-color: var(--fill-color);\n",
              "    }\n",
              "    30% {\n",
              "      border-color: transparent;\n",
              "      border-left-color: var(--fill-color);\n",
              "      border-top-color: var(--fill-color);\n",
              "      border-right-color: var(--fill-color);\n",
              "    }\n",
              "    40% {\n",
              "      border-color: transparent;\n",
              "      border-right-color: var(--fill-color);\n",
              "      border-top-color: var(--fill-color);\n",
              "    }\n",
              "    60% {\n",
              "      border-color: transparent;\n",
              "      border-right-color: var(--fill-color);\n",
              "    }\n",
              "    80% {\n",
              "      border-color: transparent;\n",
              "      border-right-color: var(--fill-color);\n",
              "      border-bottom-color: var(--fill-color);\n",
              "    }\n",
              "    90% {\n",
              "      border-color: transparent;\n",
              "      border-bottom-color: var(--fill-color);\n",
              "    }\n",
              "  }\n",
              "</style>\n",
              "\n",
              "  <script>\n",
              "    async function quickchart(key) {\n",
              "      const quickchartButtonEl =\n",
              "        document.querySelector('#' + key + ' button');\n",
              "      quickchartButtonEl.disabled = true;  // To prevent multiple clicks.\n",
              "      quickchartButtonEl.classList.add('colab-df-spinner');\n",
              "      try {\n",
              "        const charts = await google.colab.kernel.invokeFunction(\n",
              "            'suggestCharts', [key], {});\n",
              "      } catch (error) {\n",
              "        console.error('Error during call to suggestCharts:', error);\n",
              "      }\n",
              "      quickchartButtonEl.classList.remove('colab-df-spinner');\n",
              "      quickchartButtonEl.classList.add('colab-df-quickchart-complete');\n",
              "    }\n",
              "    (() => {\n",
              "      let quickchartButtonEl =\n",
              "        document.querySelector('#df-06ccd444-0fec-493c-b303-714ac8b049a4 button');\n",
              "      quickchartButtonEl.style.display =\n",
              "        google.colab.kernel.accessAllowed ? 'block' : 'none';\n",
              "    })();\n",
              "  </script>\n",
              "</div>\n",
              "\n",
              "  <div id=\"id_9db51c49-3e36-4f32-9553-324e549d04c1\">\n",
              "    <style>\n",
              "      .colab-df-generate {\n",
              "        background-color: #E8F0FE;\n",
              "        border: none;\n",
              "        border-radius: 50%;\n",
              "        cursor: pointer;\n",
              "        display: none;\n",
              "        fill: #1967D2;\n",
              "        height: 32px;\n",
              "        padding: 0 0 0 0;\n",
              "        width: 32px;\n",
              "      }\n",
              "\n",
              "      .colab-df-generate:hover {\n",
              "        background-color: #E2EBFA;\n",
              "        box-shadow: 0px 1px 2px rgba(60, 64, 67, 0.3), 0px 1px 3px 1px rgba(60, 64, 67, 0.15);\n",
              "        fill: #174EA6;\n",
              "      }\n",
              "\n",
              "      [theme=dark] .colab-df-generate {\n",
              "        background-color: #3B4455;\n",
              "        fill: #D2E3FC;\n",
              "      }\n",
              "\n",
              "      [theme=dark] .colab-df-generate:hover {\n",
              "        background-color: #434B5C;\n",
              "        box-shadow: 0px 1px 3px 1px rgba(0, 0, 0, 0.15);\n",
              "        filter: drop-shadow(0px 1px 2px rgba(0, 0, 0, 0.3));\n",
              "        fill: #FFFFFF;\n",
              "      }\n",
              "    </style>\n",
              "    <button class=\"colab-df-generate\" onclick=\"generateWithVariable('fktuso02')\"\n",
              "            title=\"Generate code using this dataframe.\"\n",
              "            style=\"display:none;\">\n",
              "\n",
              "  <svg xmlns=\"http://www.w3.org/2000/svg\" height=\"24px\"viewBox=\"0 0 24 24\"\n",
              "       width=\"24px\">\n",
              "    <path d=\"M7,19H8.4L18.45,9,17,7.55,7,17.6ZM5,21V16.75L18.45,3.32a2,2,0,0,1,2.83,0l1.4,1.43a1.91,1.91,0,0,1,.58,1.4,1.91,1.91,0,0,1-.58,1.4L9.25,21ZM18.45,9,17,7.55Zm-12,3A5.31,5.31,0,0,0,4.9,8.1,5.31,5.31,0,0,0,1,6.5,5.31,5.31,0,0,0,4.9,4.9,5.31,5.31,0,0,0,6.5,1,5.31,5.31,0,0,0,8.1,4.9,5.31,5.31,0,0,0,12,6.5,5.46,5.46,0,0,0,6.5,12Z\"/>\n",
              "  </svg>\n",
              "    </button>\n",
              "    <script>\n",
              "      (() => {\n",
              "      const buttonEl =\n",
              "        document.querySelector('#id_9db51c49-3e36-4f32-9553-324e549d04c1 button.colab-df-generate');\n",
              "      buttonEl.style.display =\n",
              "        google.colab.kernel.accessAllowed ? 'block' : 'none';\n",
              "\n",
              "      buttonEl.onclick = () => {\n",
              "        google.colab.notebook.generateWithVariable('fktuso02');\n",
              "      }\n",
              "      })();\n",
              "    </script>\n",
              "  </div>\n",
              "\n",
              "    </div>\n",
              "  </div>\n"
            ],
            "application/vnd.google.colaboratory.intrinsic+json": {
              "type": "dataframe",
              "variable_name": "fktuso02",
              "repr_error": "0"
            }
          },
          "metadata": {},
          "execution_count": 91
        }
      ],
      "source": [
        "fktuso02.set_crs(epsg=25832,inplace=True,allow_override=True)"
      ]
    },
    {
      "cell_type": "code",
      "execution_count": 92,
      "metadata": {
        "id": "dfDrTAqpdaV3",
        "colab": {
          "base_uri": "https://localhost:8080/",
          "height": 147
        },
        "outputId": "c4285afe-6c3f-4123-8df6-e61c247129b6"
      },
      "outputs": [
        {
          "output_type": "execute_result",
          "data": {
            "text/plain": [
              "    OBJECTID        CLASSID              NOMESPACQ FKTUSO  PD FKTGENESI  \\\n",
              "43   31708.0  E2A1040781004   LAGO CAVA BELTRAMI I     02 NaN        51   \n",
              "56   31709.0  E2A1040781002  LAGO CAVA BELTRAMI II     02 NaN        51   \n",
              "\n",
              "   FKTREGOLAZ FKTSPECCHI FKSCALA              DATAINI DATAFINE FKFONTE  \\\n",
              "43         92         02      04  2015-02-11 11:38:24     None      04   \n",
              "56         92         02      04  2015-02-11 11:38:24     None      04   \n",
              "\n",
              "   FKTIPOELAB FKCODPUB  NOTE  \\\n",
              "43         01     None  None   \n",
              "56         01     None  None   \n",
              "\n",
              "                                             geometry  \n",
              "43  POLYGON ((10.55121 45.83224, 10.55122 45.83226...  \n",
              "56  POLYGON ((10.54992 45.82605, 10.5499 45.82604,...  "
            ],
            "text/html": [
              "\n",
              "  <div id=\"df-9fdef276-9410-4b33-b3b0-150e7ca7b88c\" class=\"colab-df-container\">\n",
              "    <div>\n",
              "<style scoped>\n",
              "    .dataframe tbody tr th:only-of-type {\n",
              "        vertical-align: middle;\n",
              "    }\n",
              "\n",
              "    .dataframe tbody tr th {\n",
              "        vertical-align: top;\n",
              "    }\n",
              "\n",
              "    .dataframe thead th {\n",
              "        text-align: right;\n",
              "    }\n",
              "</style>\n",
              "<table border=\"1\" class=\"dataframe\">\n",
              "  <thead>\n",
              "    <tr style=\"text-align: right;\">\n",
              "      <th></th>\n",
              "      <th>OBJECTID</th>\n",
              "      <th>CLASSID</th>\n",
              "      <th>NOMESPACQ</th>\n",
              "      <th>FKTUSO</th>\n",
              "      <th>PD</th>\n",
              "      <th>FKTGENESI</th>\n",
              "      <th>FKTREGOLAZ</th>\n",
              "      <th>FKTSPECCHI</th>\n",
              "      <th>FKSCALA</th>\n",
              "      <th>DATAINI</th>\n",
              "      <th>DATAFINE</th>\n",
              "      <th>FKFONTE</th>\n",
              "      <th>FKTIPOELAB</th>\n",
              "      <th>FKCODPUB</th>\n",
              "      <th>NOTE</th>\n",
              "      <th>geometry</th>\n",
              "    </tr>\n",
              "  </thead>\n",
              "  <tbody>\n",
              "    <tr>\n",
              "      <th>43</th>\n",
              "      <td>31708.0</td>\n",
              "      <td>E2A1040781004</td>\n",
              "      <td>LAGO CAVA BELTRAMI I</td>\n",
              "      <td>02</td>\n",
              "      <td>NaN</td>\n",
              "      <td>51</td>\n",
              "      <td>92</td>\n",
              "      <td>02</td>\n",
              "      <td>04</td>\n",
              "      <td>2015-02-11 11:38:24</td>\n",
              "      <td>None</td>\n",
              "      <td>04</td>\n",
              "      <td>01</td>\n",
              "      <td>None</td>\n",
              "      <td>None</td>\n",
              "      <td>POLYGON ((10.55121 45.83224, 10.55122 45.83226...</td>\n",
              "    </tr>\n",
              "    <tr>\n",
              "      <th>56</th>\n",
              "      <td>31709.0</td>\n",
              "      <td>E2A1040781002</td>\n",
              "      <td>LAGO CAVA BELTRAMI II</td>\n",
              "      <td>02</td>\n",
              "      <td>NaN</td>\n",
              "      <td>51</td>\n",
              "      <td>92</td>\n",
              "      <td>02</td>\n",
              "      <td>04</td>\n",
              "      <td>2015-02-11 11:38:24</td>\n",
              "      <td>None</td>\n",
              "      <td>04</td>\n",
              "      <td>01</td>\n",
              "      <td>None</td>\n",
              "      <td>None</td>\n",
              "      <td>POLYGON ((10.54992 45.82605, 10.5499 45.82604,...</td>\n",
              "    </tr>\n",
              "  </tbody>\n",
              "</table>\n",
              "</div>\n",
              "    <div class=\"colab-df-buttons\">\n",
              "\n",
              "  <div class=\"colab-df-container\">\n",
              "    <button class=\"colab-df-convert\" onclick=\"convertToInteractive('df-9fdef276-9410-4b33-b3b0-150e7ca7b88c')\"\n",
              "            title=\"Convert this dataframe to an interactive table.\"\n",
              "            style=\"display:none;\">\n",
              "\n",
              "  <svg xmlns=\"http://www.w3.org/2000/svg\" height=\"24px\" viewBox=\"0 -960 960 960\">\n",
              "    <path d=\"M120-120v-720h720v720H120Zm60-500h600v-160H180v160Zm220 220h160v-160H400v160Zm0 220h160v-160H400v160ZM180-400h160v-160H180v160Zm440 0h160v-160H620v160ZM180-180h160v-160H180v160Zm440 0h160v-160H620v160Z\"/>\n",
              "  </svg>\n",
              "    </button>\n",
              "\n",
              "  <style>\n",
              "    .colab-df-container {\n",
              "      display:flex;\n",
              "      gap: 12px;\n",
              "    }\n",
              "\n",
              "    .colab-df-convert {\n",
              "      background-color: #E8F0FE;\n",
              "      border: none;\n",
              "      border-radius: 50%;\n",
              "      cursor: pointer;\n",
              "      display: none;\n",
              "      fill: #1967D2;\n",
              "      height: 32px;\n",
              "      padding: 0 0 0 0;\n",
              "      width: 32px;\n",
              "    }\n",
              "\n",
              "    .colab-df-convert:hover {\n",
              "      background-color: #E2EBFA;\n",
              "      box-shadow: 0px 1px 2px rgba(60, 64, 67, 0.3), 0px 1px 3px 1px rgba(60, 64, 67, 0.15);\n",
              "      fill: #174EA6;\n",
              "    }\n",
              "\n",
              "    .colab-df-buttons div {\n",
              "      margin-bottom: 4px;\n",
              "    }\n",
              "\n",
              "    [theme=dark] .colab-df-convert {\n",
              "      background-color: #3B4455;\n",
              "      fill: #D2E3FC;\n",
              "    }\n",
              "\n",
              "    [theme=dark] .colab-df-convert:hover {\n",
              "      background-color: #434B5C;\n",
              "      box-shadow: 0px 1px 3px 1px rgba(0, 0, 0, 0.15);\n",
              "      filter: drop-shadow(0px 1px 2px rgba(0, 0, 0, 0.3));\n",
              "      fill: #FFFFFF;\n",
              "    }\n",
              "  </style>\n",
              "\n",
              "    <script>\n",
              "      const buttonEl =\n",
              "        document.querySelector('#df-9fdef276-9410-4b33-b3b0-150e7ca7b88c button.colab-df-convert');\n",
              "      buttonEl.style.display =\n",
              "        google.colab.kernel.accessAllowed ? 'block' : 'none';\n",
              "\n",
              "      async function convertToInteractive(key) {\n",
              "        const element = document.querySelector('#df-9fdef276-9410-4b33-b3b0-150e7ca7b88c');\n",
              "        const dataTable =\n",
              "          await google.colab.kernel.invokeFunction('convertToInteractive',\n",
              "                                                    [key], {});\n",
              "        if (!dataTable) return;\n",
              "\n",
              "        const docLinkHtml = 'Like what you see? Visit the ' +\n",
              "          '<a target=\"_blank\" href=https://colab.research.google.com/notebooks/data_table.ipynb>data table notebook</a>'\n",
              "          + ' to learn more about interactive tables.';\n",
              "        element.innerHTML = '';\n",
              "        dataTable['output_type'] = 'display_data';\n",
              "        await google.colab.output.renderOutput(dataTable, element);\n",
              "        const docLink = document.createElement('div');\n",
              "        docLink.innerHTML = docLinkHtml;\n",
              "        element.appendChild(docLink);\n",
              "      }\n",
              "    </script>\n",
              "  </div>\n",
              "\n",
              "\n",
              "<div id=\"df-957ebb94-eaf7-45fe-8866-a85284ad5e6b\">\n",
              "  <button class=\"colab-df-quickchart\" onclick=\"quickchart('df-957ebb94-eaf7-45fe-8866-a85284ad5e6b')\"\n",
              "            title=\"Suggest charts\"\n",
              "            style=\"display:none;\">\n",
              "\n",
              "<svg xmlns=\"http://www.w3.org/2000/svg\" height=\"24px\"viewBox=\"0 0 24 24\"\n",
              "     width=\"24px\">\n",
              "    <g>\n",
              "        <path d=\"M19 3H5c-1.1 0-2 .9-2 2v14c0 1.1.9 2 2 2h14c1.1 0 2-.9 2-2V5c0-1.1-.9-2-2-2zM9 17H7v-7h2v7zm4 0h-2V7h2v10zm4 0h-2v-4h2v4z\"/>\n",
              "    </g>\n",
              "</svg>\n",
              "  </button>\n",
              "\n",
              "<style>\n",
              "  .colab-df-quickchart {\n",
              "      --bg-color: #E8F0FE;\n",
              "      --fill-color: #1967D2;\n",
              "      --hover-bg-color: #E2EBFA;\n",
              "      --hover-fill-color: #174EA6;\n",
              "      --disabled-fill-color: #AAA;\n",
              "      --disabled-bg-color: #DDD;\n",
              "  }\n",
              "\n",
              "  [theme=dark] .colab-df-quickchart {\n",
              "      --bg-color: #3B4455;\n",
              "      --fill-color: #D2E3FC;\n",
              "      --hover-bg-color: #434B5C;\n",
              "      --hover-fill-color: #FFFFFF;\n",
              "      --disabled-bg-color: #3B4455;\n",
              "      --disabled-fill-color: #666;\n",
              "  }\n",
              "\n",
              "  .colab-df-quickchart {\n",
              "    background-color: var(--bg-color);\n",
              "    border: none;\n",
              "    border-radius: 50%;\n",
              "    cursor: pointer;\n",
              "    display: none;\n",
              "    fill: var(--fill-color);\n",
              "    height: 32px;\n",
              "    padding: 0;\n",
              "    width: 32px;\n",
              "  }\n",
              "\n",
              "  .colab-df-quickchart:hover {\n",
              "    background-color: var(--hover-bg-color);\n",
              "    box-shadow: 0 1px 2px rgba(60, 64, 67, 0.3), 0 1px 3px 1px rgba(60, 64, 67, 0.15);\n",
              "    fill: var(--button-hover-fill-color);\n",
              "  }\n",
              "\n",
              "  .colab-df-quickchart-complete:disabled,\n",
              "  .colab-df-quickchart-complete:disabled:hover {\n",
              "    background-color: var(--disabled-bg-color);\n",
              "    fill: var(--disabled-fill-color);\n",
              "    box-shadow: none;\n",
              "  }\n",
              "\n",
              "  .colab-df-spinner {\n",
              "    border: 2px solid var(--fill-color);\n",
              "    border-color: transparent;\n",
              "    border-bottom-color: var(--fill-color);\n",
              "    animation:\n",
              "      spin 1s steps(1) infinite;\n",
              "  }\n",
              "\n",
              "  @keyframes spin {\n",
              "    0% {\n",
              "      border-color: transparent;\n",
              "      border-bottom-color: var(--fill-color);\n",
              "      border-left-color: var(--fill-color);\n",
              "    }\n",
              "    20% {\n",
              "      border-color: transparent;\n",
              "      border-left-color: var(--fill-color);\n",
              "      border-top-color: var(--fill-color);\n",
              "    }\n",
              "    30% {\n",
              "      border-color: transparent;\n",
              "      border-left-color: var(--fill-color);\n",
              "      border-top-color: var(--fill-color);\n",
              "      border-right-color: var(--fill-color);\n",
              "    }\n",
              "    40% {\n",
              "      border-color: transparent;\n",
              "      border-right-color: var(--fill-color);\n",
              "      border-top-color: var(--fill-color);\n",
              "    }\n",
              "    60% {\n",
              "      border-color: transparent;\n",
              "      border-right-color: var(--fill-color);\n",
              "    }\n",
              "    80% {\n",
              "      border-color: transparent;\n",
              "      border-right-color: var(--fill-color);\n",
              "      border-bottom-color: var(--fill-color);\n",
              "    }\n",
              "    90% {\n",
              "      border-color: transparent;\n",
              "      border-bottom-color: var(--fill-color);\n",
              "    }\n",
              "  }\n",
              "</style>\n",
              "\n",
              "  <script>\n",
              "    async function quickchart(key) {\n",
              "      const quickchartButtonEl =\n",
              "        document.querySelector('#' + key + ' button');\n",
              "      quickchartButtonEl.disabled = true;  // To prevent multiple clicks.\n",
              "      quickchartButtonEl.classList.add('colab-df-spinner');\n",
              "      try {\n",
              "        const charts = await google.colab.kernel.invokeFunction(\n",
              "            'suggestCharts', [key], {});\n",
              "      } catch (error) {\n",
              "        console.error('Error during call to suggestCharts:', error);\n",
              "      }\n",
              "      quickchartButtonEl.classList.remove('colab-df-spinner');\n",
              "      quickchartButtonEl.classList.add('colab-df-quickchart-complete');\n",
              "    }\n",
              "    (() => {\n",
              "      let quickchartButtonEl =\n",
              "        document.querySelector('#df-957ebb94-eaf7-45fe-8866-a85284ad5e6b button');\n",
              "      quickchartButtonEl.style.display =\n",
              "        google.colab.kernel.accessAllowed ? 'block' : 'none';\n",
              "    })();\n",
              "  </script>\n",
              "</div>\n",
              "\n",
              "    </div>\n",
              "  </div>\n"
            ],
            "application/vnd.google.colaboratory.intrinsic+json": {
              "type": "dataframe",
              "repr_error": "0"
            }
          },
          "metadata": {},
          "execution_count": 92
        }
      ],
      "source": [
        "fktuso02.to_crs(epsg=4326)"
      ]
    },
    {
      "cell_type": "markdown",
      "metadata": {
        "id": "kviLMJYrduPV"
      },
      "source": [
        "this approach solves the problem but keeps the error in the data source.<br/>\n",
        "Keeping this approach, it is advisable to apply the assignment of the CRS to the initial geodataframe and, if necessary, to export the geodatrafame in ESRi Shapefile (or other format)"
      ]
    },
    {
      "cell_type": "markdown",
      "metadata": {
        "id": "3lHiWvN8dinh"
      },
      "source": [
        "2 - create a file with the name *lakes_bodies_of_water_trentino_use.prj* that contains the right string in WKT for the proj conversion.\n",
        "\n",
        "You can obtain the right file by simple download the right string from epsg.io in this way\n",
        "\n",
        "https://epsg.io/25832.wkt\n",
        "\n",
        "simple by adding .wkt to the url\n",
        "\n",
        "this is the answer\n",
        "\n",
        "``` javascript\n",
        "PROJCS[\"ETRS89 / UTM zone 32N\",\n",
        "    GEOGCS[\"ETRS89\",\n",
        "        DATUM[\"European_Terrestrial_Reference_System_1989\",\n",
        "            SPHEROID[\"GRS 1980\",6378137,298.257222101,\n",
        "                AUTHORITY[\"EPSG\",\"7019\"]],\n",
        "            TOWGS84[0,0,0,0,0,0,0],\n",
        "            AUTHORITY[\"EPSG\",\"6258\"]],\n",
        "        PRIMEM[\"Greenwich\",0,\n",
        "            AUTHORITY[\"EPSG\",\"8901\"]],\n",
        "        UNIT[\"degree\",0.0174532925199433,\n",
        "            AUTHORITY[\"EPSG\",\"9122\"]],\n",
        "        AUTHORITY[\"EPSG\",\"4258\"]],\n",
        "    PROJECTION[\"Transverse_Mercator\"],\n",
        "    PARAMETER[\"latitude_of_origin\",0],\n",
        "    PARAMETER[\"central_meridian\",9],\n",
        "    PARAMETER[\"scale_factor\",0.9996],\n",
        "    PARAMETER[\"false_easting\",500000],\n",
        "    PARAMETER[\"false_northing\",0],\n",
        "    UNIT[\"metre\",1,\n",
        "        AUTHORITY[\"EPSG\",\"9001\"]],\n",
        "    AXIS[\"Easting\",EAST],\n",
        "    AXIS[\"Northing\",NORTH],\n",
        "    AUTHORITY[\"EPSG\",\"25832\"]]\n",
        "```"
      ]
    },
    {
      "cell_type": "code",
      "execution_count": 95,
      "metadata": {
        "id": "y28Nd8wogAs0"
      },
      "outputs": [],
      "source": [
        "url = \"https://epsg.io/25832.wkt\"\n",
        "opener = urllib.request.URLopener()\n",
        "opener.addheader('User-Agent', 'Geospatial Course Unitn')\n",
        "filename, headers = opener.retrieve(url, '25832.prj')"
      ]
    },
    {
      "cell_type": "markdown",
      "metadata": {
        "id": "6eFifaCblvP0"
      },
      "source": [
        ".. it's better create a copy also for the original .shp file"
      ]
    },
    {
      "cell_type": "code",
      "execution_count": 98,
      "metadata": {
        "id": "ELLCXhIjlzUi",
        "colab": {
          "base_uri": "https://localhost:8080/",
          "height": 35
        },
        "outputId": "b2a6609f-fb76-4c57-89ef-1300f0afb57d"
      },
      "outputs": [
        {
          "output_type": "execute_result",
          "data": {
            "text/plain": [
              "'ftkuso.prj'"
            ],
            "application/vnd.google.colaboratory.intrinsic+json": {
              "type": "string"
            }
          },
          "metadata": {},
          "execution_count": 98
        }
      ],
      "source": [
        "copyfile(\"25832.prj\",\"ftkuso.prj\")"
      ]
    },
    {
      "cell_type": "markdown",
      "metadata": {
        "id": "HK6d-eWdl9mo"
      },
      "source": [
        ".. and now it's necessary to recreate the geodataframe and repeat the operations"
      ]
    },
    {
      "cell_type": "code",
      "execution_count": 101,
      "metadata": {
        "id": "HJSJ8V7rmKAe"
      },
      "outputs": [],
      "source": [
        "fktuso = gpd.read_file(\"ftkuso.shp\")"
      ]
    },
    {
      "cell_type": "code",
      "execution_count": 102,
      "metadata": {
        "id": "N-KckKK6mU8x",
        "colab": {
          "base_uri": "https://localhost:8080/"
        },
        "outputId": "4a170140-9eb3-4b3d-f062-af80dd037126"
      },
      "outputs": [
        {
          "output_type": "execute_result",
          "data": {
            "text/plain": [
              "<Projected CRS: EPSG:25832>\n",
              "Name: ETRS89 / UTM zone 32N\n",
              "Axis Info [cartesian]:\n",
              "- E[east]: Easting (metre)\n",
              "- N[north]: Northing (metre)\n",
              "Area of Use:\n",
              "- name: Europe between 6°E and 12°E: Austria; Belgium; Denmark - onshore and offshore; Germany - onshore and offshore; Norway including - onshore and offshore; Spain - offshore.\n",
              "- bounds: (6.0, 38.76, 12.01, 84.33)\n",
              "Coordinate Operation:\n",
              "- name: UTM zone 32N\n",
              "- method: Transverse Mercator\n",
              "Datum: European Terrestrial Reference System 1989 ensemble\n",
              "- Ellipsoid: GRS 1980\n",
              "- Prime Meridian: Greenwich"
            ]
          },
          "metadata": {},
          "execution_count": 102
        }
      ],
      "source": [
        "fktuso.crs"
      ]
    },
    {
      "cell_type": "markdown",
      "metadata": {
        "id": "KZeS_7HsmZ9b"
      },
      "source": [
        "Now it's ok ;)"
      ]
    },
    {
      "cell_type": "code",
      "execution_count": 103,
      "metadata": {
        "id": "8ejJDNa5l8vF"
      },
      "outputs": [],
      "source": [
        "ftkuso02 = fktuso[fktuso.FKTUSO=='02']"
      ]
    },
    {
      "cell_type": "markdown",
      "metadata": {
        "id": "KbImvB-gmsAn"
      },
      "source": [
        "... and create the geojson file in wgs84"
      ]
    },
    {
      "cell_type": "code",
      "execution_count": 105,
      "metadata": {
        "id": "YCWTzbfBmf9Y"
      },
      "outputs": [],
      "source": [
        "ftkuso02.to_crs(epsg=4326).to_file(\"ftkuso02.kml\",driver=\"KML\")"
      ]
    },
    {
      "cell_type": "markdown",
      "metadata": {
        "id": "_qNEldiIu3i3"
      },
      "source": [
        "... and here the areas over a satellite image\n",
        "\n",
        "![](https://raw.githubusercontent.com/napo/geospatial_course_unitn/master/images/lakesftk20.png)"
      ]
    }
  ],
  "metadata": {
    "colab": {
      "collapsed_sections": [
        "9T1Sft2nHpK8"
      ],
      "provenance": []
    },
    "interpreter": {
      "hash": "e7370f93d1d0cde622a1f8e1c04877d8463912d04d973331ad4851f04de6915a"
    },
    "kernelspec": {
      "display_name": "Python 3.9.5 64-bit",
      "name": "python3"
    },
    "language_info": {
      "codemirror_mode": {
        "name": "ipython",
        "version": 3
      },
      "file_extension": ".py",
      "mimetype": "text/x-python",
      "name": "python",
      "nbconvert_exporter": "python",
      "pygments_lexer": "ipython3",
      "version": "3.9.5"
    }
  },
  "nbformat": 4,
  "nbformat_minor": 0
}